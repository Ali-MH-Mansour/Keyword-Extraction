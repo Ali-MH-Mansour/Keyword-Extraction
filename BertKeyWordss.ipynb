{
  "nbformat": 4,
  "nbformat_minor": 0,
  "metadata": {
    "colab": {
      "name": "BertKeyWordss.ipynb",
      "provenance": [],
      "collapsed_sections": [
        "BmI3LrmAHhYP",
        "rmy-c00W3ZKD",
        "kaYvnQH0evXG",
        "PjueGMCsOT6t"
      ],
      "toc_visible": true,
      "authorship_tag": "ABX9TyN+3RfzEJv4GlWsiUoid/O+",
      "include_colab_link": true
    },
    "kernelspec": {
      "name": "python3",
      "display_name": "Python 3"
    },
    "language_info": {
      "name": "python"
    },
    "widgets": {
      "application/vnd.jupyter.widget-state+json": {
        "bec8c93fabd74392b05baab4310be0ed": {
          "model_module": "@jupyter-widgets/controls",
          "model_name": "HBoxModel",
          "model_module_version": "1.5.0",
          "state": {
            "_view_name": "HBoxView",
            "_dom_classes": [],
            "_model_name": "HBoxModel",
            "_view_module": "@jupyter-widgets/controls",
            "_model_module_version": "1.5.0",
            "_view_count": null,
            "_view_module_version": "1.5.0",
            "box_style": "",
            "layout": "IPY_MODEL_5d843af01f13439c984a0ba0f2f55189",
            "_model_module": "@jupyter-widgets/controls",
            "children": [
              "IPY_MODEL_d019b2484a304d0e89aebaf159b9992c",
              "IPY_MODEL_cd69dca4400f481dbebec0c7d352b522",
              "IPY_MODEL_ba00a9cc618a42ad89911cbaf9ba87d2"
            ]
          }
        },
        "5d843af01f13439c984a0ba0f2f55189": {
          "model_module": "@jupyter-widgets/base",
          "model_name": "LayoutModel",
          "model_module_version": "1.2.0",
          "state": {
            "_view_name": "LayoutView",
            "grid_template_rows": null,
            "right": null,
            "justify_content": null,
            "_view_module": "@jupyter-widgets/base",
            "overflow": null,
            "_model_module_version": "1.2.0",
            "_view_count": null,
            "flex_flow": null,
            "width": null,
            "min_width": null,
            "border": null,
            "align_items": null,
            "bottom": null,
            "_model_module": "@jupyter-widgets/base",
            "top": null,
            "grid_column": null,
            "overflow_y": null,
            "overflow_x": null,
            "grid_auto_flow": null,
            "grid_area": null,
            "grid_template_columns": null,
            "flex": null,
            "_model_name": "LayoutModel",
            "justify_items": null,
            "grid_row": null,
            "max_height": null,
            "align_content": null,
            "visibility": null,
            "align_self": null,
            "height": null,
            "min_height": null,
            "padding": null,
            "grid_auto_rows": null,
            "grid_gap": null,
            "max_width": null,
            "order": null,
            "_view_module_version": "1.2.0",
            "grid_template_areas": null,
            "object_position": null,
            "object_fit": null,
            "grid_auto_columns": null,
            "margin": null,
            "display": null,
            "left": null
          }
        },
        "d019b2484a304d0e89aebaf159b9992c": {
          "model_module": "@jupyter-widgets/controls",
          "model_name": "HTMLModel",
          "model_module_version": "1.5.0",
          "state": {
            "_view_name": "HTMLView",
            "style": "IPY_MODEL_8f48d5d98eb8412e8c51d157a0d8b11c",
            "_dom_classes": [],
            "description": "",
            "_model_name": "HTMLModel",
            "placeholder": "​",
            "_view_module": "@jupyter-widgets/controls",
            "_model_module_version": "1.5.0",
            "value": "Downloading: 100%",
            "_view_count": null,
            "_view_module_version": "1.5.0",
            "description_tooltip": null,
            "_model_module": "@jupyter-widgets/controls",
            "layout": "IPY_MODEL_df29409ad62a45bd8045153342f0eb43"
          }
        },
        "cd69dca4400f481dbebec0c7d352b522": {
          "model_module": "@jupyter-widgets/controls",
          "model_name": "FloatProgressModel",
          "model_module_version": "1.5.0",
          "state": {
            "_view_name": "ProgressView",
            "style": "IPY_MODEL_5ee6932108024781ae90049cd176dfc0",
            "_dom_classes": [],
            "description": "",
            "_model_name": "FloatProgressModel",
            "bar_style": "success",
            "max": 3988,
            "_view_module": "@jupyter-widgets/controls",
            "_model_module_version": "1.5.0",
            "value": 3988,
            "_view_count": null,
            "_view_module_version": "1.5.0",
            "orientation": "horizontal",
            "min": 0,
            "description_tooltip": null,
            "_model_module": "@jupyter-widgets/controls",
            "layout": "IPY_MODEL_90a97d1c23104e2f88f34b2f06096639"
          }
        },
        "ba00a9cc618a42ad89911cbaf9ba87d2": {
          "model_module": "@jupyter-widgets/controls",
          "model_name": "HTMLModel",
          "model_module_version": "1.5.0",
          "state": {
            "_view_name": "HTMLView",
            "style": "IPY_MODEL_73608bb76694448e994f9627fe22d2d7",
            "_dom_classes": [],
            "description": "",
            "_model_name": "HTMLModel",
            "placeholder": "​",
            "_view_module": "@jupyter-widgets/controls",
            "_model_module_version": "1.5.0",
            "value": " 3.99k/3.99k [00:00&lt;00:00, 72.6kB/s]",
            "_view_count": null,
            "_view_module_version": "1.5.0",
            "description_tooltip": null,
            "_model_module": "@jupyter-widgets/controls",
            "layout": "IPY_MODEL_5dcbcdbec062455ebbc4cd403de9d4e2"
          }
        },
        "8f48d5d98eb8412e8c51d157a0d8b11c": {
          "model_module": "@jupyter-widgets/controls",
          "model_name": "DescriptionStyleModel",
          "model_module_version": "1.5.0",
          "state": {
            "_view_name": "StyleView",
            "_model_name": "DescriptionStyleModel",
            "description_width": "",
            "_view_module": "@jupyter-widgets/base",
            "_model_module_version": "1.5.0",
            "_view_count": null,
            "_view_module_version": "1.2.0",
            "_model_module": "@jupyter-widgets/controls"
          }
        },
        "df29409ad62a45bd8045153342f0eb43": {
          "model_module": "@jupyter-widgets/base",
          "model_name": "LayoutModel",
          "model_module_version": "1.2.0",
          "state": {
            "_view_name": "LayoutView",
            "grid_template_rows": null,
            "right": null,
            "justify_content": null,
            "_view_module": "@jupyter-widgets/base",
            "overflow": null,
            "_model_module_version": "1.2.0",
            "_view_count": null,
            "flex_flow": null,
            "width": null,
            "min_width": null,
            "border": null,
            "align_items": null,
            "bottom": null,
            "_model_module": "@jupyter-widgets/base",
            "top": null,
            "grid_column": null,
            "overflow_y": null,
            "overflow_x": null,
            "grid_auto_flow": null,
            "grid_area": null,
            "grid_template_columns": null,
            "flex": null,
            "_model_name": "LayoutModel",
            "justify_items": null,
            "grid_row": null,
            "max_height": null,
            "align_content": null,
            "visibility": null,
            "align_self": null,
            "height": null,
            "min_height": null,
            "padding": null,
            "grid_auto_rows": null,
            "grid_gap": null,
            "max_width": null,
            "order": null,
            "_view_module_version": "1.2.0",
            "grid_template_areas": null,
            "object_position": null,
            "object_fit": null,
            "grid_auto_columns": null,
            "margin": null,
            "display": null,
            "left": null
          }
        },
        "5ee6932108024781ae90049cd176dfc0": {
          "model_module": "@jupyter-widgets/controls",
          "model_name": "ProgressStyleModel",
          "model_module_version": "1.5.0",
          "state": {
            "_view_name": "StyleView",
            "_model_name": "ProgressStyleModel",
            "description_width": "",
            "_view_module": "@jupyter-widgets/base",
            "_model_module_version": "1.5.0",
            "_view_count": null,
            "_view_module_version": "1.2.0",
            "bar_color": null,
            "_model_module": "@jupyter-widgets/controls"
          }
        },
        "90a97d1c23104e2f88f34b2f06096639": {
          "model_module": "@jupyter-widgets/base",
          "model_name": "LayoutModel",
          "model_module_version": "1.2.0",
          "state": {
            "_view_name": "LayoutView",
            "grid_template_rows": null,
            "right": null,
            "justify_content": null,
            "_view_module": "@jupyter-widgets/base",
            "overflow": null,
            "_model_module_version": "1.2.0",
            "_view_count": null,
            "flex_flow": null,
            "width": null,
            "min_width": null,
            "border": null,
            "align_items": null,
            "bottom": null,
            "_model_module": "@jupyter-widgets/base",
            "top": null,
            "grid_column": null,
            "overflow_y": null,
            "overflow_x": null,
            "grid_auto_flow": null,
            "grid_area": null,
            "grid_template_columns": null,
            "flex": null,
            "_model_name": "LayoutModel",
            "justify_items": null,
            "grid_row": null,
            "max_height": null,
            "align_content": null,
            "visibility": null,
            "align_self": null,
            "height": null,
            "min_height": null,
            "padding": null,
            "grid_auto_rows": null,
            "grid_gap": null,
            "max_width": null,
            "order": null,
            "_view_module_version": "1.2.0",
            "grid_template_areas": null,
            "object_position": null,
            "object_fit": null,
            "grid_auto_columns": null,
            "margin": null,
            "display": null,
            "left": null
          }
        },
        "73608bb76694448e994f9627fe22d2d7": {
          "model_module": "@jupyter-widgets/controls",
          "model_name": "DescriptionStyleModel",
          "model_module_version": "1.5.0",
          "state": {
            "_view_name": "StyleView",
            "_model_name": "DescriptionStyleModel",
            "description_width": "",
            "_view_module": "@jupyter-widgets/base",
            "_model_module_version": "1.5.0",
            "_view_count": null,
            "_view_module_version": "1.2.0",
            "_model_module": "@jupyter-widgets/controls"
          }
        },
        "5dcbcdbec062455ebbc4cd403de9d4e2": {
          "model_module": "@jupyter-widgets/base",
          "model_name": "LayoutModel",
          "model_module_version": "1.2.0",
          "state": {
            "_view_name": "LayoutView",
            "grid_template_rows": null,
            "right": null,
            "justify_content": null,
            "_view_module": "@jupyter-widgets/base",
            "overflow": null,
            "_model_module_version": "1.2.0",
            "_view_count": null,
            "flex_flow": null,
            "width": null,
            "min_width": null,
            "border": null,
            "align_items": null,
            "bottom": null,
            "_model_module": "@jupyter-widgets/base",
            "top": null,
            "grid_column": null,
            "overflow_y": null,
            "overflow_x": null,
            "grid_auto_flow": null,
            "grid_area": null,
            "grid_template_columns": null,
            "flex": null,
            "_model_name": "LayoutModel",
            "justify_items": null,
            "grid_row": null,
            "max_height": null,
            "align_content": null,
            "visibility": null,
            "align_self": null,
            "height": null,
            "min_height": null,
            "padding": null,
            "grid_auto_rows": null,
            "grid_gap": null,
            "max_width": null,
            "order": null,
            "_view_module_version": "1.2.0",
            "grid_template_areas": null,
            "object_position": null,
            "object_fit": null,
            "grid_auto_columns": null,
            "margin": null,
            "display": null,
            "left": null
          }
        },
        "d9a838eeb27849b9bd6bff1aaf974ffd": {
          "model_module": "@jupyter-widgets/controls",
          "model_name": "HBoxModel",
          "model_module_version": "1.5.0",
          "state": {
            "_view_name": "HBoxView",
            "_dom_classes": [],
            "_model_name": "HBoxModel",
            "_view_module": "@jupyter-widgets/controls",
            "_model_module_version": "1.5.0",
            "_view_count": null,
            "_view_module_version": "1.5.0",
            "box_style": "",
            "layout": "IPY_MODEL_391adf79a05c43d1bcdea1199617de81",
            "_model_module": "@jupyter-widgets/controls",
            "children": [
              "IPY_MODEL_6bd1854718a94ff59b6637b8f96b0e80",
              "IPY_MODEL_6ea0fff89e8b4f25adf23e0f43aca7d5",
              "IPY_MODEL_09ac7037e27741929ec8efa4bd7c84f4"
            ]
          }
        },
        "391adf79a05c43d1bcdea1199617de81": {
          "model_module": "@jupyter-widgets/base",
          "model_name": "LayoutModel",
          "model_module_version": "1.2.0",
          "state": {
            "_view_name": "LayoutView",
            "grid_template_rows": null,
            "right": null,
            "justify_content": null,
            "_view_module": "@jupyter-widgets/base",
            "overflow": null,
            "_model_module_version": "1.2.0",
            "_view_count": null,
            "flex_flow": null,
            "width": null,
            "min_width": null,
            "border": null,
            "align_items": null,
            "bottom": null,
            "_model_module": "@jupyter-widgets/base",
            "top": null,
            "grid_column": null,
            "overflow_y": null,
            "overflow_x": null,
            "grid_auto_flow": null,
            "grid_area": null,
            "grid_template_columns": null,
            "flex": null,
            "_model_name": "LayoutModel",
            "justify_items": null,
            "grid_row": null,
            "max_height": null,
            "align_content": null,
            "visibility": null,
            "align_self": null,
            "height": null,
            "min_height": null,
            "padding": null,
            "grid_auto_rows": null,
            "grid_gap": null,
            "max_width": null,
            "order": null,
            "_view_module_version": "1.2.0",
            "grid_template_areas": null,
            "object_position": null,
            "object_fit": null,
            "grid_auto_columns": null,
            "margin": null,
            "display": null,
            "left": null
          }
        },
        "6bd1854718a94ff59b6637b8f96b0e80": {
          "model_module": "@jupyter-widgets/controls",
          "model_name": "HTMLModel",
          "model_module_version": "1.5.0",
          "state": {
            "_view_name": "HTMLView",
            "style": "IPY_MODEL_340191628e614a9d97a3ad5690fe4637",
            "_dom_classes": [],
            "description": "",
            "_model_name": "HTMLModel",
            "placeholder": "​",
            "_view_module": "@jupyter-widgets/controls",
            "_model_module_version": "1.5.0",
            "value": "Downloading: 100%",
            "_view_count": null,
            "_view_module_version": "1.5.0",
            "description_tooltip": null,
            "_model_module": "@jupyter-widgets/controls",
            "layout": "IPY_MODEL_045368e8fde04f5a99a7ac7da0bcf74b"
          }
        },
        "6ea0fff89e8b4f25adf23e0f43aca7d5": {
          "model_module": "@jupyter-widgets/controls",
          "model_name": "FloatProgressModel",
          "model_module_version": "1.5.0",
          "state": {
            "_view_name": "ProgressView",
            "style": "IPY_MODEL_f02e74a29e7f4a6ebf3ed1f2d1b0ceef",
            "_dom_classes": [],
            "description": "",
            "_model_name": "FloatProgressModel",
            "bar_style": "success",
            "max": 550,
            "_view_module": "@jupyter-widgets/controls",
            "_model_module_version": "1.5.0",
            "value": 550,
            "_view_count": null,
            "_view_module_version": "1.5.0",
            "orientation": "horizontal",
            "min": 0,
            "description_tooltip": null,
            "_model_module": "@jupyter-widgets/controls",
            "layout": "IPY_MODEL_3368e7b7113943b9a86480f3abdd7100"
          }
        },
        "09ac7037e27741929ec8efa4bd7c84f4": {
          "model_module": "@jupyter-widgets/controls",
          "model_name": "HTMLModel",
          "model_module_version": "1.5.0",
          "state": {
            "_view_name": "HTMLView",
            "style": "IPY_MODEL_e9c17d0b56fd4c1fbd5c01a05210b50d",
            "_dom_classes": [],
            "description": "",
            "_model_name": "HTMLModel",
            "placeholder": "​",
            "_view_module": "@jupyter-widgets/controls",
            "_model_module_version": "1.5.0",
            "value": " 550/550 [00:00&lt;00:00, 13.9kB/s]",
            "_view_count": null,
            "_view_module_version": "1.5.0",
            "description_tooltip": null,
            "_model_module": "@jupyter-widgets/controls",
            "layout": "IPY_MODEL_649821a0707b467c899408cac4024e0d"
          }
        },
        "340191628e614a9d97a3ad5690fe4637": {
          "model_module": "@jupyter-widgets/controls",
          "model_name": "DescriptionStyleModel",
          "model_module_version": "1.5.0",
          "state": {
            "_view_name": "StyleView",
            "_model_name": "DescriptionStyleModel",
            "description_width": "",
            "_view_module": "@jupyter-widgets/base",
            "_model_module_version": "1.5.0",
            "_view_count": null,
            "_view_module_version": "1.2.0",
            "_model_module": "@jupyter-widgets/controls"
          }
        },
        "045368e8fde04f5a99a7ac7da0bcf74b": {
          "model_module": "@jupyter-widgets/base",
          "model_name": "LayoutModel",
          "model_module_version": "1.2.0",
          "state": {
            "_view_name": "LayoutView",
            "grid_template_rows": null,
            "right": null,
            "justify_content": null,
            "_view_module": "@jupyter-widgets/base",
            "overflow": null,
            "_model_module_version": "1.2.0",
            "_view_count": null,
            "flex_flow": null,
            "width": null,
            "min_width": null,
            "border": null,
            "align_items": null,
            "bottom": null,
            "_model_module": "@jupyter-widgets/base",
            "top": null,
            "grid_column": null,
            "overflow_y": null,
            "overflow_x": null,
            "grid_auto_flow": null,
            "grid_area": null,
            "grid_template_columns": null,
            "flex": null,
            "_model_name": "LayoutModel",
            "justify_items": null,
            "grid_row": null,
            "max_height": null,
            "align_content": null,
            "visibility": null,
            "align_self": null,
            "height": null,
            "min_height": null,
            "padding": null,
            "grid_auto_rows": null,
            "grid_gap": null,
            "max_width": null,
            "order": null,
            "_view_module_version": "1.2.0",
            "grid_template_areas": null,
            "object_position": null,
            "object_fit": null,
            "grid_auto_columns": null,
            "margin": null,
            "display": null,
            "left": null
          }
        },
        "f02e74a29e7f4a6ebf3ed1f2d1b0ceef": {
          "model_module": "@jupyter-widgets/controls",
          "model_name": "ProgressStyleModel",
          "model_module_version": "1.5.0",
          "state": {
            "_view_name": "StyleView",
            "_model_name": "ProgressStyleModel",
            "description_width": "",
            "_view_module": "@jupyter-widgets/base",
            "_model_module_version": "1.5.0",
            "_view_count": null,
            "_view_module_version": "1.2.0",
            "bar_color": null,
            "_model_module": "@jupyter-widgets/controls"
          }
        },
        "3368e7b7113943b9a86480f3abdd7100": {
          "model_module": "@jupyter-widgets/base",
          "model_name": "LayoutModel",
          "model_module_version": "1.2.0",
          "state": {
            "_view_name": "LayoutView",
            "grid_template_rows": null,
            "right": null,
            "justify_content": null,
            "_view_module": "@jupyter-widgets/base",
            "overflow": null,
            "_model_module_version": "1.2.0",
            "_view_count": null,
            "flex_flow": null,
            "width": null,
            "min_width": null,
            "border": null,
            "align_items": null,
            "bottom": null,
            "_model_module": "@jupyter-widgets/base",
            "top": null,
            "grid_column": null,
            "overflow_y": null,
            "overflow_x": null,
            "grid_auto_flow": null,
            "grid_area": null,
            "grid_template_columns": null,
            "flex": null,
            "_model_name": "LayoutModel",
            "justify_items": null,
            "grid_row": null,
            "max_height": null,
            "align_content": null,
            "visibility": null,
            "align_self": null,
            "height": null,
            "min_height": null,
            "padding": null,
            "grid_auto_rows": null,
            "grid_gap": null,
            "max_width": null,
            "order": null,
            "_view_module_version": "1.2.0",
            "grid_template_areas": null,
            "object_position": null,
            "object_fit": null,
            "grid_auto_columns": null,
            "margin": null,
            "display": null,
            "left": null
          }
        },
        "e9c17d0b56fd4c1fbd5c01a05210b50d": {
          "model_module": "@jupyter-widgets/controls",
          "model_name": "DescriptionStyleModel",
          "model_module_version": "1.5.0",
          "state": {
            "_view_name": "StyleView",
            "_model_name": "DescriptionStyleModel",
            "description_width": "",
            "_view_module": "@jupyter-widgets/base",
            "_model_module_version": "1.5.0",
            "_view_count": null,
            "_view_module_version": "1.2.0",
            "_model_module": "@jupyter-widgets/controls"
          }
        },
        "649821a0707b467c899408cac4024e0d": {
          "model_module": "@jupyter-widgets/base",
          "model_name": "LayoutModel",
          "model_module_version": "1.2.0",
          "state": {
            "_view_name": "LayoutView",
            "grid_template_rows": null,
            "right": null,
            "justify_content": null,
            "_view_module": "@jupyter-widgets/base",
            "overflow": null,
            "_model_module_version": "1.2.0",
            "_view_count": null,
            "flex_flow": null,
            "width": null,
            "min_width": null,
            "border": null,
            "align_items": null,
            "bottom": null,
            "_model_module": "@jupyter-widgets/base",
            "top": null,
            "grid_column": null,
            "overflow_y": null,
            "overflow_x": null,
            "grid_auto_flow": null,
            "grid_area": null,
            "grid_template_columns": null,
            "flex": null,
            "_model_name": "LayoutModel",
            "justify_items": null,
            "grid_row": null,
            "max_height": null,
            "align_content": null,
            "visibility": null,
            "align_self": null,
            "height": null,
            "min_height": null,
            "padding": null,
            "grid_auto_rows": null,
            "grid_gap": null,
            "max_width": null,
            "order": null,
            "_view_module_version": "1.2.0",
            "grid_template_areas": null,
            "object_position": null,
            "object_fit": null,
            "grid_auto_columns": null,
            "margin": null,
            "display": null,
            "left": null
          }
        },
        "a0fa88a1cc094c2f9c69025a0737ed76": {
          "model_module": "@jupyter-widgets/controls",
          "model_name": "HBoxModel",
          "model_module_version": "1.5.0",
          "state": {
            "_view_name": "HBoxView",
            "_dom_classes": [],
            "_model_name": "HBoxModel",
            "_view_module": "@jupyter-widgets/controls",
            "_model_module_version": "1.5.0",
            "_view_count": null,
            "_view_module_version": "1.5.0",
            "box_style": "",
            "layout": "IPY_MODEL_6b910fa5411d456eb6f76ffb5db86ec3",
            "_model_module": "@jupyter-widgets/controls",
            "children": [
              "IPY_MODEL_d2e38c6680a740158e59a25173254c7f",
              "IPY_MODEL_4eebab6b368340dc9dc6ca0494f00e08",
              "IPY_MODEL_5a033afcbf9d4f44a8e4ade19c8427e2"
            ]
          }
        },
        "6b910fa5411d456eb6f76ffb5db86ec3": {
          "model_module": "@jupyter-widgets/base",
          "model_name": "LayoutModel",
          "model_module_version": "1.2.0",
          "state": {
            "_view_name": "LayoutView",
            "grid_template_rows": null,
            "right": null,
            "justify_content": null,
            "_view_module": "@jupyter-widgets/base",
            "overflow": null,
            "_model_module_version": "1.2.0",
            "_view_count": null,
            "flex_flow": null,
            "width": null,
            "min_width": null,
            "border": null,
            "align_items": null,
            "bottom": null,
            "_model_module": "@jupyter-widgets/base",
            "top": null,
            "grid_column": null,
            "overflow_y": null,
            "overflow_x": null,
            "grid_auto_flow": null,
            "grid_area": null,
            "grid_template_columns": null,
            "flex": null,
            "_model_name": "LayoutModel",
            "justify_items": null,
            "grid_row": null,
            "max_height": null,
            "align_content": null,
            "visibility": null,
            "align_self": null,
            "height": null,
            "min_height": null,
            "padding": null,
            "grid_auto_rows": null,
            "grid_gap": null,
            "max_width": null,
            "order": null,
            "_view_module_version": "1.2.0",
            "grid_template_areas": null,
            "object_position": null,
            "object_fit": null,
            "grid_auto_columns": null,
            "margin": null,
            "display": null,
            "left": null
          }
        },
        "d2e38c6680a740158e59a25173254c7f": {
          "model_module": "@jupyter-widgets/controls",
          "model_name": "HTMLModel",
          "model_module_version": "1.5.0",
          "state": {
            "_view_name": "HTMLView",
            "style": "IPY_MODEL_e1bdd412888b4aabb5b075be83e2f3f9",
            "_dom_classes": [],
            "description": "",
            "_model_name": "HTMLModel",
            "placeholder": "​",
            "_view_module": "@jupyter-widgets/controls",
            "_model_module_version": "1.5.0",
            "value": "Downloading: 100%",
            "_view_count": null,
            "_view_module_version": "1.5.0",
            "description_tooltip": null,
            "_model_module": "@jupyter-widgets/controls",
            "layout": "IPY_MODEL_fdc0c729cfd244c09888e69ded5960d7"
          }
        },
        "4eebab6b368340dc9dc6ca0494f00e08": {
          "model_module": "@jupyter-widgets/controls",
          "model_name": "FloatProgressModel",
          "model_module_version": "1.5.0",
          "state": {
            "_view_name": "ProgressView",
            "style": "IPY_MODEL_5abd1e073f7040168c6258b12d6e6028",
            "_dom_classes": [],
            "description": "",
            "_model_name": "FloatProgressModel",
            "bar_style": "success",
            "max": 122,
            "_view_module": "@jupyter-widgets/controls",
            "_model_module_version": "1.5.0",
            "value": 122,
            "_view_count": null,
            "_view_module_version": "1.5.0",
            "orientation": "horizontal",
            "min": 0,
            "description_tooltip": null,
            "_model_module": "@jupyter-widgets/controls",
            "layout": "IPY_MODEL_93ab0c1eb6e440fe9132445e9c099b56"
          }
        },
        "5a033afcbf9d4f44a8e4ade19c8427e2": {
          "model_module": "@jupyter-widgets/controls",
          "model_name": "HTMLModel",
          "model_module_version": "1.5.0",
          "state": {
            "_view_name": "HTMLView",
            "style": "IPY_MODEL_f46738792fa3478eb6d0a0cac4c13e16",
            "_dom_classes": [],
            "description": "",
            "_model_name": "HTMLModel",
            "placeholder": "​",
            "_view_module": "@jupyter-widgets/controls",
            "_model_module_version": "1.5.0",
            "value": " 122/122 [00:00&lt;00:00, 2.96kB/s]",
            "_view_count": null,
            "_view_module_version": "1.5.0",
            "description_tooltip": null,
            "_model_module": "@jupyter-widgets/controls",
            "layout": "IPY_MODEL_e55d79abeab141238c4b3fcc84681083"
          }
        },
        "e1bdd412888b4aabb5b075be83e2f3f9": {
          "model_module": "@jupyter-widgets/controls",
          "model_name": "DescriptionStyleModel",
          "model_module_version": "1.5.0",
          "state": {
            "_view_name": "StyleView",
            "_model_name": "DescriptionStyleModel",
            "description_width": "",
            "_view_module": "@jupyter-widgets/base",
            "_model_module_version": "1.5.0",
            "_view_count": null,
            "_view_module_version": "1.2.0",
            "_model_module": "@jupyter-widgets/controls"
          }
        },
        "fdc0c729cfd244c09888e69ded5960d7": {
          "model_module": "@jupyter-widgets/base",
          "model_name": "LayoutModel",
          "model_module_version": "1.2.0",
          "state": {
            "_view_name": "LayoutView",
            "grid_template_rows": null,
            "right": null,
            "justify_content": null,
            "_view_module": "@jupyter-widgets/base",
            "overflow": null,
            "_model_module_version": "1.2.0",
            "_view_count": null,
            "flex_flow": null,
            "width": null,
            "min_width": null,
            "border": null,
            "align_items": null,
            "bottom": null,
            "_model_module": "@jupyter-widgets/base",
            "top": null,
            "grid_column": null,
            "overflow_y": null,
            "overflow_x": null,
            "grid_auto_flow": null,
            "grid_area": null,
            "grid_template_columns": null,
            "flex": null,
            "_model_name": "LayoutModel",
            "justify_items": null,
            "grid_row": null,
            "max_height": null,
            "align_content": null,
            "visibility": null,
            "align_self": null,
            "height": null,
            "min_height": null,
            "padding": null,
            "grid_auto_rows": null,
            "grid_gap": null,
            "max_width": null,
            "order": null,
            "_view_module_version": "1.2.0",
            "grid_template_areas": null,
            "object_position": null,
            "object_fit": null,
            "grid_auto_columns": null,
            "margin": null,
            "display": null,
            "left": null
          }
        },
        "5abd1e073f7040168c6258b12d6e6028": {
          "model_module": "@jupyter-widgets/controls",
          "model_name": "ProgressStyleModel",
          "model_module_version": "1.5.0",
          "state": {
            "_view_name": "StyleView",
            "_model_name": "ProgressStyleModel",
            "description_width": "",
            "_view_module": "@jupyter-widgets/base",
            "_model_module_version": "1.5.0",
            "_view_count": null,
            "_view_module_version": "1.2.0",
            "bar_color": null,
            "_model_module": "@jupyter-widgets/controls"
          }
        },
        "93ab0c1eb6e440fe9132445e9c099b56": {
          "model_module": "@jupyter-widgets/base",
          "model_name": "LayoutModel",
          "model_module_version": "1.2.0",
          "state": {
            "_view_name": "LayoutView",
            "grid_template_rows": null,
            "right": null,
            "justify_content": null,
            "_view_module": "@jupyter-widgets/base",
            "overflow": null,
            "_model_module_version": "1.2.0",
            "_view_count": null,
            "flex_flow": null,
            "width": null,
            "min_width": null,
            "border": null,
            "align_items": null,
            "bottom": null,
            "_model_module": "@jupyter-widgets/base",
            "top": null,
            "grid_column": null,
            "overflow_y": null,
            "overflow_x": null,
            "grid_auto_flow": null,
            "grid_area": null,
            "grid_template_columns": null,
            "flex": null,
            "_model_name": "LayoutModel",
            "justify_items": null,
            "grid_row": null,
            "max_height": null,
            "align_content": null,
            "visibility": null,
            "align_self": null,
            "height": null,
            "min_height": null,
            "padding": null,
            "grid_auto_rows": null,
            "grid_gap": null,
            "max_width": null,
            "order": null,
            "_view_module_version": "1.2.0",
            "grid_template_areas": null,
            "object_position": null,
            "object_fit": null,
            "grid_auto_columns": null,
            "margin": null,
            "display": null,
            "left": null
          }
        },
        "f46738792fa3478eb6d0a0cac4c13e16": {
          "model_module": "@jupyter-widgets/controls",
          "model_name": "DescriptionStyleModel",
          "model_module_version": "1.5.0",
          "state": {
            "_view_name": "StyleView",
            "_model_name": "DescriptionStyleModel",
            "description_width": "",
            "_view_module": "@jupyter-widgets/base",
            "_model_module_version": "1.5.0",
            "_view_count": null,
            "_view_module_version": "1.2.0",
            "_model_module": "@jupyter-widgets/controls"
          }
        },
        "e55d79abeab141238c4b3fcc84681083": {
          "model_module": "@jupyter-widgets/base",
          "model_name": "LayoutModel",
          "model_module_version": "1.2.0",
          "state": {
            "_view_name": "LayoutView",
            "grid_template_rows": null,
            "right": null,
            "justify_content": null,
            "_view_module": "@jupyter-widgets/base",
            "overflow": null,
            "_model_module_version": "1.2.0",
            "_view_count": null,
            "flex_flow": null,
            "width": null,
            "min_width": null,
            "border": null,
            "align_items": null,
            "bottom": null,
            "_model_module": "@jupyter-widgets/base",
            "top": null,
            "grid_column": null,
            "overflow_y": null,
            "overflow_x": null,
            "grid_auto_flow": null,
            "grid_area": null,
            "grid_template_columns": null,
            "flex": null,
            "_model_name": "LayoutModel",
            "justify_items": null,
            "grid_row": null,
            "max_height": null,
            "align_content": null,
            "visibility": null,
            "align_self": null,
            "height": null,
            "min_height": null,
            "padding": null,
            "grid_auto_rows": null,
            "grid_gap": null,
            "max_width": null,
            "order": null,
            "_view_module_version": "1.2.0",
            "grid_template_areas": null,
            "object_position": null,
            "object_fit": null,
            "grid_auto_columns": null,
            "margin": null,
            "display": null,
            "left": null
          }
        },
        "d7a9db75123644d0a33a39cf42e09b3d": {
          "model_module": "@jupyter-widgets/controls",
          "model_name": "HBoxModel",
          "model_module_version": "1.5.0",
          "state": {
            "_view_name": "HBoxView",
            "_dom_classes": [],
            "_model_name": "HBoxModel",
            "_view_module": "@jupyter-widgets/controls",
            "_model_module_version": "1.5.0",
            "_view_count": null,
            "_view_module_version": "1.5.0",
            "box_style": "",
            "layout": "IPY_MODEL_d102d7ba1ce14be28292f9eb2a306b7b",
            "_model_module": "@jupyter-widgets/controls",
            "children": [
              "IPY_MODEL_dbc1c60bd6254cbfb6de4d64b3db4342",
              "IPY_MODEL_94bd16a45ab9477798fd07e20a8da37d",
              "IPY_MODEL_8c5699fac7e74a22b20ad36b5dbb96d3"
            ]
          }
        },
        "d102d7ba1ce14be28292f9eb2a306b7b": {
          "model_module": "@jupyter-widgets/base",
          "model_name": "LayoutModel",
          "model_module_version": "1.2.0",
          "state": {
            "_view_name": "LayoutView",
            "grid_template_rows": null,
            "right": null,
            "justify_content": null,
            "_view_module": "@jupyter-widgets/base",
            "overflow": null,
            "_model_module_version": "1.2.0",
            "_view_count": null,
            "flex_flow": null,
            "width": null,
            "min_width": null,
            "border": null,
            "align_items": null,
            "bottom": null,
            "_model_module": "@jupyter-widgets/base",
            "top": null,
            "grid_column": null,
            "overflow_y": null,
            "overflow_x": null,
            "grid_auto_flow": null,
            "grid_area": null,
            "grid_template_columns": null,
            "flex": null,
            "_model_name": "LayoutModel",
            "justify_items": null,
            "grid_row": null,
            "max_height": null,
            "align_content": null,
            "visibility": null,
            "align_self": null,
            "height": null,
            "min_height": null,
            "padding": null,
            "grid_auto_rows": null,
            "grid_gap": null,
            "max_width": null,
            "order": null,
            "_view_module_version": "1.2.0",
            "grid_template_areas": null,
            "object_position": null,
            "object_fit": null,
            "grid_auto_columns": null,
            "margin": null,
            "display": null,
            "left": null
          }
        },
        "dbc1c60bd6254cbfb6de4d64b3db4342": {
          "model_module": "@jupyter-widgets/controls",
          "model_name": "HTMLModel",
          "model_module_version": "1.5.0",
          "state": {
            "_view_name": "HTMLView",
            "style": "IPY_MODEL_e3d816d67cfd44c8a14668628a40f60f",
            "_dom_classes": [],
            "description": "",
            "_model_name": "HTMLModel",
            "placeholder": "​",
            "_view_module": "@jupyter-widgets/controls",
            "_model_module_version": "1.5.0",
            "value": "Downloading: 100%",
            "_view_count": null,
            "_view_module_version": "1.5.0",
            "description_tooltip": null,
            "_model_module": "@jupyter-widgets/controls",
            "layout": "IPY_MODEL_a9e7ec6166e84555adab5295c85be602"
          }
        },
        "94bd16a45ab9477798fd07e20a8da37d": {
          "model_module": "@jupyter-widgets/controls",
          "model_name": "FloatProgressModel",
          "model_module_version": "1.5.0",
          "state": {
            "_view_name": "ProgressView",
            "style": "IPY_MODEL_924c36898ba942eb923750f8881c3b11",
            "_dom_classes": [],
            "description": "",
            "_model_name": "FloatProgressModel",
            "bar_style": "success",
            "max": 229,
            "_view_module": "@jupyter-widgets/controls",
            "_model_module_version": "1.5.0",
            "value": 229,
            "_view_count": null,
            "_view_module_version": "1.5.0",
            "orientation": "horizontal",
            "min": 0,
            "description_tooltip": null,
            "_model_module": "@jupyter-widgets/controls",
            "layout": "IPY_MODEL_d1eac5b24f2941da97f0a87d10060e86"
          }
        },
        "8c5699fac7e74a22b20ad36b5dbb96d3": {
          "model_module": "@jupyter-widgets/controls",
          "model_name": "HTMLModel",
          "model_module_version": "1.5.0",
          "state": {
            "_view_name": "HTMLView",
            "style": "IPY_MODEL_47f50c5e812042deb7e00b18869a3e0b",
            "_dom_classes": [],
            "description": "",
            "_model_name": "HTMLModel",
            "placeholder": "​",
            "_view_module": "@jupyter-widgets/controls",
            "_model_module_version": "1.5.0",
            "value": " 229/229 [00:00&lt;00:00, 4.46kB/s]",
            "_view_count": null,
            "_view_module_version": "1.5.0",
            "description_tooltip": null,
            "_model_module": "@jupyter-widgets/controls",
            "layout": "IPY_MODEL_3513a9f278c742ad9f664844642babce"
          }
        },
        "e3d816d67cfd44c8a14668628a40f60f": {
          "model_module": "@jupyter-widgets/controls",
          "model_name": "DescriptionStyleModel",
          "model_module_version": "1.5.0",
          "state": {
            "_view_name": "StyleView",
            "_model_name": "DescriptionStyleModel",
            "description_width": "",
            "_view_module": "@jupyter-widgets/base",
            "_model_module_version": "1.5.0",
            "_view_count": null,
            "_view_module_version": "1.2.0",
            "_model_module": "@jupyter-widgets/controls"
          }
        },
        "a9e7ec6166e84555adab5295c85be602": {
          "model_module": "@jupyter-widgets/base",
          "model_name": "LayoutModel",
          "model_module_version": "1.2.0",
          "state": {
            "_view_name": "LayoutView",
            "grid_template_rows": null,
            "right": null,
            "justify_content": null,
            "_view_module": "@jupyter-widgets/base",
            "overflow": null,
            "_model_module_version": "1.2.0",
            "_view_count": null,
            "flex_flow": null,
            "width": null,
            "min_width": null,
            "border": null,
            "align_items": null,
            "bottom": null,
            "_model_module": "@jupyter-widgets/base",
            "top": null,
            "grid_column": null,
            "overflow_y": null,
            "overflow_x": null,
            "grid_auto_flow": null,
            "grid_area": null,
            "grid_template_columns": null,
            "flex": null,
            "_model_name": "LayoutModel",
            "justify_items": null,
            "grid_row": null,
            "max_height": null,
            "align_content": null,
            "visibility": null,
            "align_self": null,
            "height": null,
            "min_height": null,
            "padding": null,
            "grid_auto_rows": null,
            "grid_gap": null,
            "max_width": null,
            "order": null,
            "_view_module_version": "1.2.0",
            "grid_template_areas": null,
            "object_position": null,
            "object_fit": null,
            "grid_auto_columns": null,
            "margin": null,
            "display": null,
            "left": null
          }
        },
        "924c36898ba942eb923750f8881c3b11": {
          "model_module": "@jupyter-widgets/controls",
          "model_name": "ProgressStyleModel",
          "model_module_version": "1.5.0",
          "state": {
            "_view_name": "StyleView",
            "_model_name": "ProgressStyleModel",
            "description_width": "",
            "_view_module": "@jupyter-widgets/base",
            "_model_module_version": "1.5.0",
            "_view_count": null,
            "_view_module_version": "1.2.0",
            "bar_color": null,
            "_model_module": "@jupyter-widgets/controls"
          }
        },
        "d1eac5b24f2941da97f0a87d10060e86": {
          "model_module": "@jupyter-widgets/base",
          "model_name": "LayoutModel",
          "model_module_version": "1.2.0",
          "state": {
            "_view_name": "LayoutView",
            "grid_template_rows": null,
            "right": null,
            "justify_content": null,
            "_view_module": "@jupyter-widgets/base",
            "overflow": null,
            "_model_module_version": "1.2.0",
            "_view_count": null,
            "flex_flow": null,
            "width": null,
            "min_width": null,
            "border": null,
            "align_items": null,
            "bottom": null,
            "_model_module": "@jupyter-widgets/base",
            "top": null,
            "grid_column": null,
            "overflow_y": null,
            "overflow_x": null,
            "grid_auto_flow": null,
            "grid_area": null,
            "grid_template_columns": null,
            "flex": null,
            "_model_name": "LayoutModel",
            "justify_items": null,
            "grid_row": null,
            "max_height": null,
            "align_content": null,
            "visibility": null,
            "align_self": null,
            "height": null,
            "min_height": null,
            "padding": null,
            "grid_auto_rows": null,
            "grid_gap": null,
            "max_width": null,
            "order": null,
            "_view_module_version": "1.2.0",
            "grid_template_areas": null,
            "object_position": null,
            "object_fit": null,
            "grid_auto_columns": null,
            "margin": null,
            "display": null,
            "left": null
          }
        },
        "47f50c5e812042deb7e00b18869a3e0b": {
          "model_module": "@jupyter-widgets/controls",
          "model_name": "DescriptionStyleModel",
          "model_module_version": "1.5.0",
          "state": {
            "_view_name": "StyleView",
            "_model_name": "DescriptionStyleModel",
            "description_width": "",
            "_view_module": "@jupyter-widgets/base",
            "_model_module_version": "1.5.0",
            "_view_count": null,
            "_view_module_version": "1.2.0",
            "_model_module": "@jupyter-widgets/controls"
          }
        },
        "3513a9f278c742ad9f664844642babce": {
          "model_module": "@jupyter-widgets/base",
          "model_name": "LayoutModel",
          "model_module_version": "1.2.0",
          "state": {
            "_view_name": "LayoutView",
            "grid_template_rows": null,
            "right": null,
            "justify_content": null,
            "_view_module": "@jupyter-widgets/base",
            "overflow": null,
            "_model_module_version": "1.2.0",
            "_view_count": null,
            "flex_flow": null,
            "width": null,
            "min_width": null,
            "border": null,
            "align_items": null,
            "bottom": null,
            "_model_module": "@jupyter-widgets/base",
            "top": null,
            "grid_column": null,
            "overflow_y": null,
            "overflow_x": null,
            "grid_auto_flow": null,
            "grid_area": null,
            "grid_template_columns": null,
            "flex": null,
            "_model_name": "LayoutModel",
            "justify_items": null,
            "grid_row": null,
            "max_height": null,
            "align_content": null,
            "visibility": null,
            "align_self": null,
            "height": null,
            "min_height": null,
            "padding": null,
            "grid_auto_rows": null,
            "grid_gap": null,
            "max_width": null,
            "order": null,
            "_view_module_version": "1.2.0",
            "grid_template_areas": null,
            "object_position": null,
            "object_fit": null,
            "grid_auto_columns": null,
            "margin": null,
            "display": null,
            "left": null
          }
        },
        "400f2cd8b7f44a1581ea53ae2033c8be": {
          "model_module": "@jupyter-widgets/controls",
          "model_name": "HBoxModel",
          "model_module_version": "1.5.0",
          "state": {
            "_view_name": "HBoxView",
            "_dom_classes": [],
            "_model_name": "HBoxModel",
            "_view_module": "@jupyter-widgets/controls",
            "_model_module_version": "1.5.0",
            "_view_count": null,
            "_view_module_version": "1.5.0",
            "box_style": "",
            "layout": "IPY_MODEL_458384a840234af98b738d197e9de6b4",
            "_model_module": "@jupyter-widgets/controls",
            "children": [
              "IPY_MODEL_9b6b7fa6de9b4dbd8a233ed945705b94",
              "IPY_MODEL_2c0c9eaf861e41269f59ec180d617078",
              "IPY_MODEL_40ca1f6dbd9b4ed29324169b5c6451de"
            ]
          }
        },
        "458384a840234af98b738d197e9de6b4": {
          "model_module": "@jupyter-widgets/base",
          "model_name": "LayoutModel",
          "model_module_version": "1.2.0",
          "state": {
            "_view_name": "LayoutView",
            "grid_template_rows": null,
            "right": null,
            "justify_content": null,
            "_view_module": "@jupyter-widgets/base",
            "overflow": null,
            "_model_module_version": "1.2.0",
            "_view_count": null,
            "flex_flow": null,
            "width": null,
            "min_width": null,
            "border": null,
            "align_items": null,
            "bottom": null,
            "_model_module": "@jupyter-widgets/base",
            "top": null,
            "grid_column": null,
            "overflow_y": null,
            "overflow_x": null,
            "grid_auto_flow": null,
            "grid_area": null,
            "grid_template_columns": null,
            "flex": null,
            "_model_name": "LayoutModel",
            "justify_items": null,
            "grid_row": null,
            "max_height": null,
            "align_content": null,
            "visibility": null,
            "align_self": null,
            "height": null,
            "min_height": null,
            "padding": null,
            "grid_auto_rows": null,
            "grid_gap": null,
            "max_width": null,
            "order": null,
            "_view_module_version": "1.2.0",
            "grid_template_areas": null,
            "object_position": null,
            "object_fit": null,
            "grid_auto_columns": null,
            "margin": null,
            "display": null,
            "left": null
          }
        },
        "9b6b7fa6de9b4dbd8a233ed945705b94": {
          "model_module": "@jupyter-widgets/controls",
          "model_name": "HTMLModel",
          "model_module_version": "1.5.0",
          "state": {
            "_view_name": "HTMLView",
            "style": "IPY_MODEL_6a4d2cd0e89f4e24b82337f303626e7f",
            "_dom_classes": [],
            "description": "",
            "_model_name": "HTMLModel",
            "placeholder": "​",
            "_view_module": "@jupyter-widgets/controls",
            "_model_module_version": "1.5.0",
            "value": "Downloading: 100%",
            "_view_count": null,
            "_view_module_version": "1.5.0",
            "description_tooltip": null,
            "_model_module": "@jupyter-widgets/controls",
            "layout": "IPY_MODEL_37159cbb76ec4597ae7080fa7de7eb7c"
          }
        },
        "2c0c9eaf861e41269f59ec180d617078": {
          "model_module": "@jupyter-widgets/controls",
          "model_name": "FloatProgressModel",
          "model_module_version": "1.5.0",
          "state": {
            "_view_name": "ProgressView",
            "style": "IPY_MODEL_9b3c54a95f264df1a9131bd7cfffd86d",
            "_dom_classes": [],
            "description": "",
            "_model_name": "FloatProgressModel",
            "bar_style": "success",
            "max": 265486777,
            "_view_module": "@jupyter-widgets/controls",
            "_model_module_version": "1.5.0",
            "value": 265486777,
            "_view_count": null,
            "_view_module_version": "1.5.0",
            "orientation": "horizontal",
            "min": 0,
            "description_tooltip": null,
            "_model_module": "@jupyter-widgets/controls",
            "layout": "IPY_MODEL_567f06d4d01f4f109a5424c492528226"
          }
        },
        "40ca1f6dbd9b4ed29324169b5c6451de": {
          "model_module": "@jupyter-widgets/controls",
          "model_name": "HTMLModel",
          "model_module_version": "1.5.0",
          "state": {
            "_view_name": "HTMLView",
            "style": "IPY_MODEL_f25c5bce630441b69e2f41ff0a639a63",
            "_dom_classes": [],
            "description": "",
            "_model_name": "HTMLModel",
            "placeholder": "​",
            "_view_module": "@jupyter-widgets/controls",
            "_model_module_version": "1.5.0",
            "value": " 265M/265M [00:06&lt;00:00, 41.7MB/s]",
            "_view_count": null,
            "_view_module_version": "1.5.0",
            "description_tooltip": null,
            "_model_module": "@jupyter-widgets/controls",
            "layout": "IPY_MODEL_58acc77097d94b3fb9775e38d1a9a3ad"
          }
        },
        "6a4d2cd0e89f4e24b82337f303626e7f": {
          "model_module": "@jupyter-widgets/controls",
          "model_name": "DescriptionStyleModel",
          "model_module_version": "1.5.0",
          "state": {
            "_view_name": "StyleView",
            "_model_name": "DescriptionStyleModel",
            "description_width": "",
            "_view_module": "@jupyter-widgets/base",
            "_model_module_version": "1.5.0",
            "_view_count": null,
            "_view_module_version": "1.2.0",
            "_model_module": "@jupyter-widgets/controls"
          }
        },
        "37159cbb76ec4597ae7080fa7de7eb7c": {
          "model_module": "@jupyter-widgets/base",
          "model_name": "LayoutModel",
          "model_module_version": "1.2.0",
          "state": {
            "_view_name": "LayoutView",
            "grid_template_rows": null,
            "right": null,
            "justify_content": null,
            "_view_module": "@jupyter-widgets/base",
            "overflow": null,
            "_model_module_version": "1.2.0",
            "_view_count": null,
            "flex_flow": null,
            "width": null,
            "min_width": null,
            "border": null,
            "align_items": null,
            "bottom": null,
            "_model_module": "@jupyter-widgets/base",
            "top": null,
            "grid_column": null,
            "overflow_y": null,
            "overflow_x": null,
            "grid_auto_flow": null,
            "grid_area": null,
            "grid_template_columns": null,
            "flex": null,
            "_model_name": "LayoutModel",
            "justify_items": null,
            "grid_row": null,
            "max_height": null,
            "align_content": null,
            "visibility": null,
            "align_self": null,
            "height": null,
            "min_height": null,
            "padding": null,
            "grid_auto_rows": null,
            "grid_gap": null,
            "max_width": null,
            "order": null,
            "_view_module_version": "1.2.0",
            "grid_template_areas": null,
            "object_position": null,
            "object_fit": null,
            "grid_auto_columns": null,
            "margin": null,
            "display": null,
            "left": null
          }
        },
        "9b3c54a95f264df1a9131bd7cfffd86d": {
          "model_module": "@jupyter-widgets/controls",
          "model_name": "ProgressStyleModel",
          "model_module_version": "1.5.0",
          "state": {
            "_view_name": "StyleView",
            "_model_name": "ProgressStyleModel",
            "description_width": "",
            "_view_module": "@jupyter-widgets/base",
            "_model_module_version": "1.5.0",
            "_view_count": null,
            "_view_module_version": "1.2.0",
            "bar_color": null,
            "_model_module": "@jupyter-widgets/controls"
          }
        },
        "567f06d4d01f4f109a5424c492528226": {
          "model_module": "@jupyter-widgets/base",
          "model_name": "LayoutModel",
          "model_module_version": "1.2.0",
          "state": {
            "_view_name": "LayoutView",
            "grid_template_rows": null,
            "right": null,
            "justify_content": null,
            "_view_module": "@jupyter-widgets/base",
            "overflow": null,
            "_model_module_version": "1.2.0",
            "_view_count": null,
            "flex_flow": null,
            "width": null,
            "min_width": null,
            "border": null,
            "align_items": null,
            "bottom": null,
            "_model_module": "@jupyter-widgets/base",
            "top": null,
            "grid_column": null,
            "overflow_y": null,
            "overflow_x": null,
            "grid_auto_flow": null,
            "grid_area": null,
            "grid_template_columns": null,
            "flex": null,
            "_model_name": "LayoutModel",
            "justify_items": null,
            "grid_row": null,
            "max_height": null,
            "align_content": null,
            "visibility": null,
            "align_self": null,
            "height": null,
            "min_height": null,
            "padding": null,
            "grid_auto_rows": null,
            "grid_gap": null,
            "max_width": null,
            "order": null,
            "_view_module_version": "1.2.0",
            "grid_template_areas": null,
            "object_position": null,
            "object_fit": null,
            "grid_auto_columns": null,
            "margin": null,
            "display": null,
            "left": null
          }
        },
        "f25c5bce630441b69e2f41ff0a639a63": {
          "model_module": "@jupyter-widgets/controls",
          "model_name": "DescriptionStyleModel",
          "model_module_version": "1.5.0",
          "state": {
            "_view_name": "StyleView",
            "_model_name": "DescriptionStyleModel",
            "description_width": "",
            "_view_module": "@jupyter-widgets/base",
            "_model_module_version": "1.5.0",
            "_view_count": null,
            "_view_module_version": "1.2.0",
            "_model_module": "@jupyter-widgets/controls"
          }
        },
        "58acc77097d94b3fb9775e38d1a9a3ad": {
          "model_module": "@jupyter-widgets/base",
          "model_name": "LayoutModel",
          "model_module_version": "1.2.0",
          "state": {
            "_view_name": "LayoutView",
            "grid_template_rows": null,
            "right": null,
            "justify_content": null,
            "_view_module": "@jupyter-widgets/base",
            "overflow": null,
            "_model_module_version": "1.2.0",
            "_view_count": null,
            "flex_flow": null,
            "width": null,
            "min_width": null,
            "border": null,
            "align_items": null,
            "bottom": null,
            "_model_module": "@jupyter-widgets/base",
            "top": null,
            "grid_column": null,
            "overflow_y": null,
            "overflow_x": null,
            "grid_auto_flow": null,
            "grid_area": null,
            "grid_template_columns": null,
            "flex": null,
            "_model_name": "LayoutModel",
            "justify_items": null,
            "grid_row": null,
            "max_height": null,
            "align_content": null,
            "visibility": null,
            "align_self": null,
            "height": null,
            "min_height": null,
            "padding": null,
            "grid_auto_rows": null,
            "grid_gap": null,
            "max_width": null,
            "order": null,
            "_view_module_version": "1.2.0",
            "grid_template_areas": null,
            "object_position": null,
            "object_fit": null,
            "grid_auto_columns": null,
            "margin": null,
            "display": null,
            "left": null
          }
        },
        "7107b133730d411b871efad952891e40": {
          "model_module": "@jupyter-widgets/controls",
          "model_name": "HBoxModel",
          "model_module_version": "1.5.0",
          "state": {
            "_view_name": "HBoxView",
            "_dom_classes": [],
            "_model_name": "HBoxModel",
            "_view_module": "@jupyter-widgets/controls",
            "_model_module_version": "1.5.0",
            "_view_count": null,
            "_view_module_version": "1.5.0",
            "box_style": "",
            "layout": "IPY_MODEL_3c279a7c91ca45caa4bfd416d7dbb786",
            "_model_module": "@jupyter-widgets/controls",
            "children": [
              "IPY_MODEL_22a24855042149fc8da22010fa10fc47",
              "IPY_MODEL_15dea8c265c040c4bd3b432473ef9e09",
              "IPY_MODEL_ae435fe391e84214874a02b0591cf1ad"
            ]
          }
        },
        "3c279a7c91ca45caa4bfd416d7dbb786": {
          "model_module": "@jupyter-widgets/base",
          "model_name": "LayoutModel",
          "model_module_version": "1.2.0",
          "state": {
            "_view_name": "LayoutView",
            "grid_template_rows": null,
            "right": null,
            "justify_content": null,
            "_view_module": "@jupyter-widgets/base",
            "overflow": null,
            "_model_module_version": "1.2.0",
            "_view_count": null,
            "flex_flow": null,
            "width": null,
            "min_width": null,
            "border": null,
            "align_items": null,
            "bottom": null,
            "_model_module": "@jupyter-widgets/base",
            "top": null,
            "grid_column": null,
            "overflow_y": null,
            "overflow_x": null,
            "grid_auto_flow": null,
            "grid_area": null,
            "grid_template_columns": null,
            "flex": null,
            "_model_name": "LayoutModel",
            "justify_items": null,
            "grid_row": null,
            "max_height": null,
            "align_content": null,
            "visibility": null,
            "align_self": null,
            "height": null,
            "min_height": null,
            "padding": null,
            "grid_auto_rows": null,
            "grid_gap": null,
            "max_width": null,
            "order": null,
            "_view_module_version": "1.2.0",
            "grid_template_areas": null,
            "object_position": null,
            "object_fit": null,
            "grid_auto_columns": null,
            "margin": null,
            "display": null,
            "left": null
          }
        },
        "22a24855042149fc8da22010fa10fc47": {
          "model_module": "@jupyter-widgets/controls",
          "model_name": "HTMLModel",
          "model_module_version": "1.5.0",
          "state": {
            "_view_name": "HTMLView",
            "style": "IPY_MODEL_f8b938217384434a8d6061e695e57c71",
            "_dom_classes": [],
            "description": "",
            "_model_name": "HTMLModel",
            "placeholder": "​",
            "_view_module": "@jupyter-widgets/controls",
            "_model_module_version": "1.5.0",
            "value": "Downloading: 100%",
            "_view_count": null,
            "_view_module_version": "1.5.0",
            "description_tooltip": null,
            "_model_module": "@jupyter-widgets/controls",
            "layout": "IPY_MODEL_dd723e67c62d439d877da372e425cdd0"
          }
        },
        "15dea8c265c040c4bd3b432473ef9e09": {
          "model_module": "@jupyter-widgets/controls",
          "model_name": "FloatProgressModel",
          "model_module_version": "1.5.0",
          "state": {
            "_view_name": "ProgressView",
            "style": "IPY_MODEL_330ba8fafb164f91a48587e51c48dc32",
            "_dom_classes": [],
            "description": "",
            "_model_name": "FloatProgressModel",
            "bar_style": "success",
            "max": 53,
            "_view_module": "@jupyter-widgets/controls",
            "_model_module_version": "1.5.0",
            "value": 53,
            "_view_count": null,
            "_view_module_version": "1.5.0",
            "orientation": "horizontal",
            "min": 0,
            "description_tooltip": null,
            "_model_module": "@jupyter-widgets/controls",
            "layout": "IPY_MODEL_7f1cb1243b1048bc87b2bd6a76342d43"
          }
        },
        "ae435fe391e84214874a02b0591cf1ad": {
          "model_module": "@jupyter-widgets/controls",
          "model_name": "HTMLModel",
          "model_module_version": "1.5.0",
          "state": {
            "_view_name": "HTMLView",
            "style": "IPY_MODEL_81b05c17309d4e2090c0aba5d8cb2a4e",
            "_dom_classes": [],
            "description": "",
            "_model_name": "HTMLModel",
            "placeholder": "​",
            "_view_module": "@jupyter-widgets/controls",
            "_model_module_version": "1.5.0",
            "value": " 53.0/53.0 [00:00&lt;00:00, 1.19kB/s]",
            "_view_count": null,
            "_view_module_version": "1.5.0",
            "description_tooltip": null,
            "_model_module": "@jupyter-widgets/controls",
            "layout": "IPY_MODEL_cb449ad9d5a542af9eb399e1b363c46e"
          }
        },
        "f8b938217384434a8d6061e695e57c71": {
          "model_module": "@jupyter-widgets/controls",
          "model_name": "DescriptionStyleModel",
          "model_module_version": "1.5.0",
          "state": {
            "_view_name": "StyleView",
            "_model_name": "DescriptionStyleModel",
            "description_width": "",
            "_view_module": "@jupyter-widgets/base",
            "_model_module_version": "1.5.0",
            "_view_count": null,
            "_view_module_version": "1.2.0",
            "_model_module": "@jupyter-widgets/controls"
          }
        },
        "dd723e67c62d439d877da372e425cdd0": {
          "model_module": "@jupyter-widgets/base",
          "model_name": "LayoutModel",
          "model_module_version": "1.2.0",
          "state": {
            "_view_name": "LayoutView",
            "grid_template_rows": null,
            "right": null,
            "justify_content": null,
            "_view_module": "@jupyter-widgets/base",
            "overflow": null,
            "_model_module_version": "1.2.0",
            "_view_count": null,
            "flex_flow": null,
            "width": null,
            "min_width": null,
            "border": null,
            "align_items": null,
            "bottom": null,
            "_model_module": "@jupyter-widgets/base",
            "top": null,
            "grid_column": null,
            "overflow_y": null,
            "overflow_x": null,
            "grid_auto_flow": null,
            "grid_area": null,
            "grid_template_columns": null,
            "flex": null,
            "_model_name": "LayoutModel",
            "justify_items": null,
            "grid_row": null,
            "max_height": null,
            "align_content": null,
            "visibility": null,
            "align_self": null,
            "height": null,
            "min_height": null,
            "padding": null,
            "grid_auto_rows": null,
            "grid_gap": null,
            "max_width": null,
            "order": null,
            "_view_module_version": "1.2.0",
            "grid_template_areas": null,
            "object_position": null,
            "object_fit": null,
            "grid_auto_columns": null,
            "margin": null,
            "display": null,
            "left": null
          }
        },
        "330ba8fafb164f91a48587e51c48dc32": {
          "model_module": "@jupyter-widgets/controls",
          "model_name": "ProgressStyleModel",
          "model_module_version": "1.5.0",
          "state": {
            "_view_name": "StyleView",
            "_model_name": "ProgressStyleModel",
            "description_width": "",
            "_view_module": "@jupyter-widgets/base",
            "_model_module_version": "1.5.0",
            "_view_count": null,
            "_view_module_version": "1.2.0",
            "bar_color": null,
            "_model_module": "@jupyter-widgets/controls"
          }
        },
        "7f1cb1243b1048bc87b2bd6a76342d43": {
          "model_module": "@jupyter-widgets/base",
          "model_name": "LayoutModel",
          "model_module_version": "1.2.0",
          "state": {
            "_view_name": "LayoutView",
            "grid_template_rows": null,
            "right": null,
            "justify_content": null,
            "_view_module": "@jupyter-widgets/base",
            "overflow": null,
            "_model_module_version": "1.2.0",
            "_view_count": null,
            "flex_flow": null,
            "width": null,
            "min_width": null,
            "border": null,
            "align_items": null,
            "bottom": null,
            "_model_module": "@jupyter-widgets/base",
            "top": null,
            "grid_column": null,
            "overflow_y": null,
            "overflow_x": null,
            "grid_auto_flow": null,
            "grid_area": null,
            "grid_template_columns": null,
            "flex": null,
            "_model_name": "LayoutModel",
            "justify_items": null,
            "grid_row": null,
            "max_height": null,
            "align_content": null,
            "visibility": null,
            "align_self": null,
            "height": null,
            "min_height": null,
            "padding": null,
            "grid_auto_rows": null,
            "grid_gap": null,
            "max_width": null,
            "order": null,
            "_view_module_version": "1.2.0",
            "grid_template_areas": null,
            "object_position": null,
            "object_fit": null,
            "grid_auto_columns": null,
            "margin": null,
            "display": null,
            "left": null
          }
        },
        "81b05c17309d4e2090c0aba5d8cb2a4e": {
          "model_module": "@jupyter-widgets/controls",
          "model_name": "DescriptionStyleModel",
          "model_module_version": "1.5.0",
          "state": {
            "_view_name": "StyleView",
            "_model_name": "DescriptionStyleModel",
            "description_width": "",
            "_view_module": "@jupyter-widgets/base",
            "_model_module_version": "1.5.0",
            "_view_count": null,
            "_view_module_version": "1.2.0",
            "_model_module": "@jupyter-widgets/controls"
          }
        },
        "cb449ad9d5a542af9eb399e1b363c46e": {
          "model_module": "@jupyter-widgets/base",
          "model_name": "LayoutModel",
          "model_module_version": "1.2.0",
          "state": {
            "_view_name": "LayoutView",
            "grid_template_rows": null,
            "right": null,
            "justify_content": null,
            "_view_module": "@jupyter-widgets/base",
            "overflow": null,
            "_model_module_version": "1.2.0",
            "_view_count": null,
            "flex_flow": null,
            "width": null,
            "min_width": null,
            "border": null,
            "align_items": null,
            "bottom": null,
            "_model_module": "@jupyter-widgets/base",
            "top": null,
            "grid_column": null,
            "overflow_y": null,
            "overflow_x": null,
            "grid_auto_flow": null,
            "grid_area": null,
            "grid_template_columns": null,
            "flex": null,
            "_model_name": "LayoutModel",
            "justify_items": null,
            "grid_row": null,
            "max_height": null,
            "align_content": null,
            "visibility": null,
            "align_self": null,
            "height": null,
            "min_height": null,
            "padding": null,
            "grid_auto_rows": null,
            "grid_gap": null,
            "max_width": null,
            "order": null,
            "_view_module_version": "1.2.0",
            "grid_template_areas": null,
            "object_position": null,
            "object_fit": null,
            "grid_auto_columns": null,
            "margin": null,
            "display": null,
            "left": null
          }
        },
        "9e3ac071fd7a42b684845cdac580599f": {
          "model_module": "@jupyter-widgets/controls",
          "model_name": "HBoxModel",
          "model_module_version": "1.5.0",
          "state": {
            "_view_name": "HBoxView",
            "_dom_classes": [],
            "_model_name": "HBoxModel",
            "_view_module": "@jupyter-widgets/controls",
            "_model_module_version": "1.5.0",
            "_view_count": null,
            "_view_module_version": "1.5.0",
            "box_style": "",
            "layout": "IPY_MODEL_b8cdb9697c08460eb23c537a7f64f6b3",
            "_model_module": "@jupyter-widgets/controls",
            "children": [
              "IPY_MODEL_a2027152aa10438a8471035ced62b366",
              "IPY_MODEL_46db5bfe969a4622821e80991702e554",
              "IPY_MODEL_1e19ef181a4349c2b9a71d95758ee551"
            ]
          }
        },
        "b8cdb9697c08460eb23c537a7f64f6b3": {
          "model_module": "@jupyter-widgets/base",
          "model_name": "LayoutModel",
          "model_module_version": "1.2.0",
          "state": {
            "_view_name": "LayoutView",
            "grid_template_rows": null,
            "right": null,
            "justify_content": null,
            "_view_module": "@jupyter-widgets/base",
            "overflow": null,
            "_model_module_version": "1.2.0",
            "_view_count": null,
            "flex_flow": null,
            "width": null,
            "min_width": null,
            "border": null,
            "align_items": null,
            "bottom": null,
            "_model_module": "@jupyter-widgets/base",
            "top": null,
            "grid_column": null,
            "overflow_y": null,
            "overflow_x": null,
            "grid_auto_flow": null,
            "grid_area": null,
            "grid_template_columns": null,
            "flex": null,
            "_model_name": "LayoutModel",
            "justify_items": null,
            "grid_row": null,
            "max_height": null,
            "align_content": null,
            "visibility": null,
            "align_self": null,
            "height": null,
            "min_height": null,
            "padding": null,
            "grid_auto_rows": null,
            "grid_gap": null,
            "max_width": null,
            "order": null,
            "_view_module_version": "1.2.0",
            "grid_template_areas": null,
            "object_position": null,
            "object_fit": null,
            "grid_auto_columns": null,
            "margin": null,
            "display": null,
            "left": null
          }
        },
        "a2027152aa10438a8471035ced62b366": {
          "model_module": "@jupyter-widgets/controls",
          "model_name": "HTMLModel",
          "model_module_version": "1.5.0",
          "state": {
            "_view_name": "HTMLView",
            "style": "IPY_MODEL_3cd532c6a8b54179b17953014974022f",
            "_dom_classes": [],
            "description": "",
            "_model_name": "HTMLModel",
            "placeholder": "​",
            "_view_module": "@jupyter-widgets/controls",
            "_model_module_version": "1.5.0",
            "value": "Downloading: 100%",
            "_view_count": null,
            "_view_module_version": "1.5.0",
            "description_tooltip": null,
            "_model_module": "@jupyter-widgets/controls",
            "layout": "IPY_MODEL_04ad41284ce2458bb2df821641f9901b"
          }
        },
        "46db5bfe969a4622821e80991702e554": {
          "model_module": "@jupyter-widgets/controls",
          "model_name": "FloatProgressModel",
          "model_module_version": "1.5.0",
          "state": {
            "_view_name": "ProgressView",
            "style": "IPY_MODEL_df14c137494f458398072ad83c4fd147",
            "_dom_classes": [],
            "description": "",
            "_model_name": "FloatProgressModel",
            "bar_style": "success",
            "max": 112,
            "_view_module": "@jupyter-widgets/controls",
            "_model_module_version": "1.5.0",
            "value": 112,
            "_view_count": null,
            "_view_module_version": "1.5.0",
            "orientation": "horizontal",
            "min": 0,
            "description_tooltip": null,
            "_model_module": "@jupyter-widgets/controls",
            "layout": "IPY_MODEL_c7f74184f8b44d048601a51381f47ead"
          }
        },
        "1e19ef181a4349c2b9a71d95758ee551": {
          "model_module": "@jupyter-widgets/controls",
          "model_name": "HTMLModel",
          "model_module_version": "1.5.0",
          "state": {
            "_view_name": "HTMLView",
            "style": "IPY_MODEL_704ed70ddb9a466596dcb68b74f5f325",
            "_dom_classes": [],
            "description": "",
            "_model_name": "HTMLModel",
            "placeholder": "​",
            "_view_module": "@jupyter-widgets/controls",
            "_model_module_version": "1.5.0",
            "value": " 112/112 [00:00&lt;00:00, 2.01kB/s]",
            "_view_count": null,
            "_view_module_version": "1.5.0",
            "description_tooltip": null,
            "_model_module": "@jupyter-widgets/controls",
            "layout": "IPY_MODEL_df6a80cc7b8240fc9b8c8df92e3fc0e8"
          }
        },
        "3cd532c6a8b54179b17953014974022f": {
          "model_module": "@jupyter-widgets/controls",
          "model_name": "DescriptionStyleModel",
          "model_module_version": "1.5.0",
          "state": {
            "_view_name": "StyleView",
            "_model_name": "DescriptionStyleModel",
            "description_width": "",
            "_view_module": "@jupyter-widgets/base",
            "_model_module_version": "1.5.0",
            "_view_count": null,
            "_view_module_version": "1.2.0",
            "_model_module": "@jupyter-widgets/controls"
          }
        },
        "04ad41284ce2458bb2df821641f9901b": {
          "model_module": "@jupyter-widgets/base",
          "model_name": "LayoutModel",
          "model_module_version": "1.2.0",
          "state": {
            "_view_name": "LayoutView",
            "grid_template_rows": null,
            "right": null,
            "justify_content": null,
            "_view_module": "@jupyter-widgets/base",
            "overflow": null,
            "_model_module_version": "1.2.0",
            "_view_count": null,
            "flex_flow": null,
            "width": null,
            "min_width": null,
            "border": null,
            "align_items": null,
            "bottom": null,
            "_model_module": "@jupyter-widgets/base",
            "top": null,
            "grid_column": null,
            "overflow_y": null,
            "overflow_x": null,
            "grid_auto_flow": null,
            "grid_area": null,
            "grid_template_columns": null,
            "flex": null,
            "_model_name": "LayoutModel",
            "justify_items": null,
            "grid_row": null,
            "max_height": null,
            "align_content": null,
            "visibility": null,
            "align_self": null,
            "height": null,
            "min_height": null,
            "padding": null,
            "grid_auto_rows": null,
            "grid_gap": null,
            "max_width": null,
            "order": null,
            "_view_module_version": "1.2.0",
            "grid_template_areas": null,
            "object_position": null,
            "object_fit": null,
            "grid_auto_columns": null,
            "margin": null,
            "display": null,
            "left": null
          }
        },
        "df14c137494f458398072ad83c4fd147": {
          "model_module": "@jupyter-widgets/controls",
          "model_name": "ProgressStyleModel",
          "model_module_version": "1.5.0",
          "state": {
            "_view_name": "StyleView",
            "_model_name": "ProgressStyleModel",
            "description_width": "",
            "_view_module": "@jupyter-widgets/base",
            "_model_module_version": "1.5.0",
            "_view_count": null,
            "_view_module_version": "1.2.0",
            "bar_color": null,
            "_model_module": "@jupyter-widgets/controls"
          }
        },
        "c7f74184f8b44d048601a51381f47ead": {
          "model_module": "@jupyter-widgets/base",
          "model_name": "LayoutModel",
          "model_module_version": "1.2.0",
          "state": {
            "_view_name": "LayoutView",
            "grid_template_rows": null,
            "right": null,
            "justify_content": null,
            "_view_module": "@jupyter-widgets/base",
            "overflow": null,
            "_model_module_version": "1.2.0",
            "_view_count": null,
            "flex_flow": null,
            "width": null,
            "min_width": null,
            "border": null,
            "align_items": null,
            "bottom": null,
            "_model_module": "@jupyter-widgets/base",
            "top": null,
            "grid_column": null,
            "overflow_y": null,
            "overflow_x": null,
            "grid_auto_flow": null,
            "grid_area": null,
            "grid_template_columns": null,
            "flex": null,
            "_model_name": "LayoutModel",
            "justify_items": null,
            "grid_row": null,
            "max_height": null,
            "align_content": null,
            "visibility": null,
            "align_self": null,
            "height": null,
            "min_height": null,
            "padding": null,
            "grid_auto_rows": null,
            "grid_gap": null,
            "max_width": null,
            "order": null,
            "_view_module_version": "1.2.0",
            "grid_template_areas": null,
            "object_position": null,
            "object_fit": null,
            "grid_auto_columns": null,
            "margin": null,
            "display": null,
            "left": null
          }
        },
        "704ed70ddb9a466596dcb68b74f5f325": {
          "model_module": "@jupyter-widgets/controls",
          "model_name": "DescriptionStyleModel",
          "model_module_version": "1.5.0",
          "state": {
            "_view_name": "StyleView",
            "_model_name": "DescriptionStyleModel",
            "description_width": "",
            "_view_module": "@jupyter-widgets/base",
            "_model_module_version": "1.5.0",
            "_view_count": null,
            "_view_module_version": "1.2.0",
            "_model_module": "@jupyter-widgets/controls"
          }
        },
        "df6a80cc7b8240fc9b8c8df92e3fc0e8": {
          "model_module": "@jupyter-widgets/base",
          "model_name": "LayoutModel",
          "model_module_version": "1.2.0",
          "state": {
            "_view_name": "LayoutView",
            "grid_template_rows": null,
            "right": null,
            "justify_content": null,
            "_view_module": "@jupyter-widgets/base",
            "overflow": null,
            "_model_module_version": "1.2.0",
            "_view_count": null,
            "flex_flow": null,
            "width": null,
            "min_width": null,
            "border": null,
            "align_items": null,
            "bottom": null,
            "_model_module": "@jupyter-widgets/base",
            "top": null,
            "grid_column": null,
            "overflow_y": null,
            "overflow_x": null,
            "grid_auto_flow": null,
            "grid_area": null,
            "grid_template_columns": null,
            "flex": null,
            "_model_name": "LayoutModel",
            "justify_items": null,
            "grid_row": null,
            "max_height": null,
            "align_content": null,
            "visibility": null,
            "align_self": null,
            "height": null,
            "min_height": null,
            "padding": null,
            "grid_auto_rows": null,
            "grid_gap": null,
            "max_width": null,
            "order": null,
            "_view_module_version": "1.2.0",
            "grid_template_areas": null,
            "object_position": null,
            "object_fit": null,
            "grid_auto_columns": null,
            "margin": null,
            "display": null,
            "left": null
          }
        },
        "6226123cc05b4d85be7e57575a08861f": {
          "model_module": "@jupyter-widgets/controls",
          "model_name": "HBoxModel",
          "model_module_version": "1.5.0",
          "state": {
            "_view_name": "HBoxView",
            "_dom_classes": [],
            "_model_name": "HBoxModel",
            "_view_module": "@jupyter-widgets/controls",
            "_model_module_version": "1.5.0",
            "_view_count": null,
            "_view_module_version": "1.5.0",
            "box_style": "",
            "layout": "IPY_MODEL_1b7bc6994dbf4858a8bd809cbcb6be21",
            "_model_module": "@jupyter-widgets/controls",
            "children": [
              "IPY_MODEL_0be1fd65c10f41ff85e03bdadff5ab47",
              "IPY_MODEL_40e4eb2004f443acb66c5d6460add0c5",
              "IPY_MODEL_cb7771baca4642d3a939467ecd4cacae"
            ]
          }
        },
        "1b7bc6994dbf4858a8bd809cbcb6be21": {
          "model_module": "@jupyter-widgets/base",
          "model_name": "LayoutModel",
          "model_module_version": "1.2.0",
          "state": {
            "_view_name": "LayoutView",
            "grid_template_rows": null,
            "right": null,
            "justify_content": null,
            "_view_module": "@jupyter-widgets/base",
            "overflow": null,
            "_model_module_version": "1.2.0",
            "_view_count": null,
            "flex_flow": null,
            "width": null,
            "min_width": null,
            "border": null,
            "align_items": null,
            "bottom": null,
            "_model_module": "@jupyter-widgets/base",
            "top": null,
            "grid_column": null,
            "overflow_y": null,
            "overflow_x": null,
            "grid_auto_flow": null,
            "grid_area": null,
            "grid_template_columns": null,
            "flex": null,
            "_model_name": "LayoutModel",
            "justify_items": null,
            "grid_row": null,
            "max_height": null,
            "align_content": null,
            "visibility": null,
            "align_self": null,
            "height": null,
            "min_height": null,
            "padding": null,
            "grid_auto_rows": null,
            "grid_gap": null,
            "max_width": null,
            "order": null,
            "_view_module_version": "1.2.0",
            "grid_template_areas": null,
            "object_position": null,
            "object_fit": null,
            "grid_auto_columns": null,
            "margin": null,
            "display": null,
            "left": null
          }
        },
        "0be1fd65c10f41ff85e03bdadff5ab47": {
          "model_module": "@jupyter-widgets/controls",
          "model_name": "HTMLModel",
          "model_module_version": "1.5.0",
          "state": {
            "_view_name": "HTMLView",
            "style": "IPY_MODEL_4f8bbfe686a241b4bb063a36f163bbbb",
            "_dom_classes": [],
            "description": "",
            "_model_name": "HTMLModel",
            "placeholder": "​",
            "_view_module": "@jupyter-widgets/controls",
            "_model_module_version": "1.5.0",
            "value": "Downloading: 100%",
            "_view_count": null,
            "_view_module_version": "1.5.0",
            "description_tooltip": null,
            "_model_module": "@jupyter-widgets/controls",
            "layout": "IPY_MODEL_651318c5b2db45c087baad987dd1fdec"
          }
        },
        "40e4eb2004f443acb66c5d6460add0c5": {
          "model_module": "@jupyter-widgets/controls",
          "model_name": "FloatProgressModel",
          "model_module_version": "1.5.0",
          "state": {
            "_view_name": "ProgressView",
            "style": "IPY_MODEL_33c1fb0cdc654d82ba46778143f8e755",
            "_dom_classes": [],
            "description": "",
            "_model_name": "FloatProgressModel",
            "bar_style": "success",
            "max": 466081,
            "_view_module": "@jupyter-widgets/controls",
            "_model_module_version": "1.5.0",
            "value": 466081,
            "_view_count": null,
            "_view_module_version": "1.5.0",
            "orientation": "horizontal",
            "min": 0,
            "description_tooltip": null,
            "_model_module": "@jupyter-widgets/controls",
            "layout": "IPY_MODEL_5ad21f030b5f4fa987e12afcf476b1fd"
          }
        },
        "cb7771baca4642d3a939467ecd4cacae": {
          "model_module": "@jupyter-widgets/controls",
          "model_name": "HTMLModel",
          "model_module_version": "1.5.0",
          "state": {
            "_view_name": "HTMLView",
            "style": "IPY_MODEL_108f7c3b723d4e68bc5087f08c00821b",
            "_dom_classes": [],
            "description": "",
            "_model_name": "HTMLModel",
            "placeholder": "​",
            "_view_module": "@jupyter-widgets/controls",
            "_model_module_version": "1.5.0",
            "value": " 466k/466k [00:00&lt;00:00, 2.75MB/s]",
            "_view_count": null,
            "_view_module_version": "1.5.0",
            "description_tooltip": null,
            "_model_module": "@jupyter-widgets/controls",
            "layout": "IPY_MODEL_50e1674abc46432d8c4572b40e43259c"
          }
        },
        "4f8bbfe686a241b4bb063a36f163bbbb": {
          "model_module": "@jupyter-widgets/controls",
          "model_name": "DescriptionStyleModel",
          "model_module_version": "1.5.0",
          "state": {
            "_view_name": "StyleView",
            "_model_name": "DescriptionStyleModel",
            "description_width": "",
            "_view_module": "@jupyter-widgets/base",
            "_model_module_version": "1.5.0",
            "_view_count": null,
            "_view_module_version": "1.2.0",
            "_model_module": "@jupyter-widgets/controls"
          }
        },
        "651318c5b2db45c087baad987dd1fdec": {
          "model_module": "@jupyter-widgets/base",
          "model_name": "LayoutModel",
          "model_module_version": "1.2.0",
          "state": {
            "_view_name": "LayoutView",
            "grid_template_rows": null,
            "right": null,
            "justify_content": null,
            "_view_module": "@jupyter-widgets/base",
            "overflow": null,
            "_model_module_version": "1.2.0",
            "_view_count": null,
            "flex_flow": null,
            "width": null,
            "min_width": null,
            "border": null,
            "align_items": null,
            "bottom": null,
            "_model_module": "@jupyter-widgets/base",
            "top": null,
            "grid_column": null,
            "overflow_y": null,
            "overflow_x": null,
            "grid_auto_flow": null,
            "grid_area": null,
            "grid_template_columns": null,
            "flex": null,
            "_model_name": "LayoutModel",
            "justify_items": null,
            "grid_row": null,
            "max_height": null,
            "align_content": null,
            "visibility": null,
            "align_self": null,
            "height": null,
            "min_height": null,
            "padding": null,
            "grid_auto_rows": null,
            "grid_gap": null,
            "max_width": null,
            "order": null,
            "_view_module_version": "1.2.0",
            "grid_template_areas": null,
            "object_position": null,
            "object_fit": null,
            "grid_auto_columns": null,
            "margin": null,
            "display": null,
            "left": null
          }
        },
        "33c1fb0cdc654d82ba46778143f8e755": {
          "model_module": "@jupyter-widgets/controls",
          "model_name": "ProgressStyleModel",
          "model_module_version": "1.5.0",
          "state": {
            "_view_name": "StyleView",
            "_model_name": "ProgressStyleModel",
            "description_width": "",
            "_view_module": "@jupyter-widgets/base",
            "_model_module_version": "1.5.0",
            "_view_count": null,
            "_view_module_version": "1.2.0",
            "bar_color": null,
            "_model_module": "@jupyter-widgets/controls"
          }
        },
        "5ad21f030b5f4fa987e12afcf476b1fd": {
          "model_module": "@jupyter-widgets/base",
          "model_name": "LayoutModel",
          "model_module_version": "1.2.0",
          "state": {
            "_view_name": "LayoutView",
            "grid_template_rows": null,
            "right": null,
            "justify_content": null,
            "_view_module": "@jupyter-widgets/base",
            "overflow": null,
            "_model_module_version": "1.2.0",
            "_view_count": null,
            "flex_flow": null,
            "width": null,
            "min_width": null,
            "border": null,
            "align_items": null,
            "bottom": null,
            "_model_module": "@jupyter-widgets/base",
            "top": null,
            "grid_column": null,
            "overflow_y": null,
            "overflow_x": null,
            "grid_auto_flow": null,
            "grid_area": null,
            "grid_template_columns": null,
            "flex": null,
            "_model_name": "LayoutModel",
            "justify_items": null,
            "grid_row": null,
            "max_height": null,
            "align_content": null,
            "visibility": null,
            "align_self": null,
            "height": null,
            "min_height": null,
            "padding": null,
            "grid_auto_rows": null,
            "grid_gap": null,
            "max_width": null,
            "order": null,
            "_view_module_version": "1.2.0",
            "grid_template_areas": null,
            "object_position": null,
            "object_fit": null,
            "grid_auto_columns": null,
            "margin": null,
            "display": null,
            "left": null
          }
        },
        "108f7c3b723d4e68bc5087f08c00821b": {
          "model_module": "@jupyter-widgets/controls",
          "model_name": "DescriptionStyleModel",
          "model_module_version": "1.5.0",
          "state": {
            "_view_name": "StyleView",
            "_model_name": "DescriptionStyleModel",
            "description_width": "",
            "_view_module": "@jupyter-widgets/base",
            "_model_module_version": "1.5.0",
            "_view_count": null,
            "_view_module_version": "1.2.0",
            "_model_module": "@jupyter-widgets/controls"
          }
        },
        "50e1674abc46432d8c4572b40e43259c": {
          "model_module": "@jupyter-widgets/base",
          "model_name": "LayoutModel",
          "model_module_version": "1.2.0",
          "state": {
            "_view_name": "LayoutView",
            "grid_template_rows": null,
            "right": null,
            "justify_content": null,
            "_view_module": "@jupyter-widgets/base",
            "overflow": null,
            "_model_module_version": "1.2.0",
            "_view_count": null,
            "flex_flow": null,
            "width": null,
            "min_width": null,
            "border": null,
            "align_items": null,
            "bottom": null,
            "_model_module": "@jupyter-widgets/base",
            "top": null,
            "grid_column": null,
            "overflow_y": null,
            "overflow_x": null,
            "grid_auto_flow": null,
            "grid_area": null,
            "grid_template_columns": null,
            "flex": null,
            "_model_name": "LayoutModel",
            "justify_items": null,
            "grid_row": null,
            "max_height": null,
            "align_content": null,
            "visibility": null,
            "align_self": null,
            "height": null,
            "min_height": null,
            "padding": null,
            "grid_auto_rows": null,
            "grid_gap": null,
            "max_width": null,
            "order": null,
            "_view_module_version": "1.2.0",
            "grid_template_areas": null,
            "object_position": null,
            "object_fit": null,
            "grid_auto_columns": null,
            "margin": null,
            "display": null,
            "left": null
          }
        },
        "be7aff0146414ba6a6cbf51f301291c1": {
          "model_module": "@jupyter-widgets/controls",
          "model_name": "HBoxModel",
          "model_module_version": "1.5.0",
          "state": {
            "_view_name": "HBoxView",
            "_dom_classes": [],
            "_model_name": "HBoxModel",
            "_view_module": "@jupyter-widgets/controls",
            "_model_module_version": "1.5.0",
            "_view_count": null,
            "_view_module_version": "1.5.0",
            "box_style": "",
            "layout": "IPY_MODEL_017ae500419c49a7a93ac4cc5c64c8bf",
            "_model_module": "@jupyter-widgets/controls",
            "children": [
              "IPY_MODEL_5557f8b685804985b33c8e96c6b30a13",
              "IPY_MODEL_b236afe414534e6b999930e2fe40c1f6",
              "IPY_MODEL_3392799ba9c24a6c8c6126d795c8aded"
            ]
          }
        },
        "017ae500419c49a7a93ac4cc5c64c8bf": {
          "model_module": "@jupyter-widgets/base",
          "model_name": "LayoutModel",
          "model_module_version": "1.2.0",
          "state": {
            "_view_name": "LayoutView",
            "grid_template_rows": null,
            "right": null,
            "justify_content": null,
            "_view_module": "@jupyter-widgets/base",
            "overflow": null,
            "_model_module_version": "1.2.0",
            "_view_count": null,
            "flex_flow": null,
            "width": null,
            "min_width": null,
            "border": null,
            "align_items": null,
            "bottom": null,
            "_model_module": "@jupyter-widgets/base",
            "top": null,
            "grid_column": null,
            "overflow_y": null,
            "overflow_x": null,
            "grid_auto_flow": null,
            "grid_area": null,
            "grid_template_columns": null,
            "flex": null,
            "_model_name": "LayoutModel",
            "justify_items": null,
            "grid_row": null,
            "max_height": null,
            "align_content": null,
            "visibility": null,
            "align_self": null,
            "height": null,
            "min_height": null,
            "padding": null,
            "grid_auto_rows": null,
            "grid_gap": null,
            "max_width": null,
            "order": null,
            "_view_module_version": "1.2.0",
            "grid_template_areas": null,
            "object_position": null,
            "object_fit": null,
            "grid_auto_columns": null,
            "margin": null,
            "display": null,
            "left": null
          }
        },
        "5557f8b685804985b33c8e96c6b30a13": {
          "model_module": "@jupyter-widgets/controls",
          "model_name": "HTMLModel",
          "model_module_version": "1.5.0",
          "state": {
            "_view_name": "HTMLView",
            "style": "IPY_MODEL_a60388662a4a42fb84a9ab321203580f",
            "_dom_classes": [],
            "description": "",
            "_model_name": "HTMLModel",
            "placeholder": "​",
            "_view_module": "@jupyter-widgets/controls",
            "_model_module_version": "1.5.0",
            "value": "Downloading: 100%",
            "_view_count": null,
            "_view_module_version": "1.5.0",
            "description_tooltip": null,
            "_model_module": "@jupyter-widgets/controls",
            "layout": "IPY_MODEL_78cb4bb8c14e49e29a1df263874e6cd2"
          }
        },
        "b236afe414534e6b999930e2fe40c1f6": {
          "model_module": "@jupyter-widgets/controls",
          "model_name": "FloatProgressModel",
          "model_module_version": "1.5.0",
          "state": {
            "_view_name": "ProgressView",
            "style": "IPY_MODEL_db7f9050bc2f41d0b625a21b82cdda94",
            "_dom_classes": [],
            "description": "",
            "_model_name": "FloatProgressModel",
            "bar_style": "success",
            "max": 450,
            "_view_module": "@jupyter-widgets/controls",
            "_model_module_version": "1.5.0",
            "value": 450,
            "_view_count": null,
            "_view_module_version": "1.5.0",
            "orientation": "horizontal",
            "min": 0,
            "description_tooltip": null,
            "_model_module": "@jupyter-widgets/controls",
            "layout": "IPY_MODEL_19a32dc00a7f4ca4bcbaa1e6b8287fe2"
          }
        },
        "3392799ba9c24a6c8c6126d795c8aded": {
          "model_module": "@jupyter-widgets/controls",
          "model_name": "HTMLModel",
          "model_module_version": "1.5.0",
          "state": {
            "_view_name": "HTMLView",
            "style": "IPY_MODEL_f9f3f2522750499d9c302d2016cdcba1",
            "_dom_classes": [],
            "description": "",
            "_model_name": "HTMLModel",
            "placeholder": "​",
            "_view_module": "@jupyter-widgets/controls",
            "_model_module_version": "1.5.0",
            "value": " 450/450 [00:00&lt;00:00, 8.00kB/s]",
            "_view_count": null,
            "_view_module_version": "1.5.0",
            "description_tooltip": null,
            "_model_module": "@jupyter-widgets/controls",
            "layout": "IPY_MODEL_f40588ef338e435bae2bb11dae234939"
          }
        },
        "a60388662a4a42fb84a9ab321203580f": {
          "model_module": "@jupyter-widgets/controls",
          "model_name": "DescriptionStyleModel",
          "model_module_version": "1.5.0",
          "state": {
            "_view_name": "StyleView",
            "_model_name": "DescriptionStyleModel",
            "description_width": "",
            "_view_module": "@jupyter-widgets/base",
            "_model_module_version": "1.5.0",
            "_view_count": null,
            "_view_module_version": "1.2.0",
            "_model_module": "@jupyter-widgets/controls"
          }
        },
        "78cb4bb8c14e49e29a1df263874e6cd2": {
          "model_module": "@jupyter-widgets/base",
          "model_name": "LayoutModel",
          "model_module_version": "1.2.0",
          "state": {
            "_view_name": "LayoutView",
            "grid_template_rows": null,
            "right": null,
            "justify_content": null,
            "_view_module": "@jupyter-widgets/base",
            "overflow": null,
            "_model_module_version": "1.2.0",
            "_view_count": null,
            "flex_flow": null,
            "width": null,
            "min_width": null,
            "border": null,
            "align_items": null,
            "bottom": null,
            "_model_module": "@jupyter-widgets/base",
            "top": null,
            "grid_column": null,
            "overflow_y": null,
            "overflow_x": null,
            "grid_auto_flow": null,
            "grid_area": null,
            "grid_template_columns": null,
            "flex": null,
            "_model_name": "LayoutModel",
            "justify_items": null,
            "grid_row": null,
            "max_height": null,
            "align_content": null,
            "visibility": null,
            "align_self": null,
            "height": null,
            "min_height": null,
            "padding": null,
            "grid_auto_rows": null,
            "grid_gap": null,
            "max_width": null,
            "order": null,
            "_view_module_version": "1.2.0",
            "grid_template_areas": null,
            "object_position": null,
            "object_fit": null,
            "grid_auto_columns": null,
            "margin": null,
            "display": null,
            "left": null
          }
        },
        "db7f9050bc2f41d0b625a21b82cdda94": {
          "model_module": "@jupyter-widgets/controls",
          "model_name": "ProgressStyleModel",
          "model_module_version": "1.5.0",
          "state": {
            "_view_name": "StyleView",
            "_model_name": "ProgressStyleModel",
            "description_width": "",
            "_view_module": "@jupyter-widgets/base",
            "_model_module_version": "1.5.0",
            "_view_count": null,
            "_view_module_version": "1.2.0",
            "bar_color": null,
            "_model_module": "@jupyter-widgets/controls"
          }
        },
        "19a32dc00a7f4ca4bcbaa1e6b8287fe2": {
          "model_module": "@jupyter-widgets/base",
          "model_name": "LayoutModel",
          "model_module_version": "1.2.0",
          "state": {
            "_view_name": "LayoutView",
            "grid_template_rows": null,
            "right": null,
            "justify_content": null,
            "_view_module": "@jupyter-widgets/base",
            "overflow": null,
            "_model_module_version": "1.2.0",
            "_view_count": null,
            "flex_flow": null,
            "width": null,
            "min_width": null,
            "border": null,
            "align_items": null,
            "bottom": null,
            "_model_module": "@jupyter-widgets/base",
            "top": null,
            "grid_column": null,
            "overflow_y": null,
            "overflow_x": null,
            "grid_auto_flow": null,
            "grid_area": null,
            "grid_template_columns": null,
            "flex": null,
            "_model_name": "LayoutModel",
            "justify_items": null,
            "grid_row": null,
            "max_height": null,
            "align_content": null,
            "visibility": null,
            "align_self": null,
            "height": null,
            "min_height": null,
            "padding": null,
            "grid_auto_rows": null,
            "grid_gap": null,
            "max_width": null,
            "order": null,
            "_view_module_version": "1.2.0",
            "grid_template_areas": null,
            "object_position": null,
            "object_fit": null,
            "grid_auto_columns": null,
            "margin": null,
            "display": null,
            "left": null
          }
        },
        "f9f3f2522750499d9c302d2016cdcba1": {
          "model_module": "@jupyter-widgets/controls",
          "model_name": "DescriptionStyleModel",
          "model_module_version": "1.5.0",
          "state": {
            "_view_name": "StyleView",
            "_model_name": "DescriptionStyleModel",
            "description_width": "",
            "_view_module": "@jupyter-widgets/base",
            "_model_module_version": "1.5.0",
            "_view_count": null,
            "_view_module_version": "1.2.0",
            "_model_module": "@jupyter-widgets/controls"
          }
        },
        "f40588ef338e435bae2bb11dae234939": {
          "model_module": "@jupyter-widgets/base",
          "model_name": "LayoutModel",
          "model_module_version": "1.2.0",
          "state": {
            "_view_name": "LayoutView",
            "grid_template_rows": null,
            "right": null,
            "justify_content": null,
            "_view_module": "@jupyter-widgets/base",
            "overflow": null,
            "_model_module_version": "1.2.0",
            "_view_count": null,
            "flex_flow": null,
            "width": null,
            "min_width": null,
            "border": null,
            "align_items": null,
            "bottom": null,
            "_model_module": "@jupyter-widgets/base",
            "top": null,
            "grid_column": null,
            "overflow_y": null,
            "overflow_x": null,
            "grid_auto_flow": null,
            "grid_area": null,
            "grid_template_columns": null,
            "flex": null,
            "_model_name": "LayoutModel",
            "justify_items": null,
            "grid_row": null,
            "max_height": null,
            "align_content": null,
            "visibility": null,
            "align_self": null,
            "height": null,
            "min_height": null,
            "padding": null,
            "grid_auto_rows": null,
            "grid_gap": null,
            "max_width": null,
            "order": null,
            "_view_module_version": "1.2.0",
            "grid_template_areas": null,
            "object_position": null,
            "object_fit": null,
            "grid_auto_columns": null,
            "margin": null,
            "display": null,
            "left": null
          }
        },
        "4abdee99ace140d4b40e040dd4c918e1": {
          "model_module": "@jupyter-widgets/controls",
          "model_name": "HBoxModel",
          "model_module_version": "1.5.0",
          "state": {
            "_view_name": "HBoxView",
            "_dom_classes": [],
            "_model_name": "HBoxModel",
            "_view_module": "@jupyter-widgets/controls",
            "_model_module_version": "1.5.0",
            "_view_count": null,
            "_view_module_version": "1.5.0",
            "box_style": "",
            "layout": "IPY_MODEL_eb8a68bbc4644587a6981619e3ecbd57",
            "_model_module": "@jupyter-widgets/controls",
            "children": [
              "IPY_MODEL_a3e859c218664fc39f2a3c4dcf1e50c4",
              "IPY_MODEL_cc47542a016f44379e5d8fa691ed636b",
              "IPY_MODEL_6b1012d5599c49219a9a299f2a5e439b"
            ]
          }
        },
        "eb8a68bbc4644587a6981619e3ecbd57": {
          "model_module": "@jupyter-widgets/base",
          "model_name": "LayoutModel",
          "model_module_version": "1.2.0",
          "state": {
            "_view_name": "LayoutView",
            "grid_template_rows": null,
            "right": null,
            "justify_content": null,
            "_view_module": "@jupyter-widgets/base",
            "overflow": null,
            "_model_module_version": "1.2.0",
            "_view_count": null,
            "flex_flow": null,
            "width": null,
            "min_width": null,
            "border": null,
            "align_items": null,
            "bottom": null,
            "_model_module": "@jupyter-widgets/base",
            "top": null,
            "grid_column": null,
            "overflow_y": null,
            "overflow_x": null,
            "grid_auto_flow": null,
            "grid_area": null,
            "grid_template_columns": null,
            "flex": null,
            "_model_name": "LayoutModel",
            "justify_items": null,
            "grid_row": null,
            "max_height": null,
            "align_content": null,
            "visibility": null,
            "align_self": null,
            "height": null,
            "min_height": null,
            "padding": null,
            "grid_auto_rows": null,
            "grid_gap": null,
            "max_width": null,
            "order": null,
            "_view_module_version": "1.2.0",
            "grid_template_areas": null,
            "object_position": null,
            "object_fit": null,
            "grid_auto_columns": null,
            "margin": null,
            "display": null,
            "left": null
          }
        },
        "a3e859c218664fc39f2a3c4dcf1e50c4": {
          "model_module": "@jupyter-widgets/controls",
          "model_name": "HTMLModel",
          "model_module_version": "1.5.0",
          "state": {
            "_view_name": "HTMLView",
            "style": "IPY_MODEL_0d2c4ca5d2384a6aac469a7c9f1b9ad1",
            "_dom_classes": [],
            "description": "",
            "_model_name": "HTMLModel",
            "placeholder": "​",
            "_view_module": "@jupyter-widgets/controls",
            "_model_module_version": "1.5.0",
            "value": "Downloading: 100%",
            "_view_count": null,
            "_view_module_version": "1.5.0",
            "description_tooltip": null,
            "_model_module": "@jupyter-widgets/controls",
            "layout": "IPY_MODEL_8aac3f7c28334c759d01f83600bbdde0"
          }
        },
        "cc47542a016f44379e5d8fa691ed636b": {
          "model_module": "@jupyter-widgets/controls",
          "model_name": "FloatProgressModel",
          "model_module_version": "1.5.0",
          "state": {
            "_view_name": "ProgressView",
            "style": "IPY_MODEL_6600e11c7c9744a9acedeb3a8bef4a04",
            "_dom_classes": [],
            "description": "",
            "_model_name": "FloatProgressModel",
            "bar_style": "success",
            "max": 231508,
            "_view_module": "@jupyter-widgets/controls",
            "_model_module_version": "1.5.0",
            "value": 231508,
            "_view_count": null,
            "_view_module_version": "1.5.0",
            "orientation": "horizontal",
            "min": 0,
            "description_tooltip": null,
            "_model_module": "@jupyter-widgets/controls",
            "layout": "IPY_MODEL_a80d9c7541d64c03892cea849b75fbdf"
          }
        },
        "6b1012d5599c49219a9a299f2a5e439b": {
          "model_module": "@jupyter-widgets/controls",
          "model_name": "HTMLModel",
          "model_module_version": "1.5.0",
          "state": {
            "_view_name": "HTMLView",
            "style": "IPY_MODEL_ecb94ba5561743789273b8ec292bbb2a",
            "_dom_classes": [],
            "description": "",
            "_model_name": "HTMLModel",
            "placeholder": "​",
            "_view_module": "@jupyter-widgets/controls",
            "_model_module_version": "1.5.0",
            "value": " 232k/232k [00:00&lt;00:00, 1.46MB/s]",
            "_view_count": null,
            "_view_module_version": "1.5.0",
            "description_tooltip": null,
            "_model_module": "@jupyter-widgets/controls",
            "layout": "IPY_MODEL_fad57b53a69b4b8e9bc698eead0860da"
          }
        },
        "0d2c4ca5d2384a6aac469a7c9f1b9ad1": {
          "model_module": "@jupyter-widgets/controls",
          "model_name": "DescriptionStyleModel",
          "model_module_version": "1.5.0",
          "state": {
            "_view_name": "StyleView",
            "_model_name": "DescriptionStyleModel",
            "description_width": "",
            "_view_module": "@jupyter-widgets/base",
            "_model_module_version": "1.5.0",
            "_view_count": null,
            "_view_module_version": "1.2.0",
            "_model_module": "@jupyter-widgets/controls"
          }
        },
        "8aac3f7c28334c759d01f83600bbdde0": {
          "model_module": "@jupyter-widgets/base",
          "model_name": "LayoutModel",
          "model_module_version": "1.2.0",
          "state": {
            "_view_name": "LayoutView",
            "grid_template_rows": null,
            "right": null,
            "justify_content": null,
            "_view_module": "@jupyter-widgets/base",
            "overflow": null,
            "_model_module_version": "1.2.0",
            "_view_count": null,
            "flex_flow": null,
            "width": null,
            "min_width": null,
            "border": null,
            "align_items": null,
            "bottom": null,
            "_model_module": "@jupyter-widgets/base",
            "top": null,
            "grid_column": null,
            "overflow_y": null,
            "overflow_x": null,
            "grid_auto_flow": null,
            "grid_area": null,
            "grid_template_columns": null,
            "flex": null,
            "_model_name": "LayoutModel",
            "justify_items": null,
            "grid_row": null,
            "max_height": null,
            "align_content": null,
            "visibility": null,
            "align_self": null,
            "height": null,
            "min_height": null,
            "padding": null,
            "grid_auto_rows": null,
            "grid_gap": null,
            "max_width": null,
            "order": null,
            "_view_module_version": "1.2.0",
            "grid_template_areas": null,
            "object_position": null,
            "object_fit": null,
            "grid_auto_columns": null,
            "margin": null,
            "display": null,
            "left": null
          }
        },
        "6600e11c7c9744a9acedeb3a8bef4a04": {
          "model_module": "@jupyter-widgets/controls",
          "model_name": "ProgressStyleModel",
          "model_module_version": "1.5.0",
          "state": {
            "_view_name": "StyleView",
            "_model_name": "ProgressStyleModel",
            "description_width": "",
            "_view_module": "@jupyter-widgets/base",
            "_model_module_version": "1.5.0",
            "_view_count": null,
            "_view_module_version": "1.2.0",
            "bar_color": null,
            "_model_module": "@jupyter-widgets/controls"
          }
        },
        "a80d9c7541d64c03892cea849b75fbdf": {
          "model_module": "@jupyter-widgets/base",
          "model_name": "LayoutModel",
          "model_module_version": "1.2.0",
          "state": {
            "_view_name": "LayoutView",
            "grid_template_rows": null,
            "right": null,
            "justify_content": null,
            "_view_module": "@jupyter-widgets/base",
            "overflow": null,
            "_model_module_version": "1.2.0",
            "_view_count": null,
            "flex_flow": null,
            "width": null,
            "min_width": null,
            "border": null,
            "align_items": null,
            "bottom": null,
            "_model_module": "@jupyter-widgets/base",
            "top": null,
            "grid_column": null,
            "overflow_y": null,
            "overflow_x": null,
            "grid_auto_flow": null,
            "grid_area": null,
            "grid_template_columns": null,
            "flex": null,
            "_model_name": "LayoutModel",
            "justify_items": null,
            "grid_row": null,
            "max_height": null,
            "align_content": null,
            "visibility": null,
            "align_self": null,
            "height": null,
            "min_height": null,
            "padding": null,
            "grid_auto_rows": null,
            "grid_gap": null,
            "max_width": null,
            "order": null,
            "_view_module_version": "1.2.0",
            "grid_template_areas": null,
            "object_position": null,
            "object_fit": null,
            "grid_auto_columns": null,
            "margin": null,
            "display": null,
            "left": null
          }
        },
        "ecb94ba5561743789273b8ec292bbb2a": {
          "model_module": "@jupyter-widgets/controls",
          "model_name": "DescriptionStyleModel",
          "model_module_version": "1.5.0",
          "state": {
            "_view_name": "StyleView",
            "_model_name": "DescriptionStyleModel",
            "description_width": "",
            "_view_module": "@jupyter-widgets/base",
            "_model_module_version": "1.5.0",
            "_view_count": null,
            "_view_module_version": "1.2.0",
            "_model_module": "@jupyter-widgets/controls"
          }
        },
        "fad57b53a69b4b8e9bc698eead0860da": {
          "model_module": "@jupyter-widgets/base",
          "model_name": "LayoutModel",
          "model_module_version": "1.2.0",
          "state": {
            "_view_name": "LayoutView",
            "grid_template_rows": null,
            "right": null,
            "justify_content": null,
            "_view_module": "@jupyter-widgets/base",
            "overflow": null,
            "_model_module_version": "1.2.0",
            "_view_count": null,
            "flex_flow": null,
            "width": null,
            "min_width": null,
            "border": null,
            "align_items": null,
            "bottom": null,
            "_model_module": "@jupyter-widgets/base",
            "top": null,
            "grid_column": null,
            "overflow_y": null,
            "overflow_x": null,
            "grid_auto_flow": null,
            "grid_area": null,
            "grid_template_columns": null,
            "flex": null,
            "_model_name": "LayoutModel",
            "justify_items": null,
            "grid_row": null,
            "max_height": null,
            "align_content": null,
            "visibility": null,
            "align_self": null,
            "height": null,
            "min_height": null,
            "padding": null,
            "grid_auto_rows": null,
            "grid_gap": null,
            "max_width": null,
            "order": null,
            "_view_module_version": "1.2.0",
            "grid_template_areas": null,
            "object_position": null,
            "object_fit": null,
            "grid_auto_columns": null,
            "margin": null,
            "display": null,
            "left": null
          }
        },
        "78d135dbf1e543a1b0a691c4024966f1": {
          "model_module": "@jupyter-widgets/controls",
          "model_name": "HBoxModel",
          "model_module_version": "1.5.0",
          "state": {
            "_view_name": "HBoxView",
            "_dom_classes": [],
            "_model_name": "HBoxModel",
            "_view_module": "@jupyter-widgets/controls",
            "_model_module_version": "1.5.0",
            "_view_count": null,
            "_view_module_version": "1.5.0",
            "box_style": "",
            "layout": "IPY_MODEL_abf381c520eb4e28869f9a3c2e38cf88",
            "_model_module": "@jupyter-widgets/controls",
            "children": [
              "IPY_MODEL_efb41b25ef64434880e5c4010b41e062",
              "IPY_MODEL_c40e4b1fd48e4a498bddebe3bc703375",
              "IPY_MODEL_6331783f617f452a917f17bcb4158498"
            ]
          }
        },
        "abf381c520eb4e28869f9a3c2e38cf88": {
          "model_module": "@jupyter-widgets/base",
          "model_name": "LayoutModel",
          "model_module_version": "1.2.0",
          "state": {
            "_view_name": "LayoutView",
            "grid_template_rows": null,
            "right": null,
            "justify_content": null,
            "_view_module": "@jupyter-widgets/base",
            "overflow": null,
            "_model_module_version": "1.2.0",
            "_view_count": null,
            "flex_flow": null,
            "width": null,
            "min_width": null,
            "border": null,
            "align_items": null,
            "bottom": null,
            "_model_module": "@jupyter-widgets/base",
            "top": null,
            "grid_column": null,
            "overflow_y": null,
            "overflow_x": null,
            "grid_auto_flow": null,
            "grid_area": null,
            "grid_template_columns": null,
            "flex": null,
            "_model_name": "LayoutModel",
            "justify_items": null,
            "grid_row": null,
            "max_height": null,
            "align_content": null,
            "visibility": null,
            "align_self": null,
            "height": null,
            "min_height": null,
            "padding": null,
            "grid_auto_rows": null,
            "grid_gap": null,
            "max_width": null,
            "order": null,
            "_view_module_version": "1.2.0",
            "grid_template_areas": null,
            "object_position": null,
            "object_fit": null,
            "grid_auto_columns": null,
            "margin": null,
            "display": null,
            "left": null
          }
        },
        "efb41b25ef64434880e5c4010b41e062": {
          "model_module": "@jupyter-widgets/controls",
          "model_name": "HTMLModel",
          "model_module_version": "1.5.0",
          "state": {
            "_view_name": "HTMLView",
            "style": "IPY_MODEL_1c0caa0b013647c89554eeff0dff8b8d",
            "_dom_classes": [],
            "description": "",
            "_model_name": "HTMLModel",
            "placeholder": "​",
            "_view_module": "@jupyter-widgets/controls",
            "_model_module_version": "1.5.0",
            "value": "Downloading: 100%",
            "_view_count": null,
            "_view_module_version": "1.5.0",
            "description_tooltip": null,
            "_model_module": "@jupyter-widgets/controls",
            "layout": "IPY_MODEL_a170896721b544969b9113046f156fc8"
          }
        },
        "c40e4b1fd48e4a498bddebe3bc703375": {
          "model_module": "@jupyter-widgets/controls",
          "model_name": "FloatProgressModel",
          "model_module_version": "1.5.0",
          "state": {
            "_view_name": "ProgressView",
            "style": "IPY_MODEL_a2b94f25635b4b6985885db0a7d8da6f",
            "_dom_classes": [],
            "description": "",
            "_model_name": "FloatProgressModel",
            "bar_style": "success",
            "max": 190,
            "_view_module": "@jupyter-widgets/controls",
            "_model_module_version": "1.5.0",
            "value": 190,
            "_view_count": null,
            "_view_module_version": "1.5.0",
            "orientation": "horizontal",
            "min": 0,
            "description_tooltip": null,
            "_model_module": "@jupyter-widgets/controls",
            "layout": "IPY_MODEL_78ee4bda44264a6891a26f49d8f516ee"
          }
        },
        "6331783f617f452a917f17bcb4158498": {
          "model_module": "@jupyter-widgets/controls",
          "model_name": "HTMLModel",
          "model_module_version": "1.5.0",
          "state": {
            "_view_name": "HTMLView",
            "style": "IPY_MODEL_621083f275c64cc7803a0ac19ce91086",
            "_dom_classes": [],
            "description": "",
            "_model_name": "HTMLModel",
            "placeholder": "​",
            "_view_module": "@jupyter-widgets/controls",
            "_model_module_version": "1.5.0",
            "value": " 190/190 [00:00&lt;00:00, 4.43kB/s]",
            "_view_count": null,
            "_view_module_version": "1.5.0",
            "description_tooltip": null,
            "_model_module": "@jupyter-widgets/controls",
            "layout": "IPY_MODEL_2d0daf98d1fd468b8a347c7887f5f131"
          }
        },
        "1c0caa0b013647c89554eeff0dff8b8d": {
          "model_module": "@jupyter-widgets/controls",
          "model_name": "DescriptionStyleModel",
          "model_module_version": "1.5.0",
          "state": {
            "_view_name": "StyleView",
            "_model_name": "DescriptionStyleModel",
            "description_width": "",
            "_view_module": "@jupyter-widgets/base",
            "_model_module_version": "1.5.0",
            "_view_count": null,
            "_view_module_version": "1.2.0",
            "_model_module": "@jupyter-widgets/controls"
          }
        },
        "a170896721b544969b9113046f156fc8": {
          "model_module": "@jupyter-widgets/base",
          "model_name": "LayoutModel",
          "model_module_version": "1.2.0",
          "state": {
            "_view_name": "LayoutView",
            "grid_template_rows": null,
            "right": null,
            "justify_content": null,
            "_view_module": "@jupyter-widgets/base",
            "overflow": null,
            "_model_module_version": "1.2.0",
            "_view_count": null,
            "flex_flow": null,
            "width": null,
            "min_width": null,
            "border": null,
            "align_items": null,
            "bottom": null,
            "_model_module": "@jupyter-widgets/base",
            "top": null,
            "grid_column": null,
            "overflow_y": null,
            "overflow_x": null,
            "grid_auto_flow": null,
            "grid_area": null,
            "grid_template_columns": null,
            "flex": null,
            "_model_name": "LayoutModel",
            "justify_items": null,
            "grid_row": null,
            "max_height": null,
            "align_content": null,
            "visibility": null,
            "align_self": null,
            "height": null,
            "min_height": null,
            "padding": null,
            "grid_auto_rows": null,
            "grid_gap": null,
            "max_width": null,
            "order": null,
            "_view_module_version": "1.2.0",
            "grid_template_areas": null,
            "object_position": null,
            "object_fit": null,
            "grid_auto_columns": null,
            "margin": null,
            "display": null,
            "left": null
          }
        },
        "a2b94f25635b4b6985885db0a7d8da6f": {
          "model_module": "@jupyter-widgets/controls",
          "model_name": "ProgressStyleModel",
          "model_module_version": "1.5.0",
          "state": {
            "_view_name": "StyleView",
            "_model_name": "ProgressStyleModel",
            "description_width": "",
            "_view_module": "@jupyter-widgets/base",
            "_model_module_version": "1.5.0",
            "_view_count": null,
            "_view_module_version": "1.2.0",
            "bar_color": null,
            "_model_module": "@jupyter-widgets/controls"
          }
        },
        "78ee4bda44264a6891a26f49d8f516ee": {
          "model_module": "@jupyter-widgets/base",
          "model_name": "LayoutModel",
          "model_module_version": "1.2.0",
          "state": {
            "_view_name": "LayoutView",
            "grid_template_rows": null,
            "right": null,
            "justify_content": null,
            "_view_module": "@jupyter-widgets/base",
            "overflow": null,
            "_model_module_version": "1.2.0",
            "_view_count": null,
            "flex_flow": null,
            "width": null,
            "min_width": null,
            "border": null,
            "align_items": null,
            "bottom": null,
            "_model_module": "@jupyter-widgets/base",
            "top": null,
            "grid_column": null,
            "overflow_y": null,
            "overflow_x": null,
            "grid_auto_flow": null,
            "grid_area": null,
            "grid_template_columns": null,
            "flex": null,
            "_model_name": "LayoutModel",
            "justify_items": null,
            "grid_row": null,
            "max_height": null,
            "align_content": null,
            "visibility": null,
            "align_self": null,
            "height": null,
            "min_height": null,
            "padding": null,
            "grid_auto_rows": null,
            "grid_gap": null,
            "max_width": null,
            "order": null,
            "_view_module_version": "1.2.0",
            "grid_template_areas": null,
            "object_position": null,
            "object_fit": null,
            "grid_auto_columns": null,
            "margin": null,
            "display": null,
            "left": null
          }
        },
        "621083f275c64cc7803a0ac19ce91086": {
          "model_module": "@jupyter-widgets/controls",
          "model_name": "DescriptionStyleModel",
          "model_module_version": "1.5.0",
          "state": {
            "_view_name": "StyleView",
            "_model_name": "DescriptionStyleModel",
            "description_width": "",
            "_view_module": "@jupyter-widgets/base",
            "_model_module_version": "1.5.0",
            "_view_count": null,
            "_view_module_version": "1.2.0",
            "_model_module": "@jupyter-widgets/controls"
          }
        },
        "2d0daf98d1fd468b8a347c7887f5f131": {
          "model_module": "@jupyter-widgets/base",
          "model_name": "LayoutModel",
          "model_module_version": "1.2.0",
          "state": {
            "_view_name": "LayoutView",
            "grid_template_rows": null,
            "right": null,
            "justify_content": null,
            "_view_module": "@jupyter-widgets/base",
            "overflow": null,
            "_model_module_version": "1.2.0",
            "_view_count": null,
            "flex_flow": null,
            "width": null,
            "min_width": null,
            "border": null,
            "align_items": null,
            "bottom": null,
            "_model_module": "@jupyter-widgets/base",
            "top": null,
            "grid_column": null,
            "overflow_y": null,
            "overflow_x": null,
            "grid_auto_flow": null,
            "grid_area": null,
            "grid_template_columns": null,
            "flex": null,
            "_model_name": "LayoutModel",
            "justify_items": null,
            "grid_row": null,
            "max_height": null,
            "align_content": null,
            "visibility": null,
            "align_self": null,
            "height": null,
            "min_height": null,
            "padding": null,
            "grid_auto_rows": null,
            "grid_gap": null,
            "max_width": null,
            "order": null,
            "_view_module_version": "1.2.0",
            "grid_template_areas": null,
            "object_position": null,
            "object_fit": null,
            "grid_auto_columns": null,
            "margin": null,
            "display": null,
            "left": null
          }
        }
      }
    }
  },
  "cells": [
    {
      "cell_type": "markdown",
      "metadata": {
        "id": "view-in-github",
        "colab_type": "text"
      },
      "source": [
        "<a href=\"https://colab.research.google.com/github/Ali-MH-Mansour/Keyword-Extraction/blob/main/BertKeyWordss.ipynb\" target=\"_parent\"><img src=\"https://colab.research.google.com/assets/colab-badge.svg\" alt=\"Open In Colab\"/></a>"
      ]
    },
    {
      "cell_type": "code",
      "metadata": {
        "id": "uGS2RbuhlYVQ",
        "colab": {
          "base_uri": "https://localhost:8080/"
        },
        "outputId": "f9c05e5e-fe1b-4cef-b05b-43b54db45239"
      },
      "source": [
        "from google.colab import drive\n",
        "drive.mount('/content/drive')\n",
        "#drive.flush_and_unmount(timeout_ms=24)"
      ],
      "execution_count": 1,
      "outputs": [
        {
          "output_type": "stream",
          "name": "stdout",
          "text": [
            "Mounted at /content/drive\n"
          ]
        }
      ]
    },
    {
      "cell_type": "markdown",
      "metadata": {
        "id": "ABOhQu7KsYqg"
      },
      "source": [
        "# My Method"
      ]
    },
    {
      "cell_type": "markdown",
      "metadata": {
        "id": "fRtikb6nyVe-"
      },
      "source": [
        "## Functions"
      ]
    },
    {
      "cell_type": "code",
      "metadata": {
        "colab": {
          "base_uri": "https://localhost:8080/"
        },
        "id": "RFa9jqhowOer",
        "outputId": "1a8d95e3-0a8f-4282-d495-46bfaa85cb22"
      },
      "source": [
        "import nltk\n",
        "nltk.download('stopwords')\n",
        "nltk.download('wordnet')\n",
        "my_stopwords= [\"...\",\".\",\"0o\", \"0s\", \"3a\", \"3b\", \"3d\", \"6b\", \"6o\", \"a\", \"a1\", \"a2\", \"a3\", \"a4\", \"ab\",\"aab\",'aaab', \"able\", \"about\", \"above\", \"abst\", \"ac\", \"accordance\", \"according\", \"accordingly\", \"across\", \"act\", \"actually\", \"ad\", \"added\", \"adj\", \"ae\", \"af\", \"affected\", \"affecting\", \"affects\", \"after\", \"afterwards\", \"ag\", \"again\", \"against\", \"ah\", \"ain\", \"ain't\", \"aj\", \"al\", \"all\", \"allow\", \"allows\", \"almost\", \"alone\", \"along\", \"already\", \"also\", \"although\", \"always\", \"am\", \"among\", \"amongst\", \"amoungst\", \"amount\", \"an\", \"and\", \"announce\", \"another\", \"any\", \"anybody\", \"anyhow\", \"anymore\", \"anyone\", \"anything\", \"anyway\", \"anyways\", \"anywhere\", \"ao\", \"ap\", \"apart\", \"apparently\", \"appear\", \"appreciate\", \"appropriate\", \"approximately\", \"ar\", \"are\", \"aren\", \"arent\", \"aren't\", \"arise\", \"around\", \"as\", \"a's\", \"aside\", \"ask\", \"asking\", \"associated\", \"at\", \"au\", \"auth\", \"av\", \"available\", \"aw\", \"away\", \"awfully\", \"ax\", \"ay\", \"az\", \"b\", \"b1\", \"b2\", \"b3\", \"ba\", \"back\", \"bc\", \"bd\", \"be\", \"became\", \"because\", \"become\", \"becomes\", \"becoming\", \"been\", \"before\", \"beforehand\", \"begin\", \"beginning\", \"beginnings\", \"begins\", \"behind\", \"being\", \"believe\", \"below\", \"beside\", \"besides\", \"best\", \"better\", \"between\", \"beyond\", \"bi\", \"bill\", \"biol\", \"bj\", \"bk\", \"bl\", \"bn\", \"both\", \"bottom\", \"bp\", \"br\", \"brief\", \"briefly\", \"bs\", \"bt\", \"bu\", \"but\", \"bx\", \"by\", \"c\", \"c1\", \"c2\", \"c3\", \"ca\", \"call\", \"came\", \"can\", \"cannot\", \"cant\", \"can't\", \"cause\", \"causes\", \"cc\", \"cd\", \"ce\", \"certain\", \"certainly\", \"cf\", \"cg\", \"ch\", \"changes\", \"ci\", \"cit\", \"cj\", \"cl\", \"clearly\", \"cm\", \"c'mon\", \"cn\", \"co\", \"com\", \"come\", \"comes\", \"con\", \"concerning\", \"consequently\", \"consider\", \"considering\", \"contain\", \"containing\", \"contains\", \"corresponding\", \"could\", \"couldn\", \"couldnt\", \"couldn't\", \"course\", \"cp\", \"cq\", \"cr\", \"cry\", \"cs\", \"c's\", \"ct\", \"cu\", \"currently\", \"cv\", \"cx\", \"cy\", \"cz\", \"d\", \"d2\", \"da\", \"date\", \"dc\", \"dd\", \"de\", \"definitely\", \"describe\", \"described\", \"despite\", \"detail\", \"df\", \"di\", \"did\", \"didn\", \"didn't\", \"different\", \"dj\", \"dk\", \"dl\", \"do\", \"does\", \"doesn\", \"doesn't\", \"doing\", \"don\", \"done\", \"don't\", \"down\", \"downwards\", \"dp\", \"dr\", \"ds\", \"dt\", \"du\", \"due\", \"during\", \"dx\", \"dy\", \"e\", \"e2\", \"e3\", \"ea\", \"each\", \"ec\", \"ed\", \"edu\", \"ee\", \"ef\", \"effect\", \"eg\", \"ei\", \"eight\", \"eighty\", \"either\", \"ej\", \"el\", \"eleven\", \"else\", \"elsewhere\", \"em\", \"empty\", \"en\", \"end\", \"ending\", \"enough\", \"entirely\", \"eo\", \"ep\", \"eq\", \"er\", \"es\", \"especially\", \"est\", \"et\", \"et-al\", \"etc\", \"eu\", \"ev\", \"even\", \"ever\", \"every\", \"everybody\", \"everyone\", \"everything\", \"everywhere\", \"ex\", \"exactly\", \"example\", \"except\", \"ey\", \"f\", \"f2\", \"fa\", \"far\", \"fc\", \"few\", \"ff\", \"fi\", \"fifteen\", \"fifth\", \"fify\", \"fill\", \"find\", \"fire\", \"first\", \"five\", \"fix\", \"fj\", \"fl\", \"fn\", \"fo\", \"followed\", \"following\", \"follows\", \"for\", \"former\", \"formerly\", \"forth\", \"forty\", \"found\", \"four\", \"fr\", \"from\", \"front\", \"fs\", \"ft\", \"fu\", \"full\", \"further\", \"furthermore\", \"fy\", \"g\", \"ga\", \"gave\", \"ge\", \"get\", \"gets\", \"getting\", \"gi\", \"give\", \"given\", \"gives\", \"giving\", \"gj\", \"gl\", \"go\", \"goes\", \"going\", \"gone\", \"got\", \"gotten\", \"gr\", \"greetings\", \"gs\", \"gy\", \"h\", \"h2\", \"h3\", \"had\", \"hadn\", \"hadn't\", \"happens\", \"hardly\", \"has\", \"hasn\", \"hasnt\", \"hasn't\", \"have\", \"haven\", \"haven't\", \"having\", \"he\", \"hed\", \"he'd\", \"he'll\", \"hello\", \"help\", \"hence\", \"her\", \"here\", \"hereafter\", \"hereby\", \"herein\", \"heres\", \"here's\", \"hereupon\", \"hers\", \"herself\", \"hes\", \"he's\", \"hh\", \"hi\", \"hid\", \"him\", \"himself\", \"his\", \"hither\", \"hj\", \"ho\", \"home\", \"hopefully\", \"how\", \"howbeit\", \"however\", \"how's\", \"hr\", \"hs\", \"http\", \"hu\", \"hundred\", \"hy\", \"i\", \"i2\", \"i3\", \"i4\", \"i6\", \"i7\", \"i8\", \"ia\", \"ib\", \"ibid\", \"ic\", \"id\", \"i'd\", \"ie\", \"if\", \"ig\", \"ignored\", \"ih\", \"ii\", \"ij\", \"il\", \"i'll\", \"im\", \"i'm\", \"immediate\", \"immediately\", \"importance\", \"important\", \"in\", \"inasmuch\", \"inc\", \"indeed\", \"index\", \"indicate\", \"indicated\", \"indicates\", \"information\", \"inner\", \"insofar\", \"instead\", \"interest\", \"into\", \"invention\", \"inward\", \"io\", \"ip\", \"iq\", \"ir\", \"is\", \"isn\", \"isn't\", \"it\", \"itd\", \"it'd\", \"it'll\", \"its\", \"it's\", \"itself\", \"iv\", \"i've\", \"ix\", \"iy\", \"iz\", \"j\", \"jj\", \"jr\", \"js\", \"jt\", \"ju\", \"just\", \"k\", \"ke\", \"keep\", \"keeps\", \"kept\", \"kg\", \"kj\", \"km\", \"know\", \"known\", \"knows\", \"ko\", \"l\", \"l2\", \"la\", \"largely\", \"last\", \"lately\", \"later\", \"latter\", \"latterly\", \"lb\", \"lc\", \"le\", \"least\", \"les\", \"less\", \"lest\", \"let\", \"lets\", \"let's\", \"lf\", \"like\", \"liked\", \"likely\", \"line\", \"little\", \"lj\", \"ll\", \"ll\", \"ln\", \"lo\", \"look\", \"looking\", \"looks\", \"los\", \"lr\", \"ls\", \"lt\", \"ltd\", \"m\", \"m2\", \"ma\", \"made\", \"mainly\", \"make\", \"makes\", \"many\", \"may\", \"maybe\", \"me\", \"mean\", \"means\", \"meantime\", \"meanwhile\", \"merely\", \"mg\", \"might\", \"mightn\", \"mightn't\", \"mill\", \"million\", \"mine\", \"miss\", \"ml\", \"mn\", \"mo\", \"more\", \"moreover\", \"most\", \"mostly\", \"move\", \"mr\", \"mrs\", \"ms\", \"mt\", \"mu\", \"much\", \"mug\", \"must\", \"mustn\", \"mustn't\", \"my\", \"myself\", \"n\", \"n2\", \"na\", \"name\", \"namely\", \"nay\", \"nc\", \"nd\", \"ne\", \"near\", \"nearly\", \"necessarily\", \"necessary\", \"need\", \"needn\", \"needn't\", \"needs\", \"neither\", \"never\", \"nevertheless\", \"new\", \"next\", \"ng\", \"ni\", \"nine\", \"ninety\", \"nj\", \"nl\", \"nn\", \"no\", \"nobody\", \"non\", \"none\", \"nonetheless\", \"noone\", \"nor\", \"normally\", \"nos\", \"not\", \"noted\", \"nothing\", \"novel\", \"now\", \"nowhere\", \"nr\", \"ns\", \"nt\", \"ny\", \"o\", \"oa\", \"ob\", \"obtain\", \"obtained\", \"obviously\", \"oc\", \"od\", \"of\", \"off\", \"often\", \"og\", \"oh\", \"oi\", \"oj\", \"ok\", \"okay\", \"ol\", \"old\", \"om\", \"omitted\", \"on\", \"once\", \"one\", \"ones\", \"only\", \"onto\", \"oo\", \"op\", \"oq\", \"or\", \"ord\", \"os\", \"ot\", \"other\", \"others\", \"otherwise\", \"ou\", \"ought\", \"our\", \"ours\", \"ourselves\", \"out\", \"outside\", \"over\", \"overall\", \"ow\", \"owing\", \"own\", \"ox\", \"oz\", \"p\", \"p1\", \"p2\", \"p3\", \"page\", \"pagecount\", \"pages\", \"par\", \"part\", \"particular\", \"particularly\", \"pas\", \"past\", \"pc\", \"pd\", \"pe\", \"per\", \"perhaps\", \"pf\", \"ph\", \"pi\", \"pj\", \"pk\", \"pl\", \"placed\", \"please\", \"plus\", \"pm\", \"pn\", \"po\", \"poorly\", \"possible\", \"possibly\", \"potentially\", \"pp\", \"pq\", \"pr\", \"predominantly\", \"present\", \"presumably\", \"previously\", \"primarily\", \"probably\", \"promptly\", \"proud\", \"provides\", \"ps\", \"pt\", \"pu\", \"put\", \"py\", \"q\", \"qj\", \"qu\", \"que\", \"quickly\", \"quite\", \"qv\", \"r\", \"r2\", \"ra\", \"ran\", \"rather\", \"rc\", \"rd\", \"re\", \"readily\", \"really\", \"reasonably\", \"recent\", \"recently\", \"ref\", \"refs\", \"regarding\", \"regardless\", \"regards\", \"related\", \"relatively\", \"research\", \"research-articl\", \"respectively\", \"resulted\", \"resulting\", \"results\", \"rf\", \"rh\", \"ri\", \"right\", \"rj\", \"rl\", \"rm\", \"rn\", \"ro\", \"rq\", \"rr\", \"rs\", \"rt\", \"ru\", \"run\", \"rv\", \"ry\", \"s\", \"s2\", \"sa\", \"said\", \"same\", \"saw\", \"say\", \"saying\", \"says\", \"sc\", \"sd\", \"se\", \"sec\", \"second\", \"secondly\", \"section\", \"see\", \"seeing\", \"seem\", \"seemed\", \"seeming\", \"seems\", \"seen\", \"self\", \"selves\", \"sensible\", \"sent\", \"serious\", \"seriously\", \"seven\", \"several\", \"sf\", \"shall\", \"shan\", \"shan't\", \"she\", \"shed\", \"she'd\", \"she'll\", \"shes\", \"she's\", \"should\", \"shouldn\", \"shouldn't\", \"should've\", \"show\", \"showed\", \"shown\", \"showns\", \"shows\", \"si\", \"side\", \"significant\", \"significantly\", \"similar\", \"similarly\", \"since\", \"sincere\", \"six\", \"sixty\", \"sj\", \"sl\", \"slightly\", \"sm\", \"sn\", \"so\", \"some\", \"somebody\", \"somehow\", \"someone\", \"somethan\", \"something\", \"sometime\", \"sometimes\", \"somewhat\", \"somewhere\", \"soon\", \"sorry\", \"sp\", \"specifically\", \"specified\", \"specify\", \"specifying\", \"sq\", \"sr\", \"ss\", \"st\", \"still\", \"stop\", \"strongly\", \"sub\", \"substantially\", \"successfully\", \"such\", \"sufficiently\", \"suggest\", \"sup\", \"sure\", \"sy\", \"system\", \"sz\", \"t\", \"t1\", \"t2\", \"t3\", \"take\", \"taken\", \"taking\", \"tb\", \"tc\", \"td\", \"te\", \"tell\", \"ten\", \"tends\", \"tf\", \"th\", \"than\", \"thank\", \"thanks\", \"thanx\", \"that\", \"that'll\", \"thats\", \"that's\", \"that've\", \"the\", \"their\", \"theirs\", \"them\", \"themselves\", \"then\", \"thence\", \"there\", \"thereafter\", \"thereby\", \"thered\", \"therefore\", \"therein\", \"there'll\", \"thereof\", \"therere\", \"theres\", \"there's\", \"thereto\", \"thereupon\", \"there've\", \"these\", \"they\", \"theyd\", \"they'd\", \"they'll\", \"theyre\", \"they're\", \"they've\", \"thickv\", \"thin\", \"think\", \"third\", \"this\", \"thorough\", \"thoroughly\", \"those\", \"thou\", \"though\", \"thoughh\", \"thousand\", \"three\", \"throug\", \"through\", \"throughout\", \"thru\", \"thus\", \"ti\", \"til\", \"tip\", \"tj\", \"tl\", \"tm\", \"tn\", \"to\", \"together\", \"too\", \"took\", \"top\", \"toward\", \"towards\", \"tp\", \"tq\", \"tr\", \"tried\", \"tries\", \"truly\", \"try\", \"trying\", \"ts\", \"t's\", \"tt\", \"tv\", \"twelve\", \"twenty\", \"twice\", \"two\", \"tx\", \"u\", \"u201d\", \"ue\", \"ui\", \"uj\", \"uk\", \"um\", \"un\", \"under\", \"unfortunately\", \"unless\", \"unlike\", \"unlikely\", \"until\", \"unto\", \"uo\", \"up\", \"upon\", \"ups\", \"ur\", \"us\", \"use\", \"used\", \"useful\", \"usefully\", \"usefulness\", \"uses\", \"using\", \"usually\", \"ut\", \"v\", \"va\", \"value\", \"various\", \"vd\", \"ve\", \"ve\", \"very\", \"via\", \"viz\", \"vj\", \"vo\", \"vol\", \"vols\", \"volumtype\", \"vq\", \"vs\", \"vt\", \"vu\", \"w\", \"wa\", \"want\", \"wants\", \"was\", \"wasn\", \"wasnt\", \"wasn't\", \"way\", \"we\", \"wed\", \"we'd\", \"welcome\", \"well\", \"we'll\", \"well-b\", \"went\", \"were\", \"we're\", \"weren\", \"werent\", \"weren't\", \"we've\", \"what\", \"whatever\", \"what'll\", \"whats\", \"what's\", \"when\", \"whence\", \"whenever\", \"when's\", \"where\", \"whereafter\", \"whereas\", \"whereby\", \"wherein\", \"wheres\", \"where's\", \"whereupon\", \"wherever\", \"whether\", \"which\", \"while\", \"whim\", \"whither\", \"who\", \"whod\", \"whoever\", \"whole\", \"who'll\", \"whom\", \"whomever\", \"whos\", \"who's\", \"whose\", \"why\", \"why's\", \"wi\", \"widely\", \"will\", \"willing\", \"wish\", \"with\", \"within\", \"without\", \"wo\", \"won\", \"wonder\", \"wont\", \"won't\", \"words\", \"world\", \"would\", \"wouldn\", \"wouldnt\", \"wouldn't\", \"www\", \"x\", \"x1\", \"x2\", \"x3\", \"xf\", \"xi\", \"xj\", \"xk\", \"xl\", \"xn\", \"xo\", \"xs\", \"xt\", \"xv\", \"xx\", \"y\", \"y2\", \"yes\", \"yet\", \"yj\", \"yl\", \"you\", \"youd\", \"you'd\", \"you'll\", \"your\", \"youre\", \"you're\", \"yours\", \"yourself\", \"yourselves\", \"you've\", \"yr\", \"ys\", \"yt\", \"z\", \"zero\", \"zi\", \"zz\"]"
      ],
      "execution_count": null,
      "outputs": [
        {
          "output_type": "stream",
          "name": "stdout",
          "text": [
            "[nltk_data] Downloading package stopwords to /root/nltk_data...\n",
            "[nltk_data]   Unzipping corpora/stopwords.zip.\n",
            "[nltk_data] Downloading package wordnet to /root/nltk_data...\n",
            "[nltk_data]   Unzipping corpora/wordnet.zip.\n"
          ]
        }
      ]
    },
    {
      "cell_type": "code",
      "metadata": {
        "colab": {
          "base_uri": "https://localhost:8080/"
        },
        "id": "4p_eYG1mwN_r",
        "outputId": "6f220454-e0a3-4ce7-9724-2d5c38624df4"
      },
      "source": [
        "nltk.download('averaged_perceptron_tagger')"
      ],
      "execution_count": null,
      "outputs": [
        {
          "output_type": "stream",
          "name": "stdout",
          "text": [
            "[nltk_data] Downloading package averaged_perceptron_tagger to\n",
            "[nltk_data]     /root/nltk_data...\n",
            "[nltk_data]   Unzipping taggers/averaged_perceptron_tagger.zip.\n"
          ]
        },
        {
          "output_type": "execute_result",
          "data": {
            "text/plain": [
              "True"
            ]
          },
          "metadata": {},
          "execution_count": 3
        }
      ]
    },
    {
      "cell_type": "code",
      "metadata": {
        "id": "KB9IvpguyfkT"
      },
      "source": [
        "import pandas as pd\n",
        "import numpy as np\n",
        "\n",
        "# For cleaning the text\n",
        "import spacy\n",
        "import nltk\n",
        "from nltk.tokenize import word_tokenize\n",
        "from nltk.corpus import stopwords\n",
        "import regex as re\n",
        "import string"
      ],
      "execution_count": null,
      "outputs": []
    },
    {
      "cell_type": "code",
      "metadata": {
        "colab": {
          "base_uri": "https://localhost:8080/"
        },
        "id": "uRFFrPoyPbpW",
        "outputId": "76e8ed30-cc3c-4e6f-8ad3-83f1daf0e7f5"
      },
      "source": [
        "import nltk.data\n",
        "import re\n",
        "nltk.download('punkt')"
      ],
      "execution_count": null,
      "outputs": [
        {
          "output_type": "stream",
          "name": "stdout",
          "text": [
            "[nltk_data] Downloading package punkt to /root/nltk_data...\n",
            "[nltk_data]   Unzipping tokenizers/punkt.zip.\n"
          ]
        },
        {
          "output_type": "execute_result",
          "data": {
            "text/plain": [
              "True"
            ]
          },
          "metadata": {},
          "execution_count": 5
        }
      ]
    },
    {
      "cell_type": "code",
      "metadata": {
        "id": "vwV8WMeAwFeX"
      },
      "source": [
        "################################ new\n",
        "from nltk.stem import WordNetLemmatizer\n",
        "from nltk.tokenize import RegexpTokenizer\n",
        "from nltk import word_tokenize, sent_tokenize, pos_tag\n",
        "\n",
        "def final_preprocess_text(text):\n",
        "    # 1. Tokenise to alphabetic tokens\n",
        "    text = remove_numbers(text)\n",
        "    text = remove_http(text)\n",
        "    text = remove_punctuation_without(text) #remove_punctuation(text)\n",
        "    \n",
        "    text = convert_to_lower(text)\n",
        "    text = remove_white_space(text)\n",
        "    #text = remove_short_words(text)\n",
        "    tokens = toknizing(text)\n",
        "    #tokeniser = RegexpTokenizer(r'[A-Za-z]+')\n",
        "    #tokens = tokeniser.tokenize(text)\n",
        "    \n",
        "    # 2. POS tagging\n",
        "    pos_map = {'J': 'a', 'N': 'n', 'R': 'r', 'V': 'v'}\n",
        "    pos_tags = pos_tag(tokens)\n",
        "    #print(pos_tags)\n",
        "    # 3. Lowercase and lemmatise \n",
        "    lemmatiser = WordNetLemmatizer()\n",
        "    tokens = [lemmatiser.lemmatize(t.lower(), pos=pos_map.get(p[0], 'v')) for t, p in pos_tags]\n",
        "    return tokens\n",
        "\n",
        "#########################################33\n",
        "def preprocess_text(text):\n",
        "    # 1. Tokenise to alphabetic tokens\n",
        "    text = remove_numbers(text)\n",
        "    text = remove_http(text)\n",
        "    text = remove_punctuation(text)\n",
        "    \n",
        "    text = convert_to_lower(text)\n",
        "    text = remove_white_space(text)\n",
        "    text = remove_short_words(text)\n",
        "    tokens = toknizing(text)\n",
        "    #tokeniser = RegexpTokenizer(r'[A-Za-z]+')\n",
        "    #tokens = tokeniser.tokenize(text)\n",
        "    \n",
        "    # 2. POS tagging\n",
        "    pos_map = {'J': 'a', 'N': 'n', 'R': 'r', 'V': 'v'}\n",
        "    pos_tags = pos_tag(tokens)\n",
        "    #print(pos_tags)\n",
        "    # 3. Lowercase and lemmatise \n",
        "    lemmatiser = WordNetLemmatizer()\n",
        "    tokens = [lemmatiser.lemmatize(t.lower(), pos=pos_map.get(p[0], 'v')) for t, p in pos_tags]\n",
        "    return tokens\n",
        "#################################3\n",
        "def convert_to_lower(text):\n",
        "  return text.lower()\n",
        "####################################################################################\n",
        "def remove_numbers(text):\n",
        "  text = re.sub(r'\\d+' , '', text)\n",
        "  return text\n",
        "\n",
        "def remove_http(text):\n",
        "  text = re.sub(\"https?:\\/\\/t.co\\/[A-Za-z0-9]*\", ' ', text)\n",
        "  return text\n",
        "#################################################\n",
        "def remove_short_words(text):\n",
        "  text = re.sub(r'\\b\\w{1,2}\\b', '', text)\n",
        "  return text\n",
        "####################################################################################\n",
        "def remove_punctuation_without(text):\n",
        "     punctuations = '''()[]{}:'\"\\<>`?@=#$%^+&*_~'''\n",
        "     no_punct = \"\"\n",
        "     \n",
        "     for char in text:\n",
        "        if char not in punctuations:\n",
        "            no_punct = no_punct + char\n",
        "     return no_punct\n",
        "#####################################################\n",
        "def remove_punctuation(text):\n",
        "     punctuations = '''!()[]{};:'\"\\,`<>./?@=#$-(%^)+&[*_]~'''\n",
        "     no_punct = \"\"\n",
        "     \n",
        "     for char in text:\n",
        "        if char not in punctuations:\n",
        "            no_punct = no_punct + char\n",
        "     return no_punct\n",
        "\n",
        "\n",
        "####################################################################################\n",
        "def remove_white_space(text):\n",
        "  text = text.strip()\n",
        "  return text\n",
        "####################################################################################\n",
        "def toknizing(text):\n",
        "  stop_words = set(my_stopwords)\n",
        "  tokens = word_tokenize(text)\n",
        "  ## Remove Stopwords from tokens\n",
        "  result = [i for i in tokens if not i in stop_words]\n",
        "  return result\n",
        "###################################################################################\n",
        "def remove_duplication(text):\n",
        "  return list(set(text)) \n",
        "###################################\n",
        "## for tfidf vectors\n",
        "def get_tokened_docs(data_DF):\n",
        "  doclist= []\n",
        "  for d in  data_DF['text']:\n",
        "    doclist.append(d)\n",
        "\n",
        "  tokened_docs=[]\n",
        "  for d in doclist:\n",
        "    doc_as_token = preprocess_text(d)\n",
        "    doc_as_text = ' '.join(doc_as_token)\n",
        "    tokened_docs.append(doc_as_text)\n",
        "  return tokened_docs\n",
        "\n",
        "def get_cleaned_docs(data_DF):\n",
        "  doclist= []\n",
        "  for d in  data_DF['text']:\n",
        "    doclist.append(d)\n",
        "\n",
        "  tokened_docs=[]\n",
        "  for d in doclist:\n",
        "    doc_as_token = clean(d)\n",
        "    tokened_docs.append(doc_as_text)\n",
        "  return tokened_docs\n",
        "\n",
        "#######################################################\n",
        "#استخراج الكلمات ذات وزن اكبر من متوسط اوزان كلمات المستند\n",
        "def get_important_words_by_tfidf(doc_vectors):\n",
        "  from statistics import mean\n",
        "  new_doc_list =[]\n",
        "  for doc_vect in doc_vectors:\n",
        "    #get mean value of dict elements tfidf values\n",
        "    thr_mean= mean(doc_vect[k] for k in doc_vect)\n",
        "    #print(thr_mean)\n",
        "    d = dict((k, v) for k, v in doc_vect.items() if v >= thr_mean)\n",
        "    new_doc_list.append(d)\n",
        "  return new_doc_list\n",
        "##########################\n",
        "#تحويل القاموس لكل مستند الى قائمة من اسماء الكلمات فقط دون الوزن\n",
        "def get_doc_features_list(new_doc_list):\n",
        "  doc_list_important = []\n",
        "  for doc in new_doc_list:\n",
        "    ##we need only the value\n",
        "    doc_features = list(doc.keys())\n",
        "    doc_list_important.append(doc_features)\n",
        "  return doc_list_important\n",
        "\n",
        "##################################\n",
        "def Convert_list_of_list_to_list(all_tokens):\n",
        "  tokens = []\n",
        "  for words in all_tokens:\n",
        "    for i in words:\n",
        "      tokens.append(i)\n",
        "  return tokens\n",
        "\n",
        "########################################\n",
        "#تنظيف الكلمات المفتاحية الاساسية وحذف المسافات والضجيج\n",
        "def clear_orginal_kw(orginal_kw):\n",
        "  orginal_kw_clean =[]\n",
        "  for doc_wk in orginal_kw:\n",
        "    temp =[]\n",
        "    for t in doc_wk:\n",
        "      tt = ' '.join(preprocess_text(t))\n",
        "      if len(tt.split())>0:\n",
        "        temp.append(tt)\n",
        "    orginal_kw_clean.append(temp)\n",
        "  return orginal_kw_clean\n",
        "############################################# clean list of single document keywords \n",
        "def clean_resulted_kw(list_of_doc_kw):\n",
        "  pro_kw=[]\n",
        "  for kw in list_of_kw: \n",
        "    text = remove_numbers(kw)\n",
        "    text = remove_http(text)\n",
        "    text = remove_punctuation(text)\n",
        "    text = remove_white_space(text)\n",
        "    pro_kw.append(text)\n",
        "  return pro_kw\n",
        "#####################\n",
        "#get max min value of dictionary\n",
        "def keywithmaxval(d):\n",
        "     v=list(d.values())\n",
        "     \n",
        "     k=list(d.keys())\n",
        "     return k[v.index(min(v))], min(v), k[v.index(max(v))], max(v)\n",
        "###############################################\n",
        "# get max val for each dictionary and divide by max\n",
        "def normalize_dictionary(list_of_dict):\n",
        "  for doc_dic in list_of_dict:\n",
        "    m,mv, ma, mav = keywithmaxval(doc_dic)\n",
        "    \n",
        "    for k,v in doc_dic.items():\n",
        "      vv = v/mav\n",
        "      doc_dic.update({k:vv})\n",
        "  return list_of_dict\n",
        "\n",
        "\n",
        "###########################################################################################\n",
        "##################################################\n",
        "def Convert_list_of_list_to_list(all_tokens):\n",
        "  tokens = []\n",
        "  for words in all_tokens:\n",
        "    for i in words:\n",
        "      tokens.append(i)\n",
        "  return tokens\n",
        "############################################################################\n",
        "chunk_tokenizer = nltk.data.load('tokenizers/punkt/english.pickle')\n",
        "\n",
        "######################################chunck all docs\n",
        "def all_doc2chunk(dtf,chunk_tokenizer):\n",
        "  document_as_chunk_sent = []\n",
        "  for doc in dtf:\n",
        "    cunked_doc = doc2chunk(doc, chunk_tokenizer)\n",
        "    document_as_chunk_sent.append(cunked_doc)\n",
        "  return document_as_chunk_sent\n",
        "\n",
        "##################################################### chunck single document\n",
        "def doc2chunk(doc , chunk_tokenizer):\n",
        "  doc_as_chunk = []\n",
        "  sents = chunk_tokenizer.tokenize(doc) # list of sent\n",
        "  \n",
        "  for sent in sents:\n",
        "    chunks = re.split('; |, |! ',sent)\n",
        "    chunk_of_token = []\n",
        "    for ch in chunks:\n",
        "      if len(ch)> 0: \n",
        "        tokenss = ch.split()\n",
        "      \n",
        "        #check tokens purity\n",
        "        tokens_in_chunk = [] # to fill clean tokens only\n",
        "        for t in tokenss:\n",
        "          if t not in my_stopwords and len(t)>2 and not t.isdigit():\n",
        "            tokens_in_chunk.append(t)\n",
        "      \n",
        "      if len(tokens_in_chunk) > 0:\n",
        "        chunk_of_token.append(tokens_in_chunk)  # save token in chunck list\n",
        "\n",
        "    doc_as_chunk.append(chunk_of_token)        # list of sentences chunks\n",
        "  \n",
        "  return doc_as_chunk\n",
        "#####################################################################################3\n",
        "\n",
        "##################################################### chunck single document\n",
        "def doc2chunk_str(doc):\n",
        "  chunk_tokenizer = nltk.data.load('tokenizers/punkt/english.pickle')\n",
        "  doc_as_chunk = []\n",
        "  sents = chunk_tokenizer.tokenize(doc) # list of sent\n",
        "  \n",
        "  for sent in sents:\n",
        "    chunks = re.split('; |, |! ',sent)\n",
        "    chunk_of_token = []\n",
        "    for ch in chunks:\n",
        "      if len(ch)> 0: \n",
        "        tokenss = ch.split()\n",
        "      \n",
        "        #check tokens purity\n",
        "        tokens_in_chunk = [] # to fill clean tokens only\n",
        "        for t in tokenss:\n",
        "          if t not in my_stopwords and len(t)>2 and not t.isdigit():\n",
        "            tokens_in_chunk.append(t)\n",
        "      \n",
        "      if len(tokens_in_chunk) > 0:\n",
        "        chunk_of_token.append(tokens_in_chunk)  # save token in chunck list\n",
        "\n",
        "    doc_as_chunk.append(chunk_of_token)        # list of sentences chunks\n",
        "  new_d = ' '.join(Convert_list_of_list_to_list(Convert_list_of_list_to_list(doc_as_chunk)))\n",
        "  return doc_as_chunk\n",
        "###################################################33\n",
        "def check_kw_chunk(kword, document_as_chunk):\n",
        "  is_kw = 0\n",
        "  tokens = kword.split()   # keyword words\n",
        "  token_len = len(tokens )  #number of words in kw\n",
        "\n",
        "  for sent in  document_as_chunk:\n",
        "    for chunks in sent:\n",
        "      token_in_ch =0  # count the words in one chunk\n",
        "      for t in tokens:\n",
        "        if t in chunks:\n",
        "          token_in_ch = token_in_ch+1\n",
        "      if token_in_ch == token_len:\n",
        "        # all token were appeared inone chunk\n",
        "        is_kw =1\n",
        "        break;\n",
        "      else:\n",
        "        continue;\n",
        "  \n",
        "  return is_kw\n",
        "\n",
        "#####################################################################################\n",
        "def from_chunk_to_tokens(doc):\n",
        "  new_doc= doc.split()\n",
        "  return new_doc\n",
        "\n",
        "#################################### get the longest key words\n",
        "def get_longest_ky_for_doc(orginal_doc_kw):\n",
        "  longest= orginal_doc_kw[0]\n",
        "  index =0 \n",
        "  for i, kw in enumerate(orginal_doc_kw):\n",
        "    if len(kw)> len(longest):\n",
        "      index = i\n",
        "\n",
        "  return index\n",
        "\n",
        "##########################################\n",
        "def get_longest_ky(orginal_kw):\n",
        "  longest = 1\n",
        "  for doc_kw in orginal_kw:\n",
        "    indx = get_longest_ky_for_doc(doc_kw)\n",
        "    long  = len(doc_kw[indx].split())\n",
        "    if long > longest:\n",
        "      longest = long\n",
        "  return longest\n",
        "####################################\n",
        "############################################################################################\n",
        "################################################\n",
        "def check_chunk_tf(doc_sorted_tfidfs, document_as_chunk_sent):\n",
        "  ranked_chunked_kywords =[]\n",
        "  for doc_id, ranked_doc in enumerate(doc_sorted_tfidfs):\n",
        "    tot = 0\n",
        "    #list_kw= []\n",
        "    dict_kw= {}\n",
        "    for t, v in ranked_doc.items():\n",
        "      x= check_kw_chunk(t, document_as_chunk_sent[doc_id])\n",
        "      if x == 1:\n",
        "        tot = tot + 1\n",
        "        #list_kw.append(t)\n",
        "        dict_kw.update({t:v})\n",
        "    ranked_chunked_kywords.append(dict_kw)\n",
        "  \n",
        "  return ranked_chunked_kywords\n",
        "\n",
        "##################################################################################\n",
        "##################################  Defining Our Methods Here    ##################################################\n",
        "# Save the pre_trained model embeddings.. \n",
        "def save_embeddings(model, file_path):\n",
        "  word_vectors = model.wv\n",
        "  word_vectors.save(file_path)\n",
        "###############################################3\n",
        "### install pre_trained_model\n",
        "import gensim.downloader\n",
        "def intall_pre_trained_model(file_path, model_name):\n",
        "  model = gensim.downloader.load(model_name)\n",
        "  save_embeddings(model , file_path)\n",
        "  return model\n",
        "  print('the models are intalled and saved in the \" ' + file_path + '\"')\n",
        "\n",
        "#######################################################33\n",
        "######################################\n",
        "### loading the embeddings\n",
        "def Load_pre_trained_model_embeddings(file_path):\n",
        "  wv = KeyedVectors.load(file_path, mmap='r')\n",
        "  return wv\n",
        "\n",
        "##############################################################################################\n",
        "from gensim.models import KeyedVectors\n",
        "from gensim.models import Word2Vec\n",
        "\n",
        "import math\n",
        "def score_fastTF(tf_scores,docs_from_fasttext  ,B):\n",
        "  doc_scored_kw = []\n",
        "  \n",
        "  for doc_id in range(len(docs_from_fasttext)):\n",
        "    Keyords_output = {}\n",
        "    current_doc = docs_from_fasttext[doc_id] # dictionary token : sim\n",
        "    current_doc_tf= tf_scores[doc_id]\n",
        "\n",
        "    for word , sim in current_doc.items():\n",
        "      res = (2*B*current_doc_tf[word]*sim)/(B*current_doc_tf[word]+sim)\n",
        "      #s = math.exp(sim/len(word.split()))\n",
        "      #res = (2*B*current_doc_tf[word]*s)/(B*current_doc_tf[word]+s)\n",
        "\n",
        "      \n",
        "      Keyords_output.update({word:res})\n",
        "    \n",
        "    # store output for each document\n",
        "    doc_scored_kw.append(Keyords_output)\n",
        "  return doc_scored_kw\n",
        "#################################################################\n",
        "def score_keywords(doc_keywords,doc_tfidfs, Sbert  ,B):\n",
        "  doc_scored_kw = []\n",
        "  \n",
        "  for doc_id in range(len(doc_keywords)):\n",
        "    Keyords_output = {}\n",
        "    current_doc_tfidfs =  doc_tfidfs[doc_id]\n",
        "    for i, w in enumerate(doc_keywords[doc_id]):\n",
        "      #mul= (2*B*current_doc_tfidfs[i][1]*Sbert[doc_id][i])/(B*current_doc_tfidfs[i][1]+Sbert[doc_id][i])\n",
        "      mul= (2*B*current_doc_tfidfs[w]*Sbert[doc_id][i])/(B*current_doc_tfidfs[w]+Sbert[doc_id][i])\n",
        "      Keyords_output.update({w:mul})\n",
        "\n",
        "    doc_scored_kw.append(Keyords_output)\n",
        "  return doc_scored_kw\n",
        "\n",
        "############################\n",
        "def rank_kywords(all_doc_kw):\n",
        "  ranked_kywords = []\n",
        "  for doc_id in range(len(all_doc_kw)):\n",
        "    sorted_doc_kw = sorted(all_doc_kw[doc_id].items(), key=lambda x: x[1], reverse=True)\n",
        "    ranked_kywords.append(sorted_doc_kw)\n",
        "  return ranked_kywords\n",
        "\n",
        "################################################\n",
        "def check_chunk(ranked_kywords, document_as_chunk_sent):\n",
        "  ranked_chunked_kywords =[]\n",
        "  for doc_id, ranked_doc in enumerate(ranked_kywords):\n",
        "    tot = 0\n",
        "    list_kw= []\n",
        "    for t, v in ranked_doc:\n",
        "      x= check_kw_chunk(t, document_as_chunk_sent[doc_id])\n",
        "      if x == 1:\n",
        "        tot = tot + 1\n",
        "        list_kw.append(t)\n",
        "    ranked_chunked_kywords.append(list_kw)\n",
        "  \n",
        "  return ranked_chunked_kywords\n",
        "#\n",
        "########################################################\n",
        "def get_exact_matching_kws(final_kywords, lem_orginal_kw):\n",
        "  docs_matched_kw = []\n",
        "  sum_of_tp = 0\n",
        "  sum_of_FP = 0\n",
        "  g_truth= 0\n",
        "  for doc_id in range(len(final_kywords)):\n",
        "    len_orgin = len(lem_orginal_kw[doc_id])\n",
        "\n",
        "    # topN == number of groud truth\n",
        "    top_15 = final_kywords[doc_id][0:len_orgin]\n",
        "    obwe = get_exact_intersect(lem_orginal_kw[doc_id], top_15)\n",
        "    docs_matched_kw.append(obwe)\n",
        "\n",
        "    right = len(list(set(obwe)))\n",
        "    wrong = len_orgin - right\n",
        "\n",
        "    sum_of_tp = sum_of_tp + right\n",
        "    g_truth = g_truth + len_orgin\n",
        "    sum_of_FP = sum_of_FP + wrong\n",
        "  F =0\n",
        "  if sum_of_tp !=0:\n",
        "    Precision = sum_of_tp / (sum_of_tp + sum_of_FP)\n",
        "    Recall = sum_of_tp/ g_truth\n",
        "    F = 2 * Precision * Recall / (Precision + Recall)\n",
        "  return docs_matched_kw , F\n",
        "##################################\n",
        "def get_matching_kws(final_kywords, lem_orginal_kw):\n",
        "  docs_matched_kw = []\n",
        "  sum_of_tp = 0\n",
        "  sum_of_FP = 0\n",
        "  g_truth= 0\n",
        "  for doc_id in range(len(final_kywords)):\n",
        "    len_orgin = len(lem_orginal_kw[doc_id])\n",
        "\n",
        "    # topN == number of groud truth\n",
        "    top_15 = final_kywords[doc_id][0:len_orgin]\n",
        "    obwe = get_intersect(lem_orginal_kw[doc_id], top_15)\n",
        "    docs_matched_kw.append(obwe)\n",
        "\n",
        "    right = len(list(set(obwe)))\n",
        "    wrong = len_orgin - right\n",
        "\n",
        "    sum_of_tp = sum_of_tp + right\n",
        "    g_truth = g_truth + len_orgin\n",
        "    sum_of_FP = sum_of_FP + wrong\n",
        "  F =0\n",
        "  if sum_of_tp !=0:\n",
        "    Precision = sum_of_tp / (sum_of_tp + sum_of_FP)\n",
        "    Recall = sum_of_tp/ g_truth\n",
        "    F = 2 * Precision * Recall / (Precision + Recall)\n",
        "  return docs_matched_kw , F\n",
        "##########################################################3\n",
        "def get_intersect1(doc_orginal_kw, doc_my_kw):\n",
        "  general = []\n",
        "  for kw in doc_my_kw:\n",
        "    for kww in doc_orginal_kw:\n",
        "      l_my = len(kw.split())\n",
        "      l_org = len(kww.split())\n",
        "      if (kw == kww):\n",
        "        #print(\"exact matching ========\", kw, kww)\n",
        "        if kww not in general:\n",
        "          general.append(kww)\n",
        "      elif (is_subset(kw.split(), kww.split()) == 1):\n",
        "        #print(\"result : \",kw, \"==is sub === set from :\",kww)\n",
        "        if kww not in general:\n",
        "          general.append(kww)\n",
        "      elif (is_subset(kww.split(), kw.split()) == 1) and (l_org >= 2):\n",
        "        #print(\" org: \",kww, \"===is sub===== my set from:\",kw)\n",
        "        if kww not in general:\n",
        "          general.append(kww)\n",
        "  return general\n",
        "#####################################################3333\n",
        "def get_intersect(doc_orginal_kw, doc_my_kw):\n",
        "  general = []\n",
        "  for kw in doc_my_kw:\n",
        "    for kww in doc_orginal_kw:\n",
        "      l_my = len(kw.split())\n",
        "      l_org = len(kww.split())\n",
        "      if (kw == kww):\n",
        "        #print(\"exact matching ========\", kw, kww)\n",
        "        if kww not in general:\n",
        "          general.append(kww)\n",
        "      elif (is_subset(kw.split(), kww.split()) == 1):\n",
        "        #print(\"result : \",kw, \"==is sub === set from :\",kww)\n",
        "        if kww not in general:\n",
        "          general.append(kww)\n",
        " \n",
        "  return general\n",
        "#################################\n",
        "def get_exact_intersect(doc_orginal_kw, doc_my_kw):\n",
        "  general = []\n",
        "  for kw in doc_my_kw:\n",
        "    for kww in doc_orginal_kw:\n",
        "      l_my = len(kw.split())\n",
        "      l_org = len(kww.split())\n",
        "      if (kw == kww):\n",
        "        #print(\"exact matching ========\", kw, kww)\n",
        "        if kww not in general:\n",
        "          general.append(kww) \n",
        "  return general\n",
        "########################################################\n",
        "def is_subset(sub_list, test_list):\n",
        "  # using all() to check subset of list\n",
        "  flag = 0\n",
        "  if(all(x in test_list for x in sub_list)) and len(sub_list)> 1 and len(test_list)> 1:\n",
        "      flag = 1\n",
        "  return flag\n",
        "##############################\n",
        "sp = spacy.load('en_core_web_sm')\n",
        "def get_lemmatized_orginal_kw(orginal_kw):\n",
        "  all_lemmatized_orginal_kw = []\n",
        "  for doc_id in range(len(orginal_kw)):\n",
        "    lemmatized_orginal_kw = []\n",
        "    for t in orginal_kw[doc_id]:\n",
        "      term_words = t.split()\n",
        "      #print(\"befor \",term_words)\n",
        "      whole_term =[]\n",
        "      \n",
        "      for w in term_words:\n",
        "        lemmatized_w = [w.lemma_ for w in sp(w)][0]\n",
        "        #print(lemmatized_w)\n",
        "        x= lemmatized_w #\n",
        "        whole_term.append(x)\n",
        "      \n",
        "      if len(whole_term)> 0:\n",
        "        #print(\"after \",whole_term)\n",
        "        lemmatized_orginal_kw.append(' '.join(whole_term))\n",
        "    all_lemmatized_orginal_kw.append(lemmatized_orginal_kw)\n",
        "  return all_lemmatized_orginal_kw\n",
        "\n",
        "#################################################33\n",
        "#####################33\n",
        "def filter_kw(doc_kw, N):\n",
        "  top_N = doc_kw[0:N]\n",
        "  for kw in doc_kw:\n",
        "    #print(\"kw \",kw)\n",
        "    if len(kw.split()) == 1:\n",
        "      occ, kw_lens = singl_kw_occur_in_topN(kw, top_N)\n",
        "      #print(\"occ = \",occ)\n",
        "      if (occ >= 2):\n",
        "        doc_kw.remove(kw)\n",
        "        filter_kw(doc_kw, N)\n",
        "    \n",
        "    if len(kw.split())  == 2:\n",
        "      occ, kw_lens = double_kw_occur_in_topN(kw, top_N)\n",
        "      #print(\"occ = \",occ)\n",
        "      if (occ >= 2):\n",
        "        #print(\"remove\", kw)\n",
        "        doc_kw.remove(kw)\n",
        "        #print(\"after remove ==============\", len(doc_kw))\n",
        "        filter_kw(doc_kw, N)\n",
        "\n",
        "  return doc_kw\n",
        "\n",
        "\n",
        "##########################################\n",
        "\n",
        "# get عدد مرات ظهور كلمة في الكلمات التوب واطوال الكلمات التي ظهرت بها\n",
        "def singl_kw_occur_in_topN(kw, top_N):\n",
        "  c=0\n",
        "  kw_len = []\n",
        "  for t in top_N:\n",
        "    if t.split().count(kw) > 0:\n",
        "      c= c + 1\n",
        "      kw_len.append(len(t.split()))\n",
        "  if c>1:\n",
        "    c=c-1\n",
        "  return c, kw_len[1:]\n",
        "\n",
        "################################################333333\n",
        "def double_kw_occur_in_topN(kw, top_N):\n",
        "  c=0\n",
        "  kw_len = []\n",
        "  for t in top_N:\n",
        "    t_words = t.split()\n",
        "    #print(\"kw \", kw,\" t_words \",t_words)\n",
        "    if is_subset(kw.split(),t_words) == 1:\n",
        "      c= c + 1\n",
        "      kw_len.append(len(t_words))\n",
        "  if c>1:\n",
        "    c=c-1\n",
        "  return c, kw_len[1:]\n",
        "  \n",
        "  #######################################\n",
        "def saveList(myList,filename):\n",
        "    # the filename should mention the extension 'npy'\n",
        "    np.save(filename,myList)\n",
        "    print(\"Saved successfully!\")\n",
        "def loadList(filename):\n",
        "    # the filename should mention the extension 'npy'\n",
        "    tempNumpyArray=np.load(filename, allow_pickle=True)\n",
        "    return tempNumpyArray.tolist()"
      ],
      "execution_count": null,
      "outputs": []
    },
    {
      "cell_type": "markdown",
      "metadata": {
        "id": "h5dz9DsMwcc6"
      },
      "source": [
        "### Read files from folder"
      ]
    },
    {
      "cell_type": "code",
      "metadata": {
        "id": "2JgLeE5ZIKzH",
        "colab": {
          "base_uri": "https://localhost:8080/"
        },
        "outputId": "1124c86a-efc8-45b6-fd6c-bbd280d701fa"
      },
      "source": [
        "# SemEval2010 wiki20  \n",
        "import os       \n",
        "#path=\"/content/drive/MyDrive/PHD/Data/fao780/fao780/\"\n",
        "#path = \"/content/drive/MyDrive/PHD/Data/Schutz2008/Schutz2008/\"\n",
        "#path =\"/content/drive/MyDrive/PHD/Data/SemEval2010/\"\n",
        "#path = \"/content/drive/MyDrive/PHD/Data/Krapivin2009/\"\n",
        "#path = \"/content/drive/MyDrive/PHD/Data/wiki20/\" \n",
        "\n",
        "#path = \"/content/drive/MyDrive/PHD/Data/Inspec/\" \n",
        "#path = \"/content/drive/MyDrive/PHD/Data/theses100/theses100/\"    \n",
        "\n",
        "path = \"/content/drive/MyDrive/PHD/Data/fao30/\"  \n",
        "\n",
        "all_files = os.listdir(path+\"docsutf8\")   # imagine you're one directory above test dir\n",
        "all_keys = os.listdir(path+ \"keys\")   # imagine you're one directory above test dir\n",
        "print(len(all_files),\" files \\n\",all_files, \"\\n\", all_keys)  # won't necessarily be sorted\n"
      ],
      "execution_count": null,
      "outputs": [
        {
          "output_type": "stream",
          "name": "stdout",
          "text": [
            "30  files \n",
            " ['a0587e00.txt', 'birdpre.txt', 'y6396e00.txt', 'a0549e00.txt', 'a0541e00.txt', 'y5843e00.txt', 'at2050web.txt', 'a0276e00.txt', 'a0126e00.txt', 'ag101e00.txt', 'a0184e00.txt', 'j6561e00.txt', 'ae937e00.txt', 'ag387e00.txt', 'ag868e00.txt', 'ecology_letters_2004.txt', 'alt_livelihood.txt', 'a0011e00.txt', 'j1255e00.txt', 'y5647e00.txt', 'ae403e00.txt', 'a0469e00.txt', 'ag102e00.txt', 'ag093e00.txt', 'ae080e00.txt', 'hoagland_mre_2003.txt', 'x6998e00.txt', 'cleveland02_ecosystems.txt', 'ae228e00.txt', 'ag091e00.txt'] \n",
            " ['y6396e00.key', 'a0011e00.key', 'alt_livelihood.key', 'ae403e00.key', 'ecology_letters_2004.key', 'cleveland02_ecosystems.key', 'at2050web.key', 'ag101e00.key', 'a0276e00.key', 'ag868e00.key', 'j1255e00.key', 'a0549e00.key', 'ae080e00.key', 'hoagland_mre_2003.key', 'x6998e00.key', 'a0126e00.key', 'ag102e00.key', 'a0587e00.key', 'j6561e00.key', 'ag091e00.key', 'y5843e00.key', 'y5647e00.key', 'ae228e00.key', 'a0469e00.key', 'a0184e00.key', 'a0541e00.key', 'birdpre.key', 'ag093e00.key', 'ae937e00.key', 'ag387e00.key']\n"
          ]
        }
      ]
    },
    {
      "cell_type": "code",
      "metadata": {
        "colab": {
          "base_uri": "https://localhost:8080/",
          "height": 204
        },
        "id": "J8ihSNajejfn",
        "outputId": "7a0ec402-0623-493a-a566-42b079121351"
      },
      "source": [
        "all_documents =[]\n",
        "all_keys = []\n",
        "all_files_names = []\n",
        "for i, fname in enumerate(all_files):\n",
        "  #print(i, fname)\n",
        "  with open(path+'docsutf8/'+fname) as f:\n",
        "      lines = f.readlines()\n",
        "      #print(lines)\n",
        "  key_name= fname[:-4]\n",
        "  with open(path+'keys/'+key_name+'.key') as f:\n",
        "      k = f.readlines()\n",
        "  \n",
        "  all_text = ' '.join(lines)\n",
        "  keyss = ' '.join(k)\n",
        "  \n",
        "  #preprocesed_text = clean(all_text)\n",
        "  all_documents.append(all_text)\n",
        "  all_keys.append(keyss.split(\"\\n\"))\n",
        "  all_files_names.append(key_name)\n",
        "\n",
        "################################################\n",
        "dtf = pd.DataFrame({'y': all_files_names, 'text': all_documents})\n",
        "dtf.head()"
      ],
      "execution_count": null,
      "outputs": [
        {
          "output_type": "execute_result",
          "data": {
            "text/html": [
              "<div>\n",
              "<style scoped>\n",
              "    .dataframe tbody tr th:only-of-type {\n",
              "        vertical-align: middle;\n",
              "    }\n",
              "\n",
              "    .dataframe tbody tr th {\n",
              "        vertical-align: top;\n",
              "    }\n",
              "\n",
              "    .dataframe thead th {\n",
              "        text-align: right;\n",
              "    }\n",
              "</style>\n",
              "<table border=\"1\" class=\"dataframe\">\n",
              "  <thead>\n",
              "    <tr style=\"text-align: right;\">\n",
              "      <th></th>\n",
              "      <th>y</th>\n",
              "      <th>text</th>\n",
              "    </tr>\n",
              "  </thead>\n",
              "  <tbody>\n",
              "    <tr>\n",
              "      <th>0</th>\n",
              "      <td>a0587e00</td>\n",
              "      <td>pour for producteurs et Exporters from West Af...</td>\n",
              "    </tr>\n",
              "    <tr>\n",
              "      <th>1</th>\n",
              "      <td>birdpre</td>\n",
              "      <td>Overview of Techniques for Reducing Bird Preda...</td>\n",
              "    </tr>\n",
              "    <tr>\n",
              "      <th>2</th>\n",
              "      <td>y6396e00</td>\n",
              "      <td>The designations employed and the presentation...</td>\n",
              "    </tr>\n",
              "    <tr>\n",
              "      <th>3</th>\n",
              "      <td>a0549e00</td>\n",
              "      <td>TIME FOR ACTION\\n CHANGING THE GENDER SITUATIO...</td>\n",
              "    </tr>\n",
              "    <tr>\n",
              "      <th>4</th>\n",
              "      <td>a0541e00</td>\n",
              "      <td>Guidelines for soil description\\n \\n Guideline...</td>\n",
              "    </tr>\n",
              "  </tbody>\n",
              "</table>\n",
              "</div>"
            ],
            "text/plain": [
              "          y                                               text\n",
              "0  a0587e00  pour for producteurs et Exporters from West Af...\n",
              "1   birdpre  Overview of Techniques for Reducing Bird Preda...\n",
              "2  y6396e00  The designations employed and the presentation...\n",
              "3  a0549e00  TIME FOR ACTION\\n CHANGING THE GENDER SITUATIO...\n",
              "4  a0541e00  Guidelines for soil description\\n \\n Guideline..."
            ]
          },
          "metadata": {},
          "execution_count": 9
        }
      ]
    },
    {
      "cell_type": "code",
      "metadata": {
        "colab": {
          "base_uri": "https://localhost:8080/",
          "height": 289
        },
        "id": "IxK3JHvv7TvE",
        "outputId": "534d3e32-15bc-42b4-e40f-61ecb6a2f8fb"
      },
      "source": [
        "#Read df from csv on drive\n",
        "#df_path = \"/content/drive/MyDrive/PHD/Data/Cleaned_DF/fao30\"\n",
        "#dtf = pd.read_csv(df_path, sep='\\t', encoding='utf-8')\n",
        "dtf['cleaned_chunked_text'] = dtf.text.apply(lambda x: ' '.join(final_preprocess_text(x)))\n",
        "dtf['finally_cleaned_text'] = dtf.text.apply(lambda x: ' '.join(preprocess_text(x)))\n",
        "\n",
        "#svae df to csv file\n",
        "#df_path = \"/content/drive/MyDrive/PHD/Data/Cleaned_DF/fao780_DF\"\n",
        "#dtf.to_csv(df_path, sep='\\t', encoding='utf-8')\n",
        "\n",
        "\n",
        "dtf.head()"
      ],
      "execution_count": null,
      "outputs": [
        {
          "output_type": "execute_result",
          "data": {
            "text/html": [
              "<div>\n",
              "<style scoped>\n",
              "    .dataframe tbody tr th:only-of-type {\n",
              "        vertical-align: middle;\n",
              "    }\n",
              "\n",
              "    .dataframe tbody tr th {\n",
              "        vertical-align: top;\n",
              "    }\n",
              "\n",
              "    .dataframe thead th {\n",
              "        text-align: right;\n",
              "    }\n",
              "</style>\n",
              "<table border=\"1\" class=\"dataframe\">\n",
              "  <thead>\n",
              "    <tr style=\"text-align: right;\">\n",
              "      <th></th>\n",
              "      <th>y</th>\n",
              "      <th>text</th>\n",
              "      <th>cleaned_chunked_text</th>\n",
              "      <th>finally_cleaned_text</th>\n",
              "    </tr>\n",
              "  </thead>\n",
              "  <tbody>\n",
              "    <tr>\n",
              "      <th>0</th>\n",
              "      <td>a0587e00</td>\n",
              "      <td>pour for producteurs et Exporters from West Af...</td>\n",
              "      <td>pour producteurs exporter west africa louest p...</td>\n",
              "      <td>pour producteurs exporter west africa louest p...</td>\n",
              "    </tr>\n",
              "    <tr>\n",
              "      <th>1</th>\n",
              "      <td>birdpre</td>\n",
              "      <td>Overview of Techniques for Reducing Bird Preda...</td>\n",
              "      <td>overview technique reduce bird predation aquac...</td>\n",
              "      <td>overview technique reduce bird predation aquac...</td>\n",
              "    </tr>\n",
              "    <tr>\n",
              "      <th>2</th>\n",
              "      <td>y6396e00</td>\n",
              "      <td>The designations employed and the presentation...</td>\n",
              "      <td>designation employ presentation material produ...</td>\n",
              "      <td>designation employ presentation material produ...</td>\n",
              "    </tr>\n",
              "    <tr>\n",
              "      <th>3</th>\n",
              "      <td>a0549e00</td>\n",
              "      <td>TIME FOR ACTION\\n CHANGING THE GENDER SITUATIO...</td>\n",
              "      <td>time action change gender situation forestry u...</td>\n",
              "      <td>time action change gender situation forestry u...</td>\n",
              "    </tr>\n",
              "    <tr>\n",
              "      <th>4</th>\n",
              "      <td>a0541e00</td>\n",
              "      <td>Guidelines for soil description\\n \\n Guideline...</td>\n",
              "      <td>guideline soil description guideline soil desc...</td>\n",
              "      <td>guideline soil description guideline soil desc...</td>\n",
              "    </tr>\n",
              "  </tbody>\n",
              "</table>\n",
              "</div>"
            ],
            "text/plain": [
              "          y  ...                               finally_cleaned_text\n",
              "0  a0587e00  ...  pour producteurs exporter west africa louest p...\n",
              "1   birdpre  ...  overview technique reduce bird predation aquac...\n",
              "2  y6396e00  ...  designation employ presentation material produ...\n",
              "3  a0549e00  ...  time action change gender situation forestry u...\n",
              "4  a0541e00  ...  guideline soil description guideline soil desc...\n",
              "\n",
              "[5 rows x 4 columns]"
            ]
          },
          "metadata": {},
          "execution_count": 12
        }
      ]
    },
    {
      "cell_type": "code",
      "metadata": {
        "id": "qIGvoVQRQukx"
      },
      "source": [
        "# orginal keywords for all docs\n",
        "orginal_kw  = clear_orginal_kw(all_keys)"
      ],
      "execution_count": null,
      "outputs": []
    },
    {
      "cell_type": "markdown",
      "metadata": {
        "id": "di7jVhZW_43W"
      },
      "source": [
        "### **Doc to chunck**"
      ]
    },
    {
      "cell_type": "code",
      "metadata": {
        "id": "N6TlOFcokbza"
      },
      "source": [
        "document_as_chunk_sent = all_doc2chunk(dtf['cleaned_chunked_text'] , chunk_tokenizer)"
      ],
      "execution_count": null,
      "outputs": []
    },
    {
      "cell_type": "markdown",
      "metadata": {
        "id": "bLoez8cHLiKW"
      },
      "source": [
        "## Condidates using TF vectorizer"
      ]
    },
    {
      "cell_type": "markdown",
      "metadata": {
        "id": "OHi6b_kJOFC0"
      },
      "source": [
        "### from chunked doc to list of tokens"
      ]
    },
    {
      "cell_type": "code",
      "metadata": {
        "id": "gXd1brvUxFtk",
        "colab": {
          "base_uri": "https://localhost:8080/"
        },
        "outputId": "246db901-58e0-4409-ff7e-d425977c4820"
      },
      "source": [
        "#اعادة المستند من المقاطع الى شكله كنص متصل\n",
        "\n",
        "#### select self or pretrained tokens\n",
        "docs_as_string = []\n",
        "for doc in document_as_chunk_sent:\n",
        "  #print(doc)\n",
        "  new_d = ' '.join(Convert_list_of_list_to_list(Convert_list_of_list_to_list(doc)))\n",
        "  docs_as_string.append(new_d)\n",
        "\n",
        "\n",
        "print(\"example of document\\n\", docs_as_string[0],\"\\n number of tokens\",len(docs_as_string[0].split()))"
      ],
      "execution_count": null,
      "outputs": [
        {
          "output_type": "stream",
          "name": "stdout",
          "text": [
            "example of document\n",
            " pour producteurs exporter west africa louest producer exportateurs lafrique guide pratique practical manual reglementations regulation normes certification sta lexportation produits pour ndards certification agricultural export agricoles manual produce financial support technical centre agricultural rural cooperation cta government germany food agriculture organization united nation fao manual partly base fao/ruta unidad regional asistencia técnica spanish manual ¿es certificación algo para una guía práctica sobre por qué cómo quién certificar productos para exportación andersen pazderka liu pazderka liu isbn -x. author aïcha coulibaly commodity trade division fao pascal liu commodity trade division fao collaboration cora dankers commodity trade division fao antoine fayossewo techno service farm layout manual bruno dumoulin illustration diop aly nguer mention omission specific company product brand imply endorsement judgment food agriculture organization unite nation view express publication author reflect view food agriculture organization united nation designation employ presentation material product imply expression opinion whatsoever food agriculture organization united nation legal development status country territory city area authority delimitation frontier boundary reserve reproduction dissemination material product educational noncommercial purpose authorize prior write permission copyright holder provide source fully acknowledge reproduction material product resale commercial purpose prohibit write permission copyright holder application permission address chief publish management service division fao viale delle terme caracalla rome italy e-mail copyrightfao.org fao manual objective provide producer exporter regulation main import country major certification programme contact import regulation certification scheme producer feel market certify agricultural product complex opportunity requirement certification programme clear addition producer requirement compulsory create official law regulation import country voluntary framework manual create read content reader understand main voluntary certification scheme reader understand main voluntary certification scheme difference advantage limitation order export his/her product producer exporter conform regulation import country reader manual main import regulation united state european union japan topic farm practice post-harvest activity scope manual manual comprises standard import regulation main voluntary certification scheme difficult provide comprehensive import regulation certification programme reason change nature regulation import country diversity product characteristic numerous internet address provide additional manual blank enable update add internet link gather search hope manual respond escr mandate commodity trade division esc fao identify problem commodity trade propose solution address preferably international action escr raw material tropical horticultural product service involve issue social environmental certification continue analytical work trade economic problem bananas commodity responsible fao-escr produce technical study publication social environmental certification include small brochure target wholesale retail buyer banana explain difference certification scheme extension manual aim producer association exporters central america voluntary certification programme import regulation main export market cost-benefit analysis certify citrus spain costa rica cost-benefit analysis certify citrus spain costa rica technical paper environmental social standard certification label cash crop fao establish internet portal relevant study link organization work improve social environmental condition agricultural production trade http//www.fao.org/es/esc/en///highlighten.html technical centre agricultural rural cooperation cta establish lomé convention acp african caribbean pacific group state european union member state operate framework acp-ec cotonou agreement ctas task develop provide service improve access agricultural rural development strengthen capacity acp country produce acquire exchange utilize area ctas programme design provide wide range product service enhance awareness relevant source promote integrated communication channel intensify contact exchange intra-acp develop acp capacity generate manage agricultural formulate icm strategy include relevant science technology ctas work incorporate development methodology cross-cutting issue gender social capital cta postbus wageningen netherlands -website www.cta.int iii content manual glossary technical regulation control import commercial quality label regulation food safety regulation maximum residue limit pesticide biological contamination product traceability environmental safety phytosanitary regulation custom clearance organization support export west africa voluntary certification question certification environmental certification organic agriculture iso certification utz kapeh social certification fair-trade certification food safety quality certification eurepgap tification iso brc global standard goal certification scheme opportunity constraint certification scheme glossary bioterrorism bioterrorism form terrorism base pathogen practice comprise bacteria virus toxin person animal plant biological contamination contamination material living matter pathogens genetically modify organisms fumigation treatment base disinfection product chemical agent type treatment require disinfect material commodity packaging meant export quarantine quarantine confinement product comply phytosanitary requirement import country confinement product aim avoid introduction spread disease confine product observation inspection test and/or treatment haccp principle haccp maintains food safety food supply chain farm consumer table consist analyse contamination hazard order identify critical control point production product avoid contamination ensure food safety step lead haccp implantation assemble haccp team product identify intended construct flow diagram on-site confirmation flow diagram list potential hazard step conduct hazard analysis measure control identify hazard determine critical control point establish critical limit critical control point establish monitor critical control point establish corrective action establish verification procedure establish documentation record technical regulation control import technical norm import requirement united state european union japan export product international market producer exporter comply norms regulation order ensure product quality environmental protection consumer health norm regulation depend product country export import regulation base international food standard develop individual country non-compliance requirement lead quarantine product rejection import country commercial quality label regulation onsumers increasingly concerned health country origin quality product consume popular regulation focus grade size weight package label labelling require include country origin product variety quantity requirement relate commercial quality variety colour expiration external damage shape entry product require comply grade import country product minimum condition united state united state require agricultural import grade standard american marketing service unite state department agriculture usda product grade quality requirement establish usda usda www.ams.usda.gov/standards/stanfrfv.htm usda www.ams.usda.gov/fv/moab-e.html fda www.cfsan.fda.gov/dms/lab-ind.html component farm farm security rural investment implementation mandatory country origin label cool programme usda http//www.ams.usda.gov/cool/ european union european union require import fresh fruit vegetable meet european community marketing standard quality label control inspection body point import case approve country point export marketing standard european union consult united kingdom department environment food rural affair defra website defra marketing standard www.defra.gov.uk/hort/hmi.htm japan japan require import product comply regulation food sanitation law japan agricultural standard jas law measurement law standard import procedure specific product japan external trade organization http//www.jetro.go.jp/en/market/regulations/ ministry agriculture forestry fishery http//www.maff.go.jp/soshiki/syokuhin/hinshitu/elabel/index.htm food safety regulation producer ensure quality safety produce avoid potential hazard risk contaminated water maximum residue limit pesticide egulations maximum residue limit mrls pesticide herbicide insecticide fungicide effective national international level producer exporter comply regulation country regulation maximum residue limit pesticide regulation import country chemical register crop strictly follow direction instruction leaflet container box bottle treatment meet recommend dos link comprehensive food safety regulation international level e.g codex standard and/or national level http//www.ipfsaph.org/en/default.jsp http//www.fao.org/ag/agn/food/foodfruitsen.stm united state united state maximum residue limit pesticide establish environmental protection agency epa control food drug administration fda point import agricultural product requirement maximum residue limit establish epa environmental protection agency www.access.gpo.gov/nara/cfr/waisidx/cfr.html www.epa.gov/pesticides/food/viewtols.htm www.epa.gov/fedrgstr/epa-pest/index.html website enable user maximum residue limit crop pesticide active ingredient pesticide type country www.fas.usda.gov/htp/mrl.htm european union european union continue low maximum limit pesticide residue permit product pesticides common limit apply entire european union pesticide residue limit vary country country country verifies regulation meet ministry agriculture point entry european union country set maximum limit exporter require import tolerance pesticide residue limit european union member country http//europa.eu.int/comm/food/plant/protection/pesticides/indexen.htm http//europa.eu.int/comm/food/plant/protection/indexen.htm http//europa.eu.int/scadplus/leg/en/lvb/l.htm contact point member state http//europa.eu.int/comm/food/plant/protection/evaluation/contactdec.xls application procedure import tolerance http//www.pesticides.gov.uk/applicantguide.aspid japan japan ministry health labour welfare environmental department responsible establish test residue limit limit base food sanitation law pesticide residue level http//www.mhlw.go.jp/english/topics/foodsafety/positivelist/index.html biological contamination product traceability response problem food safety e.g mad cow disease global terrorism government increase control stage food production process distribution protect consumer biological contamination food traceability identify product origin location supply chain enable efficient recall case product contamination determine origin food safety problem comply legal requirement meet consumer expectation safety quality purchase product limit contamination risk monitor stage supply chain grow number government retailer require haccp principle application good hygienic practice ghps good agricultural practice gap crop production http//www.fao.org/ag/agn/food/foodfruitsen.stm http//www.fao.org/ag/agn/food/qualityhaccpen.stm united states government unite state adopt bioterrorism require exporter register food drug administration fda notice prior product arrival united state united state bioterrorism food drug administration www.cfsan.fda.gov/dms/ffsbtac.html www.access.fda.gov/ usa cool programme impact traceability requirement united state supplier country general programme usda www.ams.usda.gov/cool/ european union european union regulation traceability enter force january order comply rule european union importer identify origin product consequence require exporter comply traceability requirement exporter trade partner country legally require fulfil traceability requirement impose general traceability http//europa.eu.int/comm/food/food/foodlaw/guidance/guidancereven.pdf http//europa.eu.int/comm/food/food/foodlaw/traceability/indexen.htm http//europa.eu.int/scadplus/leg/en/lvb/.htm detailed explanation regulation consult pesticide initiative programme coleacp http//www.coleacp.org/ email pipcoleacp.org explanation foodstuff hygiene requirement consult http//europa.eu.int/comm/food/food/biosafety/hygienelegislation/guidancedocen.pdf japan time prepare manual traceability requirement exporter exist japan environmental safety phytosanitary regulation roducers comply phytosanitary regulation prevent entry spread plant diseases pest area major import country implement pest risk analysis order determine risk level import product inspect product arrival ensure level risk exceed apply phytosanitary certificate regulate product plant seed fruit vegetable cut flower phytosanitary certificate content https//www.ippc.int/ipp/en/default.jsp phytosanitary regulation united state united state inspector animal plant health inspection service agency united state department agriculture examine approve shipment clear custom sign pest disease produce fumigate treated manner return country origin destroy plant quarantine unite state usda www.aphis.usda.gov/ppq/permits european union export european union producer exporter comply plant health regulation european union regulation enforce point entry plant health regulation europe contact international phytosanitary portal https//www.ippc.int/ipp/en/nppo.jsp consolidate text phytosanitary requirement council directive //ec amendment http//europa.eu.int/eur-lex/en/consleg/pdf//enldo.pdf japan japanese government require supplier country comply plant protection law plant health law food sanitation law regulation enforce plant protection division ministry agriculture forestry fishery maff japanese phytosanitary regulation japanese quarantine plant protection station www.pps.go.jp/english/ japan external trade organization http//www.jetro.go.jp/en/market/regulations/pdf/plantapr-e.pdf custom clearance inal authorization product entry depend custom official country import clear custom exporter form commercial ship pay fee duty tax process form time-consuming country offer pre-clearance programme save time product clear custom country origin official guarantee product regulation compliance norm regulation import country product rejection united state custom official authorize entrance product united state inspection aphis fda point entry exporter pay duty determine quantity determine quantity description country origin speed processing time border exporter complete custom procedure departure aphis international service country pre-clearance import document phytosanitary certificate pre-clearance arrangement united state www.aphis.usda.gov/ppq/preclearance/ exporter automate commercial developed custom process document electronically www.cbp.gov/xp/cgov/import/operationssupport/automatedsystems/ams/ european union procedure customs clearance european union vary country country electronic custom programme speed clearance time specific custom procedures tariff rate country taxation custom union http//europa.eu.int/comm/taxationcustoms/common/about/welcome/indexen.htm centre promotion import develop country cbi www.cbi.nl japan prior arrival product exporter notify quarantine station point entry electronic operate ministry health welfare reduce time spend custom sample product bring official lab japan export country submit pre-clearance consumption tax duty pay final clearance import procedure www.mhlw.go.jp/english/topics/importedfoods/index.html organization support export west africa national organization locate west african country work producer comply regulation roducers exporter familiarize large variety technical norm import regulation complicate number international organization dont hesitate contact international local organization provide additional relevant training international level coleacp pesticide initiative programme pip harmonize framework code practice www.coleacp.org on-line export desk develop country http//export-help.cec.eu.int/ guideline facilitate trade http//europa.eu.int/comm/food/fvo/pdf/guidethirdcountriesen.pdf international trade center http//www.intracen.org/menus/itc.htm market access database http//mkaccdb.eu.int national organization benin association développement des produits dexportations adex tel email adexintnet.bj centre béninois commerce extérieur tel email cbcebow.intnet.bj www.cbce.africa-web.org/ fédération des groupements dintérêts économiques latlantique tel email sylvieamoussouyahoo.fr burkina faso association professionnelle exportateurs fruit légumes burkina apefel tel ministère commerce lartisanat promotion lentreprise tel email mciacenatrin.bf union nationale groupements sociétés coopératives production fruitière maraîchère burkina faso tel email ufmbfasonet.bf côte divoire association pour promotion des produits dexportation côte divoire apexci tel email apexciaviso.ci association pour promotion des produits dexportation agricoles non­traditionnelles côte divoire promexa tel email infopromexa.ci organisation centrale producteurs/exportateurs dananas bananes tel email ocab.aaviso.ci exportation mangue ananas société détude développement culture bananière tel email scbscb.ci gambia department state trade industry employment tel email dostieqanet.gm web www.gambia.gm/introduction/introduction.html ghana federation association ghanaian exporter fage tel email fageighmail.com web www.ghana-exporter.org -ghana association vegetable exporter gavex email tacksafricaonline.com ghana export promotion council gepc tel email gepcghana.com web www.exportghana.org -horticulturist association ghana hag email hagafricaonline.com ministry trade industry tel email mismotiafricaonline.com.gh web www.moti-ghana.com -papaya mango producer exporter association ghana pampeag email pampeagyahoo.co.uk -plant protection regulatory service directorate tel email spsghanaafricaonline.com.gh uqadamshotmail.com -vegetable grower exporter association ghana vepeag email vepeagyahoo.com web www.ghana-exporter.org/vepeag/default.htm guinea projet cadre promotion exportation agricoles pcpea tel email pcpeamirinet.net.gn liberia ministry commerce industry tel mali ministère lindustrie commerce tel email dnaedatatech.toolnet.org trade mali tel email infotrademali.com niger centre nigérien commerce extérieur tel ministère commerce lindustrie promotion secteur privé tel email nicomintnet.ne nigeria chamber commerce industry agriculture port harcourt tel international trade center lagos tel email wtcnlinkserve.com nigeria export promotion council nepc tel web www.nepc.gov.ng senegal centre international commerce extérieur sénégal cices tel email cicescices.sn chambre commerce dindustrie dagriculture dakar ccia tel email cciadtelecomplus.sn fondation trade point sénégal tel email tpdakartpsnet.org web www.tpsnet.org organisation nationale producteurs/exportateurs fruit légumes sénégal onapes tel email onapesinfocom.sn sierra leone -ministry trade industry tel -sierra leone export development investment corporation sledic tel togo chambre commerce dagriculture lindustrie togo tel fax ministère commerce lindustrie lartisanat tel fax voluntary certification manual technical norm import regulation united state european union japan compulsory exporter producer sell product market manual deal voluntary private certification objective provide producer exporters general major voluntary agricultural certification programme private western africa include contact question certification voluntary certification certificate write guarantee independent certification agency production process product complies standard establish private organization country standard focus environmental issue soil conservation water protection pesticide waste management social issue producer income worker occupational health safety aspects production food safety programme exist ertification brings opportunities producer market access protection local resource improvement worker health live condition rural community ensure consumer health consumer increasingly aware social environmental problem production trade food consume response concern type certification programme develop private organization government order solve problem certify helpful promote product market certification improve market access case result high producer price certification producer consumer direct contact international market instance consumer easily verify product produce manner producer producer choose ertification demonstrate product produce characteristic differentiate product product type certification decision certification type certification choose decision influence farm management investment programme marketing strategy certification objective requirement differ cost cost meet standard certify depend kind producer his/her farm type certification program choose general cost certification depend time spent farm inspection farm audit travel expense inspector environmental certification organic agriculture rganic agriculture base rejection synthetic chemical genetically modify input promote sustainable traditional farming practice maintain soil fertility fallow organic farming soil fertilisation require organic substance animal vegetable origin small quantity mineral west africa organic farm expand notably crop cotton banana mango pineapple shea butter papaya cashew nut avocadoes main requirement specific requirement organically certify crop livestock fish farming bee forestry harvest wild product organic standard require conversion period time farm organic production method certify year organic farm criterion crop production requirement apply selection seed plant animal production requirement apply animal health feeding bree \n",
            " number of tokens 2400\n"
          ]
        }
      ]
    },
    {
      "cell_type": "code",
      "metadata": {
        "id": "SIPDgAWYNDfc"
      },
      "source": [
        "from sklearn.feature_extraction.text import TfidfVectorizer,CountVectorizer\n",
        "\n",
        "vectorizer = TfidfVectorizer(tokenizer=from_chunk_to_tokens, use_idf=False, ngram_range=(1,1), lowercase=False)\n",
        "vectors = vectorizer.fit_transform(docs_as_string)\n",
        "#print(vectors)\n",
        "#fnames = vectorizer.get_feature_names()\n",
        "##########################\n",
        "index_value={i[1]:i[0] for i in vectorizer.vocabulary_.items()}\n",
        "\n",
        "############################\n",
        "\n",
        "fully_indexed1 = []  # all deoc vectors by tfidf\n",
        "for row in vectors:\n",
        "  fully_indexed1.append({index_value[column]:value for (column,value) in zip(row.indices,row.data)})\n",
        "\n",
        "\n",
        "\n",
        "\n",
        "vectorizer = TfidfVectorizer(tokenizer=from_chunk_to_tokens, use_idf=False, ngram_range=(2,2), lowercase=False)\n",
        "vectors = vectorizer.fit_transform(docs_as_string)\n",
        "#print(vectors)\n",
        "#fnames = vectorizer.get_feature_names()\n",
        "##########################\n",
        "index_value={i[1]:i[0] for i in vectorizer.vocabulary_.items()}\n",
        "\n",
        "############################\n",
        "\n",
        "fully_indexed2 = []  # all deoc vectors by tfidf\n",
        "for row in vectors:\n",
        "  fully_indexed2.append({index_value[column]:value for (column,value) in zip(row.indices,row.data)})\n",
        "\n",
        "\n",
        "\n",
        "###############\n",
        "#########\n",
        "vectorizer = TfidfVectorizer(tokenizer=from_chunk_to_tokens, use_idf=False, ngram_range=(3,3), lowercase=False)\n",
        "vectors = vectorizer.fit_transform(docs_as_string)\n",
        "#print(vectors)\n",
        "#fnames = vectorizer.get_feature_names()\n",
        "##########################\n",
        "index_value={i[1]:i[0] for i in vectorizer.vocabulary_.items()}\n",
        "\n",
        "############################\n",
        "\n",
        "fully_indexed3 = []  # all deoc vectors by tfidf\n",
        "for row in vectors:\n",
        "  fully_indexed3.append({index_value[column]:value for (column,value) in zip(row.indices,row.data)})\n"
      ],
      "execution_count": null,
      "outputs": []
    },
    {
      "cell_type": "markdown",
      "metadata": {
        "id": "4SjHFDSw-88y"
      },
      "source": [
        "### Count Only"
      ]
    },
    {
      "cell_type": "code",
      "metadata": {
        "id": "Z467AcCDMHtR"
      },
      "source": [
        "from sklearn.feature_extraction.text import TfidfVectorizer,CountVectorizer\n",
        "\n",
        "vectorizer = CountVectorizer(tokenizer=from_chunk_to_tokens, ngram_range=(1,1))\n",
        "\n",
        "vectors = vectorizer.fit_transform(docs_as_string)\n",
        "#print(vectors)\n",
        "fnames = vectorizer.get_feature_names()\n",
        "##########################\n",
        "index_value={i[1]:i[0] for i in vectorizer.vocabulary_.items()}\n",
        "\n",
        "############################\n",
        "\n",
        "fully_indexed1 = []  # all deoc vectors by tfidf\n",
        "for row in vectors:\n",
        "  fully_indexed1.append({index_value[column]:value for (column,value) in zip(row.indices,row.data)})\n",
        "\n",
        "\n",
        "vectorizer = CountVectorizer(tokenizer=from_chunk_to_tokens , ngram_range=(2,2))\n",
        "vectors = vectorizer.fit_transform(docs_as_string)\n",
        "#print(vectors)\n",
        "fnames = vectorizer.get_feature_names()\n",
        "##########################\n",
        "index_value={i[1]:i[0] for i in vectorizer.vocabulary_.items()}\n",
        "\n",
        "############################\n",
        "\n",
        "fully_indexed2 = []  # all deoc vectors by tf\n",
        "for row in vectors:\n",
        "  fully_indexed2.append({index_value[column]:value for (column,value) in zip(row.indices,row.data)})\n",
        "\n",
        "\n",
        "\n",
        "###############\n",
        "#########\n",
        "vectorizer = CountVectorizer(tokenizer=from_chunk_to_tokens, ngram_range=(3,3))\n",
        "vectors = vectorizer.fit_transform(docs_as_string)\n",
        "#print(vectors)\n",
        "fnames = vectorizer.get_feature_names()\n",
        "##########################\n",
        "index_value={i[1]:i[0] for i in vectorizer.vocabulary_.items()}\n",
        "\n",
        "############################\n",
        "\n",
        "fully_indexed3 = []  # all deoc vectors by tf\n",
        "for row in vectors:\n",
        "  fully_indexed3.append({index_value[column]:value for (column,value) in zip(row.indices,row.data)})\n"
      ],
      "execution_count": null,
      "outputs": []
    },
    {
      "cell_type": "code",
      "metadata": {
        "colab": {
          "base_uri": "https://localhost:8080/"
        },
        "id": "DWHv0rVBH6as",
        "outputId": "27c89aa2-1655-498b-dcd5-f60faa80a3a3"
      },
      "source": [
        "# calc the fterms freq and mean and std dev\n",
        "import statistics\n",
        "from statistics import mean\n",
        "\n",
        "for doc_dic in fully_indexed1:\n",
        "  ngramSum =0\n",
        "  ngramSum = sum(doc_dic.values())   # ngram sum\n",
        "  #print(\" 1 \",ngramSum)\n",
        "  for k, v in doc_dic.items():\n",
        "    doc_dic.update({k:v/ngramSum})\n",
        "\n",
        "# for doc_dic in fully_indexed1:\n",
        "#   list_of_terms = doc_dic.values()\n",
        "#   m = mean(list_of_terms)\n",
        "#   st_dev = statistics.pstdev(list_of_terms)\n",
        "#   temp_list =[]\n",
        "#   for k, tf in doc_dic.items():\n",
        "#     doc_dic.update({k:tf/(m+st_dev)})\n",
        "\n",
        "\n",
        "\n",
        "for doc_dic in fully_indexed2:\n",
        "  ngramSum =0\n",
        "  ngramSum = sum(doc_dic.values())   # ngram sum\n",
        "  #print(\" 2 \",ngramSum)\n",
        "  for k, v in doc_dic.items():\n",
        "    doc_dic.update({k:v/ngramSum})\n",
        "### tf / meantf + stdev\n",
        "# for doc_dic in fully_indexed2:\n",
        "#   list_of_terms = doc_dic.values()\n",
        "#   m = mean(list_of_terms)\n",
        "#   st_dev = statistics.pstdev(list_of_terms)\n",
        "#   temp_list =[]\n",
        "#   for k, tf in doc_dic.items():\n",
        "#     doc_dic.update({k:tf/(m+st_dev)})\n",
        "\n",
        "\n",
        "for doc_dic in fully_indexed3:\n",
        "  ngramSum = sum(doc_dic.values())   # ngram sum\n",
        "  #print(\" 3 \",ngramSum)\n",
        "  for k, v in doc_dic.items():\n",
        "    doc_dic.update({k:v/ngramSum})\n",
        "\n",
        "# for doc_dic in fully_indexed3:\n",
        "#   list_of_terms = doc_dic.values()\n",
        "#   m = mean(list_of_terms)\n",
        "#   st_dev = statistics.pstdev(list_of_terms)\n",
        "#   temp_list =[]\n",
        "#   for k, tf in doc_dic.items():\n",
        "#     doc_dic.update({k:tf/(m+st_dev)})\n",
        "\n",
        "print(\"the n-gram frequency successfully calculated\")"
      ],
      "execution_count": null,
      "outputs": [
        {
          "output_type": "stream",
          "name": "stdout",
          "text": [
            "the n-gram frequency successfully calculated\n"
          ]
        }
      ]
    },
    {
      "cell_type": "markdown",
      "metadata": {
        "id": "FPTE6hq1W7zw"
      },
      "source": [
        "### دمج الفواميس في قاموس واحد"
      ]
    },
    {
      "cell_type": "code",
      "metadata": {
        "colab": {
          "base_uri": "https://localhost:8080/"
        },
        "id": "EhSBDabsT9dJ",
        "outputId": "f2191493-b3d2-4f93-fb6d-2943ba3bda7e"
      },
      "source": [
        "for i, dic in enumerate(fully_indexed1):\n",
        "  dic.update(fully_indexed2[i])\n",
        "  dic.update(fully_indexed3[i])\n",
        "\n",
        "print(fully_indexed1[0])"
      ],
      "execution_count": null,
      "outputs": [
        {
          "output_type": "stream",
          "name": "stdout",
          "text": [
            "{'pour': 0.0016666666666666668, 'producteurs': 0.0004166666666666667, 'exporter': 0.009166666666666667, 'west': 0.0020833333333333333, 'africa': 0.0020833333333333333, 'louest': 0.0004166666666666667, 'producer': 0.00875, 'exportateurs': 0.0008333333333333334, 'lafrique': 0.0004166666666666667, 'guide': 0.0004166666666666667, 'pratique': 0.0004166666666666667, 'practical': 0.0004166666666666667, 'manual': 0.007083333333333333, 'reglementations': 0.0004166666666666667, 'regulation': 0.0175, 'normes': 0.0004166666666666667, 'certification': 0.01625, 'sta': 0.0004166666666666667, 'lexportation': 0.0004166666666666667, 'produits': 0.0016666666666666668, 'ndards': 0.0004166666666666667, 'agricultural': 0.005, 'export': 0.00625, 'agricoles': 0.00125, 'produce': 0.002916666666666667, 'financial': 0.0004166666666666667, 'support': 0.00125, 'technical': 0.00375, 'centre': 0.0025, 'rural': 0.0025, 'cooperation': 0.0008333333333333334, 'cta': 0.00125, 'government': 0.0025, 'germany': 0.0004166666666666667, 'food': 0.010416666666666666, 'agriculture': 0.005416666666666667, 'organization': 0.00625, 'united': 0.00875, 'nation': 0.0016666666666666668, 'fao': 0.0033333333333333335, 'partly': 0.0004166666666666667, 'base': 0.0025, 'fao/ruta': 0.0004166666666666667, 'unidad': 0.0004166666666666667, 'regional': 0.0004166666666666667, 'asistencia': 0.0004166666666666667, 'técnica': 0.0004166666666666667, 'spanish': 0.0004166666666666667, '¿es': 0.0004166666666666667, 'certificación': 0.0004166666666666667, 'algo': 0.0004166666666666667, 'para': 0.0008333333333333334, 'una': 0.0004166666666666667, 'guía': 0.0004166666666666667, 'práctica': 0.0004166666666666667, 'sobre': 0.0004166666666666667, 'por': 0.0004166666666666667, 'qué': 0.0004166666666666667, 'cómo': 0.0004166666666666667, 'quién': 0.0004166666666666667, 'certificar': 0.0004166666666666667, 'productos': 0.0004166666666666667, 'exportación': 0.0004166666666666667, 'andersen': 0.0004166666666666667, 'pazderka': 0.0008333333333333334, 'liu': 0.00125, 'isbn': 0.0004166666666666667, '-x.': 0.0004166666666666667, 'author': 0.0008333333333333334, 'aïcha': 0.0004166666666666667, 'coulibaly': 0.0004166666666666667, 'commodity': 0.002916666666666667, 'trade': 0.007916666666666667, 'division': 0.0025, 'pascal': 0.0004166666666666667, 'collaboration': 0.0004166666666666667, 'cora': 0.0004166666666666667, 'dankers': 0.0004166666666666667, 'antoine': 0.0004166666666666667, 'fayossewo': 0.0004166666666666667, 'techno': 0.0004166666666666667, 'service': 0.00375, 'farm': 0.005, 'layout': 0.0004166666666666667, 'bruno': 0.0004166666666666667, 'dumoulin': 0.0004166666666666667, 'illustration': 0.0004166666666666667, 'diop': 0.0004166666666666667, 'aly': 0.0004166666666666667, 'nguer': 0.0004166666666666667, 'mention': 0.0004166666666666667, 'omission': 0.0004166666666666667, 'specific': 0.0016666666666666668, 'company': 0.0004166666666666667, 'product': 0.022083333333333333, 'brand': 0.0004166666666666667, 'imply': 0.0008333333333333334, 'endorsement': 0.0004166666666666667, 'judgment': 0.0004166666666666667, 'unite': 0.0016666666666666668, 'view': 0.0008333333333333334, 'express': 0.0004166666666666667, 'publication': 0.0008333333333333334, 'reflect': 0.0004166666666666667, 'designation': 0.0004166666666666667, 'employ': 0.0004166666666666667, 'presentation': 0.0004166666666666667, 'material': 0.0025, 'expression': 0.0004166666666666667, 'opinion': 0.0004166666666666667, 'whatsoever': 0.0004166666666666667, 'legal': 0.0008333333333333334, 'development': 0.0016666666666666668, 'status': 0.0004166666666666667, 'country': 0.0175, 'territory': 0.0004166666666666667, 'city': 0.0004166666666666667, 'area': 0.00125, 'authority': 0.0004166666666666667, 'delimitation': 0.0004166666666666667, 'frontier': 0.0004166666666666667, 'boundary': 0.0004166666666666667, 'reserve': 0.0004166666666666667, 'reproduction': 0.0008333333333333334, 'dissemination': 0.0004166666666666667, 'educational': 0.0004166666666666667, 'noncommercial': 0.0004166666666666667, 'purpose': 0.0008333333333333334, 'authorize': 0.0008333333333333334, 'prior': 0.00125, 'write': 0.00125, 'permission': 0.00125, 'copyright': 0.0008333333333333334, 'holder': 0.0008333333333333334, 'provide': 0.0033333333333333335, 'source': 0.0008333333333333334, 'fully': 0.0004166666666666667, 'acknowledge': 0.0004166666666666667, 'resale': 0.0004166666666666667, 'commercial': 0.0025, 'prohibit': 0.0004166666666666667, 'application': 0.00125, 'address': 0.00125, 'chief': 0.0004166666666666667, 'publish': 0.0004166666666666667, 'management': 0.00125, 'viale': 0.0004166666666666667, 'delle': 0.0004166666666666667, 'terme': 0.0004166666666666667, 'caracalla': 0.0004166666666666667, 'rome': 0.0004166666666666667, 'italy': 0.0004166666666666667, 'e-mail': 0.0004166666666666667, 'copyrightfao.org': 0.0004166666666666667, 'objective': 0.00125, 'main': 0.002916666666666667, 'import': 0.014166666666666666, 'major': 0.00125, 'programme': 0.006666666666666667, 'contact': 0.002916666666666667, 'scheme': 0.002916666666666667, 'feel': 0.0004166666666666667, 'market': 0.00375, 'certify': 0.002916666666666667, 'complex': 0.0004166666666666667, 'opportunity': 0.0008333333333333334, 'requirement': 0.008333333333333333, 'clear': 0.0016666666666666668, 'addition': 0.0004166666666666667, 'compulsory': 0.0008333333333333334, 'create': 0.0008333333333333334, 'official': 0.0020833333333333333, 'law': 0.0033333333333333335, 'voluntary': 0.004166666666666667, 'framework': 0.00125, 'read': 0.0004166666666666667, 'content': 0.00125, 'reader': 0.00125, 'understand': 0.0008333333333333334, 'difference': 0.0008333333333333334, 'advantage': 0.0004166666666666667, 'limitation': 0.0004166666666666667, 'order': 0.0025, 'his/her': 0.0008333333333333334, 'conform': 0.0004166666666666667, 'state': 0.009583333333333333, 'european': 0.00875, 'union': 0.009166666666666667, 'japan': 0.00625, 'topic': 0.0004166666666666667, 'practice': 0.0025, 'post-harvest': 0.0004166666666666667, 'activity': 0.0004166666666666667, 'scope': 0.0004166666666666667, 'comprises': 0.0004166666666666667, 'standard': 0.00625, 'difficult': 0.0004166666666666667, 'comprehensive': 0.0008333333333333334, 'reason': 0.0004166666666666667, 'change': 0.0004166666666666667, 'nature': 0.0004166666666666667, 'diversity': 0.0004166666666666667, 'characteristic': 0.0008333333333333334, 'numerous': 0.0004166666666666667, 'internet': 0.00125, 'additional': 0.0008333333333333334, 'blank': 0.0004166666666666667, 'enable': 0.00125, 'update': 0.0004166666666666667, 'add': 0.0004166666666666667, 'link': 0.00125, 'gather': 0.0004166666666666667, 'search': 0.0004166666666666667, 'hope': 0.0004166666666666667, 'respond': 0.0004166666666666667, 'escr': 0.0008333333333333334, 'mandate': 0.0004166666666666667, 'esc': 0.0004166666666666667, 'identify': 0.0025, 'problem': 0.0025, 'propose': 0.0004166666666666667, 'solution': 0.0004166666666666667, 'preferably': 0.0004166666666666667, 'international': 0.005833333333333334, 'action': 0.0008333333333333334, 'raw': 0.0004166666666666667, 'tropical': 0.0004166666666666667, 'horticultural': 0.0004166666666666667, 'involve': 0.0004166666666666667, 'issue': 0.0016666666666666668, 'social': 0.0033333333333333335, 'environmental': 0.005833333333333334, 'continue': 0.0008333333333333334, 'analytical': 0.0004166666666666667, 'work': 0.0016666666666666668, 'economic': 0.0004166666666666667, 'bananas': 0.0004166666666666667, 'responsible': 0.0008333333333333334, 'fao-escr': 0.0004166666666666667, 'study': 0.0008333333333333334, 'include': 0.0016666666666666668, 'small': 0.0008333333333333334, 'brochure': 0.0004166666666666667, 'target': 0.0004166666666666667, 'wholesale': 0.0004166666666666667, 'retail': 0.0004166666666666667, 'buyer': 0.0004166666666666667, 'banana': 0.0008333333333333334, 'explain': 0.0004166666666666667, 'extension': 0.0004166666666666667, 'aim': 0.0008333333333333334, 'association': 0.004166666666666667, 'exporters': 0.0008333333333333334, 'central': 0.0004166666666666667, 'america': 0.0004166666666666667, 'cost-benefit': 0.0008333333333333334, 'analysis': 0.0016666666666666668, 'citrus': 0.0008333333333333334, 'spain': 0.0008333333333333334, 'costa': 0.0008333333333333334, 'rica': 0.0008333333333333334, 'paper': 0.0004166666666666667, 'label': 0.0025, 'cash': 0.0004166666666666667, 'crop': 0.002916666666666667, 'establish': 0.005, 'portal': 0.0008333333333333334, 'relevant': 0.0016666666666666668, 'improve': 0.00125, 'condition': 0.00125, 'production': 0.004583333333333333, 'http//www.fao.org/es/esc/en///highlighten.html': 0.0004166666666666667, 'lomé': 0.0004166666666666667, 'convention': 0.0004166666666666667, 'acp': 0.00125, 'african': 0.0008333333333333334, 'caribbean': 0.0004166666666666667, 'pacific': 0.0004166666666666667, 'group': 0.0004166666666666667, 'member': 0.00125, 'operate': 0.0008333333333333334, 'acp-ec': 0.0004166666666666667, 'cotonou': 0.0004166666666666667, 'agreement': 0.0004166666666666667, 'ctas': 0.00125, 'task': 0.0004166666666666667, 'develop': 0.0025, 'access': 0.0016666666666666668, 'strengthen': 0.0004166666666666667, 'capacity': 0.0008333333333333334, 'acquire': 0.0004166666666666667, 'exchange': 0.0008333333333333334, 'utilize': 0.0004166666666666667, 'design': 0.0004166666666666667, 'wide': 0.0004166666666666667, 'range': 0.0004166666666666667, 'enhance': 0.0004166666666666667, 'awareness': 0.0004166666666666667, 'promote': 0.00125, 'integrated': 0.0004166666666666667, 'communication': 0.0004166666666666667, 'channel': 0.0004166666666666667, 'intensify': 0.0004166666666666667, 'intra-acp': 0.0004166666666666667, 'generate': 0.0004166666666666667, 'manage': 0.0004166666666666667, 'formulate': 0.0004166666666666667, 'icm': 0.0004166666666666667, 'strategy': 0.0008333333333333334, 'science': 0.0004166666666666667, 'technology': 0.0004166666666666667, 'incorporate': 0.0004166666666666667, 'methodology': 0.0004166666666666667, 'cross-cutting': 0.0004166666666666667, 'gender': 0.0004166666666666667, 'capital': 0.0004166666666666667, 'postbus': 0.0004166666666666667, 'wageningen': 0.0004166666666666667, 'netherlands': 0.0004166666666666667, '-website': 0.0004166666666666667, 'www.cta.int': 0.0004166666666666667, 'iii': 0.0004166666666666667, 'glossary': 0.0008333333333333334, 'control': 0.004166666666666667, 'quality': 0.004166666666666667, 'safety': 0.005833333333333334, 'maximum': 0.00375, 'residue': 0.005, 'limit': 0.006666666666666667, 'pesticide': 0.005833333333333334, 'biological': 0.0016666666666666668, 'contamination': 0.00375, 'traceability': 0.00375, 'phytosanitary': 0.004583333333333333, 'custom': 0.005416666666666667, 'clearance': 0.0020833333333333333, 'question': 0.0008333333333333334, 'organic': 0.0033333333333333335, 'iso': 0.0008333333333333334, 'utz': 0.0004166666666666667, 'kapeh': 0.0004166666666666667, 'fair-trade': 0.0004166666666666667, 'eurepgap': 0.0004166666666666667, 'tification': 0.0004166666666666667, 'brc': 0.0004166666666666667, 'global': 0.0008333333333333334, 'goal': 0.0004166666666666667, 'constraint': 0.0004166666666666667, 'bioterrorism': 0.0016666666666666668, 'form': 0.00125, 'terrorism': 0.0008333333333333334, 'pathogen': 0.0004166666666666667, 'comprise': 0.0004166666666666667, 'bacteria': 0.0004166666666666667, 'virus': 0.0004166666666666667, 'toxin': 0.0004166666666666667, 'person': 0.0004166666666666667, 'animal': 0.0020833333333333333, 'plant': 0.005, 'living': 0.0004166666666666667, 'matter': 0.0004166666666666667, 'pathogens': 0.0004166666666666667, 'genetically': 0.0008333333333333334, 'modify': 0.0008333333333333334, 'organisms': 0.0004166666666666667, 'fumigation': 0.0004166666666666667, 'treatment': 0.0016666666666666668, 'disinfection': 0.0004166666666666667, 'chemical': 0.00125, 'agent': 0.0004166666666666667, 'type': 0.0025, 'require': 0.005833333333333334, 'disinfect': 0.0004166666666666667, 'packaging': 0.0004166666666666667, 'meant': 0.0004166666666666667, 'quarantine': 0.0025, 'confinement': 0.0008333333333333334, 'comply': 0.005, 'avoid': 0.00125, 'introduction': 0.0004166666666666667, 'spread': 0.0008333333333333334, 'disease': 0.00125, 'confine': 0.0004166666666666667, 'observation': 0.0004166666666666667, 'inspection': 0.0020833333333333333, 'test': 0.0008333333333333334, 'and/or': 0.0008333333333333334, 'haccp': 0.0020833333333333333, 'principle': 0.0008333333333333334, 'maintains': 0.0004166666666666667, 'supply': 0.00125, 'chain': 0.00125, 'consumer': 0.0033333333333333335, 'table': 0.0004166666666666667, 'consist': 0.0004166666666666667, 'analyse': 0.0004166666666666667, 'hazard': 0.0020833333333333333, 'critical': 0.0020833333333333333, 'point': 0.005416666666666667, 'ensure': 0.0020833333333333333, 'step': 0.0008333333333333334, 'lead': 0.0008333333333333334, 'implantation': 0.0004166666666666667, 'assemble': 0.0004166666666666667, 'team': 0.0004166666666666667, 'intended': 0.0004166666666666667, 'construct': 0.0004166666666666667, 'flow': 0.0008333333333333334, 'diagram': 0.0008333333333333334, 'on-site': 0.0004166666666666667, 'confirmation': 0.0004166666666666667, 'list': 0.0004166666666666667, 'potential': 0.0008333333333333334, 'conduct': 0.0004166666666666667, 'measure': 0.0004166666666666667, 'determine': 0.0020833333333333333, 'monitor': 0.0008333333333333334, 'corrective': 0.0004166666666666667, 'verification': 0.0004166666666666667, 'procedure': 0.0025, 'documentation': 0.0004166666666666667, 'record': 0.0004166666666666667, 'norm': 0.0020833333333333333, 'norms': 0.0004166666666666667, 'protection': 0.00375, 'health': 0.005, 'depend': 0.0016666666666666668, 'individual': 0.0004166666666666667, 'non-compliance': 0.0004166666666666667, 'rejection': 0.00125, 'onsumers': 0.0004166666666666667, 'increasingly': 0.0008333333333333334, 'concerned': 0.0004166666666666667, 'origin': 0.004166666666666667, 'consume': 0.0008333333333333334, 'popular': 0.0004166666666666667, 'focus': 0.0008333333333333334, 'grade': 0.0016666666666666668, 'size': 0.0004166666666666667, 'weight': 0.0004166666666666667, 'package': 0.0004166666666666667, 'labelling': 0.0004166666666666667, 'variety': 0.00125, 'quantity': 0.0016666666666666668, 'relate': 0.0004166666666666667, 'colour': 0.0004166666666666667, 'expiration': 0.0004166666666666667, 'external': 0.00125, 'damage': 0.0004166666666666667, 'shape': 0.0004166666666666667, 'entry': 0.002916666666666667, 'minimum': 0.0004166666666666667, 'american': 0.0004166666666666667, 'marketing': 0.0020833333333333333, 'department': 0.0020833333333333333, 'usda': 0.002916666666666667, 'www.ams.usda.gov/standards/stanfrfv.htm': 0.0004166666666666667, 'www.ams.usda.gov/fv/moab-e.html': 0.0004166666666666667, 'fda': 0.0016666666666666668, 'www.cfsan.fda.gov/dms/lab-ind.html': 0.0004166666666666667, 'component': 0.0004166666666666667, 'security': 0.0004166666666666667, 'investment': 0.00125, 'implementation': 0.0004166666666666667, 'mandatory': 0.0004166666666666667, 'cool': 0.0008333333333333334, 'http//www.ams.usda.gov/cool/': 0.0004166666666666667, 'fresh': 0.0004166666666666667, 'fruit': 0.0016666666666666668, 'vegetable': 0.0016666666666666668, 'meet': 0.0020833333333333333, 'community': 0.0008333333333333334, 'body': 0.0004166666666666667, 'case': 0.00125, 'approve': 0.0008333333333333334, 'consult': 0.00125, 'kingdom': 0.0004166666666666667, 'environment': 0.0004166666666666667, 'affair': 0.0004166666666666667, 'defra': 0.0008333333333333334, 'website': 0.0008333333333333334, 'www.defra.gov.uk/hort/hmi.htm': 0.0004166666666666667, 'sanitation': 0.00125, 'jas': 0.0004166666666666667, 'measurement': 0.0004166666666666667, 'http//www.jetro.go.jp/en/market/regulations/': 0.0004166666666666667, 'ministry': 0.002916666666666667, 'forestry': 0.00125, 'fishery': 0.0008333333333333334, 'http//www.maff.go.jp/soshiki/syokuhin/hinshitu/elabel/index.htm': 0.0004166666666666667, 'risk': 0.0020833333333333333, 'contaminated': 0.0004166666666666667, 'water': 0.0008333333333333334, 'egulations': 0.0004166666666666667, 'mrls': 0.0004166666666666667, 'herbicide': 0.0004166666666666667, 'insecticide': 0.0004166666666666667, 'fungicide': 0.0004166666666666667, 'effective': 0.0004166666666666667, 'national': 0.0016666666666666668, 'level': 0.002916666666666667, 'register': 0.0008333333333333334, 'strictly': 0.0004166666666666667, 'follow': 0.0004166666666666667, 'direction': 0.0004166666666666667, 'instruction': 0.0004166666666666667, 'leaflet': 0.0004166666666666667, 'container': 0.0004166666666666667, 'box': 0.0004166666666666667, 'bottle': 0.0004166666666666667, 'recommend': 0.0004166666666666667, 'dos': 0.0004166666666666667, 'e.g': 0.0008333333333333334, 'codex': 0.0004166666666666667, 'http//www.ipfsaph.org/en/default.jsp': 0.0004166666666666667, 'http//www.fao.org/ag/agn/food/foodfruitsen.stm': 0.0008333333333333334, 'agency': 0.0016666666666666668, 'epa': 0.0008333333333333334, 'drug': 0.00125, 'administration': 0.00125, 'www.access.gpo.gov/nara/cfr/waisidx/cfr.html': 0.0004166666666666667, 'www.epa.gov/pesticides/food/viewtols.htm': 0.0004166666666666667, 'www.epa.gov/fedrgstr/epa-pest/index.html': 0.0004166666666666667, 'user': 0.0004166666666666667, 'active': 0.0004166666666666667, 'ingredient': 0.0004166666666666667, 'www.fas.usda.gov/htp/mrl.htm': 0.0004166666666666667, 'low': 0.0004166666666666667, 'permit': 0.0004166666666666667, 'pesticides': 0.0004166666666666667, 'common': 0.0004166666666666667, 'apply': 0.0016666666666666668, 'entire': 0.0004166666666666667, 'vary': 0.0008333333333333334, 'verifies': 0.0004166666666666667, 'set': 0.0004166666666666667, 'tolerance': 0.0008333333333333334, 'http//europa.eu.int/comm/food/plant/protection/pesticides/indexen.htm': 0.0004166666666666667, 'http//europa.eu.int/comm/food/plant/protection/indexen.htm': 0.0004166666666666667, 'http//europa.eu.int/scadplus/leg/en/lvb/l.htm': 0.0004166666666666667, 'http//europa.eu.int/comm/food/plant/protection/evaluation/contactdec.xls': 0.0004166666666666667, 'http//www.pesticides.gov.uk/applicantguide.aspid': 0.0004166666666666667, 'labour': 0.0004166666666666667, 'welfare': 0.0008333333333333334, 'http//www.mhlw.go.jp/english/topics/foodsafety/positivelist/index.html': 0.0004166666666666667, 'response': 0.0008333333333333334, 'mad': 0.0004166666666666667, 'cow': 0.0004166666666666667, 'increase': 0.0004166666666666667, 'stage': 0.0008333333333333334, 'process': 0.0016666666666666668, 'distribution': 0.0004166666666666667, 'protect': 0.0004166666666666667, 'location': 0.0004166666666666667, 'efficient': 0.0004166666666666667, 'recall': 0.0004166666666666667, 'expectation': 0.0004166666666666667, 'purchase': 0.0004166666666666667, 'grow': 0.0004166666666666667, 'number': 0.0008333333333333334, 'retailer': 0.0004166666666666667, 'good': 0.0008333333333333334, 'hygienic': 0.0004166666666666667, 'ghps': 0.0004166666666666667, 'gap': 0.0004166666666666667, 'http//www.fao.org/ag/agn/food/qualityhaccpen.stm': 0.0004166666666666667, 'states': 0.0004166666666666667, 'adopt': 0.0004166666666666667, 'notice': 0.0004166666666666667, 'arrival': 0.00125, 'www.cfsan.fda.gov/dms/ffsbtac.html': 0.0004166666666666667, 'www.access.fda.gov/': 0.0004166666666666667, 'usa': 0.0004166666666666667, 'impact': 0.0004166666666666667, 'supplier': 0.0008333333333333334, 'general': 0.0016666666666666668, 'www.ams.usda.gov/cool/': 0.0004166666666666667, 'enter': 0.0004166666666666667, 'force': 0.0004166666666666667, 'january': 0.0004166666666666667, 'rule': 0.0004166666666666667, 'importer': 0.0004166666666666667, 'consequence': 0.0004166666666666667, 'partner': 0.0004166666666666667, 'legally': 0.0004166666666666667, 'fulfil': 0.0004166666666666667, 'impose': 0.0004166666666666667, 'http//europa.eu.int/comm/food/food/foodlaw/guidance/guidancereven.pdf': 0.0004166666666666667, 'http//europa.eu.int/comm/food/food/foodlaw/traceability/indexen.htm': 0.0004166666666666667, 'http//europa.eu.int/scadplus/leg/en/lvb/.htm': 0.0004166666666666667, 'detailed': 0.0004166666666666667, 'explanation': 0.0008333333333333334, 'initiative': 0.0008333333333333334, 'coleacp': 0.0008333333333333334, 'http//www.coleacp.org/': 0.0004166666666666667, 'email': 0.011666666666666667, 'pipcoleacp.org': 0.0004166666666666667, 'foodstuff': 0.0004166666666666667, 'hygiene': 0.0004166666666666667, 'http//europa.eu.int/comm/food/food/biosafety/hygienelegislation/guidancedocen.pdf': 0.0004166666666666667, 'time': 0.002916666666666667, 'prepare': 0.0004166666666666667, 'exist': 0.0008333333333333334, 'roducers': 0.0008333333333333334, 'prevent': 0.0004166666666666667, 'diseases': 0.0004166666666666667, 'pest': 0.00125, 'implement': 0.0004166666666666667, 'inspect': 0.0004166666666666667, 'exceed': 0.0004166666666666667, 'certificate': 0.0016666666666666668, 'regulate': 0.0004166666666666667, 'seed': 0.0008333333333333334, 'cut': 0.0004166666666666667, 'flower': 0.0004166666666666667, 'https//www.ippc.int/ipp/en/default.jsp': 0.0004166666666666667, 'inspector': 0.0008333333333333334, 'examine': 0.0004166666666666667, 'shipment': 0.0004166666666666667, 'sign': 0.0004166666666666667, 'fumigate': 0.0004166666666666667, 'treated': 0.0004166666666666667, 'manner': 0.0008333333333333334, 'return': 0.0004166666666666667, 'destroy': 0.0004166666666666667, 'www.aphis.usda.gov/ppq/permits': 0.0004166666666666667, 'enforce': 0.0008333333333333334, 'europe': 0.0004166666666666667, 'https//www.ippc.int/ipp/en/nppo.jsp': 0.0004166666666666667, 'consolidate': 0.0004166666666666667, 'text': 0.0004166666666666667, 'council': 0.00125, 'directive': 0.0004166666666666667, '//ec': 0.0004166666666666667, 'amendment': 0.0004166666666666667, 'http//europa.eu.int/eur-lex/en/consleg/pdf//enldo.pdf': 0.0004166666666666667, 'japanese': 0.00125, 'maff': 0.0004166666666666667, 'station': 0.0008333333333333334, 'www.pps.go.jp/english/': 0.0004166666666666667, 'http//www.jetro.go.jp/en/market/regulations/pdf/plantapr-e.pdf': 0.0004166666666666667, 'inal': 0.0004166666666666667, 'authorization': 0.0004166666666666667, 'ship': 0.0004166666666666667, 'pay': 0.00125, 'fee': 0.0004166666666666667, 'duty': 0.00125, 'tax': 0.0008333333333333334, 'time-consuming': 0.0004166666666666667, 'offer': 0.0004166666666666667, 'pre-clearance': 0.0016666666666666668, 'save': 0.0004166666666666667, 'guarantee': 0.0008333333333333334, 'compliance': 0.0004166666666666667, 'entrance': 0.0004166666666666667, 'aphis': 0.0008333333333333334, 'description': 0.0004166666666666667, 'speed': 0.0008333333333333334, 'processing': 0.0004166666666666667, 'border': 0.0004166666666666667, 'complete': 0.0004166666666666667, 'departure': 0.0004166666666666667, 'document': 0.0008333333333333334, 'arrangement': 0.0004166666666666667, 'www.aphis.usda.gov/ppq/preclearance/': 0.0004166666666666667, 'automate': 0.0004166666666666667, 'developed': 0.0004166666666666667, 'electronically': 0.0004166666666666667, 'www.cbp.gov/xp/cgov/import/operationssupport/automatedsystems/ams/': 0.0004166666666666667, 'customs': 0.0004166666666666667, 'electronic': 0.0008333333333333334, 'procedures': 0.0004166666666666667, 'tariff': 0.0004166666666666667, 'rate': 0.0004166666666666667, 'taxation': 0.0004166666666666667, 'http//europa.eu.int/comm/taxationcustoms/common/about/welcome/indexen.htm': 0.0004166666666666667, 'promotion': 0.0033333333333333335, 'cbi': 0.0004166666666666667, 'www.cbi.nl': 0.0004166666666666667, 'notify': 0.0004166666666666667, 'reduce': 0.0004166666666666667, 'spend': 0.0004166666666666667, 'sample': 0.0004166666666666667, 'bring': 0.0004166666666666667, 'lab': 0.0004166666666666667, 'submit': 0.0004166666666666667, 'consumption': 0.0004166666666666667, 'final': 0.0004166666666666667, 'www.mhlw.go.jp/english/topics/importedfoods/index.html': 0.0004166666666666667, 'locate': 0.0004166666666666667, 'familiarize': 0.0004166666666666667, 'large': 0.0004166666666666667, 'complicate': 0.0004166666666666667, 'dont': 0.0004166666666666667, 'hesitate': 0.0004166666666666667, 'local': 0.0008333333333333334, 'training': 0.0004166666666666667, 'pip': 0.0004166666666666667, 'harmonize': 0.0004166666666666667, 'code': 0.0004166666666666667, 'www.coleacp.org': 0.0004166666666666667, 'on-line': 0.0004166666666666667, 'desk': 0.0004166666666666667, 'http//export-help.cec.eu.int/': 0.0004166666666666667, 'guideline': 0.0004166666666666667, 'facilitate': 0.0004166666666666667, 'http//europa.eu.int/comm/food/fvo/pdf/guidethirdcountriesen.pdf': 0.0004166666666666667, 'center': 0.0008333333333333334, 'http//www.intracen.org/menus/itc.htm': 0.0004166666666666667, 'database': 0.0004166666666666667, 'http//mkaccdb.eu.int': 0.0004166666666666667, 'benin': 0.0004166666666666667, 'développement': 0.0008333333333333334, 'des': 0.0016666666666666668, 'dexportations': 0.0004166666666666667, 'adex': 0.0004166666666666667, 'tel': 0.013333333333333334, 'adexintnet.bj': 0.0004166666666666667, 'béninois': 0.0004166666666666667, 'commerce': 0.004583333333333333, 'extérieur': 0.00125, 'cbcebow.intnet.bj': 0.0004166666666666667, 'www.cbce.africa-web.org/': 0.0004166666666666667, 'fédération': 0.0004166666666666667, 'groupements': 0.0008333333333333334, 'dintérêts': 0.0004166666666666667, 'économiques': 0.0004166666666666667, 'latlantique': 0.0004166666666666667, 'sylvieamoussouyahoo.fr': 0.0004166666666666667, 'burkina': 0.00125, 'faso': 0.0008333333333333334, 'professionnelle': 0.0004166666666666667, 'légumes': 0.0008333333333333334, 'apefel': 0.0004166666666666667, 'ministère': 0.0016666666666666668, 'lartisanat': 0.0008333333333333334, 'lentreprise': 0.0004166666666666667, 'mciacenatrin.bf': 0.0004166666666666667, 'nationale': 0.0008333333333333334, 'sociétés': 0.0004166666666666667, 'coopératives': 0.0004166666666666667, 'fruitière': 0.0004166666666666667, 'maraîchère': 0.0004166666666666667, 'ufmbfasonet.bf': 0.0004166666666666667, 'côte': 0.00125, 'divoire': 0.00125, 'dexportation': 0.0008333333333333334, 'apexci': 0.0004166666666666667, 'apexciaviso.ci': 0.0004166666666666667, 'non\\xadtraditionnelles': 0.0004166666666666667, 'promexa': 0.0004166666666666667, 'infopromexa.ci': 0.0004166666666666667, 'organisation': 0.0008333333333333334, 'centrale': 0.0004166666666666667, 'producteurs/exportateurs': 0.0008333333333333334, 'dananas': 0.0004166666666666667, 'bananes': 0.0004166666666666667, 'ocab.aaviso.ci': 0.0004166666666666667, 'exportation': 0.0008333333333333334, 'mangue': 0.0004166666666666667, 'ananas': 0.0004166666666666667, 'société': 0.0004166666666666667, 'détude': 0.0004166666666666667, 'culture': 0.0004166666666666667, 'bananière': 0.0004166666666666667, 'scbscb.ci': 0.0004166666666666667, 'gambia': 0.0004166666666666667, 'industry': 0.0020833333333333333, 'employment': 0.0004166666666666667, 'dostieqanet.gm': 0.0004166666666666667, 'web': 0.002916666666666667, 'www.gambia.gm/introduction/introduction.html': 0.0004166666666666667, 'ghana': 0.0020833333333333333, 'federation': 0.0004166666666666667, 'ghanaian': 0.0004166666666666667, 'fage': 0.0004166666666666667, 'fageighmail.com': 0.0004166666666666667, 'www.ghana-exporter.org': 0.0004166666666666667, '-ghana': 0.0004166666666666667, 'gavex': 0.0004166666666666667, 'tacksafricaonline.com': 0.0004166666666666667, 'gepc': 0.0004166666666666667, 'gepcghana.com': 0.0004166666666666667, 'www.exportghana.org': 0.0004166666666666667, '-horticulturist': 0.0004166666666666667, 'hag': 0.0004166666666666667, 'hagafricaonline.com': 0.0004166666666666667, 'mismotiafricaonline.com.gh': 0.0004166666666666667, 'www.moti-ghana.com': 0.0004166666666666667, '-papaya': 0.0004166666666666667, 'mango': 0.0008333333333333334, 'pampeag': 0.0004166666666666667, 'pampeagyahoo.co.uk': 0.0004166666666666667, '-plant': 0.0004166666666666667, 'regulatory': 0.0004166666666666667, 'directorate': 0.0004166666666666667, 'spsghanaafricaonline.com.gh': 0.0004166666666666667, 'uqadamshotmail.com': 0.0004166666666666667, '-vegetable': 0.0004166666666666667, 'grower': 0.0004166666666666667, 'vepeag': 0.0004166666666666667, 'vepeagyahoo.com': 0.0004166666666666667, 'www.ghana-exporter.org/vepeag/default.htm': 0.0004166666666666667, 'guinea': 0.0004166666666666667, 'projet': 0.0004166666666666667, 'cadre': 0.0004166666666666667, 'pcpea': 0.0004166666666666667, 'pcpeamirinet.net.gn': 0.0004166666666666667, 'liberia': 0.0004166666666666667, 'mali': 0.0008333333333333334, 'lindustrie': 0.0016666666666666668, 'dnaedatatech.toolnet.org': 0.0004166666666666667, 'infotrademali.com': 0.0004166666666666667, 'niger': 0.0004166666666666667, 'nigérien': 0.0004166666666666667, 'secteur': 0.0004166666666666667, 'privé': 0.0004166666666666667, 'nicomintnet.ne': 0.0004166666666666667, 'nigeria': 0.0008333333333333334, 'chamber': 0.0004166666666666667, 'port': 0.0004166666666666667, 'harcourt': 0.0004166666666666667, 'lagos': 0.0004166666666666667, 'wtcnlinkserve.com': 0.0004166666666666667, 'nepc': 0.0004166666666666667, 'www.nepc.gov.ng': 0.0004166666666666667, 'senegal': 0.0004166666666666667, 'sénégal': 0.00125, 'cices': 0.0004166666666666667, 'cicescices.sn': 0.0004166666666666667, 'chambre': 0.0008333333333333334, 'dindustrie': 0.0004166666666666667, 'dagriculture': 0.0008333333333333334, 'dakar': 0.0004166666666666667, 'ccia': 0.0004166666666666667, 'cciadtelecomplus.sn': 0.0004166666666666667, 'fondation': 0.0004166666666666667, 'tpdakartpsnet.org': 0.0004166666666666667, 'www.tpsnet.org': 0.0004166666666666667, 'onapes': 0.0004166666666666667, 'onapesinfocom.sn': 0.0004166666666666667, 'sierra': 0.0004166666666666667, 'leone': 0.0008333333333333334, '-ministry': 0.0004166666666666667, '-sierra': 0.0004166666666666667, 'corporation': 0.0004166666666666667, 'sledic': 0.0004166666666666667, 'togo': 0.0008333333333333334, 'fax': 0.0008333333333333334, 'sell': 0.0004166666666666667, 'deal': 0.0004166666666666667, 'private': 0.0016666666666666668, 'western': 0.0004166666666666667, 'independent': 0.0004166666666666667, 'complies': 0.0004166666666666667, 'soil': 0.00125, 'conservation': 0.0004166666666666667, 'waste': 0.0004166666666666667, 'income': 0.0004166666666666667, 'worker': 0.0008333333333333334, 'occupational': 0.0004166666666666667, 'aspects': 0.0004166666666666667, 'ertification': 0.0008333333333333334, 'brings': 0.0004166666666666667, 'opportunities': 0.0004166666666666667, 'resource': 0.0004166666666666667, 'improvement': 0.0004166666666666667, 'live': 0.0004166666666666667, 'aware': 0.0004166666666666667, 'concern': 0.0004166666666666667, 'solve': 0.0004166666666666667, 'helpful': 0.0004166666666666667, 'result': 0.0004166666666666667, 'high': 0.0004166666666666667, 'price': 0.0004166666666666667, 'direct': 0.0004166666666666667, 'instance': 0.0004166666666666667, 'easily': 0.0004166666666666667, 'verify': 0.0004166666666666667, 'choose': 0.00125, 'demonstrate': 0.0004166666666666667, 'differentiate': 0.0004166666666666667, 'decision': 0.0008333333333333334, 'influence': 0.0004166666666666667, 'differ': 0.0004166666666666667, 'cost': 0.00125, 'kind': 0.0004166666666666667, 'program': 0.0004166666666666667, 'spent': 0.0004166666666666667, 'audit': 0.0004166666666666667, 'travel': 0.0004166666666666667, 'expense': 0.0004166666666666667, 'rganic': 0.0004166666666666667, 'synthetic': 0.0004166666666666667, 'input': 0.0004166666666666667, 'sustainable': 0.0004166666666666667, 'traditional': 0.0004166666666666667, 'farming': 0.00125, 'maintain': 0.0004166666666666667, 'fertility': 0.0004166666666666667, 'fallow': 0.0004166666666666667, 'fertilisation': 0.0004166666666666667, 'substance': 0.0004166666666666667, 'mineral': 0.0004166666666666667, 'expand': 0.0004166666666666667, 'notably': 0.0004166666666666667, 'cotton': 0.0004166666666666667, 'pineapple': 0.0004166666666666667, 'shea': 0.0004166666666666667, 'butter': 0.0004166666666666667, 'papaya': 0.0004166666666666667, 'cashew': 0.0004166666666666667, 'nut': 0.0004166666666666667, 'avocadoes': 0.0004166666666666667, 'organically': 0.0004166666666666667, 'livestock': 0.0004166666666666667, 'fish': 0.0004166666666666667, 'bee': 0.0004166666666666667, 'harvest': 0.0004166666666666667, 'wild': 0.0004166666666666667, 'conversion': 0.0004166666666666667, 'period': 0.0004166666666666667, 'method': 0.0004166666666666667, 'year': 0.0004166666666666667, 'criterion': 0.0004166666666666667, 'selection': 0.0004166666666666667, 'feeding': 0.0004166666666666667, 'bree': 0.0004166666666666667, 'pour producteurs': 0.00041684035014589413, 'producteurs exporter': 0.00041684035014589413, 'exporter west': 0.00041684035014589413, 'west africa': 0.0016673614005835765, 'africa louest': 0.00041684035014589413, 'louest producer': 0.00041684035014589413, 'producer exportateurs': 0.00041684035014589413, 'exportateurs lafrique': 0.00041684035014589413, 'lafrique guide': 0.00041684035014589413, 'guide pratique': 0.00041684035014589413, 'pratique practical': 0.00041684035014589413, 'practical manual': 0.00041684035014589413, 'manual reglementations': 0.00041684035014589413, 'reglementations regulation': 0.00041684035014589413, 'regulation normes': 0.00041684035014589413, 'normes certification': 0.00041684035014589413, 'certification sta': 0.00041684035014589413, 'sta lexportation': 0.00041684035014589413, 'lexportation produits': 0.00041684035014589413, 'produits pour': 0.00041684035014589413, 'pour ndards': 0.00041684035014589413, 'ndards certification': 0.00041684035014589413, 'certification agricultural': 0.00041684035014589413, 'agricultural export': 0.00041684035014589413, 'export agricoles': 0.00041684035014589413, 'agricoles manual': 0.00041684035014589413, 'manual produce': 0.00041684035014589413, 'produce financial': 0.00041684035014589413, 'financial support': 0.00041684035014589413, 'support technical': 0.00041684035014589413, 'technical centre': 0.0008336807002917883, 'centre agricultural': 0.0008336807002917883, 'agricultural rural': 0.0012505210504376823, 'rural cooperation': 0.0008336807002917883, 'cooperation cta': 0.0008336807002917883, 'cta government': 0.00041684035014589413, 'government germany': 0.00041684035014589413, 'germany food': 0.00041684035014589413, 'food agriculture': 0.0016673614005835765, 'agriculture organization': 0.0016673614005835765, 'organization united': 0.0012505210504376823, 'united nation': 0.0012505210504376823, 'nation fao': 0.00041684035014589413, 'fao manual': 0.0008336807002917883, 'manual partly': 0.00041684035014589413, 'partly base': 0.00041684035014589413, 'base fao/ruta': 0.00041684035014589413, 'fao/ruta unidad': 0.00041684035014589413, 'unidad regional': 0.00041684035014589413, 'regional asistencia': 0.00041684035014589413, 'asistencia técnica': 0.00041684035014589413, 'técnica spanish': 0.00041684035014589413, 'spanish manual': 0.00041684035014589413, 'manual ¿es': 0.00041684035014589413, '¿es certificación': 0.00041684035014589413, 'certificación algo': 0.00041684035014589413, 'algo para': 0.00041684035014589413, 'para una': 0.00041684035014589413, 'una guía': 0.00041684035014589413, 'guía práctica': 0.00041684035014589413, 'práctica sobre': 0.00041684035014589413, 'sobre por': 0.00041684035014589413, 'por qué': 0.00041684035014589413, 'qué cómo': 0.00041684035014589413, 'cómo quién': 0.00041684035014589413, 'quién certificar': 0.00041684035014589413, 'certificar productos': 0.00041684035014589413, 'productos para': 0.00041684035014589413, 'para exportación': 0.00041684035014589413, 'exportación andersen': 0.00041684035014589413, 'andersen pazderka': 0.00041684035014589413, 'pazderka liu': 0.0008336807002917883, 'liu pazderka': 0.00041684035014589413, 'liu isbn': 0.00041684035014589413, 'isbn -x.': 0.00041684035014589413, '-x. author': 0.00041684035014589413, 'author aïcha': 0.00041684035014589413, 'aïcha coulibaly': 0.00041684035014589413, 'coulibaly commodity': 0.00041684035014589413, 'commodity trade': 0.0020842017507294707, 'trade division': 0.0016673614005835765, 'division fao': 0.0016673614005835765, 'fao pascal': 0.00041684035014589413, 'pascal liu': 0.00041684035014589413, 'liu commodity': 0.00041684035014589413, 'fao collaboration': 0.00041684035014589413, 'collaboration cora': 0.00041684035014589413, 'cora dankers': 0.00041684035014589413, 'dankers commodity': 0.00041684035014589413, 'fao antoine': 0.00041684035014589413, 'antoine fayossewo': 0.00041684035014589413, 'fayossewo techno': 0.00041684035014589413, 'techno service': 0.00041684035014589413, 'service farm': 0.00041684035014589413, 'farm layout': 0.00041684035014589413, 'layout manual': 0.00041684035014589413, 'manual bruno': 0.00041684035014589413, 'bruno dumoulin': 0.00041684035014589413, 'dumoulin illustration': 0.00041684035014589413, 'illustration diop': 0.00041684035014589413, 'diop aly': 0.00041684035014589413, 'aly nguer': 0.00041684035014589413, 'nguer mention': 0.00041684035014589413, 'mention omission': 0.00041684035014589413, 'omission specific': 0.00041684035014589413, 'specific company': 0.00041684035014589413, 'company product': 0.00041684035014589413, 'product brand': 0.00041684035014589413, 'brand imply': 0.00041684035014589413, 'imply endorsement': 0.00041684035014589413, 'endorsement judgment': 0.00041684035014589413, 'judgment food': 0.00041684035014589413, 'organization unite': 0.00041684035014589413, 'unite nation': 0.00041684035014589413, 'nation view': 0.00041684035014589413, 'view express': 0.00041684035014589413, 'express publication': 0.00041684035014589413, 'publication author': 0.00041684035014589413, 'author reflect': 0.00041684035014589413, 'reflect view': 0.00041684035014589413, 'view food': 0.00041684035014589413, 'nation designation': 0.00041684035014589413, 'designation employ': 0.00041684035014589413, 'employ presentation': 0.00041684035014589413, 'presentation material': 0.00041684035014589413, 'material product': 0.0012505210504376823, 'product imply': 0.00041684035014589413, 'imply expression': 0.00041684035014589413, 'expression opinion': 0.00041684035014589413, 'opinion whatsoever': 0.00041684035014589413, 'whatsoever food': 0.00041684035014589413, 'nation legal': 0.00041684035014589413, 'legal development': 0.00041684035014589413, 'development status': 0.00041684035014589413, 'status country': 0.00041684035014589413, 'country territory': 0.00041684035014589413, 'territory city': 0.00041684035014589413, 'city area': 0.00041684035014589413, 'area authority': 0.00041684035014589413, 'authority delimitation': 0.00041684035014589413, 'delimitation frontier': 0.00041684035014589413, 'frontier boundary': 0.00041684035014589413, 'boundary reserve': 0.00041684035014589413, 'reserve reproduction': 0.00041684035014589413, 'reproduction dissemination': 0.00041684035014589413, 'dissemination material': 0.00041684035014589413, 'product educational': 0.00041684035014589413, 'educational noncommercial': 0.00041684035014589413, 'noncommercial purpose': 0.00041684035014589413, 'purpose authorize': 0.00041684035014589413, 'authorize prior': 0.00041684035014589413, 'prior write': 0.00041684035014589413, 'write permission': 0.0008336807002917883, 'permission copyright': 0.0008336807002917883, 'copyright holder': 0.0008336807002917883, 'holder provide': 0.00041684035014589413, 'provide source': 0.00041684035014589413, 'source fully': 0.00041684035014589413, 'fully acknowledge': 0.00041684035014589413, 'acknowledge reproduction': 0.00041684035014589413, 'reproduction material': 0.00041684035014589413, 'product resale': 0.00041684035014589413, 'resale commercial': 0.00041684035014589413, 'commercial purpose': 0.00041684035014589413, 'purpose prohibit': 0.00041684035014589413, 'prohibit write': 0.00041684035014589413, 'holder application': 0.00041684035014589413, 'application permission': 0.00041684035014589413, 'permission address': 0.00041684035014589413, 'address chief': 0.00041684035014589413, 'chief publish': 0.00041684035014589413, 'publish management': 0.00041684035014589413, 'management service': 0.00041684035014589413, 'service division': 0.00041684035014589413, 'fao viale': 0.00041684035014589413, 'viale delle': 0.00041684035014589413, 'delle terme': 0.00041684035014589413, 'terme caracalla': 0.00041684035014589413, 'caracalla rome': 0.00041684035014589413, 'rome italy': 0.00041684035014589413, 'italy e-mail': 0.00041684035014589413, 'e-mail copyrightfao.org': 0.00041684035014589413, 'copyrightfao.org fao': 0.00041684035014589413, 'manual objective': 0.00041684035014589413, 'objective provide': 0.0008336807002917883, 'provide producer': 0.0008336807002917883, 'producer exporter': 0.0025010421008753647, 'exporter regulation': 0.00041684035014589413, 'regulation main': 0.0012505210504376823, 'main import': 0.0008336807002917883, 'import country': 0.004168403501458941, 'country major': 0.00041684035014589413, 'major certification': 0.00041684035014589413, 'certification programme': 0.0025010421008753647, 'programme contact': 0.00041684035014589413, 'contact import': 0.00041684035014589413, 'import regulation': 0.003334722801167153, 'regulation certification': 0.0008336807002917883, 'certification scheme': 0.0029178824510212586, 'scheme producer': 0.00041684035014589413, 'producer feel': 0.00041684035014589413, 'feel market': 0.00041684035014589413, 'market certify': 0.00041684035014589413, 'certify agricultural': 0.00041684035014589413, 'agricultural product': 0.0008336807002917883, 'product complex': 0.00041684035014589413, 'complex opportunity': 0.00041684035014589413, 'opportunity requirement': 0.00041684035014589413, 'requirement certification': 0.00041684035014589413, 'programme clear': 0.00041684035014589413, 'clear addition': 0.00041684035014589413, 'addition producer': 0.00041684035014589413, 'producer requirement': 0.00041684035014589413, 'requirement compulsory': 0.00041684035014589413, 'compulsory create': 0.00041684035014589413, 'create official': 0.00041684035014589413, 'official law': 0.00041684035014589413, 'law regulation': 0.0008336807002917883, 'regulation import': 0.0020842017507294707, 'country voluntary': 0.00041684035014589413, 'voluntary framework': 0.00041684035014589413, 'framework manual': 0.00041684035014589413, 'manual create': 0.00041684035014589413, 'create read': 0.00041684035014589413, 'read content': 0.00041684035014589413, 'content reader': 0.00041684035014589413, 'reader understand': 0.0008336807002917883, 'understand main': 0.0008336807002917883, 'main voluntary': 0.0012505210504376823, 'voluntary certification': 0.0029178824510212586, 'scheme reader': 0.00041684035014589413, 'scheme difference': 0.00041684035014589413, 'difference advantage': 0.00041684035014589413, 'advantage limitation': 0.00041684035014589413, 'limitation order': 0.00041684035014589413, 'order export': 0.00041684035014589413, 'export his/her': 0.00041684035014589413, 'his/her product': 0.00041684035014589413, 'product producer': 0.00041684035014589413, 'exporter conform': 0.00041684035014589413, 'conform regulation': 0.00041684035014589413, 'country reader': 0.00041684035014589413, 'reader manual': 0.00041684035014589413, 'manual main': 0.00041684035014589413, 'regulation united': 0.0012505210504376823, 'united state': 0.006669445602334306, 'state european': 0.0016673614005835765, 'european union': 0.008336807002917883, 'union japan': 0.0012505210504376823, 'japan topic': 0.00041684035014589413, 'topic farm': 0.00041684035014589413, 'farm practice': 0.00041684035014589413, 'practice post-harvest': 0.00041684035014589413, 'post-harvest activity': 0.00041684035014589413, 'activity scope': 0.00041684035014589413, 'scope manual': 0.00041684035014589413, 'manual manual': 0.00041684035014589413, 'manual comprises': 0.00041684035014589413, 'comprises standard': 0.00041684035014589413, 'standard import': 0.0008336807002917883, 'scheme difficult': 0.00041684035014589413, 'difficult provide': 0.00041684035014589413, 'provide comprehensive': 0.00041684035014589413, 'comprehensive import': 0.00041684035014589413, 'programme reason': 0.00041684035014589413, 'reason change': 0.00041684035014589413, 'change nature': 0.00041684035014589413, 'nature regulation': 0.00041684035014589413, 'country diversity': 0.00041684035014589413, 'diversity product': 0.00041684035014589413, 'product characteristic': 0.00041684035014589413, 'characteristic numerous': 0.00041684035014589413, 'numerous internet': 0.00041684035014589413, 'internet address': 0.00041684035014589413, 'address provide': 0.00041684035014589413, 'provide additional': 0.0008336807002917883, 'additional manual': 0.00041684035014589413, 'manual blank': 0.00041684035014589413, 'blank enable': 0.00041684035014589413, 'enable update': 0.00041684035014589413, 'update add': 0.00041684035014589413, 'add internet': 0.00041684035014589413, 'internet link': 0.00041684035014589413, 'link gather': 0.00041684035014589413, 'gather search': 0.00041684035014589413, 'search hope': 0.00041684035014589413, 'hope manual': 0.00041684035014589413, 'manual respond': 0.00041684035014589413, 'respond escr': 0.00041684035014589413, 'escr mandate': 0.00041684035014589413, 'mandate commodity': 0.00041684035014589413, 'division esc': 0.00041684035014589413, 'esc fao': 0.00041684035014589413, 'fao identify': 0.00041684035014589413, 'identify problem': 0.00041684035014589413, 'problem commodity': 0.00041684035014589413, 'trade propose': 0.00041684035014589413, 'propose solution': 0.00041684035014589413, 'solution address': 0.00041684035014589413, 'address preferably': 0.00041684035014589413, 'preferably international': 0.00041684035014589413, 'international action': 0.00041684035014589413, 'action escr': 0.00041684035014589413, 'escr raw': 0.00041684035014589413, 'raw material': 0.00041684035014589413, 'material tropical': 0.00041684035014589413, 'tropical horticultural': 0.00041684035014589413, 'horticultural product': 0.00041684035014589413, 'product service': 0.0008336807002917883, 'service involve': 0.00041684035014589413, 'involve issue': 0.00041684035014589413, 'issue social': 0.00041684035014589413, 'social environmental': 0.0016673614005835765, 'environmental certification': 0.0016673614005835765, 'certification continue': 0.00041684035014589413, 'continue analytical': 0.00041684035014589413, 'analytical work': 0.00041684035014589413, 'work trade': 0.00041684035014589413, 'trade economic': 0.00041684035014589413, 'economic problem': 0.00041684035014589413, 'problem bananas': 0.00041684035014589413, 'bananas commodity': 0.00041684035014589413, 'commodity responsible': 0.00041684035014589413, 'responsible fao-escr': 0.00041684035014589413, 'fao-escr produce': 0.00041684035014589413, 'produce technical': 0.00041684035014589413, 'technical study': 0.00041684035014589413, 'study publication': 0.00041684035014589413, 'publication social': 0.00041684035014589413, 'certification include': 0.00041684035014589413, 'include small': 0.00041684035014589413, 'small brochure': 0.00041684035014589413, 'brochure target': 0.00041684035014589413, 'target wholesale': 0.00041684035014589413, 'wholesale retail': 0.00041684035014589413, 'retail buyer': 0.00041684035014589413, 'buyer banana': 0.00041684035014589413, 'banana explain': 0.00041684035014589413, 'explain difference': 0.00041684035014589413, 'difference certification': 0.00041684035014589413, 'scheme extension': 0.00041684035014589413, 'extension manual': 0.00041684035014589413, 'manual aim': 0.00041684035014589413, 'aim producer': 0.00041684035014589413, 'producer association': 0.00041684035014589413, 'association exporters': 0.00041684035014589413, 'exporters central': 0.00041684035014589413, 'central america': 0.00041684035014589413, 'america voluntary': 0.00041684035014589413, 'programme import': 0.00041684035014589413, 'main export': 0.00041684035014589413, 'export market': 0.00041684035014589413, 'market cost-benefit': 0.00041684035014589413, 'cost-benefit analysis': 0.0008336807002917883, 'analysis certify': 0.0008336807002917883, 'certify citrus': 0.0008336807002917883, 'citrus spain': 0.0008336807002917883, 'spain costa': 0.0008336807002917883, 'costa rica': 0.0008336807002917883, 'rica cost-benefit': 0.00041684035014589413, 'rica technical': 0.00041684035014589413, 'technical paper': 0.00041684035014589413, 'paper environmental': 0.00041684035014589413, 'environmental social': 0.00041684035014589413, 'social standard': 0.00041684035014589413, 'standard certification': 0.00041684035014589413, 'certification label': 0.00041684035014589413, 'label cash': 0.00041684035014589413, 'cash crop': 0.00041684035014589413, 'crop fao': 0.00041684035014589413, 'fao establish': 0.00041684035014589413, 'establish internet': 0.00041684035014589413, 'internet portal': 0.00041684035014589413, 'portal relevant': 0.00041684035014589413, 'relevant study': 0.00041684035014589413, 'study link': 0.00041684035014589413, 'link organization': 0.00041684035014589413, 'organization work': 0.00041684035014589413, 'work improve': 0.00041684035014589413, 'improve social': 0.00041684035014589413, 'environmental condition': 0.00041684035014589413, 'condition agricultural': 0.00041684035014589413, 'agricultural production': 0.00041684035014589413, 'production trade': 0.0008336807002917883, 'trade http//www.fao.org/es/esc/en///highlighten.html': 0.00041684035014589413, 'http//www.fao.org/es/esc/en///highlighten.html technical': 0.00041684035014589413, 'cta establish': 0.00041684035014589413, 'establish lomé': 0.00041684035014589413, 'lomé convention': 0.00041684035014589413, 'convention acp': 0.00041684035014589413, 'acp african': 0.00041684035014589413, 'african caribbean': 0.00041684035014589413, 'caribbean pacific': 0.00041684035014589413, 'pacific group': 0.00041684035014589413, 'group state': 0.00041684035014589413, 'union member': 0.0008336807002917883, 'member state': 0.0008336807002917883, 'state operate': 0.00041684035014589413, 'operate framework': 0.00041684035014589413, 'framework acp-ec': 0.00041684035014589413, 'acp-ec cotonou': 0.00041684035014589413, 'cotonou agreement': 0.00041684035014589413, 'agreement ctas': 0.00041684035014589413, 'ctas task': 0.00041684035014589413, 'task develop': 0.00041684035014589413, 'develop provide': 0.00041684035014589413, 'provide service': 0.00041684035014589413, 'service improve': 0.00041684035014589413, 'improve access': 0.00041684035014589413, 'access agricultural': 0.00041684035014589413, 'rural development': 0.00041684035014589413, 'development strengthen': 0.00041684035014589413, 'strengthen capacity': 0.00041684035014589413, 'capacity acp': 0.00041684035014589413, 'acp country': 0.00041684035014589413, 'country produce': 0.00041684035014589413, 'produce acquire': 0.00041684035014589413, 'acquire exchange': 0.00041684035014589413, 'exchange utilize': 0.00041684035014589413, 'utilize area': 0.00041684035014589413, 'area ctas': 0.00041684035014589413, 'ctas programme': 0.00041684035014589413, 'programme design': 0.00041684035014589413, 'design provide': 0.00041684035014589413, 'provide wide': 0.00041684035014589413, 'wide range': 0.00041684035014589413, 'range product': 0.00041684035014589413, 'service enhance': 0.00041684035014589413, 'enhance awareness': 0.00041684035014589413, 'awareness relevant': 0.00041684035014589413, 'relevant source': 0.00041684035014589413, 'source promote': 0.00041684035014589413, 'promote integrated': 0.00041684035014589413, 'integrated communication': 0.00041684035014589413, 'communication channel': 0.00041684035014589413, 'channel intensify': 0.00041684035014589413, 'intensify contact': 0.00041684035014589413, 'contact exchange': 0.00041684035014589413, 'exchange intra-acp': 0.00041684035014589413, 'intra-acp develop': 0.00041684035014589413, 'develop acp': 0.00041684035014589413, 'acp capacity': 0.00041684035014589413, 'capacity generate': 0.00041684035014589413, 'generate manage': 0.00041684035014589413, 'manage agricultural': 0.00041684035014589413, 'agricultural formulate': 0.00041684035014589413, 'formulate icm': 0.00041684035014589413, 'icm strategy': 0.00041684035014589413, 'strategy include': 0.00041684035014589413, 'include relevant': 0.00041684035014589413, 'relevant science': 0.00041684035014589413, 'science technology': 0.00041684035014589413, 'technology ctas': 0.00041684035014589413, 'ctas work': 0.00041684035014589413, 'work incorporate': 0.00041684035014589413, 'incorporate development': 0.00041684035014589413, 'development methodology': 0.00041684035014589413, 'methodology cross-cutting': 0.00041684035014589413, 'cross-cutting issue': 0.00041684035014589413, 'issue gender': 0.00041684035014589413, 'gender social': 0.00041684035014589413, 'social capital': 0.00041684035014589413, 'capital cta': 0.00041684035014589413, 'cta postbus': 0.00041684035014589413, 'postbus wageningen': 0.00041684035014589413, 'wageningen netherlands': 0.00041684035014589413, 'netherlands -website': 0.00041684035014589413, '-website www.cta.int': 0.00041684035014589413, 'www.cta.int iii': 0.00041684035014589413, 'iii content': 0.00041684035014589413, 'content manual': 0.00041684035014589413, 'manual glossary': 0.00041684035014589413, 'glossary technical': 0.00041684035014589413, 'technical regulation': 0.0008336807002917883, 'regulation control': 0.0008336807002917883, 'control import': 0.0008336807002917883, 'import commercial': 0.00041684035014589413, 'commercial quality': 0.0012505210504376823, 'quality label': 0.0012505210504376823, 'label regulation': 0.0008336807002917883, 'regulation food': 0.0008336807002917883, 'food safety': 0.003751563151313047, 'safety regulation': 0.0012505210504376823, 'regulation maximum': 0.0008336807002917883, 'maximum residue': 0.0029178824510212586, 'residue limit': 0.004168403501458941, 'limit pesticide': 0.0020842017507294707, 'pesticide biological': 0.00041684035014589413, 'biological contamination': 0.0016673614005835765, 'contamination product': 0.0008336807002917883, 'product traceability': 0.0008336807002917883, 'traceability environmental': 0.00041684035014589413, 'environmental safety': 0.0008336807002917883, 'safety phytosanitary': 0.0008336807002917883, 'phytosanitary regulation': 0.0020842017507294707, 'regulation custom': 0.00041684035014589413, 'custom clearance': 0.0008336807002917883, 'clearance organization': 0.00041684035014589413, 'organization support': 0.0008336807002917883, 'support export': 0.0008336807002917883, 'export west': 0.0008336807002917883, 'africa voluntary': 0.00041684035014589413, 'certification question': 0.00041684035014589413, 'question certification': 0.0008336807002917883, 'certification environmental': 0.00041684035014589413, 'certification organic': 0.0008336807002917883, 'organic agriculture': 0.0008336807002917883, 'agriculture iso': 0.00041684035014589413, 'iso certification': 0.00041684035014589413, 'certification utz': 0.00041684035014589413, 'utz kapeh': 0.00041684035014589413, 'kapeh social': 0.00041684035014589413, 'social certification': 0.00041684035014589413, 'certification fair-trade': 0.00041684035014589413, 'fair-trade certification': 0.00041684035014589413, 'certification food': 0.00041684035014589413, 'safety quality': 0.0008336807002917883, 'quality certification': 0.00041684035014589413, 'certification eurepgap': 0.00041684035014589413, 'eurepgap tification': 0.00041684035014589413, 'tification iso': 0.00041684035014589413, 'iso brc': 0.00041684035014589413, 'brc global': 0.00041684035014589413, 'global standard': 0.00041684035014589413, 'standard goal': 0.00041684035014589413, 'goal certification': 0.00041684035014589413, 'scheme opportunity': 0.00041684035014589413, 'opportunity constraint': 0.00041684035014589413, 'constraint certification': 0.00041684035014589413, 'scheme glossary': 0.00041684035014589413, 'glossary bioterrorism': 0.00041684035014589413, 'bioterrorism bioterrorism': 0.00041684035014589413, 'bioterrorism form': 0.00041684035014589413, 'form terrorism': 0.00041684035014589413, 'terrorism base': 0.00041684035014589413, 'base pathogen': 0.00041684035014589413, 'pathogen practice': 0.00041684035014589413, 'practice comprise': 0.00041684035014589413, 'comprise bacteria': 0.00041684035014589413, 'bacteria virus': 0.00041684035014589413, 'virus toxin': 0.00041684035014589413, 'toxin person': 0.00041684035014589413, 'person animal': 0.00041684035014589413, 'animal plant': 0.0008336807002917883, 'plant biological': 0.00041684035014589413, 'contamination contamination': 0.00041684035014589413, 'contamination material': 0.00041684035014589413, 'material living': 0.00041684035014589413, 'living matter': 0.00041684035014589413, 'matter pathogens': 0.00041684035014589413, 'pathogens genetically': 0.00041684035014589413, 'genetically modify': 0.0008336807002917883, 'modify organisms': 0.00041684035014589413, 'organisms fumigation': 0.00041684035014589413, 'fumigation treatment': 0.00041684035014589413, 'treatment base': 0.00041684035014589413, 'base disinfection': 0.00041684035014589413, 'disinfection product': 0.00041684035014589413, 'product chemical': 0.00041684035014589413, 'chemical agent': 0.00041684035014589413, 'agent type': 0.00041684035014589413, 'type treatment': 0.00041684035014589413, 'treatment require': 0.00041684035014589413, 'require disinfect': 0.00041684035014589413, 'disinfect material': 0.00041684035014589413, 'material commodity': 0.00041684035014589413, 'commodity packaging': 0.00041684035014589413, 'packaging meant': 0.00041684035014589413, 'meant export': 0.00041684035014589413, 'export quarantine': 0.00041684035014589413, 'quarantine quarantine': 0.00041684035014589413, 'quarantine confinement': 0.00041684035014589413, 'confinement product': 0.0008336807002917883, 'product comply': 0.0008336807002917883, 'comply phytosanitary': 0.0008336807002917883, 'phytosanitary requirement': 0.0008336807002917883, 'requirement import': 0.00041684035014589413, 'country confinement': 0.00041684035014589413, 'product aim': 0.00041684035014589413, 'aim avoid': 0.00041684035014589413, 'avoid introduction': 0.00041684035014589413, 'introduction spread': 0.00041684035014589413, 'spread disease': 0.00041684035014589413, 'disease confine': 0.00041684035014589413, 'confine product': 0.00041684035014589413, 'product observation': 0.00041684035014589413, 'observation inspection': 0.00041684035014589413, 'inspection test': 0.00041684035014589413, 'test and/or': 0.00041684035014589413, 'and/or treatment': 0.00041684035014589413, 'treatment haccp': 0.00041684035014589413, 'haccp principle': 0.0008336807002917883, 'principle haccp': 0.00041684035014589413, 'haccp maintains': 0.00041684035014589413, 'maintains food': 0.00041684035014589413, 'safety food': 0.00041684035014589413, 'food supply': 0.00041684035014589413, 'supply chain': 0.0012505210504376823, 'chain farm': 0.00041684035014589413, 'farm consumer': 0.00041684035014589413, 'consumer table': 0.00041684035014589413, 'table consist': 0.00041684035014589413, 'consist analyse': 0.00041684035014589413, 'analyse contamination': 0.00041684035014589413, 'contamination hazard': 0.00041684035014589413, 'hazard order': 0.00041684035014589413, 'order identify': 0.00041684035014589413, 'identify critical': 0.00041684035014589413, 'critical control': 0.0016673614005835765, 'control point': 0.0016673614005835765, 'point production': 0.00041684035014589413, 'production product': 0.00041684035014589413, 'product avoid': 0.00041684035014589413, 'avoid contamination': 0.00041684035014589413, 'contamination ensure': 0.00041684035014589413, 'ensure food': 0.00041684035014589413, 'safety step': 0.00041684035014589413, 'step lead': 0.00041684035014589413, 'lead haccp': 0.00041684035014589413, 'haccp implantation': 0.00041684035014589413, 'implantation assemble': 0.00041684035014589413, 'assemble haccp': 0.00041684035014589413, 'haccp team': 0.00041684035014589413, 'team product': 0.00041684035014589413, 'product identify': 0.00041684035014589413, 'identify intended': 0.00041684035014589413, 'intended construct': 0.00041684035014589413, 'construct flow': 0.00041684035014589413, 'flow diagram': 0.0008336807002917883, 'diagram on-site': 0.00041684035014589413, 'on-site confirmation': 0.00041684035014589413, 'confirmation flow': 0.00041684035014589413, 'diagram list': 0.00041684035014589413, 'list potential': 0.00041684035014589413, 'potential hazard': 0.0008336807002917883, 'hazard step': 0.00041684035014589413, 'step conduct': 0.00041684035014589413, 'conduct hazard': 0.00041684035014589413, 'hazard analysis': 0.00041684035014589413, 'analysis measure': 0.00041684035014589413, 'measure control': 0.00041684035014589413, 'control identify': 0.00041684035014589413, 'identify hazard': 0.00041684035014589413, 'hazard determine': 0.00041684035014589413, 'determine critical': 0.00041684035014589413, 'point establish': 0.0012505210504376823, 'establish critical': 0.00041684035014589413, 'critical limit': 0.00041684035014589413, 'limit critical': 0.00041684035014589413, 'establish monitor': 0.00041684035014589413, 'monitor critical': 0.00041684035014589413, 'establish corrective': 0.00041684035014589413, 'corrective action': 0.00041684035014589413, 'action establish': 0.00041684035014589413, 'establish verification': 0.00041684035014589413, 'verification procedure': 0.00041684035014589413, 'procedure establish': 0.00041684035014589413, 'establish documentation': 0.00041684035014589413, 'documentation record': 0.00041684035014589413, 'record technical': 0.00041684035014589413, 'import technical': 0.00041684035014589413, 'technical norm': 0.0012505210504376823, 'norm import': 0.0012505210504376823, 'import requirement': 0.00041684035014589413, 'requirement united': 0.0008336807002917883, 'japan export': 0.0008336807002917883, 'export product': 0.00041684035014589413, 'product international': 0.00041684035014589413, 'international market': 0.0008336807002917883, 'market producer': 0.00041684035014589413, 'exporter comply': 0.0016673614005835765, 'comply norms': 0.00041684035014589413, 'norms regulation': 0.00041684035014589413, 'regulation order': 0.00041684035014589413, 'order ensure': 0.00041684035014589413, 'ensure product': 0.00041684035014589413, 'product quality': 0.00041684035014589413, 'quality environmental': 0.00041684035014589413, 'environmental protection': 0.0012505210504376823, 'protection consumer': 0.00041684035014589413, 'consumer health': 0.0008336807002917883, 'health norm': 0.00041684035014589413, 'norm regulation': 0.0008336807002917883, 'regulation depend': 0.00041684035014589413, 'depend product': 0.00041684035014589413, 'product country': 0.00041684035014589413, 'country export': 0.00041684035014589413, 'export import': 0.00041684035014589413, 'regulation base': 0.00041684035014589413, 'base international': 0.00041684035014589413, 'international food': 0.00041684035014589413, 'food standard': 0.00041684035014589413, 'standard develop': 0.00041684035014589413, 'develop individual': 0.00041684035014589413, 'individual country': 0.00041684035014589413, 'country non-compliance': 0.00041684035014589413, 'non-compliance requirement': 0.00041684035014589413, 'requirement lead': 0.00041684035014589413, 'lead quarantine': 0.00041684035014589413, 'quarantine product': 0.00041684035014589413, 'product rejection': 0.0008336807002917883, 'rejection import': 0.00041684035014589413, 'country commercial': 0.00041684035014589413, 'regulation onsumers': 0.00041684035014589413, 'onsumers increasingly': 0.00041684035014589413, 'increasingly concerned': 0.00041684035014589413, 'concerned health': 0.00041684035014589413, 'health country': 0.00041684035014589413, 'country origin': 0.0025010421008753647, 'origin quality': 0.00041684035014589413, 'quality product': 0.00041684035014589413, 'product consume': 0.00041684035014589413, 'consume popular': 0.00041684035014589413, 'popular regulation': 0.00041684035014589413, 'regulation focus': 0.00041684035014589413, 'focus grade': 0.00041684035014589413, 'grade size': 0.00041684035014589413, 'size weight': 0.00041684035014589413, 'weight package': 0.00041684035014589413, 'package label': 0.00041684035014589413, 'label labelling': 0.00041684035014589413, 'labelling require': 0.00041684035014589413, 'require include': 0.00041684035014589413, 'include country': 0.00041684035014589413, 'origin product': 0.0008336807002917883, 'product variety': 0.00041684035014589413, 'variety quantity': 0.00041684035014589413, 'quantity requirement': 0.00041684035014589413, 'requirement relate': 0.00041684035014589413, 'relate commercial': 0.00041684035014589413, 'quality variety': 0.00041684035014589413, 'variety colour': 0.00041684035014589413, 'colour expiration': 0.00041684035014589413, 'expiration external': 0.00041684035014589413, 'external damage': 0.00041684035014589413, 'damage shape': 0.00041684035014589413, 'shape entry': 0.00041684035014589413, 'entry product': 0.00041684035014589413, 'product require': 0.00041684035014589413, 'require comply': 0.00041684035014589413, 'comply grade': 0.00041684035014589413, 'grade import': 0.00041684035014589413, 'country product': 0.0008336807002917883, 'product minimum': 0.00041684035014589413, 'minimum condition': 0.00041684035014589413, 'condition united': 0.00041684035014589413, 'state united': 0.0016673614005835765, 'state require': 0.00041684035014589413, 'require agricultural': 0.00041684035014589413, 'agricultural import': 0.00041684035014589413, 'import grade': 0.00041684035014589413, 'grade standard': 0.00041684035014589413, 'standard american': 0.00041684035014589413, 'american marketing': 0.00041684035014589413, 'marketing service': 0.00041684035014589413, 'service unite': 0.00041684035014589413, 'unite state': 0.0012505210504376823, 'state department': 0.0008336807002917883, 'department agriculture': 0.0008336807002917883, 'agriculture usda': 0.00041684035014589413, 'usda product': 0.00041684035014589413, 'product grade': 0.00041684035014589413, 'grade quality': 0.00041684035014589413, 'quality requirement': 0.00041684035014589413, 'requirement establish': 0.00041684035014589413, 'establish usda': 0.00041684035014589413, 'usda usda': 0.00041684035014589413, 'usda www.ams.usda.gov/standards/stanfrfv.htm': 0.00041684035014589413, 'www.ams.usda.gov/standards/stanfrfv.htm usda': 0.00041684035014589413, 'usda www.ams.usda.gov/fv/moab-e.html': 0.00041684035014589413, 'www.ams.usda.gov/fv/moab-e.html fda': 0.00041684035014589413, 'fda www.cfsan.fda.gov/dms/lab-ind.html': 0.00041684035014589413, 'www.cfsan.fda.gov/dms/lab-ind.html component': 0.00041684035014589413, 'component farm': 0.00041684035014589413, 'farm farm': 0.00041684035014589413, 'farm security': 0.00041684035014589413, 'security rural': 0.00041684035014589413, 'rural investment': 0.00041684035014589413, 'investment implementation': 0.00041684035014589413, 'implementation mandatory': 0.00041684035014589413, 'mandatory country': 0.00041684035014589413, 'origin label': 0.00041684035014589413, 'label cool': 0.00041684035014589413, 'cool programme': 0.0008336807002917883, 'programme usda': 0.0008336807002917883, 'usda http//www.ams.usda.gov/cool/': 0.00041684035014589413, 'http//www.ams.usda.gov/cool/ european': 0.00041684035014589413, 'union european': 0.0012505210504376823, 'union require': 0.00041684035014589413, 'require import': 0.0012505210504376823, 'import fresh': 0.00041684035014589413, 'fresh fruit': 0.00041684035014589413, 'fruit vegetable': 0.0008336807002917883, 'vegetable meet': 0.00041684035014589413, 'meet european': 0.00041684035014589413, 'european community': 0.00041684035014589413, 'community marketing': 0.00041684035014589413, 'marketing standard': 0.0012505210504376823, 'standard quality': 0.00041684035014589413, 'label control': 0.00041684035014589413, 'control inspection': 0.00041684035014589413, 'inspection body': 0.00041684035014589413, 'body point': 0.00041684035014589413, 'point import': 0.0008336807002917883, 'import case': 0.00041684035014589413, 'case approve': 0.00041684035014589413, 'approve country': 0.00041684035014589413, 'country point': 0.00041684035014589413, 'point export': 0.00041684035014589413, 'export marketing': 0.00041684035014589413, 'standard european': 0.00041684035014589413, 'union consult': 0.00041684035014589413, 'consult united': 0.00041684035014589413, 'united kingdom': 0.00041684035014589413, 'kingdom department': 0.00041684035014589413, 'department environment': 0.00041684035014589413, 'environment food': 0.00041684035014589413, 'food rural': 0.00041684035014589413, 'rural affair': 0.00041684035014589413, 'affair defra': 0.00041684035014589413, 'defra website': 0.00041684035014589413, 'website defra': 0.00041684035014589413, 'defra marketing': 0.00041684035014589413, 'standard www.defra.gov.uk/hort/hmi.htm': 0.00041684035014589413, 'www.defra.gov.uk/hort/hmi.htm japan': 0.00041684035014589413, 'japan japan': 0.0008336807002917883, 'japan require': 0.00041684035014589413, 'import product': 0.0008336807002917883, 'comply regulation': 0.0012505210504376823, 'food sanitation': 0.0012505210504376823, 'sanitation law': 0.0012505210504376823, 'law japan': 0.00041684035014589413, 'japan agricultural': 0.00041684035014589413, 'agricultural standard': 0.00041684035014589413, 'standard jas': 0.00041684035014589413, 'jas law': 0.00041684035014589413, 'law measurement': 0.00041684035014589413, 'measurement law': 0.00041684035014589413, 'law standard': 0.00041684035014589413, 'import procedure': 0.0008336807002917883, 'procedure specific': 0.00041684035014589413, 'specific product': 0.00041684035014589413, 'product japan': 0.00041684035014589413, 'japan external': 0.0008336807002917883, 'external trade': 0.0008336807002917883, 'trade organization': 0.0008336807002917883, 'organization http//www.jetro.go.jp/en/market/regulations/': 0.00041684035014589413, 'http//www.jetro.go.jp/en/market/regulations/ ministry': 0.00041684035014589413, 'ministry agriculture': 0.0012505210504376823, 'agriculture forestry': 0.0008336807002917883, 'forestry fishery': 0.0008336807002917883, 'fishery http//www.maff.go.jp/soshiki/syokuhin/hinshitu/elabel/index.htm': 0.00041684035014589413, 'http//www.maff.go.jp/soshiki/syokuhin/hinshitu/elabel/index.htm food': 0.00041684035014589413, 'regulation producer': 0.00041684035014589413, 'producer ensure': 0.00041684035014589413, 'ensure quality': 0.00041684035014589413, 'quality safety': 0.00041684035014589413, 'safety produce': 0.00041684035014589413, 'produce avoid': 0.00041684035014589413, 'avoid potential': 0.00041684035014589413, 'hazard risk': 0.00041684035014589413, 'risk contaminated': 0.00041684035014589413, 'contaminated water': 0.00041684035014589413, 'water maximum': 0.00041684035014589413, 'pesticide egulations': 0.00041684035014589413, 'egulations maximum': 0.00041684035014589413, 'limit mrls': 0.00041684035014589413, 'mrls pesticide': 0.00041684035014589413, 'pesticide herbicide': 0.00041684035014589413, 'herbicide insecticide': 0.00041684035014589413, 'insecticide fungicide': 0.00041684035014589413, 'fungicide effective': 0.00041684035014589413, 'effective national': 0.00041684035014589413, 'national international': 0.00041684035014589413, 'international level': 0.0012505210504376823, 'level producer': 0.00041684035014589413, 'regulation country': 0.00041684035014589413, 'country regulation': 0.00041684035014589413, 'pesticide regulation': 0.00041684035014589413, 'country chemical': 0.00041684035014589413, 'chemical register': 0.00041684035014589413, 'register crop': 0.00041684035014589413, 'crop strictly': 0.00041684035014589413, 'strictly follow': 0.00041684035014589413, 'follow direction': 0.00041684035014589413, 'direction instruction': 0.00041684035014589413, 'instruction leaflet': 0.00041684035014589413, 'leaflet container': 0.00041684035014589413, 'container box': 0.00041684035014589413, 'box bottle': 0.00041684035014589413, 'bottle treatment': 0.00041684035014589413, 'treatment meet': 0.00041684035014589413, 'meet recommend': 0.00041684035014589413, 'recommend dos': 0.00041684035014589413, 'dos link': 0.00041684035014589413, 'link comprehensive': 0.00041684035014589413, 'comprehensive food': 0.00041684035014589413, 'regulation international': 0.00041684035014589413, 'level e.g': 0.00041684035014589413, 'e.g codex': 0.00041684035014589413, 'codex standard': 0.00041684035014589413, 'standard and/or': 0.00041684035014589413, 'and/or national': 0.00041684035014589413, 'national level': 0.00041684035014589413, 'level http//www.ipfsaph.org/en/default.jsp': 0.00041684035014589413, 'http//www.ipfsaph.org/en/default.jsp http//www.fao.org/ag/agn/food/foodfruitsen.stm': 0.00041684035014589413, 'http//www.fao.org/ag/agn/food/foodfruitsen.stm united': 0.00041684035014589413, 'state maximum': 0.00041684035014589413, 'pesticide establish': 0.00041684035014589413, 'establish environmental': 0.00041684035014589413, 'protection agency': 0.0008336807002917883, 'agency epa': 0.00041684035014589413, 'epa control': 0.00041684035014589413, 'control food': 0.00041684035014589413, 'food drug': 0.0012505210504376823, 'drug administration': 0.0012505210504376823, 'administration fda': 0.0008336807002917883, 'fda point': 0.0008336807002917883, 'import agricultural': 0.00041684035014589413, 'product requirement': 0.00041684035014589413, 'requirement maximum': 0.00041684035014589413, 'limit establish': 0.00041684035014589413, 'establish epa': 0.00041684035014589413, 'epa environmental': 0.00041684035014589413, 'agency www.access.gpo.gov/nara/cfr/waisidx/cfr.html': 0.00041684035014589413, 'www.access.gpo.gov/nara/cfr/waisidx/cfr.html www.epa.gov/pesticides/food/viewtols.htm': 0.00041684035014589413, 'www.epa.gov/pesticides/food/viewtols.htm www.epa.gov/fedrgstr/epa-pest/index.html': 0.00041684035014589413, 'www.epa.gov/fedrgstr/epa-pest/index.html website': 0.00041684035014589413, 'website enable': 0.00041684035014589413, 'enable user': 0.00041684035014589413, 'user maximum': 0.00041684035014589413, 'limit crop': 0.00041684035014589413, 'crop pesticide': 0.00041684035014589413, 'pesticide active': 0.00041684035014589413, 'active ingredient': 0.00041684035014589413, 'ingredient pesticide': 0.00041684035014589413, 'pesticide type': 0.00041684035014589413, 'type country': 0.00041684035014589413, 'country www.fas.usda.gov/htp/mrl.htm': 0.00041684035014589413, 'www.fas.usda.gov/htp/mrl.htm european': 0.00041684035014589413, 'union continue': 0.00041684035014589413, 'continue low': 0.00041684035014589413, 'low maximum': 0.00041684035014589413, 'maximum limit': 0.0008336807002917883, 'pesticide residue': 0.0016673614005835765, 'residue permit': 0.00041684035014589413, 'permit product': 0.00041684035014589413, 'product pesticides': 0.00041684035014589413, 'pesticides common': 0.00041684035014589413, 'common limit': 0.00041684035014589413, 'limit apply': 0.00041684035014589413, 'apply entire': 0.00041684035014589413, 'entire european': 0.00041684035014589413, 'union pesticide': 0.00041684035014589413, 'limit vary': 0.00041684035014589413, 'vary country': 0.0008336807002917883, 'country country': 0.0012505210504376823, 'country verifies': 0.00041684035014589413, 'verifies regulation': 0.00041684035014589413, 'regulation meet': 0.00041684035014589413, 'meet ministry': 0.00041684035014589413, 'agriculture point': 0.00041684035014589413, 'point entry': 0.0016673614005835765, 'entry european': 0.00041684035014589413, 'union country': 0.00041684035014589413, 'country set': 0.00041684035014589413, 'set maximum': 0.00041684035014589413, 'limit exporter': 0.00041684035014589413, 'exporter require': 0.00041684035014589413, 'import tolerance': 0.0008336807002917883, 'tolerance pesticide': 0.00041684035014589413, 'limit european': 0.00041684035014589413, 'member country': 0.00041684035014589413, 'country http//europa.eu.int/comm/food/plant/protection/pesticides/indexen.htm': 0.00041684035014589413, 'http//europa.eu.int/comm/food/plant/protection/pesticides/indexen.htm http//europa.eu.int/comm/food/plant/protection/indexen.htm': 0.00041684035014589413, 'http//europa.eu.int/comm/food/plant/protection/indexen.htm http//europa.eu.int/scadplus/leg/en/lvb/l.htm': 0.00041684035014589413, 'http//europa.eu.int/scadplus/leg/en/lvb/l.htm contact': 0.00041684035014589413, 'contact point': 0.00041684035014589413, 'point member': 0.00041684035014589413, 'state http//europa.eu.int/comm/food/plant/protection/evaluation/contactdec.xls': 0.00041684035014589413, 'http//europa.eu.int/comm/food/plant/protection/evaluation/contactdec.xls application': 0.00041684035014589413, 'application procedure': 0.00041684035014589413, 'procedure import': 0.00041684035014589413, 'tolerance http//www.pesticides.gov.uk/applicantguide.aspid': 0.00041684035014589413, 'http//www.pesticides.gov.uk/applicantguide.aspid japan': 0.00041684035014589413, 'japan ministry': 0.00041684035014589413, 'ministry health': 0.0008336807002917883, 'health labour': 0.00041684035014589413, 'labour welfare': 0.00041684035014589413, 'welfare environmental': 0.00041684035014589413, 'environmental department': 0.00041684035014589413, 'department responsible': 0.00041684035014589413, 'responsible establish': 0.00041684035014589413, 'establish test': 0.00041684035014589413, 'test residue': 0.00041684035014589413, 'limit limit': 0.00041684035014589413, 'limit base': 0.00041684035014589413, 'base food': 0.00041684035014589413, 'law pesticide': 0.00041684035014589413, 'residue level': 0.00041684035014589413, 'level http//www.mhlw.go.jp/english/topics/foodsafety/positivelist/index.html': 0.00041684035014589413, 'http//www.mhlw.go.jp/english/topics/foodsafety/positivelist/index.html biological': 0.00041684035014589413, 'traceability response': 0.00041684035014589413, 'response problem': 0.00041684035014589413, 'problem food': 0.00041684035014589413, 'safety e.g': 0.00041684035014589413, 'e.g mad': 0.00041684035014589413, 'mad cow': 0.00041684035014589413, 'cow disease': 0.00041684035014589413, 'disease global': 0.00041684035014589413, 'global terrorism': 0.00041684035014589413, 'terrorism government': 0.00041684035014589413, 'government increase': 0.00041684035014589413, 'increase control': 0.00041684035014589413, 'control stage': 0.00041684035014589413, 'stage food': 0.00041684035014589413, 'food production': 0.00041684035014589413, 'production process': 0.0008336807002917883, 'process distribution': 0.00041684035014589413, 'distribution protect': 0.00041684035014589413, 'protect consumer': 0.00041684035014589413, 'consumer biological': 0.00041684035014589413, 'contamination food': 0.00041684035014589413, 'food traceability': 0.00041684035014589413, 'traceability identify': 0.00041684035014589413, 'identify product': 0.00041684035014589413, 'product origin': 0.00041684035014589413, 'origin location': 0.00041684035014589413, 'location supply': 0.00041684035014589413, 'chain enable': 0.00041684035014589413, 'enable efficient': 0.00041684035014589413, 'efficient recall': 0.00041684035014589413, 'recall case': 0.00041684035014589413, 'case product': 0.00041684035014589413, 'product contamination': 0.00041684035014589413, 'contamination determine': 0.00041684035014589413, 'determine origin': 0.00041684035014589413, 'origin food': 0.00041684035014589413, 'safety problem': 0.00041684035014589413, 'problem comply': 0.00041684035014589413, 'comply legal': 0.00041684035014589413, 'legal requirement': 0.00041684035014589413, 'requirement meet': 0.00041684035014589413, 'meet consumer': 0.00041684035014589413, 'consumer expectation': 0.00041684035014589413, 'expectation safety': 0.00041684035014589413, 'quality purchase': 0.00041684035014589413, 'purchase product': 0.00041684035014589413, 'product limit': 0.00041684035014589413, 'limit contamination': 0.00041684035014589413, 'contamination risk': 0.00041684035014589413, 'risk monitor': 0.00041684035014589413, 'monitor stage': 0.00041684035014589413, 'stage supply': 0.00041684035014589413, 'chain grow': 0.00041684035014589413, 'grow number': 0.00041684035014589413, 'number government': 0.00041684035014589413, 'government retailer': 0.00041684035014589413, 'retailer require': 0.00041684035014589413, 'require haccp': 0.00041684035014589413, 'principle application': 0.00041684035014589413, 'application good': 0.00041684035014589413, 'good hygienic': 0.00041684035014589413, 'hygienic practice': 0.00041684035014589413, 'practice ghps': 0.00041684035014589413, 'ghps good': 0.00041684035014589413, 'good agricultural': 0.00041684035014589413, 'agricultural practice': 0.00041684035014589413, 'practice gap': 0.00041684035014589413, 'gap crop': 0.00041684035014589413, 'crop production': 0.0008336807002917883, 'production http//www.fao.org/ag/agn/food/foodfruitsen.stm': 0.00041684035014589413, 'http//www.fao.org/ag/agn/food/foodfruitsen.stm http//www.fao.org/ag/agn/food/qualityhaccpen.stm': 0.00041684035014589413, 'http//www.fao.org/ag/agn/food/qualityhaccpen.stm united': 0.00041684035014589413, 'united states': 0.00041684035014589413, 'states government': 0.00041684035014589413, 'government unite': 0.00041684035014589413, 'state adopt': 0.00041684035014589413, 'adopt bioterrorism': 0.00041684035014589413, 'bioterrorism require': 0.00041684035014589413, 'require exporter': 0.0008336807002917883, 'exporter register': 0.00041684035014589413, 'register food': 0.00041684035014589413, 'fda notice': 0.00041684035014589413, 'notice prior': 0.00041684035014589413, 'prior product': 0.00041684035014589413, 'product arrival': 0.0008336807002917883, 'arrival united': 0.00041684035014589413, 'state bioterrorism': 0.00041684035014589413, 'bioterrorism food': 0.00041684035014589413, 'administration www.cfsan.fda.gov/dms/ffsbtac.html': 0.00041684035014589413, 'www.cfsan.fda.gov/dms/ffsbtac.html www.access.fda.gov/': 0.00041684035014589413, 'www.access.fda.gov/ usa': 0.00041684035014589413, 'usa cool': 0.00041684035014589413, 'programme impact': 0.00041684035014589413, 'impact traceability': 0.00041684035014589413, 'traceability requirement': 0.0016673614005835765, 'state supplier': 0.00041684035014589413, 'supplier country': 0.0008336807002917883, 'country general': 0.00041684035014589413, 'general programme': 0.00041684035014589413, 'usda www.ams.usda.gov/cool/': 0.00041684035014589413, 'www.ams.usda.gov/cool/ european': 0.00041684035014589413, 'union regulation': 0.0008336807002917883, 'regulation traceability': 0.00041684035014589413, 'traceability enter': 0.00041684035014589413, 'enter force': 0.00041684035014589413, 'force january': 0.00041684035014589413, 'january order': 0.00041684035014589413, 'order comply': 0.00041684035014589413, 'comply rule': 0.00041684035014589413, 'rule european': 0.00041684035014589413, 'union importer': 0.00041684035014589413, 'importer identify': 0.00041684035014589413, 'identify origin': 0.00041684035014589413, 'product consequence': 0.00041684035014589413, 'consequence require': 0.00041684035014589413, 'comply traceability': 0.00041684035014589413, 'requirement exporter': 0.0008336807002917883, 'exporter trade': 0.00041684035014589413, 'trade partner': 0.00041684035014589413, 'partner country': 0.00041684035014589413, 'country legally': 0.00041684035014589413, 'legally require': 0.00041684035014589413, 'require fulfil': 0.00041684035014589413, 'fulfil traceability': 0.00041684035014589413, 'requirement impose': 0.00041684035014589413, 'impose general': 0.00041684035014589413, 'general traceability': 0.00041684035014589413, 'traceability http//europa.eu.int/comm/food/food/foodlaw/guidance/guidancereven.pdf': 0.00041684035014589413, 'http//europa.eu.int/comm/food/food/foodlaw/guidance/guidancereven.pdf http//europa.eu.int/comm/food/food/foodlaw/traceability/indexen.htm': 0.00041684035014589413, 'http//europa.eu.int/comm/food/food/foodlaw/traceability/indexen.htm http//europa.eu.int/scadplus/leg/en/lvb/.htm': 0.00041684035014589413, 'http//europa.eu.int/scadplus/leg/en/lvb/.htm detailed': 0.00041684035014589413, 'detailed explanation': 0.00041684035014589413, 'explanation regulation': 0.00041684035014589413, 'regulation consult': 0.00041684035014589413, 'consult pesticide': 0.00041684035014589413, 'pesticide initiative': 0.0008336807002917883, 'initiative programme': 0.0008336807002917883, 'programme coleacp': 0.00041684035014589413, 'coleacp http//www.coleacp.org/': 0.00041684035014589413, 'http//www.coleacp.org/ email': 0.00041684035014589413, 'email pipcoleacp.org': 0.00041684035014589413, 'pipcoleacp.org explanation': 0.00041684035014589413, 'explanation foodstuff': 0.00041684035014589413, 'foodstuff hygiene': 0.00041684035014589413, 'hygiene requirement': 0.00041684035014589413, 'requirement consult': 0.00041684035014589413, 'consult http//europa.eu.int/comm/food/food/biosafety/hygienelegislation/guidancedocen.pdf': 0.00041684035014589413, 'http//europa.eu.int/comm/food/food/biosafety/hygienelegislation/guidancedocen.pdf japan': 0.00041684035014589413, 'japan time': 0.00041684035014589413, 'time prepare': 0.00041684035014589413, 'prepare manual': 0.00041684035014589413, 'manual traceability': 0.00041684035014589413, 'exporter exist': 0.00041684035014589413, 'exist japan': 0.00041684035014589413, 'japan environmental': 0.00041684035014589413, 'regulation roducers': 0.0008336807002917883, 'roducers comply': 0.00041684035014589413, 'regulation prevent': 0.00041684035014589413, 'prevent entry': 0.00041684035014589413, 'entry spread': 0.00041684035014589413, 'spread plant': 0.00041684035014589413, 'plant diseases': 0.00041684035014589413, 'diseases pest': 0.00041684035014589413, 'pest area': 0.00041684035014589413, 'area major': 0.00041684035014589413, 'major import': 0.00041684035014589413, 'country implement': 0.00041684035014589413, 'implement pest': 0.00041684035014589413, 'pest risk': 0.00041684035014589413, 'risk analysis': 0.00041684035014589413, 'analysis order': 0.00041684035014589413, 'order determine': 0.00041684035014589413, 'determine risk': 0.00041684035014589413, 'risk level': 0.00041684035014589413, 'level import': 0.00041684035014589413, 'product inspect': 0.00041684035014589413, 'inspect product': 0.00041684035014589413, 'arrival ensure': 0.00041684035014589413, 'ensure level': 0.00041684035014589413, 'level risk': 0.00041684035014589413, 'risk exceed': 0.00041684035014589413, 'exceed apply': 0.00041684035014589413, 'apply phytosanitary': 0.00041684035014589413, 'phytosanitary certificate': 0.0012505210504376823, 'certificate regulate': 0.00041684035014589413, 'regulate product': 0.00041684035014589413, 'product plant': 0.00041684035014589413, 'plant seed': 0.00041684035014589413, 'seed fruit': 0.00041684035014589413, 'vegetable cut': 0.00041684035014589413, 'cut flower': 0.00041684035014589413, 'flower phytosanitary': 0.00041684035014589413, 'certificate content': 0.00041684035014589413, 'content https//www.ippc.int/ipp/en/default.jsp': 0.00041684035014589413, 'https//www.ippc.int/ipp/en/default.jsp phytosanitary': 0.00041684035014589413, 'state inspector': 0.00041684035014589413, 'inspector animal': 0.00041684035014589413, 'plant health': 0.0016673614005835765, 'health inspection': 0.00041684035014589413, 'inspection service': 0.00041684035014589413, 'service agency': 0.00041684035014589413, 'agency united': 0.00041684035014589413, 'agriculture examine': 0.00041684035014589413, 'examine approve': 0.00041684035014589413, 'approve shipment': 0.00041684035014589413, 'shipment clear': 0.00041684035014589413, 'clear custom': 0.0012505210504376823, 'custom sign': 0.00041684035014589413, 'sign pest': 0.00041684035014589413, 'pest disease': 0.00041684035014589413, 'disease produce': 0.00041684035014589413, 'produce fumigate': 0.00041684035014589413, 'fumigate treated': 0.00041684035014589413, 'treated manner': 0.00041684035014589413, 'manner return': 0.00041684035014589413, 'return country': 0.00041684035014589413, 'origin destroy': 0.00041684035014589413, 'destroy plant': 0.00041684035014589413, 'plant quarantine': 0.00041684035014589413, 'quarantine unite': 0.00041684035014589413, 'state usda': 0.00041684035014589413, 'usda www.aphis.usda.gov/ppq/permits': 0.00041684035014589413, 'www.aphis.usda.gov/ppq/permits european': 0.00041684035014589413, 'union export': 0.00041684035014589413, 'export european': 0.00041684035014589413, 'union producer': 0.00041684035014589413, 'comply plant': 0.0008336807002917883, 'health regulation': 0.0008336807002917883, 'regulation european': 0.00041684035014589413, 'regulation enforce': 0.0008336807002917883, 'enforce point': 0.00041684035014589413, 'entry plant': 0.00041684035014589413, 'regulation europe': 0.00041684035014589413, 'europe contact': 0.00041684035014589413, 'contact international': 0.0012505210504376823, 'international phytosanitary': 0.00041684035014589413, 'phytosanitary portal': 0.00041684035014589413, 'portal https//www.ippc.int/ipp/en/nppo.jsp': 0.00041684035014589413, 'https//www.ippc.int/ipp/en/nppo.jsp consolidate': 0.00041684035014589413, 'consolidate text': 0.00041684035014589413, 'text phytosanitary': 0.00041684035014589413, 'requirement council': 0.00041684035014589413, 'council directive': 0.00041684035014589413, 'directive //ec': 0.00041684035014589413, '//ec amendment': 0.00041684035014589413, 'amendment http//europa.eu.int/eur-lex/en/consleg/pdf//enldo.pdf': 0.00041684035014589413, 'http//europa.eu.int/eur-lex/en/consleg/pdf//enldo.pdf japan': 0.00041684035014589413, 'japan japanese': 0.00041684035014589413, 'japanese government': 0.00041684035014589413, 'government require': 0.00041684035014589413, 'require supplier': 0.00041684035014589413, 'country comply': 0.00041684035014589413, 'plant protection': 0.0012505210504376823, 'protection law': 0.00041684035014589413, 'law plant': 0.00041684035014589413, 'health law': 0.00041684035014589413, 'law food': 0.00041684035014589413, 'enforce plant': 0.00041684035014589413, 'protection division': 0.00041684035014589413, 'division ministry': 0.00041684035014589413, 'fishery maff': 0.00041684035014589413, 'maff japanese': 0.00041684035014589413, 'japanese phytosanitary': 0.00041684035014589413, 'regulation japanese': 0.00041684035014589413, 'japanese quarantine': 0.00041684035014589413, 'quarantine plant': 0.00041684035014589413, 'protection station': 0.00041684035014589413, 'station www.pps.go.jp/english/': 0.00041684035014589413, 'www.pps.go.jp/english/ japan': 0.00041684035014589413, 'organization http//www.jetro.go.jp/en/market/regulations/pdf/plantapr-e.pdf': 0.00041684035014589413, 'http//www.jetro.go.jp/en/market/regulations/pdf/plantapr-e.pdf custom': 0.00041684035014589413, 'clearance inal': 0.00041684035014589413, 'inal authorization': 0.00041684035014589413, 'authorization product': 0.00041684035014589413, 'product entry': 0.00041684035014589413, 'entry depend': 0.00041684035014589413, 'depend custom': 0.00041684035014589413, 'custom official': 0.0008336807002917883, 'official country': 0.00041684035014589413, 'country import': 0.00041684035014589413, 'import clear': 0.00041684035014589413, 'custom exporter': 0.00041684035014589413, 'exporter form': 0.00041684035014589413, 'form commercial': 0.00041684035014589413, 'commercial ship': 0.00041684035014589413, 'ship pay': 0.00041684035014589413, 'pay fee': 0.00041684035014589413, 'fee duty': 0.00041684035014589413, 'duty tax': 0.00041684035014589413, 'tax process': 0.00041684035014589413, 'process form': 0.00041684035014589413, 'form time-consuming': 0.00041684035014589413, 'time-consuming country': 0.00041684035014589413, 'country offer': 0.00041684035014589413, 'offer pre-clearance': 0.00041684035014589413, 'pre-clearance programme': 0.00041684035014589413, 'programme save': 0.00041684035014589413, 'save time': 0.00041684035014589413, 'time product': 0.00041684035014589413, 'product clear': 0.00041684035014589413, 'custom country': 0.00041684035014589413, 'origin official': 0.00041684035014589413, 'official guarantee': 0.00041684035014589413, 'guarantee product': 0.00041684035014589413, 'product regulation': 0.00041684035014589413, 'regulation compliance': 0.00041684035014589413, 'compliance norm': 0.00041684035014589413, 'rejection united': 0.00041684035014589413, 'state custom': 0.00041684035014589413, 'official authorize': 0.00041684035014589413, 'authorize entrance': 0.00041684035014589413, 'entrance product': 0.00041684035014589413, 'product united': 0.00041684035014589413, 'state inspection': 0.00041684035014589413, 'inspection aphis': 0.00041684035014589413, 'aphis fda': 0.00041684035014589413, 'entry exporter': 0.00041684035014589413, 'exporter pay': 0.00041684035014589413, 'pay duty': 0.00041684035014589413, 'duty determine': 0.00041684035014589413, 'determine quantity': 0.0008336807002917883, 'quantity determine': 0.00041684035014589413, 'quantity description': 0.00041684035014589413, 'description country': 0.00041684035014589413, 'origin speed': 0.00041684035014589413, 'speed processing': 0.00041684035014589413, 'processing time': 0.00041684035014589413, 'time border': 0.00041684035014589413, 'border exporter': 0.00041684035014589413, 'exporter complete': 0.00041684035014589413, 'complete custom': 0.00041684035014589413, 'custom procedure': 0.00041684035014589413, 'procedure departure': 0.00041684035014589413, 'departure aphis': 0.00041684035014589413, 'aphis international': 0.00041684035014589413, 'international service': 0.00041684035014589413, 'service country': 0.00041684035014589413, 'country pre-clearance': 0.00041684035014589413, 'pre-clearance import': 0.00041684035014589413, 'import document': 0.00041684035014589413, 'document phytosanitary': 0.00041684035014589413, 'certificate pre-clearance': 0.00041684035014589413, 'pre-clearance arrangement': 0.00041684035014589413, 'arrangement united': 0.00041684035014589413, 'state www.aphis.usda.gov/ppq/preclearance/': 0.00041684035014589413, 'www.aphis.usda.gov/ppq/preclearance/ exporter': 0.00041684035014589413, 'exporter automate': 0.00041684035014589413, 'automate commercial': 0.00041684035014589413, 'commercial developed': 0.00041684035014589413, 'developed custom': 0.00041684035014589413, 'custom process': 0.00041684035014589413, 'process document': 0.00041684035014589413, 'document electronically': 0.00041684035014589413, 'electronically www.cbp.gov/xp/cgov/import/operationssupport/automatedsystems/ams/': 0.00041684035014589413, 'www.cbp.gov/xp/cgov/import/operationssupport/automatedsystems/ams/ european': 0.00041684035014589413, 'union procedure': 0.00041684035014589413, 'procedure customs': 0.00041684035014589413, 'customs clearance': 0.00041684035014589413, 'clearance european': 0.00041684035014589413, 'union vary': 0.00041684035014589413, 'country electronic': 0.00041684035014589413, 'electronic custom': 0.00041684035014589413, 'custom programme': 0.00041684035014589413, 'programme speed': 0.00041684035014589413, 'speed clearance': 0.00041684035014589413, 'clearance time': 0.00041684035014589413, 'time specific': 0.00041684035014589413, 'specific custom': 0.00041684035014589413, 'custom procedures': 0.00041684035014589413, 'procedures tariff': 0.00041684035014589413, 'tariff rate': 0.00041684035014589413, 'rate country': 0.00041684035014589413, 'country taxation': 0.00041684035014589413, 'taxation custom': 0.00041684035014589413, 'custom union': 0.00041684035014589413, 'union http//europa.eu.int/comm/taxationcustoms/common/about/welcome/indexen.htm': 0.00041684035014589413, 'http//europa.eu.int/comm/taxationcustoms/common/about/welcome/indexen.htm centre': 0.00041684035014589413, 'centre promotion': 0.00041684035014589413, 'promotion import': 0.00041684035014589413, 'import develop': 0.00041684035014589413, 'develop country': 0.0008336807002917883, 'country cbi': 0.00041684035014589413, 'cbi www.cbi.nl': 0.00041684035014589413, 'www.cbi.nl japan': 0.00041684035014589413, 'japan prior': 0.00041684035014589413, 'prior arrival': 0.00041684035014589413, 'arrival product': 0.00041684035014589413, 'product exporter': 0.00041684035014589413, 'exporter notify': 0.00041684035014589413, 'notify quarantine': 0.00041684035014589413, 'quarantine station': 0.00041684035014589413, 'station point': 0.00041684035014589413, 'entry electronic': 0.00041684035014589413, 'electronic operate': 0.00041684035014589413, 'operate ministry': 0.00041684035014589413, 'health welfare': 0.00041684035014589413, 'welfare reduce': 0.00041684035014589413, 'reduce time': 0.00041684035014589413, 'time spend': 0.00041684035014589413, 'spend custom': 0.00041684035014589413, 'custom sample': 0.00041684035014589413, 'sample product': 0.00041684035014589413, 'product bring': 0.00041684035014589413, 'bring official': 0.00041684035014589413, 'official lab': 0.00041684035014589413, 'lab japan': 0.00041684035014589413, 'export country': 0.00041684035014589413, 'country submit': 0.00041684035014589413, 'submit pre-clearance': 0.00041684035014589413, 'pre-clearance consumption': 0.00041684035014589413, 'consumption tax': 0.00041684035014589413, 'tax duty': 0.00041684035014589413, 'duty pay': 0.00041684035014589413, 'pay final': 0.00041684035014589413, 'final clearance': 0.00041684035014589413, 'clearance import': 0.00041684035014589413, 'procedure www.mhlw.go.jp/english/topics/importedfoods/index.html': 0.00041684035014589413, 'www.mhlw.go.jp/english/topics/importedfoods/index.html organization': 0.00041684035014589413, 'africa national': 0.00041684035014589413, 'national organization': 0.0008336807002917883, 'organization locate': 0.00041684035014589413, 'locate west': 0.00041684035014589413, 'west african': 0.00041684035014589413, 'african country': 0.00041684035014589413, 'country work': 0.00041684035014589413, 'work producer': 0.00041684035014589413, 'producer comply': 0.00041684035014589413, 'roducers exporter': 0.00041684035014589413, 'exporter familiarize': 0.00041684035014589413, 'familiarize large': 0.00041684035014589413, 'large variety': 0.00041684035014589413, 'variety technical': 0.00041684035014589413, 'regulation complicate': 0.00041684035014589413, 'complicate number': 0.00041684035014589413, 'number international': 0.00041684035014589413, 'international organization': 0.00041684035014589413, 'organization dont': 0.00041684035014589413, 'dont hesitate': 0.00041684035014589413, 'hesitate contact': 0.00041684035014589413, 'international local': 0.00041684035014589413, 'local organization': 0.00041684035014589413, 'organization provide': 0.00041684035014589413, 'additional relevant': 0.00041684035014589413, 'relevant training': 0.00041684035014589413, 'training international': 0.00041684035014589413, 'level coleacp': 0.00041684035014589413, 'coleacp pesticide': 0.00041684035014589413, 'programme pip': 0.00041684035014589413, 'pip harmonize': 0.00041684035014589413, 'harmonize framework': 0.00041684035014589413, 'framework code': 0.00041684035014589413, 'code practice': 0.00041684035014589413, 'practice www.coleacp.org': 0.00041684035014589413, 'www.coleacp.org on-line': 0.00041684035014589413, 'on-line export': 0.00041684035014589413, 'export desk': 0.00041684035014589413, 'desk develop': 0.00041684035014589413, 'country http//export-help.cec.eu.int/': 0.00041684035014589413, 'http//export-help.cec.eu.int/ guideline': 0.00041684035014589413, 'guideline facilitate': 0.00041684035014589413, 'facilitate trade': 0.00041684035014589413, 'trade http//europa.eu.int/comm/food/fvo/pdf/guidethirdcountriesen.pdf': 0.00041684035014589413, 'http//europa.eu.int/comm/food/fvo/pdf/guidethirdcountriesen.pdf international': 0.00041684035014589413, 'international trade': 0.0008336807002917883, 'trade center': 0.0008336807002917883, 'center http//www.intracen.org/menus/itc.htm': 0.00041684035014589413, 'http//www.intracen.org/menus/itc.htm market': 0.00041684035014589413, 'market access': 0.0012505210504376823, 'access database': 0.00041684035014589413, 'database http//mkaccdb.eu.int': 0.00041684035014589413, 'http//mkaccdb.eu.int national': 0.00041684035014589413, 'organization benin': 0.00041684035014589413, 'benin association': 0.00041684035014589413, 'association développement': 0.00041684035014589413, 'développement des': 0.00041684035014589413, 'des produits': 0.0012505210504376823, 'produits dexportations': 0.00041684035014589413, 'dexportations adex': 0.00041684035014589413, 'adex tel': 0.00041684035014589413, 'tel email': 0.009587328053355566, 'email adexintnet.bj': 0.00041684035014589413, 'adexintnet.bj centre': 0.00041684035014589413, 'centre béninois': 0.00041684035014589413, 'béninois commerce': 0.00041684035014589413, 'commerce extérieur': 0.0012505210504376823, 'extérieur tel': 0.0008336807002917883, 'email cbcebow.intnet.bj': 0.00041684035014589413, 'cbcebow.intnet.bj www.cbce.africa-web.org/': 0.00041684035014589413, 'www.cbce.africa-web.org/ fédération': 0.00041684035014589413, 'fédération des': 0.00041684035014589413, 'des groupements': 0.00041684035014589413, 'groupements dintérêts': 0.00041684035014589413, 'dintérêts économiques': 0.00041684035014589413, 'économiques latlantique': 0.00041684035014589413, 'latlantique tel': 0.00041684035014589413, 'email sylvieamoussouyahoo.fr': 0.00041684035014589413, 'sylvieamoussouyahoo.fr burkina': 0.00041684035014589413, 'burkina faso': 0.0008336807002917883, 'faso association': 0.00041684035014589413, 'association professionnelle': 0.00041684035014589413, 'professionnelle exportateurs': 0.00041684035014589413, 'exportateurs fruit': 0.00041684035014589413, 'fruit légumes': 0.0008336807002917883, 'légumes burkina': 0.00041684035014589413, 'burkina apefel': 0.00041684035014589413, 'apefel tel': 0.00041684035014589413, 'tel ministère': 0.0008336807002917883, 'ministère commerce': 0.0012505210504376823, 'commerce lartisanat': 0.00041684035014589413, 'lartisanat promotion': 0.00041684035014589413, 'promotion lentreprise': 0.00041684035014589413, 'lentreprise tel': 0.00041684035014589413, 'email mciacenatrin.bf': 0.00041684035014589413, 'mciacenatrin.bf union': 0.00041684035014589413, 'union nationale': 0.00041684035014589413, 'nationale groupements': 0.00041684035014589413, 'groupements sociétés': 0.00041684035014589413, 'sociétés coopératives': 0.00041684035014589413, 'coopératives production': 0.00041684035014589413, 'production fruitière': 0.00041684035014589413, 'fruitière maraîchère': 0.00041684035014589413, 'maraîchère burkina': 0.00041684035014589413, 'faso tel': 0.00041684035014589413, 'email ufmbfasonet.bf': 0.00041684035014589413, 'ufmbfasonet.bf côte': 0.00041684035014589413, 'côte divoire': 0.0012505210504376823, 'divoire association': 0.00041684035014589413, 'association pour': 0.0008336807002917883, 'pour promotion': 0.0008336807002917883, 'promotion des': 0.0008336807002917883, 'produits dexportation': 0.0008336807002917883, 'dexportation côte': 0.00041684035014589413, 'divoire apexci': 0.00041684035014589413, 'apexci tel': 0.00041684035014589413, 'email apexciaviso.ci': 0.00041684035014589413, 'apexciaviso.ci association': 0.00041684035014589413, 'dexportation agricoles': 0.00041684035014589413, 'agricoles non\\xadtraditionnelles': 0.00041684035014589413, 'non\\xadtraditionnelles côte': 0.00041684035014589413, 'divoire promexa': 0.00041684035014589413, 'promexa tel': 0.00041684035014589413, 'email infopromexa.ci': 0.00041684035014589413, 'infopromexa.ci organisation': 0.00041684035014589413, 'organisation centrale': 0.00041684035014589413, 'centrale producteurs/exportateurs': 0.00041684035014589413, 'producteurs/exportateurs dananas': 0.00041684035014589413, 'dananas bananes': 0.00041684035014589413, 'bananes tel': 0.00041684035014589413, 'email ocab.aaviso.ci': 0.00041684035014589413, 'ocab.aaviso.ci exportation': 0.00041684035014589413, 'exportation mangue': 0.00041684035014589413, 'mangue ananas': 0.00041684035014589413, 'ananas société': 0.00041684035014589413, 'société détude': 0.00041684035014589413, 'détude développement': 0.00041684035014589413, 'développement culture': 0.00041684035014589413, 'culture bananière': 0.00041684035014589413, 'bananière tel': 0.00041684035014589413, 'email scbscb.ci': 0.00041684035014589413, 'scbscb.ci gambia': 0.00041684035014589413, 'gambia department': 0.00041684035014589413, 'department state': 0.00041684035014589413, 'state trade': 0.00041684035014589413, 'trade industry': 0.0012505210504376823, 'industry employment': 0.00041684035014589413, 'employment tel': 0.00041684035014589413, 'email dostieqanet.gm': 0.00041684035014589413, 'dostieqanet.gm web': 0.00041684035014589413, 'web www.gambia.gm/introduction/introduction.html': 0.00041684035014589413, 'www.gambia.gm/introduction/introduction.html ghana': 0.00041684035014589413, 'ghana federation': 0.00041684035014589413, 'federation association': 0.00041684035014589413, 'association ghanaian': 0.00041684035014589413, 'ghanaian exporter': 0.00041684035014589413, 'exporter fage': 0.00041684035014589413, 'fage tel': 0.00041684035014589413, 'email fageighmail.com': 0.00041684035014589413, 'fageighmail.com web': 0.00041684035014589413, 'web www.ghana-exporter.org': 0.00041684035014589413, 'www.ghana-exporter.org -ghana': 0.00041684035014589413, '-ghana association': 0.00041684035014589413, 'association vegetable': 0.00041684035014589413, 'vegetable exporter': 0.00041684035014589413, 'exporter gavex': 0.00041684035014589413, 'gavex email': 0.00041684035014589413, 'email tacksafricaonline.com': 0.00041684035014589413, 'tacksafricaonline.com ghana': 0.00041684035014589413, 'ghana export': 0.00041684035014589413, 'export promotion': 0.0008336807002917883, 'promotion council': 0.0008336807002917883, 'council gepc': 0.00041684035014589413, 'gepc tel': 0.00041684035014589413, 'email gepcghana.com': 0.00041684035014589413, 'gepcghana.com web': 0.00041684035014589413, 'web www.exportghana.org': 0.00041684035014589413, 'www.exportghana.org -horticulturist': 0.00041684035014589413, '-horticulturist association': 0.00041684035014589413, 'association ghana': 0.0012505210504376823, 'ghana hag': 0.00041684035014589413, 'hag email': 0.00041684035014589413, 'email hagafricaonline.com': 0.00041684035014589413, 'hagafricaonline.com ministry': 0.00041684035014589413, 'ministry trade': 0.00041684035014589413, 'industry tel': 0.0012505210504376823, 'email mismotiafricaonline.com.gh': 0.00041684035014589413, 'mismotiafricaonline.com.gh web': 0.00041684035014589413, 'web www.moti-ghana.com': 0.00041684035014589413, 'www.moti-ghana.com -papaya': 0.00041684035014589413, '-papaya mango': 0.00041684035014589413, 'mango producer': 0.00041684035014589413, 'exporter association': 0.0008336807002917883, 'ghana pampeag': 0.00041684035014589413, 'pampeag email': 0.00041684035014589413, 'email pampeagyahoo.co.uk': 0.00041684035014589413, 'pampeagyahoo.co.uk -plant': 0.00041684035014589413, '-plant protection': 0.00041684035014589413, 'protection regulatory': 0.00041684035014589413, 'regulatory service': 0.00041684035014589413, 'service directorate': 0.00041684035014589413, 'directorate tel': 0.00041684035014589413, 'email spsghanaafricaonline.com.gh': 0.00041684035014589413, 'spsghanaafricaonline.com.gh uqadamshotmail.com': 0.00041684035014589413, 'uqadamshotmail.com -vegetable': 0.00041684035014589413, '-vegetable grower': 0.00041684035014589413, 'grower exporter': 0.00041684035014589413, 'ghana vepeag': 0.00041684035014589413, 'vepeag email': 0.00041684035014589413, 'email vepeagyahoo.com': 0.00041684035014589413, 'vepeagyahoo.com web': 0.00041684035014589413, 'web www.ghana-exporter.org/vepeag/default.htm': 0.00041684035014589413, 'www.ghana-exporter.org/vepeag/default.htm guinea': 0.00041684035014589413, 'guinea projet': 0.00041684035014589413, 'projet cadre': 0.00041684035014589413, 'cadre promotion': 0.00041684035014589413, 'promotion exportation': 0.00041684035014589413, 'exportation agricoles': 0.00041684035014589413, 'agricoles pcpea': 0.00041684035014589413, 'pcpea tel': 0.00041684035014589413, 'email pcpeamirinet.net.gn': 0.00041684035014589413, 'pcpeamirinet.net.gn liberia': 0.00041684035014589413, 'liberia ministry': 0.00041684035014589413, 'ministry commerce': 0.00041684035014589413, 'commerce industry': 0.0008336807002917883, 'tel mali': 0.00041684035014589413, 'mali ministère': 0.00041684035014589413, 'ministère lindustrie': 0.00041684035014589413, 'lindustrie commerce': 0.00041684035014589413, 'commerce tel': 0.00041684035014589413, 'email dnaedatatech.toolnet.org': 0.00041684035014589413, 'dnaedatatech.toolnet.org trade': 0.00041684035014589413, 'trade mali': 0.00041684035014589413, 'mali tel': 0.00041684035014589413, 'email infotrademali.com': 0.00041684035014589413, 'infotrademali.com niger': 0.00041684035014589413, 'niger centre': 0.00041684035014589413, 'centre nigérien': 0.00041684035014589413, 'nigérien commerce': 0.00041684035014589413, 'commerce lindustrie': 0.0008336807002917883, 'lindustrie promotion': 0.00041684035014589413, 'promotion secteur': 0.00041684035014589413, 'secteur privé': 0.00041684035014589413, 'privé tel': 0.00041684035014589413, 'email nicomintnet.ne': 0.00041684035014589413, 'nicomintnet.ne nigeria': 0.00041684035014589413, 'nigeria chamber': 0.00041684035014589413, 'chamber commerce': 0.00041684035014589413, 'industry agriculture': 0.00041684035014589413, 'agriculture port': 0.00041684035014589413, 'port harcourt': 0.00041684035014589413, 'harcourt tel': 0.00041684035014589413, 'tel international': 0.00041684035014589413, 'center lagos': 0.00041684035014589413, 'lagos tel': 0.00041684035014589413, 'email wtcnlinkserve.com': 0.00041684035014589413, 'wtcnlinkserve.com nigeria': 0.00041684035014589413, 'nigeria export': 0.00041684035014589413, 'council nepc': 0.00041684035014589413, 'nepc tel': 0.00041684035014589413, 'tel web': 0.00041684035014589413, 'web www.nepc.gov.ng': 0.00041684035014589413, 'www.nepc.gov.ng senegal': 0.00041684035014589413, 'senegal centre': 0.00041684035014589413, 'centre international': 0.00041684035014589413, 'international commerce': 0.00041684035014589413, 'extérieur sénégal': 0.00041684035014589413, 'sénégal cices': 0.00041684035014589413, 'cices tel': 0.00041684035014589413, 'email cicescices.sn': 0.00041684035014589413, 'cicescices.sn chambre': 0.00041684035014589413, 'chambre commerce': 0.0008336807002917883, 'commerce dindustrie': 0.00041684035014589413, 'dindustrie dagriculture': 0.00041684035014589413, 'dagriculture dakar': 0.00041684035014589413, 'dakar ccia': 0.00041684035014589413, 'ccia tel': 0.00041684035014589413, 'email cciadtelecomplus.sn': 0.00041684035014589413, 'cciadtelecomplus.sn fondation': 0.00041684035014589413, 'fondation trade': 0.00041684035014589413, 'trade point': 0.00041684035014589413, 'point sénégal': 0.00041684035014589413, 'sénégal tel': 0.00041684035014589413, 'email tpdakartpsnet.org': 0.00041684035014589413, 'tpdakartpsnet.org web': 0.00041684035014589413, 'web www.tpsnet.org': 0.00041684035014589413, 'www.tpsnet.org organisation': 0.00041684035014589413, 'organisation nationale': 0.00041684035014589413, 'nationale producteurs/exportateurs': 0.00041684035014589413, 'producteurs/exportateurs fruit': 0.00041684035014589413, 'légumes sénégal': 0.00041684035014589413, 'sénégal onapes': 0.00041684035014589413, 'onapes tel': 0.00041684035014589413, 'email onapesinfocom.sn': 0.00041684035014589413, 'onapesinfocom.sn sierra': 0.00041684035014589413, 'sierra leone': 0.00041684035014589413, 'leone -ministry': 0.00041684035014589413, '-ministry trade': 0.00041684035014589413, 'tel -sierra': 0.00041684035014589413, '-sierra leone': 0.00041684035014589413, 'leone export': 0.00041684035014589413, 'export development': 0.00041684035014589413, 'development investment': 0.00041684035014589413, 'investment corporation': 0.00041684035014589413, 'corporation sledic': 0.00041684035014589413, 'sledic tel': 0.00041684035014589413, 'tel togo': 0.00041684035014589413, 'togo chambre': 0.00041684035014589413, 'commerce dagriculture': 0.00041684035014589413, 'dagriculture lindustrie': 0.00041684035014589413, 'lindustrie togo': 0.00041684035014589413, 'togo tel': 0.00041684035014589413, 'tel fax': 0.0008336807002917883, 'fax ministère': 0.00041684035014589413, 'lindustrie lartisanat': 0.00041684035014589413, 'lartisanat tel': 0.00041684035014589413, 'fax voluntary': 0.00041684035014589413, 'certification manual': 0.00041684035014589413, 'manual technical': 0.00041684035014589413, 'japan compulsory': 0.00041684035014589413, 'compulsory exporter': 0.00041684035014589413, 'exporter producer': 0.00041684035014589413, 'producer sell': 0.00041684035014589413, 'sell product': 0.00041684035014589413, 'product market': 0.0008336807002917883, 'market manual': 0.00041684035014589413, 'manual deal': 0.00041684035014589413, 'deal voluntary': 0.00041684035014589413, 'voluntary private': 0.00041684035014589413, 'private certification': 0.00041684035014589413, 'certification objective': 0.0008336807002917883, 'producer exporters': 0.00041684035014589413, 'exporters general': 0.00041684035014589413, 'general major': 0.00041684035014589413, 'major voluntary': 0.00041684035014589413, 'voluntary agricultural': 0.00041684035014589413, 'agricultural certification': 0.00041684035014589413, 'programme private': 0.00041684035014589413, 'private western': 0.00041684035014589413, 'western africa': 0.00041684035014589413, 'africa include': 0.00041684035014589413, 'include contact': 0.00041684035014589413, 'contact question': 0.00041684035014589413, 'certification voluntary': 0.00041684035014589413, 'certification certificate': 0.00041684035014589413, 'certificate write': 0.00041684035014589413, 'write guarantee': 0.00041684035014589413, 'guarantee independent': 0.00041684035014589413, 'independent certification': 0.00041684035014589413, 'certification agency': 0.00041684035014589413, 'agency production': 0.00041684035014589413, 'process product': 0.00041684035014589413, 'product complies': 0.00041684035014589413, 'complies standard': 0.00041684035014589413, 'standard establish': 0.00041684035014589413, 'establish private': 0.00041684035014589413, 'private organization': 0.0008336807002917883, 'organization country': 0.00041684035014589413, 'country standard': 0.00041684035014589413, 'standard focus': 0.00041684035014589413, 'focus environmental': 0.00041684035014589413, 'environmental issue': 0.00041684035014589413, 'issue soil': 0.00041684035014589413, 'soil conservation': 0.00041684035014589413, 'conservation water': 0.00041684035014589413, 'water protection': 0.00041684035014589413, 'protection pesticide': 0.00041684035014589413, 'pesticide waste': 0.00041684035014589413, 'waste management': 0.00041684035014589413, 'management social': 0.00041684035014589413, 'social issue': 0.00041684035014589413, 'issue producer': 0.00041684035014589413, 'producer income': 0.00041684035014589413, 'income worker': 0.00041684035014589413, 'worker occupational': 0.00041684035014589413, 'occupational health': 0.00041684035014589413, 'health safety': 0.00041684035014589413, 'safety aspects': 0.00041684035014589413, 'aspects production': 0.00041684035014589413, 'production food': 0.00041684035014589413, 'safety programme': 0.00041684035014589413, 'programme exist': 0.00041684035014589413, 'exist ertification': 0.00041684035014589413, 'ertification brings': 0.00041684035014589413, 'brings opportunities': 0.00041684035014589413, 'opportunities producer': 0.00041684035014589413, 'producer market': 0.00041684035014589413, 'access protection': 0.00041684035014589413, 'protection local': 0.00041684035014589413, 'local resource': 0.00041684035014589413, 'resource improvement': 0.00041684035014589413, 'improvement worker': 0.00041684035014589413, 'worker health': 0.00041684035014589413, 'health live': 0.00041684035014589413, 'live condition': 0.00041684035014589413, 'condition rural': 0.00041684035014589413, 'rural community': 0.00041684035014589413, 'community ensure': 0.00041684035014589413, 'ensure consumer': 0.00041684035014589413, 'health consumer': 0.00041684035014589413, 'consumer increasingly': 0.00041684035014589413, 'increasingly aware': 0.00041684035014589413, 'aware social': 0.00041684035014589413, 'environmental problem': 0.00041684035014589413, 'problem production': 0.00041684035014589413, 'trade food': 0.00041684035014589413, 'food consume': 0.00041684035014589413, 'consume response': 0.00041684035014589413, 'response concern': 0.00041684035014589413, 'concern type': 0.00041684035014589413, 'type certification': 0.0016673614005835765, 'programme develop': 0.00041684035014589413, 'develop private': 0.00041684035014589413, 'organization government': 0.00041684035014589413, 'government order': 0.00041684035014589413, 'order solve': 0.00041684035014589413, 'solve problem': 0.00041684035014589413, 'problem certify': 0.00041684035014589413, 'certify helpful': 0.00041684035014589413, 'helpful promote': 0.00041684035014589413, 'promote product': 0.00041684035014589413, 'market certification': 0.00041684035014589413, 'certification improve': 0.00041684035014589413, 'improve market': 0.00041684035014589413, 'access case': 0.00041684035014589413, 'case result': 0.00041684035014589413, 'result high': 0.00041684035014589413, 'high producer': 0.00041684035014589413, 'producer price': 0.00041684035014589413, 'price certification': 0.00041684035014589413, 'certification producer': 0.00041684035014589413, 'producer consumer': 0.00041684035014589413, 'consumer direct': 0.00041684035014589413, 'direct contact': 0.00041684035014589413, 'market instance': 0.00041684035014589413, 'instance consumer': 0.00041684035014589413, 'consumer easily': 0.00041684035014589413, 'easily verify': 0.00041684035014589413, 'verify product': 0.00041684035014589413, 'product produce': 0.0008336807002917883, 'produce manner': 0.00041684035014589413, 'manner producer': 0.00041684035014589413, 'producer producer': 0.00041684035014589413, 'producer choose': 0.00041684035014589413, 'choose ertification': 0.00041684035014589413, 'ertification demonstrate': 0.00041684035014589413, 'demonstrate product': 0.00041684035014589413, 'produce characteristic': 0.00041684035014589413, 'characteristic differentiate': 0.00041684035014589413, 'differentiate product': 0.00041684035014589413, 'product product': 0.00041684035014589413, 'product type': 0.00041684035014589413, 'certification decision': 0.00041684035014589413, 'decision certification': 0.00041684035014589413, 'certification type': 0.00041684035014589413, 'certification choose': 0.00041684035014589413, 'choose decision': 0.00041684035014589413, 'decision influence': 0.00041684035014589413, 'influence farm': 0.00041684035014589413, 'farm management': 0.00041684035014589413, 'management investment': 0.00041684035014589413, 'investment programme': 0.00041684035014589413, 'programme marketing': 0.00041684035014589413, 'marketing strategy': 0.00041684035014589413, 'strategy certification': 0.00041684035014589413, 'objective requirement': 0.00041684035014589413, 'requirement differ': 0.00041684035014589413, 'differ cost': 0.00041684035014589413, 'cost cost': 0.00041684035014589413, 'cost meet': 0.00041684035014589413, 'meet standard': 0.00041684035014589413, 'standard certify': 0.00041684035014589413, 'certify depend': 0.00041684035014589413, 'depend kind': 0.00041684035014589413, 'kind producer': 0.00041684035014589413, 'producer his/her': 0.00041684035014589413, 'his/her farm': 0.00041684035014589413, 'farm type': 0.00041684035014589413, 'certification program': 0.00041684035014589413, 'program choose': 0.00041684035014589413, 'choose general': 0.00041684035014589413, 'general cost': 0.00041684035014589413, 'cost certification': 0.00041684035014589413, 'certification depend': 0.00041684035014589413, 'depend time': 0.00041684035014589413, 'time spent': 0.00041684035014589413, 'spent farm': 0.00041684035014589413, 'farm inspection': 0.00041684035014589413, 'inspection farm': 0.00041684035014589413, 'farm audit': 0.00041684035014589413, 'audit travel': 0.00041684035014589413, 'travel expense': 0.00041684035014589413, 'expense inspector': 0.00041684035014589413, 'inspector environmental': 0.00041684035014589413, 'agriculture rganic': 0.00041684035014589413, 'rganic agriculture': 0.00041684035014589413, 'agriculture base': 0.00041684035014589413, 'base rejection': 0.00041684035014589413, 'rejection synthetic': 0.00041684035014589413, 'synthetic chemical': 0.00041684035014589413, 'chemical genetically': 0.00041684035014589413, 'modify input': 0.00041684035014589413, 'input promote': 0.00041684035014589413, 'promote sustainable': 0.00041684035014589413, 'sustainable traditional': 0.00041684035014589413, 'traditional farming': 0.00041684035014589413, 'farming practice': 0.00041684035014589413, 'practice maintain': 0.00041684035014589413, 'maintain soil': 0.00041684035014589413, 'soil fertility': 0.00041684035014589413, 'fertility fallow': 0.00041684035014589413, 'fallow organic': 0.00041684035014589413, 'organic farming': 0.00041684035014589413, 'farming soil': 0.00041684035014589413, 'soil fertilisation': 0.00041684035014589413, 'fertilisation require': 0.00041684035014589413, 'require organic': 0.00041684035014589413, 'organic substance': 0.00041684035014589413, 'substance animal': 0.00041684035014589413, 'animal vegetable': 0.00041684035014589413, 'vegetable origin': 0.00041684035014589413, 'origin small': 0.00041684035014589413, 'small quantity': 0.00041684035014589413, 'quantity mineral': 0.00041684035014589413, 'mineral west': 0.00041684035014589413, 'africa organic': 0.00041684035014589413, 'organic farm': 0.0008336807002917883, 'farm expand': 0.00041684035014589413, 'expand notably': 0.00041684035014589413, 'notably crop': 0.00041684035014589413, 'crop cotton': 0.00041684035014589413, 'cotton banana': 0.00041684035014589413, 'banana mango': 0.00041684035014589413, 'mango pineapple': 0.00041684035014589413, 'pineapple shea': 0.00041684035014589413, 'shea butter': 0.00041684035014589413, 'butter papaya': 0.00041684035014589413, 'papaya cashew': 0.00041684035014589413, 'cashew nut': 0.00041684035014589413, 'nut avocadoes': 0.00041684035014589413, 'avocadoes main': 0.00041684035014589413, 'main requirement': 0.00041684035014589413, 'requirement specific': 0.00041684035014589413, 'specific requirement': 0.00041684035014589413, 'requirement organically': 0.00041684035014589413, 'organically certify': 0.00041684035014589413, 'certify crop': 0.00041684035014589413, 'crop livestock': 0.00041684035014589413, 'livestock fish': 0.00041684035014589413, 'fish farming': 0.00041684035014589413, 'farming bee': 0.00041684035014589413, 'bee forestry': 0.00041684035014589413, 'forestry harvest': 0.00041684035014589413, 'harvest wild': 0.00041684035014589413, 'wild product': 0.00041684035014589413, 'product organic': 0.00041684035014589413, 'organic standard': 0.00041684035014589413, 'standard require': 0.00041684035014589413, 'require conversion': 0.00041684035014589413, 'conversion period': 0.00041684035014589413, 'period time': 0.00041684035014589413, 'time farm': 0.00041684035014589413, 'farm organic': 0.00041684035014589413, 'organic production': 0.00041684035014589413, 'production method': 0.00041684035014589413, 'method certify': 0.00041684035014589413, 'certify year': 0.00041684035014589413, 'year organic': 0.00041684035014589413, 'farm criterion': 0.00041684035014589413, 'criterion crop': 0.00041684035014589413, 'production requirement': 0.0008336807002917883, 'requirement apply': 0.0008336807002917883, 'apply selection': 0.00041684035014589413, 'selection seed': 0.00041684035014589413, 'seed plant': 0.00041684035014589413, 'plant animal': 0.00041684035014589413, 'animal production': 0.00041684035014589413, 'apply animal': 0.00041684035014589413, 'animal health': 0.00041684035014589413, 'health feeding': 0.00041684035014589413, 'feeding bree': 0.00041684035014589413, 'pour producteurs exporter': 0.0004170141784820684, 'producteurs exporter west': 0.0004170141784820684, 'exporter west africa': 0.0004170141784820684, 'west africa louest': 0.0004170141784820684, 'africa louest producer': 0.0004170141784820684, 'louest producer exportateurs': 0.0004170141784820684, 'producer exportateurs lafrique': 0.0004170141784820684, 'exportateurs lafrique guide': 0.0004170141784820684, 'lafrique guide pratique': 0.0004170141784820684, 'guide pratique practical': 0.0004170141784820684, 'pratique practical manual': 0.0004170141784820684, 'practical manual reglementations': 0.0004170141784820684, 'manual reglementations regulation': 0.0004170141784820684, 'reglementations regulation normes': 0.0004170141784820684, 'regulation normes certification': 0.0004170141784820684, 'normes certification sta': 0.0004170141784820684, 'certification sta lexportation': 0.0004170141784820684, 'sta lexportation produits': 0.0004170141784820684, 'lexportation produits pour': 0.0004170141784820684, 'produits pour ndards': 0.0004170141784820684, 'pour ndards certification': 0.0004170141784820684, 'ndards certification agricultural': 0.0004170141784820684, 'certification agricultural export': 0.0004170141784820684, 'agricultural export agricoles': 0.0004170141784820684, 'export agricoles manual': 0.0004170141784820684, 'agricoles manual produce': 0.0004170141784820684, 'manual produce financial': 0.0004170141784820684, 'produce financial support': 0.0004170141784820684, 'financial support technical': 0.0004170141784820684, 'support technical centre': 0.0004170141784820684, 'technical centre agricultural': 0.0008340283569641367, 'centre agricultural rural': 0.0008340283569641367, 'agricultural rural cooperation': 0.0008340283569641367, 'rural cooperation cta': 0.0008340283569641367, 'cooperation cta government': 0.0004170141784820684, 'cta government germany': 0.0004170141784820684, 'government germany food': 0.0004170141784820684, 'germany food agriculture': 0.0004170141784820684, 'food agriculture organization': 0.0016680567139282735, 'agriculture organization united': 0.0012510425354462051, 'organization united nation': 0.0012510425354462051, 'united nation fao': 0.0004170141784820684, 'nation fao manual': 0.0004170141784820684, 'fao manual partly': 0.0004170141784820684, 'manual partly base': 0.0004170141784820684, 'partly base fao/ruta': 0.0004170141784820684, 'base fao/ruta unidad': 0.0004170141784820684, 'fao/ruta unidad regional': 0.0004170141784820684, 'unidad regional asistencia': 0.0004170141784820684, 'regional asistencia técnica': 0.0004170141784820684, 'asistencia técnica spanish': 0.0004170141784820684, 'técnica spanish manual': 0.0004170141784820684, 'spanish manual ¿es': 0.0004170141784820684, 'manual ¿es certificación': 0.0004170141784820684, '¿es certificación algo': 0.0004170141784820684, 'certificación algo para': 0.0004170141784820684, 'algo para una': 0.0004170141784820684, 'para una guía': 0.0004170141784820684, 'una guía práctica': 0.0004170141784820684, 'guía práctica sobre': 0.0004170141784820684, 'práctica sobre por': 0.0004170141784820684, 'sobre por qué': 0.0004170141784820684, 'por qué cómo': 0.0004170141784820684, 'qué cómo quién': 0.0004170141784820684, 'cómo quién certificar': 0.0004170141784820684, 'quién certificar productos': 0.0004170141784820684, 'certificar productos para': 0.0004170141784820684, 'productos para exportación': 0.0004170141784820684, 'para exportación andersen': 0.0004170141784820684, 'exportación andersen pazderka': 0.0004170141784820684, 'andersen pazderka liu': 0.0004170141784820684, 'pazderka liu pazderka': 0.0004170141784820684, 'liu pazderka liu': 0.0004170141784820684, 'pazderka liu isbn': 0.0004170141784820684, 'liu isbn -x.': 0.0004170141784820684, 'isbn -x. author': 0.0004170141784820684, '-x. author aïcha': 0.0004170141784820684, 'author aïcha coulibaly': 0.0004170141784820684, 'aïcha coulibaly commodity': 0.0004170141784820684, 'coulibaly commodity trade': 0.0004170141784820684, 'commodity trade division': 0.0016680567139282735, 'trade division fao': 0.0012510425354462051, 'division fao pascal': 0.0004170141784820684, 'fao pascal liu': 0.0004170141784820684, 'pascal liu commodity': 0.0004170141784820684, 'liu commodity trade': 0.0004170141784820684, 'division fao collaboration': 0.0004170141784820684, 'fao collaboration cora': 0.0004170141784820684, 'collaboration cora dankers': 0.0004170141784820684, 'cora dankers commodity': 0.0004170141784820684, 'dankers commodity trade': 0.0004170141784820684, 'division fao antoine': 0.0004170141784820684, 'fao antoine fayossewo': 0.0004170141784820684, 'antoine fayossewo techno': 0.0004170141784820684, 'fayossewo techno service': 0.0004170141784820684, 'techno service farm': 0.0004170141784820684, 'service farm layout': 0.0004170141784820684, 'farm layout manual': 0.0004170141784820684, 'layout manual bruno': 0.0004170141784820684, 'manual bruno dumoulin': 0.0004170141784820684, 'bruno dumoulin illustration': 0.0004170141784820684, 'dumoulin illustration diop': 0.0004170141784820684, 'illustration diop aly': 0.0004170141784820684, 'diop aly nguer': 0.0004170141784820684, 'aly nguer mention': 0.0004170141784820684, 'nguer mention omission': 0.0004170141784820684, 'mention omission specific': 0.0004170141784820684, 'omission specific company': 0.0004170141784820684, 'specific company product': 0.0004170141784820684, 'company product brand': 0.0004170141784820684, 'product brand imply': 0.0004170141784820684, 'brand imply endorsement': 0.0004170141784820684, 'imply endorsement judgment': 0.0004170141784820684, 'endorsement judgment food': 0.0004170141784820684, 'judgment food agriculture': 0.0004170141784820684, 'agriculture organization unite': 0.0004170141784820684, 'organization unite nation': 0.0004170141784820684, 'unite nation view': 0.0004170141784820684, 'nation view express': 0.0004170141784820684, 'view express publication': 0.0004170141784820684, 'express publication author': 0.0004170141784820684, 'publication author reflect': 0.0004170141784820684, 'author reflect view': 0.0004170141784820684, 'reflect view food': 0.0004170141784820684, 'view food agriculture': 0.0004170141784820684, 'united nation designation': 0.0004170141784820684, 'nation designation employ': 0.0004170141784820684, 'designation employ presentation': 0.0004170141784820684, 'employ presentation material': 0.0004170141784820684, 'presentation material product': 0.0004170141784820684, 'material product imply': 0.0004170141784820684, 'product imply expression': 0.0004170141784820684, 'imply expression opinion': 0.0004170141784820684, 'expression opinion whatsoever': 0.0004170141784820684, 'opinion whatsoever food': 0.0004170141784820684, 'whatsoever food agriculture': 0.0004170141784820684, 'united nation legal': 0.0004170141784820684, 'nation legal development': 0.0004170141784820684, 'legal development status': 0.0004170141784820684, 'development status country': 0.0004170141784820684, 'status country territory': 0.0004170141784820684, 'country territory city': 0.0004170141784820684, 'territory city area': 0.0004170141784820684, 'city area authority': 0.0004170141784820684, 'area authority delimitation': 0.0004170141784820684, 'authority delimitation frontier': 0.0004170141784820684, 'delimitation frontier boundary': 0.0004170141784820684, 'frontier boundary reserve': 0.0004170141784820684, 'boundary reserve reproduction': 0.0004170141784820684, 'reserve reproduction dissemination': 0.0004170141784820684, 'reproduction dissemination material': 0.0004170141784820684, 'dissemination material product': 0.0004170141784820684, 'material product educational': 0.0004170141784820684, 'product educational noncommercial': 0.0004170141784820684, 'educational noncommercial purpose': 0.0004170141784820684, 'noncommercial purpose authorize': 0.0004170141784820684, 'purpose authorize prior': 0.0004170141784820684, 'authorize prior write': 0.0004170141784820684, 'prior write permission': 0.0004170141784820684, 'write permission copyright': 0.0008340283569641367, 'permission copyright holder': 0.0008340283569641367, 'copyright holder provide': 0.0004170141784820684, 'holder provide source': 0.0004170141784820684, 'provide source fully': 0.0004170141784820684, 'source fully acknowledge': 0.0004170141784820684, 'fully acknowledge reproduction': 0.0004170141784820684, 'acknowledge reproduction material': 0.0004170141784820684, 'reproduction material product': 0.0004170141784820684, 'material product resale': 0.0004170141784820684, 'product resale commercial': 0.0004170141784820684, 'resale commercial purpose': 0.0004170141784820684, 'commercial purpose prohibit': 0.0004170141784820684, 'purpose prohibit write': 0.0004170141784820684, 'prohibit write permission': 0.0004170141784820684, 'copyright holder application': 0.0004170141784820684, 'holder application permission': 0.0004170141784820684, 'application permission address': 0.0004170141784820684, 'permission address chief': 0.0004170141784820684, 'address chief publish': 0.0004170141784820684, 'chief publish management': 0.0004170141784820684, 'publish management service': 0.0004170141784820684, 'management service division': 0.0004170141784820684, 'service division fao': 0.0004170141784820684, 'division fao viale': 0.0004170141784820684, 'fao viale delle': 0.0004170141784820684, 'viale delle terme': 0.0004170141784820684, 'delle terme caracalla': 0.0004170141784820684, 'terme caracalla rome': 0.0004170141784820684, 'caracalla rome italy': 0.0004170141784820684, 'rome italy e-mail': 0.0004170141784820684, 'italy e-mail copyrightfao.org': 0.0004170141784820684, 'e-mail copyrightfao.org fao': 0.0004170141784820684, 'copyrightfao.org fao manual': 0.0004170141784820684, 'fao manual objective': 0.0004170141784820684, 'manual objective provide': 0.0004170141784820684, 'objective provide producer': 0.0008340283569641367, 'provide producer exporter': 0.0004170141784820684, 'producer exporter regulation': 0.0004170141784820684, 'exporter regulation main': 0.0004170141784820684, 'regulation main import': 0.0004170141784820684, 'main import country': 0.0004170141784820684, 'import country major': 0.0004170141784820684, 'country major certification': 0.0004170141784820684, 'major certification programme': 0.0004170141784820684, 'certification programme contact': 0.0004170141784820684, 'programme contact import': 0.0004170141784820684, 'contact import regulation': 0.0004170141784820684, 'import regulation certification': 0.0008340283569641367, 'regulation certification scheme': 0.0004170141784820684, 'certification scheme producer': 0.0004170141784820684, 'scheme producer feel': 0.0004170141784820684, 'producer feel market': 0.0004170141784820684, 'feel market certify': 0.0004170141784820684, 'market certify agricultural': 0.0004170141784820684, 'certify agricultural product': 0.0004170141784820684, 'agricultural product complex': 0.0004170141784820684, 'product complex opportunity': 0.0004170141784820684, 'complex opportunity requirement': 0.0004170141784820684, 'opportunity requirement certification': 0.0004170141784820684, 'requirement certification programme': 0.0004170141784820684, 'certification programme clear': 0.0004170141784820684, 'programme clear addition': 0.0004170141784820684, 'clear addition producer': 0.0004170141784820684, 'addition producer requirement': 0.0004170141784820684, 'producer requirement compulsory': 0.0004170141784820684, 'requirement compulsory create': 0.0004170141784820684, 'compulsory create official': 0.0004170141784820684, 'create official law': 0.0004170141784820684, 'official law regulation': 0.0004170141784820684, 'law regulation import': 0.0004170141784820684, 'regulation import country': 0.002085070892410342, 'import country voluntary': 0.0004170141784820684, 'country voluntary framework': 0.0004170141784820684, 'voluntary framework manual': 0.0004170141784820684, 'framework manual create': 0.0004170141784820684, 'manual create read': 0.0004170141784820684, 'create read content': 0.0004170141784820684, 'read content reader': 0.0004170141784820684, 'content reader understand': 0.0004170141784820684, 'reader understand main': 0.0008340283569641367, 'understand main voluntary': 0.0008340283569641367, 'main voluntary certification': 0.0012510425354462051, 'voluntary certification scheme': 0.0012510425354462051, 'certification scheme reader': 0.0004170141784820684, 'scheme reader understand': 0.0004170141784820684, 'certification scheme difference': 0.0004170141784820684, 'scheme difference advantage': 0.0004170141784820684, 'difference advantage limitation': 0.0004170141784820684, 'advantage limitation order': 0.0004170141784820684, 'limitation order export': 0.0004170141784820684, 'order export his/her': 0.0004170141784820684, 'export his/her product': 0.0004170141784820684, 'his/her product producer': 0.0004170141784820684, 'product producer exporter': 0.0004170141784820684, 'producer exporter conform': 0.0004170141784820684, 'exporter conform regulation': 0.0004170141784820684, 'conform regulation import': 0.0004170141784820684, 'import country reader': 0.0004170141784820684, 'country reader manual': 0.0004170141784820684, 'reader manual main': 0.0004170141784820684, 'manual main import': 0.0004170141784820684, 'main import regulation': 0.0004170141784820684, 'import regulation united': 0.0008340283569641367, 'regulation united state': 0.0012510425354462051, 'united state european': 0.0012510425354462051, 'state european union': 0.0016680567139282735, 'european union japan': 0.0012510425354462051, 'union japan topic': 0.0004170141784820684, 'japan topic farm': 0.0004170141784820684, 'topic farm practice': 0.0004170141784820684, 'farm practice post-harvest': 0.0004170141784820684, 'practice post-harvest activity': 0.0004170141784820684, 'post-harvest activity scope': 0.0004170141784820684, 'activity scope manual': 0.0004170141784820684, 'scope manual manual': 0.0004170141784820684, 'manual manual comprises': 0.0004170141784820684, 'manual comprises standard': 0.0004170141784820684, 'comprises standard import': 0.0004170141784820684, 'standard import regulation': 0.0004170141784820684, 'import regulation main': 0.0008340283569641367, 'regulation main voluntary': 0.0004170141784820684, 'certification scheme difficult': 0.0004170141784820684, 'scheme difficult provide': 0.0004170141784820684, 'difficult provide comprehensive': 0.0004170141784820684, 'provide comprehensive import': 0.0004170141784820684, 'comprehensive import regulation': 0.0004170141784820684, 'regulation certification programme': 0.0004170141784820684, 'certification programme reason': 0.0004170141784820684, 'programme reason change': 0.0004170141784820684, 'reason change nature': 0.0004170141784820684, 'change nature regulation': 0.0004170141784820684, 'nature regulation import': 0.0004170141784820684, 'import country diversity': 0.0004170141784820684, 'country diversity product': 0.0004170141784820684, 'diversity product characteristic': 0.0004170141784820684, 'product characteristic numerous': 0.0004170141784820684, 'characteristic numerous internet': 0.0004170141784820684, 'numerous internet address': 0.0004170141784820684, 'internet address provide': 0.0004170141784820684, 'address provide additional': 0.0004170141784820684, 'provide additional manual': 0.0004170141784820684, 'additional manual blank': 0.0004170141784820684, 'manual blank enable': 0.0004170141784820684, 'blank enable update': 0.0004170141784820684, 'enable update add': 0.0004170141784820684, 'update add internet': 0.0004170141784820684, 'add internet link': 0.0004170141784820684, 'internet link gather': 0.0004170141784820684, 'link gather search': 0.0004170141784820684, 'gather search hope': 0.0004170141784820684, 'search hope manual': 0.0004170141784820684, 'hope manual respond': 0.0004170141784820684, 'manual respond escr': 0.0004170141784820684, 'respond escr mandate': 0.0004170141784820684, 'escr mandate commodity': 0.0004170141784820684, 'mandate commodity trade': 0.0004170141784820684, 'trade division esc': 0.0004170141784820684, 'division esc fao': 0.0004170141784820684, 'esc fao identify': 0.0004170141784820684, 'fao identify problem': 0.0004170141784820684, 'identify problem commodity': 0.0004170141784820684, 'problem commodity trade': 0.0004170141784820684, 'commodity trade propose': 0.0004170141784820684, 'trade propose solution': 0.0004170141784820684, 'propose solution address': 0.0004170141784820684, 'solution address preferably': 0.0004170141784820684, 'address preferably international': 0.0004170141784820684, 'preferably international action': 0.0004170141784820684, 'international action escr': 0.0004170141784820684, 'action escr raw': 0.0004170141784820684, 'escr raw material': 0.0004170141784820684, 'raw material tropical': 0.0004170141784820684, 'material tropical horticultural': 0.0004170141784820684, 'tropical horticultural product': 0.0004170141784820684, 'horticultural product service': 0.0004170141784820684, 'product service involve': 0.0004170141784820684, 'service involve issue': 0.0004170141784820684, 'involve issue social': 0.0004170141784820684, 'issue social environmental': 0.0004170141784820684, 'social environmental certification': 0.0008340283569641367, 'environmental certification continue': 0.0004170141784820684, 'certification continue analytical': 0.0004170141784820684, 'continue analytical work': 0.0004170141784820684, 'analytical work trade': 0.0004170141784820684, 'work trade economic': 0.0004170141784820684, 'trade economic problem': 0.0004170141784820684, 'economic problem bananas': 0.0004170141784820684, 'problem bananas commodity': 0.0004170141784820684, 'bananas commodity responsible': 0.0004170141784820684, 'commodity responsible fao-escr': 0.0004170141784820684, 'responsible fao-escr produce': 0.0004170141784820684, 'fao-escr produce technical': 0.0004170141784820684, 'produce technical study': 0.0004170141784820684, 'technical study publication': 0.0004170141784820684, 'study publication social': 0.0004170141784820684, 'publication social environmental': 0.0004170141784820684, 'environmental certification include': 0.0004170141784820684, 'certification include small': 0.0004170141784820684, 'include small brochure': 0.0004170141784820684, 'small brochure target': 0.0004170141784820684, 'brochure target wholesale': 0.0004170141784820684, 'target wholesale retail': 0.0004170141784820684, 'wholesale retail buyer': 0.0004170141784820684, 'retail buyer banana': 0.0004170141784820684, 'buyer banana explain': 0.0004170141784820684, 'banana explain difference': 0.0004170141784820684, 'explain difference certification': 0.0004170141784820684, 'difference certification scheme': 0.0004170141784820684, 'certification scheme extension': 0.0004170141784820684, 'scheme extension manual': 0.0004170141784820684, 'extension manual aim': 0.0004170141784820684, 'manual aim producer': 0.0004170141784820684, 'aim producer association': 0.0004170141784820684, 'producer association exporters': 0.0004170141784820684, 'association exporters central': 0.0004170141784820684, 'exporters central america': 0.0004170141784820684, 'central america voluntary': 0.0004170141784820684, 'america voluntary certification': 0.0004170141784820684, 'voluntary certification programme': 0.0004170141784820684, 'certification programme import': 0.0004170141784820684, 'programme import regulation': 0.0004170141784820684, 'regulation main export': 0.0004170141784820684, 'main export market': 0.0004170141784820684, 'export market cost-benefit': 0.0004170141784820684, 'market cost-benefit analysis': 0.0004170141784820684, 'cost-benefit analysis certify': 0.0008340283569641367, 'analysis certify citrus': 0.0008340283569641367, 'certify citrus spain': 0.0008340283569641367, 'citrus spain costa': 0.0008340283569641367, 'spain costa rica': 0.0008340283569641367, 'costa rica cost-benefit': 0.0004170141784820684, 'rica cost-benefit analysis': 0.0004170141784820684, 'costa rica technical': 0.0004170141784820684, 'rica technical paper': 0.0004170141784820684, 'technical paper environmental': 0.0004170141784820684, 'paper environmental social': 0.0004170141784820684, 'environmental social standard': 0.0004170141784820684, 'social standard certification': 0.0004170141784820684, 'standard certification label': 0.0004170141784820684, 'certification label cash': 0.0004170141784820684, 'label cash crop': 0.0004170141784820684, 'cash crop fao': 0.0004170141784820684, 'crop fao establish': 0.0004170141784820684, 'fao establish internet': 0.0004170141784820684, 'establish internet portal': 0.0004170141784820684, 'internet portal relevant': 0.0004170141784820684, 'portal relevant study': 0.0004170141784820684, 'relevant study link': 0.0004170141784820684, 'study link organization': 0.0004170141784820684, 'link organization work': 0.0004170141784820684, 'organization work improve': 0.0004170141784820684, 'work improve social': 0.0004170141784820684, 'improve social environmental': 0.0004170141784820684, 'social environmental condition': 0.0004170141784820684, 'environmental condition agricultural': 0.0004170141784820684, 'condition agricultural production': 0.0004170141784820684, 'agricultural production trade': 0.0004170141784820684, 'production trade http//www.fao.org/es/esc/en///highlighten.html': 0.0004170141784820684, 'trade http//www.fao.org/es/esc/en///highlighten.html technical': 0.0004170141784820684, 'http//www.fao.org/es/esc/en///highlighten.html technical centre': 0.0004170141784820684, 'cooperation cta establish': 0.0004170141784820684, 'cta establish lomé': 0.0004170141784820684, 'establish lomé convention': 0.0004170141784820684, 'lomé convention acp': 0.0004170141784820684, 'convention acp african': 0.0004170141784820684, 'acp african caribbean': 0.0004170141784820684, 'african caribbean pacific': 0.0004170141784820684, 'caribbean pacific group': 0.0004170141784820684, 'pacific group state': 0.0004170141784820684, 'group state european': 0.0004170141784820684, 'european union member': 0.0008340283569641367, 'union member state': 0.0004170141784820684, 'member state operate': 0.0004170141784820684, 'state operate framework': 0.0004170141784820684, 'operate framework acp-ec': 0.0004170141784820684, 'framework acp-ec cotonou': 0.0004170141784820684, 'acp-ec cotonou agreement': 0.0004170141784820684, 'cotonou agreement ctas': 0.0004170141784820684, 'agreement ctas task': 0.0004170141784820684, 'ctas task develop': 0.0004170141784820684, 'task develop provide': 0.0004170141784820684, 'develop provide service': 0.0004170141784820684, 'provide service improve': 0.0004170141784820684, 'service improve access': 0.0004170141784820684, 'improve access agricultural': 0.0004170141784820684, 'access agricultural rural': 0.0004170141784820684, 'agricultural rural development': 0.0004170141784820684, 'rural development strengthen': 0.0004170141784820684, 'development strengthen capacity': 0.0004170141784820684, 'strengthen capacity acp': 0.0004170141784820684, 'capacity acp country': 0.0004170141784820684, 'acp country produce': 0.0004170141784820684, 'country produce acquire': 0.0004170141784820684, 'produce acquire exchange': 0.0004170141784820684, 'acquire exchange utilize': 0.0004170141784820684, 'exchange utilize area': 0.0004170141784820684, 'utilize area ctas': 0.0004170141784820684, 'area ctas programme': 0.0004170141784820684, 'ctas programme design': 0.0004170141784820684, 'programme design provide': 0.0004170141784820684, 'design provide wide': 0.0004170141784820684, 'provide wide range': 0.0004170141784820684, 'wide range product': 0.0004170141784820684, 'range product service': 0.0004170141784820684, 'product service enhance': 0.0004170141784820684, 'service enhance awareness': 0.0004170141784820684, 'enhance awareness relevant': 0.0004170141784820684, 'awareness relevant source': 0.0004170141784820684, 'relevant source promote': 0.0004170141784820684, 'source promote integrated': 0.0004170141784820684, 'promote integrated communication': 0.0004170141784820684, 'integrated communication channel': 0.0004170141784820684, 'communication channel intensify': 0.0004170141784820684, 'channel intensify contact': 0.0004170141784820684, 'intensify contact exchange': 0.0004170141784820684, 'contact exchange intra-acp': 0.0004170141784820684, 'exchange intra-acp develop': 0.0004170141784820684, 'intra-acp develop acp': 0.0004170141784820684, 'develop acp capacity': 0.0004170141784820684, 'acp capacity generate': 0.0004170141784820684, 'capacity generate manage': 0.0004170141784820684, 'generate manage agricultural': 0.0004170141784820684, 'manage agricultural formulate': 0.0004170141784820684, 'agricultural formulate icm': 0.0004170141784820684, 'formulate icm strategy': 0.0004170141784820684, 'icm strategy include': 0.0004170141784820684, 'strategy include relevant': 0.0004170141784820684, 'include relevant science': 0.0004170141784820684, 'relevant science technology': 0.0004170141784820684, 'science technology ctas': 0.0004170141784820684, 'technology ctas work': 0.0004170141784820684, 'ctas work incorporate': 0.0004170141784820684, 'work incorporate development': 0.0004170141784820684, 'incorporate development methodology': 0.0004170141784820684, 'development methodology cross-cutting': 0.0004170141784820684, 'methodology cross-cutting issue': 0.0004170141784820684, 'cross-cutting issue gender': 0.0004170141784820684, 'issue gender social': 0.0004170141784820684, 'gender social capital': 0.0004170141784820684, 'social capital cta': 0.0004170141784820684, 'capital cta postbus': 0.0004170141784820684, 'cta postbus wageningen': 0.0004170141784820684, 'postbus wageningen netherlands': 0.0004170141784820684, 'wageningen netherlands -website': 0.0004170141784820684, 'netherlands -website www.cta.int': 0.0004170141784820684, '-website www.cta.int iii': 0.0004170141784820684, 'www.cta.int iii content': 0.0004170141784820684, 'iii content manual': 0.0004170141784820684, 'content manual glossary': 0.0004170141784820684, 'manual glossary technical': 0.0004170141784820684, 'glossary technical regulation': 0.0004170141784820684, 'technical regulation control': 0.0008340283569641367, 'regulation control import': 0.0008340283569641367, 'control import commercial': 0.0004170141784820684, 'import commercial quality': 0.0004170141784820684, 'commercial quality label': 0.0008340283569641367, 'quality label regulation': 0.0008340283569641367, 'label regulation food': 0.0004170141784820684, 'regulation food safety': 0.0004170141784820684, 'food safety regulation': 0.0012510425354462051, 'safety regulation maximum': 0.0004170141784820684, 'regulation maximum residue': 0.0008340283569641367, 'maximum residue limit': 0.0029190992493744786, 'residue limit pesticide': 0.0016680567139282735, 'limit pesticide biological': 0.0004170141784820684, 'pesticide biological contamination': 0.0004170141784820684, 'biological contamination product': 0.0008340283569641367, 'contamination product traceability': 0.0008340283569641367, 'product traceability environmental': 0.0004170141784820684, 'traceability environmental safety': 0.0004170141784820684, 'environmental safety phytosanitary': 0.0008340283569641367, 'safety phytosanitary regulation': 0.0008340283569641367, 'phytosanitary regulation custom': 0.0004170141784820684, 'regulation custom clearance': 0.0004170141784820684, 'custom clearance organization': 0.0004170141784820684, 'clearance organization support': 0.0004170141784820684, 'organization support export': 0.0008340283569641367, 'support export west': 0.0008340283569641367, 'export west africa': 0.0008340283569641367, 'west africa voluntary': 0.0004170141784820684, 'africa voluntary certification': 0.0004170141784820684, 'voluntary certification question': 0.0004170141784820684, 'certification question certification': 0.0004170141784820684, 'question certification environmental': 0.0004170141784820684, 'certification environmental certification': 0.0004170141784820684, 'environmental certification organic': 0.0008340283569641367, 'certification organic agriculture': 0.0008340283569641367, 'organic agriculture iso': 0.0004170141784820684, 'agriculture iso certification': 0.0004170141784820684, 'iso certification utz': 0.0004170141784820684, 'certification utz kapeh': 0.0004170141784820684, 'utz kapeh social': 0.0004170141784820684, 'kapeh social certification': 0.0004170141784820684, 'social certification fair-trade': 0.0004170141784820684, 'certification fair-trade certification': 0.0004170141784820684, 'fair-trade certification food': 0.0004170141784820684, 'certification food safety': 0.0004170141784820684, 'food safety quality': 0.0004170141784820684, 'safety quality certification': 0.0004170141784820684, 'quality certification eurepgap': 0.0004170141784820684, 'certification eurepgap tification': 0.0004170141784820684, 'eurepgap tification iso': 0.0004170141784820684, 'tification iso brc': 0.0004170141784820684, 'iso brc global': 0.0004170141784820684, 'brc global standard': 0.0004170141784820684, 'global standard goal': 0.0004170141784820684, 'standard goal certification': 0.0004170141784820684, 'goal certification scheme': 0.0004170141784820684, 'certification scheme opportunity': 0.0004170141784820684, 'scheme opportunity constraint': 0.0004170141784820684, 'opportunity constraint certification': 0.0004170141784820684, 'constraint certification scheme': 0.0004170141784820684, 'certification scheme glossary': 0.0004170141784820684, 'scheme glossary bioterrorism': 0.0004170141784820684, 'glossary bioterrorism bioterrorism': 0.0004170141784820684, 'bioterrorism bioterrorism form': 0.0004170141784820684, 'bioterrorism form terrorism': 0.0004170141784820684, 'form terrorism base': 0.0004170141784820684, 'terrorism base pathogen': 0.0004170141784820684, 'base pathogen practice': 0.0004170141784820684, 'pathogen practice comprise': 0.0004170141784820684, 'practice comprise bacteria': 0.0004170141784820684, 'comprise bacteria virus': 0.0004170141784820684, 'bacteria virus toxin': 0.0004170141784820684, 'virus toxin person': 0.0004170141784820684, 'toxin person animal': 0.0004170141784820684, 'person animal plant': 0.0004170141784820684, 'animal plant biological': 0.0004170141784820684, 'plant biological contamination': 0.0004170141784820684, 'biological contamination contamination': 0.0004170141784820684, 'contamination contamination material': 0.0004170141784820684, 'contamination material living': 0.0004170141784820684, 'material living matter': 0.0004170141784820684, 'living matter pathogens': 0.0004170141784820684, 'matter pathogens genetically': 0.0004170141784820684, 'pathogens genetically modify': 0.0004170141784820684, 'genetically modify organisms': 0.0004170141784820684, 'modify organisms fumigation': 0.0004170141784820684, 'organisms fumigation treatment': 0.0004170141784820684, 'fumigation treatment base': 0.0004170141784820684, 'treatment base disinfection': 0.0004170141784820684, 'base disinfection product': 0.0004170141784820684, 'disinfection product chemical': 0.0004170141784820684, 'product chemical agent': 0.0004170141784820684, 'chemical agent type': 0.0004170141784820684, 'agent type treatment': 0.0004170141784820684, 'type treatment require': 0.0004170141784820684, 'treatment require disinfect': 0.0004170141784820684, 'require disinfect material': 0.0004170141784820684, 'disinfect material commodity': 0.0004170141784820684, 'material commodity packaging': 0.0004170141784820684, 'commodity packaging meant': 0.0004170141784820684, 'packaging meant export': 0.0004170141784820684, 'meant export quarantine': 0.0004170141784820684, 'export quarantine quarantine': 0.0004170141784820684, 'quarantine quarantine confinement': 0.0004170141784820684, 'quarantine confinement product': 0.0004170141784820684, 'confinement product comply': 0.0004170141784820684, 'product comply phytosanitary': 0.0004170141784820684, 'comply phytosanitary requirement': 0.0004170141784820684, 'phytosanitary requirement import': 0.0004170141784820684, 'requirement import country': 0.0004170141784820684, 'import country confinement': 0.0004170141784820684, 'country confinement product': 0.0004170141784820684, 'confinement product aim': 0.0004170141784820684, 'product aim avoid': 0.0004170141784820684, 'aim avoid introduction': 0.0004170141784820684, 'avoid introduction spread': 0.0004170141784820684, 'introduction spread disease': 0.0004170141784820684, 'spread disease confine': 0.0004170141784820684, 'disease confine product': 0.0004170141784820684, 'confine product observation': 0.0004170141784820684, 'product observation inspection': 0.0004170141784820684, 'observation inspection test': 0.0004170141784820684, 'inspection test and/or': 0.0004170141784820684, 'test and/or treatment': 0.0004170141784820684, 'and/or treatment haccp': 0.0004170141784820684, 'treatment haccp principle': 0.0004170141784820684, 'haccp principle haccp': 0.0004170141784820684, 'principle haccp maintains': 0.0004170141784820684, 'haccp maintains food': 0.0004170141784820684, 'maintains food safety': 0.0004170141784820684, 'food safety food': 0.0004170141784820684, 'safety food supply': 0.0004170141784820684, 'food supply chain': 0.0004170141784820684, 'supply chain farm': 0.0004170141784820684, 'chain farm consumer': 0.0004170141784820684, 'farm consumer table': 0.0004170141784820684, 'consumer table consist': 0.0004170141784820684, 'table consist analyse': 0.0004170141784820684, 'consist analyse contamination': 0.0004170141784820684, 'analyse contamination hazard': 0.0004170141784820684, 'contamination hazard order': 0.0004170141784820684, 'hazard order identify': 0.0004170141784820684, 'order identify critical': 0.0004170141784820684, 'identify critical control': 0.0004170141784820684, 'critical control point': 0.0016680567139282735, 'control point production': 0.0004170141784820684, 'point production product': 0.0004170141784820684, 'production product avoid': 0.0004170141784820684, 'product avoid contamination': 0.0004170141784820684, 'avoid contamination ensure': 0.0004170141784820684, 'contamination ensure food': 0.0004170141784820684, 'ensure food safety': 0.0004170141784820684, 'food safety step': 0.0004170141784820684, 'safety step lead': 0.0004170141784820684, 'step lead haccp': 0.0004170141784820684, 'lead haccp implantation': 0.0004170141784820684, 'haccp implantation assemble': 0.0004170141784820684, 'implantation assemble haccp': 0.0004170141784820684, 'assemble haccp team': 0.0004170141784820684, 'haccp team product': 0.0004170141784820684, 'team product identify': 0.0004170141784820684, 'product identify intended': 0.0004170141784820684, 'identify intended construct': 0.0004170141784820684, 'intended construct flow': 0.0004170141784820684, 'construct flow diagram': 0.0004170141784820684, 'flow diagram on-site': 0.0004170141784820684, 'diagram on-site confirmation': 0.0004170141784820684, 'on-site confirmation flow': 0.0004170141784820684, 'confirmation flow diagram': 0.0004170141784820684, 'flow diagram list': 0.0004170141784820684, 'diagram list potential': 0.0004170141784820684, 'list potential hazard': 0.0004170141784820684, 'potential hazard step': 0.0004170141784820684, 'hazard step conduct': 0.0004170141784820684, 'step conduct hazard': 0.0004170141784820684, 'conduct hazard analysis': 0.0004170141784820684, 'hazard analysis measure': 0.0004170141784820684, 'analysis measure control': 0.0004170141784820684, 'measure control identify': 0.0004170141784820684, 'control identify hazard': 0.0004170141784820684, 'identify hazard determine': 0.0004170141784820684, 'hazard determine critical': 0.0004170141784820684, 'determine critical control': 0.0004170141784820684, 'control point establish': 0.0012510425354462051, 'point establish critical': 0.0004170141784820684, 'establish critical limit': 0.0004170141784820684, 'critical limit critical': 0.0004170141784820684, 'limit critical control': 0.0004170141784820684, 'point establish monitor': 0.0004170141784820684, 'establish monitor critical': 0.0004170141784820684, 'monitor critical control': 0.0004170141784820684, 'point establish corrective': 0.0004170141784820684, 'establish corrective action': 0.0004170141784820684, 'corrective action establish': 0.0004170141784820684, 'action establish verification': 0.0004170141784820684, 'establish verification procedure': 0.0004170141784820684, 'verification procedure establish': 0.0004170141784820684, 'procedure establish documentation': 0.0004170141784820684, 'establish documentation record': 0.0004170141784820684, 'documentation record technical': 0.0004170141784820684, 'record technical regulation': 0.0004170141784820684, 'control import technical': 0.0004170141784820684, 'import technical norm': 0.0004170141784820684, 'technical norm import': 0.0012510425354462051, 'norm import requirement': 0.0004170141784820684, 'import requirement united': 0.0004170141784820684, 'requirement united state': 0.0008340283569641367, 'union japan export': 0.0004170141784820684, 'japan export product': 0.0004170141784820684, 'export product international': 0.0004170141784820684, 'product international market': 0.0004170141784820684, 'international market producer': 0.0004170141784820684, 'market producer exporter': 0.0004170141784820684, 'producer exporter comply': 0.0012510425354462051, 'exporter comply norms': 0.0004170141784820684, 'comply norms regulation': 0.0004170141784820684, 'norms regulation order': 0.0004170141784820684, 'regulation order ensure': 0.0004170141784820684, 'order ensure product': 0.0004170141784820684, 'ensure product quality': 0.0004170141784820684, 'product quality environmental': 0.0004170141784820684, 'quality environmental protection': 0.0004170141784820684, 'environmental protection consumer': 0.0004170141784820684, 'protection consumer health': 0.0004170141784820684, 'consumer health norm': 0.0004170141784820684, 'health norm regulation': 0.0004170141784820684, 'norm regulation depend': 0.0004170141784820684, 'regulation depend product': 0.0004170141784820684, 'depend product country': 0.0004170141784820684, 'product country export': 0.0004170141784820684, 'country export import': 0.0004170141784820684, 'export import regulation': 0.0004170141784820684, 'import regulation base': 0.0004170141784820684, 'regulation base international': 0.0004170141784820684, 'base international food': 0.0004170141784820684, 'international food standard': 0.0004170141784820684, 'food standard develop': 0.0004170141784820684, 'standard develop individual': 0.0004170141784820684, 'develop individual country': 0.0004170141784820684, 'individual country non-compliance': 0.0004170141784820684, 'country non-compliance requirement': 0.0004170141784820684, 'non-compliance requirement lead': 0.0004170141784820684, 'requirement lead quarantine': 0.0004170141784820684, 'lead quarantine product': 0.0004170141784820684, 'quarantine product rejection': 0.0004170141784820684, 'product rejection import': 0.0004170141784820684, 'rejection import country': 0.0004170141784820684, 'import country commercial': 0.0004170141784820684, 'country commercial quality': 0.0004170141784820684, 'label regulation onsumers': 0.0004170141784820684, 'regulation onsumers increasingly': 0.0004170141784820684, 'onsumers increasingly concerned': 0.0004170141784820684, 'increasingly concerned health': 0.0004170141784820684, 'concerned health country': 0.0004170141784820684, 'health country origin': 0.0004170141784820684, 'country origin quality': 0.0004170141784820684, 'origin quality product': 0.0004170141784820684, 'quality product consume': 0.0004170141784820684, 'product consume popular': 0.0004170141784820684, 'consume popular regulation': 0.0004170141784820684, 'popular regulation focus': 0.0004170141784820684, 'regulation focus grade': 0.0004170141784820684, 'focus grade size': 0.0004170141784820684, 'grade size weight': 0.0004170141784820684, 'size weight package': 0.0004170141784820684, 'weight package label': 0.0004170141784820684, 'package label labelling': 0.0004170141784820684, 'label labelling require': 0.0004170141784820684, 'labelling require include': 0.0004170141784820684, 'require include country': 0.0004170141784820684, 'include country origin': 0.0004170141784820684, 'country origin product': 0.0004170141784820684, 'origin product variety': 0.0004170141784820684, 'product variety quantity': 0.0004170141784820684, 'variety quantity requirement': 0.0004170141784820684, 'quantity requirement relate': 0.0004170141784820684, 'requirement relate commercial': 0.0004170141784820684, 'relate commercial quality': 0.0004170141784820684, 'commercial quality variety': 0.0004170141784820684, 'quality variety colour': 0.0004170141784820684, 'variety colour expiration': 0.0004170141784820684, 'colour expiration external': 0.0004170141784820684, 'expiration external damage': 0.0004170141784820684, 'external damage shape': 0.0004170141784820684, 'damage shape entry': 0.0004170141784820684, 'shape entry product': 0.0004170141784820684, 'entry product require': 0.0004170141784820684, 'product require comply': 0.0004170141784820684, 'require comply grade': 0.0004170141784820684, 'comply grade import': 0.0004170141784820684, 'grade import country': 0.0004170141784820684, 'import country product': 0.0008340283569641367, 'country product minimum': 0.0004170141784820684, 'product minimum condition': 0.0004170141784820684, 'minimum condition united': 0.0004170141784820684, 'condition united state': 0.0004170141784820684, 'united state united': 0.0016680567139282735, 'state united state': 0.0016680567139282735, 'united state require': 0.0004170141784820684, 'state require agricultural': 0.0004170141784820684, 'require agricultural import': 0.0004170141784820684, 'agricultural import grade': 0.0004170141784820684, 'import grade standard': 0.0004170141784820684, 'grade standard american': 0.0004170141784820684, 'standard american marketing': 0.0004170141784820684, 'american marketing service': 0.0004170141784820684, 'marketing service unite': 0.0004170141784820684, 'service unite state': 0.0004170141784820684, 'unite state department': 0.0004170141784820684, 'state department agriculture': 0.0008340283569641367, 'department agriculture usda': 0.0004170141784820684, 'agriculture usda product': 0.0004170141784820684, 'usda product grade': 0.0004170141784820684, 'product grade quality': 0.0004170141784820684, 'grade quality requirement': 0.0004170141784820684, 'quality requirement establish': 0.0004170141784820684, 'requirement establish usda': 0.0004170141784820684, 'establish usda usda': 0.0004170141784820684, 'usda usda www.ams.usda.gov/standards/stanfrfv.htm': 0.0004170141784820684, 'usda www.ams.usda.gov/standards/stanfrfv.htm usda': 0.0004170141784820684, 'www.ams.usda.gov/standards/stanfrfv.htm usda www.ams.usda.gov/fv/moab-e.html': 0.0004170141784820684, 'usda www.ams.usda.gov/fv/moab-e.html fda': 0.0004170141784820684, 'www.ams.usda.gov/fv/moab-e.html fda www.cfsan.fda.gov/dms/lab-ind.html': 0.0004170141784820684, 'fda www.cfsan.fda.gov/dms/lab-ind.html component': 0.0004170141784820684, 'www.cfsan.fda.gov/dms/lab-ind.html component farm': 0.0004170141784820684, 'component farm farm': 0.0004170141784820684, 'farm farm security': 0.0004170141784820684, 'farm security rural': 0.0004170141784820684, 'security rural investment': 0.0004170141784820684, 'rural investment implementation': 0.0004170141784820684, 'investment implementation mandatory': 0.0004170141784820684, 'implementation mandatory country': 0.0004170141784820684, 'mandatory country origin': 0.0004170141784820684, 'country origin label': 0.0004170141784820684, 'origin label cool': 0.0004170141784820684, 'label cool programme': 0.0004170141784820684, 'cool programme usda': 0.0004170141784820684, 'programme usda http//www.ams.usda.gov/cool/': 0.0004170141784820684, 'usda http//www.ams.usda.gov/cool/ european': 0.0004170141784820684, 'http//www.ams.usda.gov/cool/ european union': 0.0004170141784820684, 'european union european': 0.0012510425354462051, 'union european union': 0.0012510425354462051, 'european union require': 0.0004170141784820684, 'union require import': 0.0004170141784820684, 'require import fresh': 0.0004170141784820684, 'import fresh fruit': 0.0004170141784820684, 'fresh fruit vegetable': 0.0004170141784820684, 'fruit vegetable meet': 0.0004170141784820684, 'vegetable meet european': 0.0004170141784820684, 'meet european community': 0.0004170141784820684, 'european community marketing': 0.0004170141784820684, 'community marketing standard': 0.0004170141784820684, 'marketing standard quality': 0.0004170141784820684, 'standard quality label': 0.0004170141784820684, 'quality label control': 0.0004170141784820684, 'label control inspection': 0.0004170141784820684, 'control inspection body': 0.0004170141784820684, 'inspection body point': 0.0004170141784820684, 'body point import': 0.0004170141784820684, 'point import case': 0.0004170141784820684, 'import case approve': 0.0004170141784820684, 'case approve country': 0.0004170141784820684, 'approve country point': 0.0004170141784820684, 'country point export': 0.0004170141784820684, 'point export marketing': 0.0004170141784820684, 'export marketing standard': 0.0004170141784820684, 'marketing standard european': 0.0004170141784820684, 'standard european union': 0.0004170141784820684, 'european union consult': 0.0004170141784820684, 'union consult united': 0.0004170141784820684, 'consult united kingdom': 0.0004170141784820684, 'united kingdom department': 0.0004170141784820684, 'kingdom department environment': 0.0004170141784820684, 'department environment food': 0.0004170141784820684, 'environment food rural': 0.0004170141784820684, 'food rural affair': 0.0004170141784820684, 'rural affair defra': 0.0004170141784820684, 'affair defra website': 0.0004170141784820684, 'defra website defra': 0.0004170141784820684, 'website defra marketing': 0.0004170141784820684, 'defra marketing standard': 0.0004170141784820684, 'marketing standard www.defra.gov.uk/hort/hmi.htm': 0.0004170141784820684, 'standard www.defra.gov.uk/hort/hmi.htm japan': 0.0004170141784820684, 'www.defra.gov.uk/hort/hmi.htm japan japan': 0.0004170141784820684, 'japan japan require': 0.0004170141784820684, 'japan require import': 0.0004170141784820684, 'require import product': 0.0004170141784820684, 'import product comply': 0.0004170141784820684, 'product comply regulation': 0.0004170141784820684, 'comply regulation food': 0.0004170141784820684, 'regulation food sanitation': 0.0004170141784820684, 'food sanitation law': 0.0012510425354462051, 'sanitation law japan': 0.0004170141784820684, 'law japan agricultural': 0.0004170141784820684, 'japan agricultural standard': 0.0004170141784820684, 'agricultural standard jas': 0.0004170141784820684, 'standard jas law': 0.0004170141784820684, 'jas law measurement': 0.0004170141784820684, 'law measurement law': 0.0004170141784820684, 'measurement law standard': 0.0004170141784820684, 'law standard import': 0.0004170141784820684, 'standard import procedure': 0.0004170141784820684, 'import procedure specific': 0.0004170141784820684, 'procedure specific product': 0.0004170141784820684, 'specific product japan': 0.0004170141784820684, 'product japan external': 0.0004170141784820684, 'japan external trade': 0.0008340283569641367, 'external trade organization': 0.0008340283569641367, 'trade organization http//www.jetro.go.jp/en/market/regulations/': 0.0004170141784820684, 'organization http//www.jetro.go.jp/en/market/regulations/ ministry': 0.0004170141784820684, 'http//www.jetro.go.jp/en/market/regulations/ ministry agriculture': 0.0004170141784820684, 'ministry agriculture forestry': 0.0008340283569641367, 'agriculture forestry fishery': 0.0008340283569641367, 'forestry fishery http//www.maff.go.jp/soshiki/syokuhin/hinshitu/elabel/index.htm': 0.0004170141784820684, 'fishery http//www.maff.go.jp/soshiki/syokuhin/hinshitu/elabel/index.htm food': 0.0004170141784820684, 'http//www.maff.go.jp/soshiki/syokuhin/hinshitu/elabel/index.htm food safety': 0.0004170141784820684, 'safety regulation producer': 0.0004170141784820684, 'regulation producer ensure': 0.0004170141784820684, 'producer ensure quality': 0.0004170141784820684, 'ensure quality safety': 0.0004170141784820684, 'quality safety produce': 0.0004170141784820684, 'safety produce avoid': 0.0004170141784820684, 'produce avoid potential': 0.0004170141784820684, 'avoid potential hazard': 0.0004170141784820684, 'potential hazard risk': 0.0004170141784820684, 'hazard risk contaminated': 0.0004170141784820684, 'risk contaminated water': 0.0004170141784820684, 'contaminated water maximum': 0.0004170141784820684, 'water maximum residue': 0.0004170141784820684, 'limit pesticide egulations': 0.0004170141784820684, 'pesticide egulations maximum': 0.0004170141784820684, 'egulations maximum residue': 0.0004170141784820684, 'residue limit mrls': 0.0004170141784820684, 'limit mrls pesticide': 0.0004170141784820684, 'mrls pesticide herbicide': 0.0004170141784820684, 'pesticide herbicide insecticide': 0.0004170141784820684, 'herbicide insecticide fungicide': 0.0004170141784820684, 'insecticide fungicide effective': 0.0004170141784820684, 'fungicide effective national': 0.0004170141784820684, 'effective national international': 0.0004170141784820684, 'national international level': 0.0004170141784820684, 'international level producer': 0.0004170141784820684, 'level producer exporter': 0.0004170141784820684, 'exporter comply regulation': 0.0004170141784820684, 'comply regulation country': 0.0004170141784820684, 'regulation country regulation': 0.0004170141784820684, 'country regulation maximum': 0.0004170141784820684, 'limit pesticide regulation': 0.0004170141784820684, 'pesticide regulation import': 0.0004170141784820684, 'import country chemical': 0.0004170141784820684, 'country chemical register': 0.0004170141784820684, 'chemical register crop': 0.0004170141784820684, 'register crop strictly': 0.0004170141784820684, 'crop strictly follow': 0.0004170141784820684, 'strictly follow direction': 0.0004170141784820684, 'follow direction instruction': 0.0004170141784820684, 'direction instruction leaflet': 0.0004170141784820684, 'instruction leaflet container': 0.0004170141784820684, 'leaflet container box': 0.0004170141784820684, 'container box bottle': 0.0004170141784820684, 'box bottle treatment': 0.0004170141784820684, 'bottle treatment meet': 0.0004170141784820684, 'treatment meet recommend': 0.0004170141784820684, 'meet recommend dos': 0.0004170141784820684, 'recommend dos link': 0.0004170141784820684, 'dos link comprehensive': 0.0004170141784820684, 'link comprehensive food': 0.0004170141784820684, 'comprehensive food safety': 0.0004170141784820684, 'safety regulation international': 0.0004170141784820684, 'regulation international level': 0.0004170141784820684, 'international level e.g': 0.0004170141784820684, 'level e.g codex': 0.0004170141784820684, 'e.g codex standard': 0.0004170141784820684, 'codex standard and/or': 0.0004170141784820684, 'standard and/or national': 0.0004170141784820684, 'and/or national level': 0.0004170141784820684, 'national level http//www.ipfsaph.org/en/default.jsp': 0.0004170141784820684, 'level http//www.ipfsaph.org/en/default.jsp http//www.fao.org/ag/agn/food/foodfruitsen.stm': 0.0004170141784820684, 'http//www.ipfsaph.org/en/default.jsp http//www.fao.org/ag/agn/food/foodfruitsen.stm united': 0.0004170141784820684, 'http//www.fao.org/ag/agn/food/foodfruitsen.stm united state': 0.0004170141784820684, 'united state maximum': 0.0004170141784820684, 'state maximum residue': 0.0004170141784820684, 'limit pesticide establish': 0.0004170141784820684, 'pesticide establish environmental': 0.0004170141784820684, 'establish environmental protection': 0.0004170141784820684, 'environmental protection agency': 0.0008340283569641367, 'protection agency epa': 0.0004170141784820684, 'agency epa control': 0.0004170141784820684, 'epa control food': 0.0004170141784820684, 'control food drug': 0.0004170141784820684, 'food drug administration': 0.0012510425354462051, 'drug administration fda': 0.0008340283569641367, 'administration fda point': 0.0004170141784820684, 'fda point import': 0.0004170141784820684, 'point import agricultural': 0.0004170141784820684, 'import agricultural product': 0.0004170141784820684, 'agricultural product requirement': 0.0004170141784820684, 'product requirement maximum': 0.0004170141784820684, 'requirement maximum residue': 0.0004170141784820684, 'residue limit establish': 0.0004170141784820684, 'limit establish epa': 0.0004170141784820684, 'establish epa environmental': 0.0004170141784820684, 'epa environmental protection': 0.0004170141784820684, 'protection agency www.access.gpo.gov/nara/cfr/waisidx/cfr.html': 0.0004170141784820684, 'agency www.access.gpo.gov/nara/cfr/waisidx/cfr.html www.epa.gov/pesticides/food/viewtols.htm': 0.0004170141784820684, 'www.access.gpo.gov/nara/cfr/waisidx/cfr.html www.epa.gov/pesticides/food/viewtols.htm www.epa.gov/fedrgstr/epa-pest/index.html': 0.0004170141784820684, 'www.epa.gov/pesticides/food/viewtols.htm www.epa.gov/fedrgstr/epa-pest/index.html website': 0.0004170141784820684, 'www.epa.gov/fedrgstr/epa-pest/index.html website enable': 0.0004170141784820684, 'website enable user': 0.0004170141784820684, 'enable user maximum': 0.0004170141784820684, 'user maximum residue': 0.0004170141784820684, 'residue limit crop': 0.0004170141784820684, 'limit crop pesticide': 0.0004170141784820684, 'crop pesticide active': 0.0004170141784820684, 'pesticide active ingredient': 0.0004170141784820684, 'active ingredient pesticide': 0.0004170141784820684, 'ingredient pesticide type': 0.0004170141784820684, 'pesticide type country': 0.0004170141784820684, 'type country www.fas.usda.gov/htp/mrl.htm': 0.0004170141784820684, 'country www.fas.usda.gov/htp/mrl.htm european': 0.0004170141784820684, 'www.fas.usda.gov/htp/mrl.htm european union': 0.0004170141784820684, 'european union continue': 0.0004170141784820684, 'union continue low': 0.0004170141784820684, 'continue low maximum': 0.0004170141784820684, 'low maximum limit': 0.0004170141784820684, 'maximum limit pesticide': 0.0004170141784820684, 'limit pesticide residue': 0.0004170141784820684, 'pesticide residue permit': 0.0004170141784820684, 'residue permit product': 0.0004170141784820684, 'permit product pesticides': 0.0004170141784820684, 'product pesticides common': 0.0004170141784820684, 'pesticides common limit': 0.0004170141784820684, 'common limit apply': 0.0004170141784820684, 'limit apply entire': 0.0004170141784820684, 'apply entire european': 0.0004170141784820684, 'entire european union': 0.0004170141784820684, 'european union pesticide': 0.0004170141784820684, 'union pesticide residue': 0.0004170141784820684, 'pesticide residue limit': 0.0008340283569641367, 'residue limit vary': 0.0004170141784820684, 'limit vary country': 0.0004170141784820684, 'vary country country': 0.0008340283569641367, 'country country country': 0.0004170141784820684, 'country country verifies': 0.0004170141784820684, 'country verifies regulation': 0.0004170141784820684, 'verifies regulation meet': 0.0004170141784820684, 'regulation meet ministry': 0.0004170141784820684, 'meet ministry agriculture': 0.0004170141784820684, 'ministry agriculture point': 0.0004170141784820684, 'agriculture point entry': 0.0004170141784820684, 'point entry european': 0.0004170141784820684, 'entry european union': 0.0004170141784820684, 'european union country': 0.0004170141784820684, 'union country set': 0.0004170141784820684, 'country set maximum': 0.0004170141784820684, 'set maximum limit': 0.0004170141784820684, 'maximum limit exporter': 0.0004170141784820684, 'limit exporter require': 0.0004170141784820684, 'exporter require import': 0.0004170141784820684, 'require import tolerance': 0.0004170141784820684, 'import tolerance pesticide': 0.0004170141784820684, 'tolerance pesticide residue': 0.0004170141784820684, 'residue limit european': 0.0004170141784820684, 'limit european union': 0.0004170141784820684, 'union member country': 0.0004170141784820684, 'member country http//europa.eu.int/comm/food/plant/protection/pesticides/indexen.htm': 0.0004170141784820684, 'country http//europa.eu.int/comm/food/plant/protection/pesticides/indexen.htm http//europa.eu.int/comm/food/plant/protection/indexen.htm': 0.0004170141784820684, 'http//europa.eu.int/comm/food/plant/protection/pesticides/indexen.htm http//europa.eu.int/comm/food/plant/protection/indexen.htm http//europa.eu.int/scadplus/leg/en/lvb/l.htm': 0.0004170141784820684, 'http//europa.eu.int/comm/food/plant/protection/indexen.htm http//europa.eu.int/scadplus/leg/en/lvb/l.htm contact': 0.0004170141784820684, 'http//europa.eu.int/scadplus/leg/en/lvb/l.htm contact point': 0.0004170141784820684, 'contact point member': 0.0004170141784820684, 'point member state': 0.0004170141784820684, 'member state http//europa.eu.int/comm/food/plant/protection/evaluation/contactdec.xls': 0.0004170141784820684, 'state http//europa.eu.int/comm/food/plant/protection/evaluation/contactdec.xls application': 0.0004170141784820684, 'http//europa.eu.int/comm/food/plant/protection/evaluation/contactdec.xls application procedure': 0.0004170141784820684, 'application procedure import': 0.0004170141784820684, 'procedure import tolerance': 0.0004170141784820684, 'import tolerance http//www.pesticides.gov.uk/applicantguide.aspid': 0.0004170141784820684, 'tolerance http//www.pesticides.gov.uk/applicantguide.aspid japan': 0.0004170141784820684, 'http//www.pesticides.gov.uk/applicantguide.aspid japan japan': 0.0004170141784820684, 'japan japan ministry': 0.0004170141784820684, 'japan ministry health': 0.0004170141784820684, 'ministry health labour': 0.0004170141784820684, 'health labour welfare': 0.0004170141784820684, 'labour welfare environmental': 0.0004170141784820684, 'welfare environmental department': 0.0004170141784820684, 'environmental department responsible': 0.0004170141784820684, 'department responsible establish': 0.0004170141784820684, 'responsible establish test': 0.0004170141784820684, 'establish test residue': 0.0004170141784820684, 'test residue limit': 0.0004170141784820684, 'residue limit limit': 0.0004170141784820684, 'limit limit base': 0.0004170141784820684, 'limit base food': 0.0004170141784820684, 'base food sanitation': 0.0004170141784820684, 'sanitation law pesticide': 0.0004170141784820684, 'law pesticide residue': 0.0004170141784820684, 'pesticide residue level': 0.0004170141784820684, 'residue level http//www.mhlw.go.jp/english/topics/foodsafety/positivelist/index.html': 0.0004170141784820684, 'level http//www.mhlw.go.jp/english/topics/foodsafety/positivelist/index.html biological': 0.0004170141784820684, 'http//www.mhlw.go.jp/english/topics/foodsafety/positivelist/index.html biological contamination': 0.0004170141784820684, 'product traceability response': 0.0004170141784820684, 'traceability response problem': 0.0004170141784820684, 'response problem food': 0.0004170141784820684, 'problem food safety': 0.0004170141784820684, 'food safety e.g': 0.0004170141784820684, 'safety e.g mad': 0.0004170141784820684, 'e.g mad cow': 0.0004170141784820684, 'mad cow disease': 0.0004170141784820684, 'cow disease global': 0.0004170141784820684, 'disease global terrorism': 0.0004170141784820684, 'global terrorism government': 0.0004170141784820684, 'terrorism government increase': 0.0004170141784820684, 'government increase control': 0.0004170141784820684, 'increase control stage': 0.0004170141784820684, 'control stage food': 0.0004170141784820684, 'stage food production': 0.0004170141784820684, 'food production process': 0.0004170141784820684, 'production process distribution': 0.0004170141784820684, 'process distribution protect': 0.0004170141784820684, 'distribution protect consumer': 0.0004170141784820684, 'protect consumer biological': 0.0004170141784820684, 'consumer biological contamination': 0.0004170141784820684, 'biological contamination food': 0.0004170141784820684, 'contamination food traceability': 0.0004170141784820684, 'food traceability identify': 0.0004170141784820684, 'traceability identify product': 0.0004170141784820684, 'identify product origin': 0.0004170141784820684, 'product origin location': 0.0004170141784820684, 'origin location supply': 0.0004170141784820684, 'location supply chain': 0.0004170141784820684, 'supply chain enable': 0.0004170141784820684, 'chain enable efficient': 0.0004170141784820684, 'enable efficient recall': 0.0004170141784820684, 'efficient recall case': 0.0004170141784820684, 'recall case product': 0.0004170141784820684, 'case product contamination': 0.0004170141784820684, 'product contamination determine': 0.0004170141784820684, 'contamination determine origin': 0.0004170141784820684, 'determine origin food': 0.0004170141784820684, 'origin food safety': 0.0004170141784820684, 'food safety problem': 0.0004170141784820684, 'safety problem comply': 0.0004170141784820684, 'problem comply legal': 0.0004170141784820684, 'comply legal requirement': 0.0004170141784820684, 'legal requirement meet': 0.0004170141784820684, 'requirement meet consumer': 0.0004170141784820684, 'meet consumer expectation': 0.0004170141784820684, 'consumer expectation safety': 0.0004170141784820684, 'expectation safety quality': 0.0004170141784820684, 'safety quality purchase': 0.0004170141784820684, 'quality purchase product': 0.0004170141784820684, 'purchase product limit': 0.0004170141784820684, 'product limit contamination': 0.0004170141784820684, 'limit contamination risk': 0.0004170141784820684, 'contamination risk monitor': 0.0004170141784820684, 'risk monitor stage': 0.0004170141784820684, 'monitor stage supply': 0.0004170141784820684, 'stage supply chain': 0.0004170141784820684, 'supply chain grow': 0.0004170141784820684, 'chain grow number': 0.0004170141784820684, 'grow number government': 0.0004170141784820684, 'number government retailer': 0.0004170141784820684, 'government retailer require': 0.0004170141784820684, 'retailer require haccp': 0.0004170141784820684, 'require haccp principle': 0.0004170141784820684, 'haccp principle application': 0.0004170141784820684, 'principle application good': 0.0004170141784820684, 'application good hygienic': 0.0004170141784820684, 'good hygienic practice': 0.0004170141784820684, 'hygienic practice ghps': 0.0004170141784820684, 'practice ghps good': 0.0004170141784820684, 'ghps good agricultural': 0.0004170141784820684, 'good agricultural practice': 0.0004170141784820684, 'agricultural practice gap': 0.0004170141784820684, 'practice gap crop': 0.0004170141784820684, 'gap crop production': 0.0004170141784820684, 'crop production http//www.fao.org/ag/agn/food/foodfruitsen.stm': 0.0004170141784820684, 'production http//www.fao.org/ag/agn/food/foodfruitsen.stm http//www.fao.org/ag/agn/food/qualityhaccpen.stm': 0.0004170141784820684, 'http//www.fao.org/ag/agn/food/foodfruitsen.stm http//www.fao.org/ag/agn/food/qualityhaccpen.stm united': 0.0004170141784820684, 'http//www.fao.org/ag/agn/food/qualityhaccpen.stm united states': 0.0004170141784820684, 'united states government': 0.0004170141784820684, 'states government unite': 0.0004170141784820684, 'government unite state': 0.0004170141784820684, 'unite state adopt': 0.0004170141784820684, 'state adopt bioterrorism': 0.0004170141784820684, 'adopt bioterrorism require': 0.0004170141784820684, 'bioterrorism require exporter': 0.0004170141784820684, 'require exporter register': 0.0004170141784820684, 'exporter register food': 0.0004170141784820684, 'register food drug': 0.0004170141784820684, 'administration fda notice': 0.0004170141784820684, 'fda notice prior': 0.0004170141784820684, 'notice prior product': 0.0004170141784820684, 'prior product arrival': 0.0004170141784820684, 'product arrival united': 0.0004170141784820684, 'arrival united state': 0.0004170141784820684, 'united state bioterrorism': 0.0004170141784820684, 'state bioterrorism food': 0.0004170141784820684, 'bioterrorism food drug': 0.0004170141784820684, 'drug administration www.cfsan.fda.gov/dms/ffsbtac.html': 0.0004170141784820684, 'administration www.cfsan.fda.gov/dms/ffsbtac.html www.access.fda.gov/': 0.0004170141784820684, 'www.cfsan.fda.gov/dms/ffsbtac.html www.access.fda.gov/ usa': 0.0004170141784820684, 'www.access.fda.gov/ usa cool': 0.0004170141784820684, 'usa cool programme': 0.0004170141784820684, 'cool programme impact': 0.0004170141784820684, 'programme impact traceability': 0.0004170141784820684, 'impact traceability requirement': 0.0004170141784820684, 'traceability requirement united': 0.0004170141784820684, 'united state supplier': 0.0004170141784820684, 'state supplier country': 0.0004170141784820684, 'supplier country general': 0.0004170141784820684, 'country general programme': 0.0004170141784820684, 'general programme usda': 0.0004170141784820684, 'programme usda www.ams.usda.gov/cool/': 0.0004170141784820684, 'usda www.ams.usda.gov/cool/ european': 0.0004170141784820684, 'www.ams.usda.gov/cool/ european union': 0.0004170141784820684, 'european union regulation': 0.0008340283569641367, 'union regulation traceability': 0.0004170141784820684, 'regulation traceability enter': 0.0004170141784820684, 'traceability enter force': 0.0004170141784820684, 'enter force january': 0.0004170141784820684, 'force january order': 0.0004170141784820684, 'january order comply': 0.0004170141784820684, 'order comply rule': 0.0004170141784820684, 'comply rule european': 0.0004170141784820684, 'rule european union': 0.0004170141784820684, 'european union importer': 0.0004170141784820684, 'union importer identify': 0.0004170141784820684, 'importer identify origin': 0.0004170141784820684, 'identify origin product': 0.0004170141784820684, 'origin product consequence': 0.0004170141784820684, 'product consequence require': 0.0004170141784820684, 'consequence require exporter': 0.0004170141784820684, 'require exporter comply': 0.0004170141784820684, 'exporter comply traceability': 0.0004170141784820684, 'comply traceability requirement': 0.0004170141784820684, 'traceability requirement exporter': 0.0008340283569641367, 'requirement exporter trade': 0.0004170141784820684, 'exporter trade partner': 0.0004170141784820684, 'trade partner country': 0.0004170141784820684, 'partner country legally': 0.0004170141784820684, 'country legally require': 0.0004170141784820684, 'legally require fulfil': 0.0004170141784820684, 'require fulfil traceability': 0.0004170141784820684, 'fulfil traceability requirement': 0.0004170141784820684, 'traceability requirement impose': 0.0004170141784820684, 'requirement impose general': 0.0004170141784820684, 'impose general traceability': 0.0004170141784820684, 'general traceability http//europa.eu.int/comm/food/food/foodlaw/guidance/guidancereven.pdf': 0.0004170141784820684, 'traceability http//europa.eu.int/comm/food/food/foodlaw/guidance/guidancereven.pdf http//europa.eu.int/comm/food/food/foodlaw/traceability/indexen.htm': 0.0004170141784820684, 'http//europa.eu.int/comm/food/food/foodlaw/guidance/guidancereven.pdf http//europa.eu.int/comm/food/food/foodlaw/traceability/indexen.htm http//europa.eu.int/scadplus/leg/en/lvb/.htm': 0.0004170141784820684, 'http//europa.eu.int/comm/food/food/foodlaw/traceability/indexen.htm http//europa.eu.int/scadplus/leg/en/lvb/.htm detailed': 0.0004170141784820684, 'http//europa.eu.int/scadplus/leg/en/lvb/.htm detailed explanation': 0.0004170141784820684, 'detailed explanation regulation': 0.0004170141784820684, 'explanation regulation consult': 0.0004170141784820684, 'regulation consult pesticide': 0.0004170141784820684, 'consult pesticide initiative': 0.0004170141784820684, 'pesticide initiative programme': 0.0008340283569641367, 'initiative programme coleacp': 0.0004170141784820684, 'programme coleacp http//www.coleacp.org/': 0.0004170141784820684, 'coleacp http//www.coleacp.org/ email': 0.0004170141784820684, 'http//www.coleacp.org/ email pipcoleacp.org': 0.0004170141784820684, 'email pipcoleacp.org explanation': 0.0004170141784820684, 'pipcoleacp.org explanation foodstuff': 0.0004170141784820684, 'explanation foodstuff hygiene': 0.0004170141784820684, 'foodstuff hygiene requirement': 0.0004170141784820684, 'hygiene requirement consult': 0.0004170141784820684, 'requirement consult http//europa.eu.int/comm/food/food/biosafety/hygienelegislation/guidancedocen.pdf': 0.0004170141784820684, 'consult http//europa.eu.int/comm/food/food/biosafety/hygienelegislation/guidancedocen.pdf japan': 0.0004170141784820684, 'http//europa.eu.int/comm/food/food/biosafety/hygienelegislation/guidancedocen.pdf japan time': 0.0004170141784820684, 'japan time prepare': 0.0004170141784820684, 'time prepare manual': 0.0004170141784820684, 'prepare manual traceability': 0.0004170141784820684, 'manual traceability requirement': 0.0004170141784820684, 'requirement exporter exist': 0.0004170141784820684, 'exporter exist japan': 0.0004170141784820684, 'exist japan environmental': 0.0004170141784820684, 'japan environmental safety': 0.0004170141784820684, 'phytosanitary regulation roducers': 0.0004170141784820684, 'regulation roducers comply': 0.0004170141784820684, 'roducers comply phytosanitary': 0.0004170141784820684, 'comply phytosanitary regulation': 0.0004170141784820684, 'phytosanitary regulation prevent': 0.0004170141784820684, 'regulation prevent entry': 0.0004170141784820684, 'prevent entry spread': 0.0004170141784820684, 'entry spread plant': 0.0004170141784820684, 'spread plant diseases': 0.0004170141784820684, 'plant diseases pest': 0.0004170141784820684, 'diseases pest area': 0.0004170141784820684, 'pest area major': 0.0004170141784820684, 'area major import': 0.0004170141784820684, 'major import country': 0.0004170141784820684, 'import country implement': 0.0004170141784820684, 'country implement pest': 0.0004170141784820684, 'implement pest risk': 0.0004170141784820684, 'pest risk analysis': 0.0004170141784820684, 'risk analysis order': 0.0004170141784820684, 'analysis order determine': 0.0004170141784820684, 'order determine risk': 0.0004170141784820684, 'determine risk level': 0.0004170141784820684, 'risk level import': 0.0004170141784820684, 'level import product': 0.0004170141784820684, 'import product inspect': 0.0004170141784820684, 'product inspect product': 0.0004170141784820684, 'inspect product arrival': 0.0004170141784820684, 'product arrival ensure': 0.0004170141784820684, 'arrival ensure level': 0.0004170141784820684, 'ensure level risk': 0.0004170141784820684, 'level risk exceed': 0.0004170141784820684, 'risk exceed apply': 0.0004170141784820684, 'exceed apply phytosanitary': 0.0004170141784820684, 'apply phytosanitary certificate': 0.0004170141784820684, 'phytosanitary certificate regulate': 0.0004170141784820684, 'certificate regulate product': 0.0004170141784820684, 'regulate product plant': 0.0004170141784820684, 'product plant seed': 0.0004170141784820684, 'plant seed fruit': 0.0004170141784820684, 'seed fruit vegetable': 0.0004170141784820684, 'fruit vegetable cut': 0.0004170141784820684, 'vegetable cut flower': 0.0004170141784820684, 'cut flower phytosanitary': 0.0004170141784820684, 'flower phytosanitary certificate': 0.0004170141784820684, 'phytosanitary certificate content': 0.0004170141784820684, 'certificate content https//www.ippc.int/ipp/en/default.jsp': 0.0004170141784820684, 'content https//www.ippc.int/ipp/en/default.jsp phytosanitary': 0.0004170141784820684, 'https//www.ippc.int/ipp/en/default.jsp phytosanitary regulation': 0.0004170141784820684, 'phytosanitary regulation united': 0.0004170141784820684, 'united state inspector': 0.0004170141784820684, 'state inspector animal': 0.0004170141784820684, 'inspector animal plant': 0.0004170141784820684, 'animal plant health': 0.0004170141784820684, 'plant health inspection': 0.0004170141784820684, 'health inspection service': 0.0004170141784820684, 'inspection service agency': 0.0004170141784820684, 'service agency united': 0.0004170141784820684, 'agency united state': 0.0004170141784820684, 'united state department': 0.0004170141784820684, 'department agriculture examine': 0.0004170141784820684, 'agriculture examine approve': 0.0004170141784820684, 'examine approve shipment': 0.0004170141784820684, 'approve shipment clear': 0.0004170141784820684, 'shipment clear custom': 0.0004170141784820684, 'clear custom sign': 0.0004170141784820684, 'custom sign pest': 0.0004170141784820684, 'sign pest disease': 0.0004170141784820684, 'pest disease produce': 0.0004170141784820684, 'disease produce fumigate': 0.0004170141784820684, 'produce fumigate treated': 0.0004170141784820684, 'fumigate treated manner': 0.0004170141784820684, 'treated manner return': 0.0004170141784820684, 'manner return country': 0.0004170141784820684, 'return country origin': 0.0004170141784820684, 'country origin destroy': 0.0004170141784820684, 'origin destroy plant': 0.0004170141784820684, 'destroy plant quarantine': 0.0004170141784820684, 'plant quarantine unite': 0.0004170141784820684, 'quarantine unite state': 0.0004170141784820684, 'unite state usda': 0.0004170141784820684, 'state usda www.aphis.usda.gov/ppq/permits': 0.0004170141784820684, 'usda www.aphis.usda.gov/ppq/permits european': 0.0004170141784820684, 'www.aphis.usda.gov/ppq/permits european union': 0.0004170141784820684, 'european union export': 0.0004170141784820684, 'union export european': 0.0004170141784820684, 'export european union': 0.0004170141784820684, 'european union producer': 0.0004170141784820684, 'union producer exporter': 0.0004170141784820684, 'exporter comply plant': 0.0004170141784820684, 'comply plant health': 0.0004170141784820684, 'plant health regulation': 0.0008340283569641367, 'health regulation european': 0.0004170141784820684, 'regulation european union': 0.0004170141784820684, 'union regulation enforce': 0.0004170141784820684, 'regulation enforce point': 0.0004170141784820684, 'enforce point entry': 0.0004170141784820684, 'point entry plant': 0.0004170141784820684, 'entry plant health': 0.0004170141784820684, 'health regulation europe': 0.0004170141784820684, 'regulation europe contact': 0.0004170141784820684, 'europe contact international': 0.0004170141784820684, 'contact international phytosanitary': 0.0004170141784820684, 'international phytosanitary portal': 0.0004170141784820684, 'phytosanitary portal https//www.ippc.int/ipp/en/nppo.jsp': 0.0004170141784820684, 'portal https//www.ippc.int/ipp/en/nppo.jsp consolidate': 0.0004170141784820684, 'https//www.ippc.int/ipp/en/nppo.jsp consolidate text': 0.0004170141784820684, 'consolidate text phytosanitary': 0.0004170141784820684, 'text phytosanitary requirement': 0.0004170141784820684, 'phytosanitary requirement council': 0.0004170141784820684, 'requirement council directive': 0.0004170141784820684, 'council directive //ec': 0.0004170141784820684, 'directive //ec amendment': 0.0004170141784820684, '//ec amendment http//europa.eu.int/eur-lex/en/consleg/pdf//enldo.pdf': 0.0004170141784820684, 'amendment http//europa.eu.int/eur-lex/en/consleg/pdf//enldo.pdf japan': 0.0004170141784820684, 'http//europa.eu.int/eur-lex/en/consleg/pdf//enldo.pdf japan japanese': 0.0004170141784820684, 'japan japanese government': 0.0004170141784820684, 'japanese government require': 0.0004170141784820684, 'government require supplier': 0.0004170141784820684, 'require supplier country': 0.0004170141784820684, 'supplier country comply': 0.0004170141784820684, 'country comply plant': 0.0004170141784820684, 'comply plant protection': 0.0004170141784820684, 'plant protection law': 0.0004170141784820684, 'protection law plant': 0.0004170141784820684, 'law plant health': 0.0004170141784820684, 'plant health law': 0.0004170141784820684, 'health law food': 0.0004170141784820684, 'law food sanitation': 0.0004170141784820684, 'sanitation law regulation': 0.0004170141784820684, 'law regulation enforce': 0.0004170141784820684, 'regulation enforce plant': 0.0004170141784820684, 'enforce plant protection': 0.0004170141784820684, 'plant protection division': 0.0004170141784820684, 'protection division ministry': 0.0004170141784820684, 'division ministry agriculture': 0.0004170141784820684, 'forestry fishery maff': 0.0004170141784820684, 'fishery maff japanese': 0.0004170141784820684, 'maff japanese phytosanitary': 0.0004170141784820684, 'japanese phytosanitary regulation': 0.0004170141784820684, 'phytosanitary regulation japanese': 0.0004170141784820684, 'regulation japanese quarantine': 0.0004170141784820684, 'japanese quarantine plant': 0.0004170141784820684, 'quarantine plant protection': 0.0004170141784820684, 'plant protection station': 0.0004170141784820684, 'protection station www.pps.go.jp/english/': 0.0004170141784820684, 'station www.pps.go.jp/english/ japan': 0.0004170141784820684, 'www.pps.go.jp/english/ japan external': 0.0004170141784820684, 'trade organization http//www.jetro.go.jp/en/market/regulations/pdf/plantapr-e.pdf': 0.0004170141784820684, 'organization http//www.jetro.go.jp/en/market/regulations/pdf/plantapr-e.pdf custom': 0.0004170141784820684, 'http//www.jetro.go.jp/en/market/regulations/pdf/plantapr-e.pdf custom clearance': 0.0004170141784820684, 'custom clearance inal': 0.0004170141784820684, 'clearance inal authorization': 0.0004170141784820684, 'inal authorization product': 0.0004170141784820684, 'authorization product entry': 0.0004170141784820684, 'product entry depend': 0.0004170141784820684, 'entry depend custom': 0.0004170141784820684, 'depend custom official': 0.0004170141784820684, 'custom official country': 0.0004170141784820684, 'official country import': 0.0004170141784820684, 'country import clear': 0.0004170141784820684, 'import clear custom': 0.0004170141784820684, 'clear custom exporter': 0.0004170141784820684, 'custom exporter form': 0.0004170141784820684, 'exporter form commercial': 0.0004170141784820684, 'form commercial ship': 0.0004170141784820684, 'commercial ship pay': 0.0004170141784820684, 'ship pay fee': 0.0004170141784820684, 'pay fee duty': 0.0004170141784820684, 'fee duty tax': 0.0004170141784820684, 'duty tax process': 0.0004170141784820684, 'tax process form': 0.0004170141784820684, 'process form time-consuming': 0.0004170141784820684, 'form time-consuming country': 0.0004170141784820684, 'time-consuming country offer': 0.0004170141784820684, 'country offer pre-clearance': 0.0004170141784820684, 'offer pre-clearance programme': 0.0004170141784820684, 'pre-clearance programme save': 0.0004170141784820684, 'programme save time': 0.0004170141784820684, 'save time product': 0.0004170141784820684, 'time product clear': 0.0004170141784820684, 'product clear custom': 0.0004170141784820684, 'clear custom country': 0.0004170141784820684, 'custom country origin': 0.0004170141784820684, 'country origin official': 0.0004170141784820684, 'origin official guarantee': 0.0004170141784820684, 'official guarantee product': 0.0004170141784820684, 'guarantee product regulation': 0.0004170141784820684, 'product regulation compliance': 0.0004170141784820684, 'regulation compliance norm': 0.0004170141784820684, 'compliance norm regulation': 0.0004170141784820684, 'norm regulation import': 0.0004170141784820684, 'country product rejection': 0.0004170141784820684, 'product rejection united': 0.0004170141784820684, 'rejection united state': 0.0004170141784820684, 'united state custom': 0.0004170141784820684, 'state custom official': 0.0004170141784820684, 'custom official authorize': 0.0004170141784820684, 'official authorize entrance': 0.0004170141784820684, 'authorize entrance product': 0.0004170141784820684, 'entrance product united': 0.0004170141784820684, 'product united state': 0.0004170141784820684, 'united state inspection': 0.0004170141784820684, 'state inspection aphis': 0.0004170141784820684, 'inspection aphis fda': 0.0004170141784820684, 'aphis fda point': 0.0004170141784820684, 'fda point entry': 0.0004170141784820684, 'point entry exporter': 0.0004170141784820684, 'entry exporter pay': 0.0004170141784820684, 'exporter pay duty': 0.0004170141784820684, 'pay duty determine': 0.0004170141784820684, 'duty determine quantity': 0.0004170141784820684, 'determine quantity determine': 0.0004170141784820684, 'quantity determine quantity': 0.0004170141784820684, 'determine quantity description': 0.0004170141784820684, 'quantity description country': 0.0004170141784820684, 'description country origin': 0.0004170141784820684, 'country origin speed': 0.0004170141784820684, 'origin speed processing': 0.0004170141784820684, 'speed processing time': 0.0004170141784820684, 'processing time border': 0.0004170141784820684, 'time border exporter': 0.0004170141784820684, 'border exporter complete': 0.0004170141784820684, 'exporter complete custom': 0.0004170141784820684, 'complete custom procedure': 0.0004170141784820684, 'custom procedure departure': 0.0004170141784820684, 'procedure departure aphis': 0.0004170141784820684, 'departure aphis international': 0.0004170141784820684, 'aphis international service': 0.0004170141784820684, 'international service country': 0.0004170141784820684, 'service country pre-clearance': 0.0004170141784820684, 'country pre-clearance import': 0.0004170141784820684, 'pre-clearance import document': 0.0004170141784820684, 'import document phytosanitary': 0.0004170141784820684, 'document phytosanitary certificate': 0.0004170141784820684, 'phytosanitary certificate pre-clearance': 0.0004170141784820684, 'certificate pre-clearance arrangement': 0.0004170141784820684, 'pre-clearance arrangement united': 0.0004170141784820684, 'arrangement united state': 0.0004170141784820684, 'united state www.aphis.usda.gov/ppq/preclearance/': 0.0004170141784820684, 'state www.aphis.usda.gov/ppq/preclearance/ exporter': 0.0004170141784820684, 'www.aphis.usda.gov/ppq/preclearance/ exporter automate': 0.0004170141784820684, 'exporter automate commercial': 0.0004170141784820684, 'automate commercial developed': 0.0004170141784820684, 'commercial developed custom': 0.0004170141784820684, 'developed custom process': 0.0004170141784820684, 'custom process document': 0.0004170141784820684, 'process document electronically': 0.0004170141784820684, 'document electronically www.cbp.gov/xp/cgov/import/operationssupport/automatedsystems/ams/': 0.0004170141784820684, 'electronically www.cbp.gov/xp/cgov/import/operationssupport/automatedsystems/ams/ european': 0.0004170141784820684, 'www.cbp.gov/xp/cgov/import/operationssupport/automatedsystems/ams/ european union': 0.0004170141784820684, 'european union procedure': 0.0004170141784820684, 'union procedure customs': 0.0004170141784820684, 'procedure customs clearance': 0.0004170141784820684, 'customs clearance european': 0.0004170141784820684, 'clearance european union': 0.0004170141784820684, 'european union vary': 0.0004170141784820684, 'union vary country': 0.0004170141784820684, 'country country electronic': 0.0004170141784820684, 'country electronic custom': 0.0004170141784820684, 'electronic custom programme': 0.0004170141784820684, 'custom programme speed': 0.0004170141784820684, 'programme speed clearance': 0.0004170141784820684, 'speed clearance time': 0.0004170141784820684, 'clearance time specific': 0.0004170141784820684, 'time specific custom': 0.0004170141784820684, 'specific custom procedures': 0.0004170141784820684, 'custom procedures tariff': 0.0004170141784820684, 'procedures tariff rate': 0.0004170141784820684, 'tariff rate country': 0.0004170141784820684, 'rate country taxation': 0.0004170141784820684, 'country taxation custom': 0.0004170141784820684, 'taxation custom union': 0.0004170141784820684, 'custom union http//europa.eu.int/comm/taxationcustoms/common/about/welcome/indexen.htm': 0.0004170141784820684, 'union http//europa.eu.int/comm/taxationcustoms/common/about/welcome/indexen.htm centre': 0.0004170141784820684, 'http//europa.eu.int/comm/taxationcustoms/common/about/welcome/indexen.htm centre promotion': 0.0004170141784820684, 'centre promotion import': 0.0004170141784820684, 'promotion import develop': 0.0004170141784820684, 'import develop country': 0.0004170141784820684, 'develop country cbi': 0.0004170141784820684, 'country cbi www.cbi.nl': 0.0004170141784820684, 'cbi www.cbi.nl japan': 0.0004170141784820684, 'www.cbi.nl japan prior': 0.0004170141784820684, 'japan prior arrival': 0.0004170141784820684, 'prior arrival product': 0.0004170141784820684, 'arrival product exporter': 0.0004170141784820684, 'product exporter notify': 0.0004170141784820684, 'exporter notify quarantine': 0.0004170141784820684, 'notify quarantine station': 0.0004170141784820684, 'quarantine station point': 0.0004170141784820684, 'station point entry': 0.0004170141784820684, 'point entry electronic': 0.0004170141784820684, 'entry electronic operate': 0.0004170141784820684, 'electronic operate ministry': 0.0004170141784820684, 'operate ministry health': 0.0004170141784820684, 'ministry health welfare': 0.0004170141784820684, 'health welfare reduce': 0.0004170141784820684, 'welfare reduce time': 0.0004170141784820684, 'reduce time spend': 0.0004170141784820684, 'time spend custom': 0.0004170141784820684, 'spend custom sample': 0.0004170141784820684, 'custom sample product': 0.0004170141784820684, 'sample product bring': 0.0004170141784820684, 'product bring official': 0.0004170141784820684, 'bring official lab': 0.0004170141784820684, 'official lab japan': 0.0004170141784820684, 'lab japan export': 0.0004170141784820684, 'japan export country': 0.0004170141784820684, 'export country submit': 0.0004170141784820684, 'country submit pre-clearance': 0.0004170141784820684, 'submit pre-clearance consumption': 0.0004170141784820684, 'pre-clearance consumption tax': 0.0004170141784820684, 'consumption tax duty': 0.0004170141784820684, 'tax duty pay': 0.0004170141784820684, 'duty pay final': 0.0004170141784820684, 'pay final clearance': 0.0004170141784820684, 'final clearance import': 0.0004170141784820684, 'clearance import procedure': 0.0004170141784820684, 'import procedure www.mhlw.go.jp/english/topics/importedfoods/index.html': 0.0004170141784820684, 'procedure www.mhlw.go.jp/english/topics/importedfoods/index.html organization': 0.0004170141784820684, 'www.mhlw.go.jp/english/topics/importedfoods/index.html organization support': 0.0004170141784820684, 'west africa national': 0.0004170141784820684, 'africa national organization': 0.0004170141784820684, 'national organization locate': 0.0004170141784820684, 'organization locate west': 0.0004170141784820684, 'locate west african': 0.0004170141784820684, 'west african country': 0.0004170141784820684, 'african country work': 0.0004170141784820684, 'country work producer': 0.0004170141784820684, 'work producer comply': 0.0004170141784820684, 'producer comply regulation': 0.0004170141784820684, 'comply regulation roducers': 0.0004170141784820684, 'regulation roducers exporter': 0.0004170141784820684, 'roducers exporter familiarize': 0.0004170141784820684, 'exporter familiarize large': 0.0004170141784820684, 'familiarize large variety': 0.0004170141784820684, 'large variety technical': 0.0004170141784820684, 'variety technical norm': 0.0004170141784820684, 'norm import regulation': 0.0008340283569641367, 'import regulation complicate': 0.0004170141784820684, 'regulation complicate number': 0.0004170141784820684, 'complicate number international': 0.0004170141784820684, 'number international organization': 0.0004170141784820684, 'international organization dont': 0.0004170141784820684, 'organization dont hesitate': 0.0004170141784820684, 'dont hesitate contact': 0.0004170141784820684, 'hesitate contact international': 0.0004170141784820684, 'contact international local': 0.0004170141784820684, 'international local organization': 0.0004170141784820684, 'local organization provide': 0.0004170141784820684, 'organization provide additional': 0.0004170141784820684, 'provide additional relevant': 0.0004170141784820684, 'additional relevant training': 0.0004170141784820684, 'relevant training international': 0.0004170141784820684, 'training international level': 0.0004170141784820684, 'international level coleacp': 0.0004170141784820684, 'level coleacp pesticide': 0.0004170141784820684, 'coleacp pesticide initiative': 0.0004170141784820684, 'initiative programme pip': 0.0004170141784820684, 'programme pip harmonize': 0.0004170141784820684, 'pip harmonize framework': 0.0004170141784820684, 'harmonize framework code': 0.0004170141784820684, 'framework code practice': 0.0004170141784820684, 'code practice www.coleacp.org': 0.0004170141784820684, 'practice www.coleacp.org on-line': 0.0004170141784820684, 'www.coleacp.org on-line export': 0.0004170141784820684, 'on-line export desk': 0.0004170141784820684, 'export desk develop': 0.0004170141784820684, 'desk develop country': 0.0004170141784820684, 'develop country http//export-help.cec.eu.int/': 0.0004170141784820684, 'country http//export-help.cec.eu.int/ guideline': 0.0004170141784820684, 'http//export-help.cec.eu.int/ guideline facilitate': 0.0004170141784820684, 'guideline facilitate trade': 0.0004170141784820684, 'facilitate trade http//europa.eu.int/comm/food/fvo/pdf/guidethirdcountriesen.pdf': 0.0004170141784820684, 'trade http//europa.eu.int/comm/food/fvo/pdf/guidethirdcountriesen.pdf international': 0.0004170141784820684, 'http//europa.eu.int/comm/food/fvo/pdf/guidethirdcountriesen.pdf international trade': 0.0004170141784820684, 'international trade center': 0.0008340283569641367, 'trade center http//www.intracen.org/menus/itc.htm': 0.0004170141784820684, 'center http//www.intracen.org/menus/itc.htm market': 0.0004170141784820684, 'http//www.intracen.org/menus/itc.htm market access': 0.0004170141784820684, 'market access database': 0.0004170141784820684, 'access database http//mkaccdb.eu.int': 0.0004170141784820684, 'database http//mkaccdb.eu.int national': 0.0004170141784820684, 'http//mkaccdb.eu.int national organization': 0.0004170141784820684, 'national organization benin': 0.0004170141784820684, 'organization benin association': 0.0004170141784820684, 'benin association développement': 0.0004170141784820684, 'association développement des': 0.0004170141784820684, 'développement des produits': 0.0004170141784820684, 'des produits dexportations': 0.0004170141784820684, 'produits dexportations adex': 0.0004170141784820684, 'dexportations adex tel': 0.0004170141784820684, 'adex tel email': 0.0004170141784820684, 'tel email adexintnet.bj': 0.0004170141784820684, 'email adexintnet.bj centre': 0.0004170141784820684, 'adexintnet.bj centre béninois': 0.0004170141784820684, 'centre béninois commerce': 0.0004170141784820684, 'béninois commerce extérieur': 0.0004170141784820684, 'commerce extérieur tel': 0.0008340283569641367, 'extérieur tel email': 0.0004170141784820684, 'tel email cbcebow.intnet.bj': 0.0004170141784820684, 'email cbcebow.intnet.bj www.cbce.africa-web.org/': 0.0004170141784820684, 'cbcebow.intnet.bj www.cbce.africa-web.org/ fédération': 0.0004170141784820684, 'www.cbce.africa-web.org/ fédération des': 0.0004170141784820684, 'fédération des groupements': 0.0004170141784820684, 'des groupements dintérêts': 0.0004170141784820684, 'groupements dintérêts économiques': 0.0004170141784820684, 'dintérêts économiques latlantique': 0.0004170141784820684, 'économiques latlantique tel': 0.0004170141784820684, 'latlantique tel email': 0.0004170141784820684, 'tel email sylvieamoussouyahoo.fr': 0.0004170141784820684, 'email sylvieamoussouyahoo.fr burkina': 0.0004170141784820684, 'sylvieamoussouyahoo.fr burkina faso': 0.0004170141784820684, 'burkina faso association': 0.0004170141784820684, 'faso association professionnelle': 0.0004170141784820684, 'association professionnelle exportateurs': 0.0004170141784820684, 'professionnelle exportateurs fruit': 0.0004170141784820684, 'exportateurs fruit légumes': 0.0004170141784820684, 'fruit légumes burkina': 0.0004170141784820684, 'légumes burkina apefel': 0.0004170141784820684, 'burkina apefel tel': 0.0004170141784820684, 'apefel tel ministère': 0.0004170141784820684, 'tel ministère commerce': 0.0008340283569641367, 'ministère commerce lartisanat': 0.0004170141784820684, 'commerce lartisanat promotion': 0.0004170141784820684, 'lartisanat promotion lentreprise': 0.0004170141784820684, 'promotion lentreprise tel': 0.0004170141784820684, 'lentreprise tel email': 0.0004170141784820684, 'tel email mciacenatrin.bf': 0.0004170141784820684, 'email mciacenatrin.bf union': 0.0004170141784820684, 'mciacenatrin.bf union nationale': 0.0004170141784820684, 'union nationale groupements': 0.0004170141784820684, 'nationale groupements sociétés': 0.0004170141784820684, 'groupements sociétés coopératives': 0.0004170141784820684, 'sociétés coopératives production': 0.0004170141784820684, 'coopératives production fruitière': 0.0004170141784820684, 'production fruitière maraîchère': 0.0004170141784820684, 'fruitière maraîchère burkina': 0.0004170141784820684, 'maraîchère burkina faso': 0.0004170141784820684, 'burkina faso tel': 0.0004170141784820684, 'faso tel email': 0.0004170141784820684, 'tel email ufmbfasonet.bf': 0.0004170141784820684, 'email ufmbfasonet.bf côte': 0.0004170141784820684, 'ufmbfasonet.bf côte divoire': 0.0004170141784820684, 'côte divoire association': 0.0004170141784820684, 'divoire association pour': 0.0004170141784820684, 'association pour promotion': 0.0008340283569641367, 'pour promotion des': 0.0008340283569641367, 'promotion des produits': 0.0008340283569641367, 'des produits dexportation': 0.0008340283569641367, 'produits dexportation côte': 0.0004170141784820684, 'dexportation côte divoire': 0.0004170141784820684, 'côte divoire apexci': 0.0004170141784820684, 'divoire apexci tel': 0.0004170141784820684, 'apexci tel email': 0.0004170141784820684, 'tel email apexciaviso.ci': 0.0004170141784820684, 'email apexciaviso.ci association': 0.0004170141784820684, 'apexciaviso.ci association pour': 0.0004170141784820684, 'produits dexportation agricoles': 0.0004170141784820684, 'dexportation agricoles non\\xadtraditionnelles': 0.0004170141784820684, 'agricoles non\\xadtraditionnelles côte': 0.0004170141784820684, 'non\\xadtraditionnelles côte divoire': 0.0004170141784820684, 'côte divoire promexa': 0.0004170141784820684, 'divoire promexa tel': 0.0004170141784820684, 'promexa tel email': 0.0004170141784820684, 'tel email infopromexa.ci': 0.0004170141784820684, 'email infopromexa.ci organisation': 0.0004170141784820684, 'infopromexa.ci organisation centrale': 0.0004170141784820684, 'organisation centrale producteurs/exportateurs': 0.0004170141784820684, 'centrale producteurs/exportateurs dananas': 0.0004170141784820684, 'producteurs/exportateurs dananas bananes': 0.0004170141784820684, 'dananas bananes tel': 0.0004170141784820684, 'bananes tel email': 0.0004170141784820684, 'tel email ocab.aaviso.ci': 0.0004170141784820684, 'email ocab.aaviso.ci exportation': 0.0004170141784820684, 'ocab.aaviso.ci exportation mangue': 0.0004170141784820684, 'exportation mangue ananas': 0.0004170141784820684, 'mangue ananas société': 0.0004170141784820684, 'ananas société détude': 0.0004170141784820684, 'société détude développement': 0.0004170141784820684, 'détude développement culture': 0.0004170141784820684, 'développement culture bananière': 0.0004170141784820684, 'culture bananière tel': 0.0004170141784820684, 'bananière tel email': 0.0004170141784820684, 'tel email scbscb.ci': 0.0004170141784820684, 'email scbscb.ci gambia': 0.0004170141784820684, 'scbscb.ci gambia department': 0.0004170141784820684, 'gambia department state': 0.0004170141784820684, 'department state trade': 0.0004170141784820684, 'state trade industry': 0.0004170141784820684, 'trade industry employment': 0.0004170141784820684, 'industry employment tel': 0.0004170141784820684, 'employment tel email': 0.0004170141784820684, 'tel email dostieqanet.gm': 0.0004170141784820684, 'email dostieqanet.gm web': 0.0004170141784820684, 'dostieqanet.gm web www.gambia.gm/introduction/introduction.html': 0.0004170141784820684, 'web www.gambia.gm/introduction/introduction.html ghana': 0.0004170141784820684, 'www.gambia.gm/introduction/introduction.html ghana federation': 0.0004170141784820684, 'ghana federation association': 0.0004170141784820684, 'federation association ghanaian': 0.0004170141784820684, 'association ghanaian exporter': 0.0004170141784820684, 'ghanaian exporter fage': 0.0004170141784820684, 'exporter fage tel': 0.0004170141784820684, 'fage tel email': 0.0004170141784820684, 'tel email fageighmail.com': 0.0004170141784820684, 'email fageighmail.com web': 0.0004170141784820684, 'fageighmail.com web www.ghana-exporter.org': 0.0004170141784820684, 'web www.ghana-exporter.org -ghana': 0.0004170141784820684, 'www.ghana-exporter.org -ghana association': 0.0004170141784820684, '-ghana association vegetable': 0.0004170141784820684, 'association vegetable exporter': 0.0004170141784820684, 'vegetable exporter gavex': 0.0004170141784820684, 'exporter gavex email': 0.0004170141784820684, 'gavex email tacksafricaonline.com': 0.0004170141784820684, 'email tacksafricaonline.com ghana': 0.0004170141784820684, 'tacksafricaonline.com ghana export': 0.0004170141784820684, 'ghana export promotion': 0.0004170141784820684, 'export promotion council': 0.0008340283569641367, 'promotion council gepc': 0.0004170141784820684, 'council gepc tel': 0.0004170141784820684, 'gepc tel email': 0.0004170141784820684, 'tel email gepcghana.com': 0.0004170141784820684, 'email gepcghana.com web': 0.0004170141784820684, 'gepcghana.com web www.exportghana.org': 0.0004170141784820684, 'web www.exportghana.org -horticulturist': 0.0004170141784820684, 'www.exportghana.org -horticulturist association': 0.0004170141784820684, '-horticulturist association ghana': 0.0004170141784820684, 'association ghana hag': 0.0004170141784820684, 'ghana hag email': 0.0004170141784820684, 'hag email hagafricaonline.com': 0.0004170141784820684, 'email hagafricaonline.com ministry': 0.0004170141784820684, 'hagafricaonline.com ministry trade': 0.0004170141784820684, 'ministry trade industry': 0.0004170141784820684, 'trade industry tel': 0.0008340283569641367, 'industry tel email': 0.0004170141784820684, 'tel email mismotiafricaonline.com.gh': 0.0004170141784820684, 'email mismotiafricaonline.com.gh web': 0.0004170141784820684, 'mismotiafricaonline.com.gh web www.moti-ghana.com': 0.0004170141784820684, 'web www.moti-ghana.com -papaya': 0.0004170141784820684, 'www.moti-ghana.com -papaya mango': 0.0004170141784820684, '-papaya mango producer': 0.0004170141784820684, 'mango producer exporter': 0.0004170141784820684, 'producer exporter association': 0.0004170141784820684, 'exporter association ghana': 0.0008340283569641367, 'association ghana pampeag': 0.0004170141784820684, 'ghana pampeag email': 0.0004170141784820684, 'pampeag email pampeagyahoo.co.uk': 0.0004170141784820684, 'email pampeagyahoo.co.uk -plant': 0.0004170141784820684, 'pampeagyahoo.co.uk -plant protection': 0.0004170141784820684, '-plant protection regulatory': 0.0004170141784820684, 'protection regulatory service': 0.0004170141784820684, 'regulatory service directorate': 0.0004170141784820684, 'service directorate tel': 0.0004170141784820684, 'directorate tel email': 0.0004170141784820684, 'tel email spsghanaafricaonline.com.gh': 0.0004170141784820684, 'email spsghanaafricaonline.com.gh uqadamshotmail.com': 0.0004170141784820684, 'spsghanaafricaonline.com.gh uqadamshotmail.com -vegetable': 0.0004170141784820684, 'uqadamshotmail.com -vegetable grower': 0.0004170141784820684, '-vegetable grower exporter': 0.0004170141784820684, 'grower exporter association': 0.0004170141784820684, 'association ghana vepeag': 0.0004170141784820684, 'ghana vepeag email': 0.0004170141784820684, 'vepeag email vepeagyahoo.com': 0.0004170141784820684, 'email vepeagyahoo.com web': 0.0004170141784820684, 'vepeagyahoo.com web www.ghana-exporter.org/vepeag/default.htm': 0.0004170141784820684, 'web www.ghana-exporter.org/vepeag/default.htm guinea': 0.0004170141784820684, 'www.ghana-exporter.org/vepeag/default.htm guinea projet': 0.0004170141784820684, 'guinea projet cadre': 0.0004170141784820684, 'projet cadre promotion': 0.0004170141784820684, 'cadre promotion exportation': 0.0004170141784820684, 'promotion exportation agricoles': 0.0004170141784820684, 'exportation agricoles pcpea': 0.0004170141784820684, 'agricoles pcpea tel': 0.0004170141784820684, 'pcpea tel email': 0.0004170141784820684, 'tel email pcpeamirinet.net.gn': 0.0004170141784820684, 'email pcpeamirinet.net.gn liberia': 0.0004170141784820684, 'pcpeamirinet.net.gn liberia ministry': 0.0004170141784820684, 'liberia ministry commerce': 0.0004170141784820684, 'ministry commerce industry': 0.0004170141784820684, 'commerce industry tel': 0.0004170141784820684, 'industry tel mali': 0.0004170141784820684, 'tel mali ministère': 0.0004170141784820684, 'mali ministère lindustrie': 0.0004170141784820684, 'ministère lindustrie commerce': 0.0004170141784820684, 'lindustrie commerce tel': 0.0004170141784820684, 'commerce tel email': 0.0004170141784820684, 'tel email dnaedatatech.toolnet.org': 0.0004170141784820684, 'email dnaedatatech.toolnet.org trade': 0.0004170141784820684, 'dnaedatatech.toolnet.org trade mali': 0.0004170141784820684, 'trade mali tel': 0.0004170141784820684, 'mali tel email': 0.0004170141784820684, 'tel email infotrademali.com': 0.0004170141784820684, 'email infotrademali.com niger': 0.0004170141784820684, 'infotrademali.com niger centre': 0.0004170141784820684, 'niger centre nigérien': 0.0004170141784820684, 'centre nigérien commerce': 0.0004170141784820684, 'nigérien commerce extérieur': 0.0004170141784820684, 'extérieur tel ministère': 0.0004170141784820684, 'ministère commerce lindustrie': 0.0008340283569641367, 'commerce lindustrie promotion': 0.0004170141784820684, 'lindustrie promotion secteur': 0.0004170141784820684, 'promotion secteur privé': 0.0004170141784820684, 'secteur privé tel': 0.0004170141784820684, 'privé tel email': 0.0004170141784820684, 'tel email nicomintnet.ne': 0.0004170141784820684, 'email nicomintnet.ne nigeria': 0.0004170141784820684, 'nicomintnet.ne nigeria chamber': 0.0004170141784820684, 'nigeria chamber commerce': 0.0004170141784820684, 'chamber commerce industry': 0.0004170141784820684, 'commerce industry agriculture': 0.0004170141784820684, 'industry agriculture port': 0.0004170141784820684, 'agriculture port harcourt': 0.0004170141784820684, 'port harcourt tel': 0.0004170141784820684, 'harcourt tel international': 0.0004170141784820684, 'tel international trade': 0.0004170141784820684, 'trade center lagos': 0.0004170141784820684, 'center lagos tel': 0.0004170141784820684, 'lagos tel email': 0.0004170141784820684, 'tel email wtcnlinkserve.com': 0.0004170141784820684, 'email wtcnlinkserve.com nigeria': 0.0004170141784820684, 'wtcnlinkserve.com nigeria export': 0.0004170141784820684, 'nigeria export promotion': 0.0004170141784820684, 'promotion council nepc': 0.0004170141784820684, 'council nepc tel': 0.0004170141784820684, 'nepc tel web': 0.0004170141784820684, 'tel web www.nepc.gov.ng': 0.0004170141784820684, 'web www.nepc.gov.ng senegal': 0.0004170141784820684, 'www.nepc.gov.ng senegal centre': 0.0004170141784820684, 'senegal centre international': 0.0004170141784820684, 'centre international commerce': 0.0004170141784820684, 'international commerce extérieur': 0.0004170141784820684, 'commerce extérieur sénégal': 0.0004170141784820684, 'extérieur sénégal cices': 0.0004170141784820684, 'sénégal cices tel': 0.0004170141784820684, 'cices tel email': 0.0004170141784820684, 'tel email cicescices.sn': 0.0004170141784820684, 'email cicescices.sn chambre': 0.0004170141784820684, 'cicescices.sn chambre commerce': 0.0004170141784820684, 'chambre commerce dindustrie': 0.0004170141784820684, 'commerce dindustrie dagriculture': 0.0004170141784820684, 'dindustrie dagriculture dakar': 0.0004170141784820684, 'dagriculture dakar ccia': 0.0004170141784820684, 'dakar ccia tel': 0.0004170141784820684, 'ccia tel email': 0.0004170141784820684, 'tel email cciadtelecomplus.sn': 0.0004170141784820684, 'email cciadtelecomplus.sn fondation': 0.0004170141784820684, 'cciadtelecomplus.sn fondation trade': 0.0004170141784820684, 'fondation trade point': 0.0004170141784820684, 'trade point sénégal': 0.0004170141784820684, 'point sénégal tel': 0.0004170141784820684, 'sénégal tel email': 0.0004170141784820684, 'tel email tpdakartpsnet.org': 0.0004170141784820684, 'email tpdakartpsnet.org web': 0.0004170141784820684, 'tpdakartpsnet.org web www.tpsnet.org': 0.0004170141784820684, 'web www.tpsnet.org organisation': 0.0004170141784820684, 'www.tpsnet.org organisation nationale': 0.0004170141784820684, 'organisation nationale producteurs/exportateurs': 0.0004170141784820684, 'nationale producteurs/exportateurs fruit': 0.0004170141784820684, 'producteurs/exportateurs fruit légumes': 0.0004170141784820684, 'fruit légumes sénégal': 0.0004170141784820684, 'légumes sénégal onapes': 0.0004170141784820684, 'sénégal onapes tel': 0.0004170141784820684, 'onapes tel email': 0.0004170141784820684, 'tel email onapesinfocom.sn': 0.0004170141784820684, 'email onapesinfocom.sn sierra': 0.0004170141784820684, 'onapesinfocom.sn sierra leone': 0.0004170141784820684, 'sierra leone -ministry': 0.0004170141784820684, 'leone -ministry trade': 0.0004170141784820684, '-ministry trade industry': 0.0004170141784820684, 'industry tel -sierra': 0.0004170141784820684, 'tel -sierra leone': 0.0004170141784820684, '-sierra leone export': 0.0004170141784820684, 'leone export development': 0.0004170141784820684, 'export development investment': 0.0004170141784820684, 'development investment corporation': 0.0004170141784820684, 'investment corporation sledic': 0.0004170141784820684, 'corporation sledic tel': 0.0004170141784820684, 'sledic tel togo': 0.0004170141784820684, 'tel togo chambre': 0.0004170141784820684, 'togo chambre commerce': 0.0004170141784820684, 'chambre commerce dagriculture': 0.0004170141784820684, 'commerce dagriculture lindustrie': 0.0004170141784820684, 'dagriculture lindustrie togo': 0.0004170141784820684, 'lindustrie togo tel': 0.0004170141784820684, 'togo tel fax': 0.0004170141784820684, 'tel fax ministère': 0.0004170141784820684, 'fax ministère commerce': 0.0004170141784820684, 'commerce lindustrie lartisanat': 0.0004170141784820684, 'lindustrie lartisanat tel': 0.0004170141784820684, 'lartisanat tel fax': 0.0004170141784820684, 'tel fax voluntary': 0.0004170141784820684, 'fax voluntary certification': 0.0004170141784820684, 'voluntary certification manual': 0.0004170141784820684, 'certification manual technical': 0.0004170141784820684, 'manual technical norm': 0.0004170141784820684, 'union japan compulsory': 0.0004170141784820684, 'japan compulsory exporter': 0.0004170141784820684, 'compulsory exporter producer': 0.0004170141784820684, 'exporter producer sell': 0.0004170141784820684, 'producer sell product': 0.0004170141784820684, 'sell product market': 0.0004170141784820684, 'product market manual': 0.0004170141784820684, 'market manual deal': 0.0004170141784820684, 'manual deal voluntary': 0.0004170141784820684, 'deal voluntary private': 0.0004170141784820684, 'voluntary private certification': 0.0004170141784820684, 'private certification objective': 0.0004170141784820684, 'certification objective provide': 0.0004170141784820684, 'provide producer exporters': 0.0004170141784820684, 'producer exporters general': 0.0004170141784820684, 'exporters general major': 0.0004170141784820684, 'general major voluntary': 0.0004170141784820684, 'major voluntary agricultural': 0.0004170141784820684, 'voluntary agricultural certification': 0.0004170141784820684, 'agricultural certification programme': 0.0004170141784820684, 'certification programme private': 0.0004170141784820684, 'programme private western': 0.0004170141784820684, 'private western africa': 0.0004170141784820684, 'western africa include': 0.0004170141784820684, 'africa include contact': 0.0004170141784820684, 'include contact question': 0.0004170141784820684, 'contact question certification': 0.0004170141784820684, 'question certification voluntary': 0.0004170141784820684, 'certification voluntary certification': 0.0004170141784820684, 'voluntary certification certificate': 0.0004170141784820684, 'certification certificate write': 0.0004170141784820684, 'certificate write guarantee': 0.0004170141784820684, 'write guarantee independent': 0.0004170141784820684, 'guarantee independent certification': 0.0004170141784820684, 'independent certification agency': 0.0004170141784820684, 'certification agency production': 0.0004170141784820684, 'agency production process': 0.0004170141784820684, 'production process product': 0.0004170141784820684, 'process product complies': 0.0004170141784820684, 'product complies standard': 0.0004170141784820684, 'complies standard establish': 0.0004170141784820684, 'standard establish private': 0.0004170141784820684, 'establish private organization': 0.0004170141784820684, 'private organization country': 0.0004170141784820684, 'organization country standard': 0.0004170141784820684, 'country standard focus': 0.0004170141784820684, 'standard focus environmental': 0.0004170141784820684, 'focus environmental issue': 0.0004170141784820684, 'environmental issue soil': 0.0004170141784820684, 'issue soil conservation': 0.0004170141784820684, 'soil conservation water': 0.0004170141784820684, 'conservation water protection': 0.0004170141784820684, 'water protection pesticide': 0.0004170141784820684, 'protection pesticide waste': 0.0004170141784820684, 'pesticide waste management': 0.0004170141784820684, 'waste management social': 0.0004170141784820684, 'management social issue': 0.0004170141784820684, 'social issue producer': 0.0004170141784820684, 'issue producer income': 0.0004170141784820684, 'producer income worker': 0.0004170141784820684, 'income worker occupational': 0.0004170141784820684, 'worker occupational health': 0.0004170141784820684, 'occupational health safety': 0.0004170141784820684, 'health safety aspects': 0.0004170141784820684, 'safety aspects production': 0.0004170141784820684, 'aspects production food': 0.0004170141784820684, 'production food safety': 0.0004170141784820684, 'food safety programme': 0.0004170141784820684, 'safety programme exist': 0.0004170141784820684, 'programme exist ertification': 0.0004170141784820684, 'exist ertification brings': 0.0004170141784820684, 'ertification brings opportunities': 0.0004170141784820684, 'brings opportunities producer': 0.0004170141784820684, 'opportunities producer market': 0.0004170141784820684, 'producer market access': 0.0004170141784820684, 'market access protection': 0.0004170141784820684, 'access protection local': 0.0004170141784820684, 'protection local resource': 0.0004170141784820684, 'local resource improvement': 0.0004170141784820684, 'resource improvement worker': 0.0004170141784820684, 'improvement worker health': 0.0004170141784820684, 'worker health live': 0.0004170141784820684, 'health live condition': 0.0004170141784820684, 'live condition rural': 0.0004170141784820684, 'condition rural community': 0.0004170141784820684, 'rural community ensure': 0.0004170141784820684, 'community ensure consumer': 0.0004170141784820684, 'ensure consumer health': 0.0004170141784820684, 'consumer health consumer': 0.0004170141784820684, 'health consumer increasingly': 0.0004170141784820684, 'consumer increasingly aware': 0.0004170141784820684, 'increasingly aware social': 0.0004170141784820684, 'aware social environmental': 0.0004170141784820684, 'social environmental problem': 0.0004170141784820684, 'environmental problem production': 0.0004170141784820684, 'problem production trade': 0.0004170141784820684, 'production trade food': 0.0004170141784820684, 'trade food consume': 0.0004170141784820684, 'food consume response': 0.0004170141784820684, 'consume response concern': 0.0004170141784820684, 'response concern type': 0.0004170141784820684, 'concern type certification': 0.0004170141784820684, 'type certification programme': 0.0004170141784820684, 'certification programme develop': 0.0004170141784820684, 'programme develop private': 0.0004170141784820684, 'develop private organization': 0.0004170141784820684, 'private organization government': 0.0004170141784820684, 'organization government order': 0.0004170141784820684, 'government order solve': 0.0004170141784820684, 'order solve problem': 0.0004170141784820684, 'solve problem certify': 0.0004170141784820684, 'problem certify helpful': 0.0004170141784820684, 'certify helpful promote': 0.0004170141784820684, 'helpful promote product': 0.0004170141784820684, 'promote product market': 0.0004170141784820684, 'product market certification': 0.0004170141784820684, 'market certification improve': 0.0004170141784820684, 'certification improve market': 0.0004170141784820684, 'improve market access': 0.0004170141784820684, 'market access case': 0.0004170141784820684, 'access case result': 0.0004170141784820684, 'case result high': 0.0004170141784820684, 'result high producer': 0.0004170141784820684, 'high producer price': 0.0004170141784820684, 'producer price certification': 0.0004170141784820684, 'price certification producer': 0.0004170141784820684, 'certification producer consumer': 0.0004170141784820684, 'producer consumer direct': 0.0004170141784820684, 'consumer direct contact': 0.0004170141784820684, 'direct contact international': 0.0004170141784820684, 'contact international market': 0.0004170141784820684, 'international market instance': 0.0004170141784820684, 'market instance consumer': 0.0004170141784820684, 'instance consumer easily': 0.0004170141784820684, 'consumer easily verify': 0.0004170141784820684, 'easily verify product': 0.0004170141784820684, 'verify product produce': 0.0004170141784820684, 'product produce manner': 0.0004170141784820684, 'produce manner producer': 0.0004170141784820684, 'manner producer producer': 0.0004170141784820684, 'producer producer choose': 0.0004170141784820684, 'producer choose ertification': 0.0004170141784820684, 'choose ertification demonstrate': 0.0004170141784820684, 'ertification demonstrate product': 0.0004170141784820684, 'demonstrate product produce': 0.0004170141784820684, 'product produce characteristic': 0.0004170141784820684, 'produce characteristic differentiate': 0.0004170141784820684, 'characteristic differentiate product': 0.0004170141784820684, 'differentiate product product': 0.0004170141784820684, 'product product type': 0.0004170141784820684, 'product type certification': 0.0004170141784820684, 'type certification decision': 0.0004170141784820684, 'certification decision certification': 0.0004170141784820684, 'decision certification type': 0.0004170141784820684, 'certification type certification': 0.0004170141784820684, 'type certification choose': 0.0004170141784820684, 'certification choose decision': 0.0004170141784820684, 'choose decision influence': 0.0004170141784820684, 'decision influence farm': 0.0004170141784820684, 'influence farm management': 0.0004170141784820684, 'farm management investment': 0.0004170141784820684, 'management investment programme': 0.0004170141784820684, 'investment programme marketing': 0.0004170141784820684, 'programme marketing strategy': 0.0004170141784820684, 'marketing strategy certification': 0.0004170141784820684, 'strategy certification objective': 0.0004170141784820684, 'certification objective requirement': 0.0004170141784820684, 'objective requirement differ': 0.0004170141784820684, 'requirement differ cost': 0.0004170141784820684, 'differ cost cost': 0.0004170141784820684, 'cost cost meet': 0.0004170141784820684, 'cost meet standard': 0.0004170141784820684, 'meet standard certify': 0.0004170141784820684, 'standard certify depend': 0.0004170141784820684, 'certify depend kind': 0.0004170141784820684, 'depend kind producer': 0.0004170141784820684, 'kind producer his/her': 0.0004170141784820684, 'producer his/her farm': 0.0004170141784820684, 'his/her farm type': 0.0004170141784820684, 'farm type certification': 0.0004170141784820684, 'type certification program': 0.0004170141784820684, 'certification program choose': 0.0004170141784820684, 'program choose general': 0.0004170141784820684, 'choose general cost': 0.0004170141784820684, 'general cost certification': 0.0004170141784820684, 'cost certification depend': 0.0004170141784820684, 'certification depend time': 0.0004170141784820684, 'depend time spent': 0.0004170141784820684, 'time spent farm': 0.0004170141784820684, 'spent farm inspection': 0.0004170141784820684, 'farm inspection farm': 0.0004170141784820684, 'inspection farm audit': 0.0004170141784820684, 'farm audit travel': 0.0004170141784820684, 'audit travel expense': 0.0004170141784820684, 'travel expense inspector': 0.0004170141784820684, 'expense inspector environmental': 0.0004170141784820684, 'inspector environmental certification': 0.0004170141784820684, 'organic agriculture rganic': 0.0004170141784820684, 'agriculture rganic agriculture': 0.0004170141784820684, 'rganic agriculture base': 0.0004170141784820684, 'agriculture base rejection': 0.0004170141784820684, 'base rejection synthetic': 0.0004170141784820684, 'rejection synthetic chemical': 0.0004170141784820684, 'synthetic chemical genetically': 0.0004170141784820684, 'chemical genetically modify': 0.0004170141784820684, 'genetically modify input': 0.0004170141784820684, 'modify input promote': 0.0004170141784820684, 'input promote sustainable': 0.0004170141784820684, 'promote sustainable traditional': 0.0004170141784820684, 'sustainable traditional farming': 0.0004170141784820684, 'traditional farming practice': 0.0004170141784820684, 'farming practice maintain': 0.0004170141784820684, 'practice maintain soil': 0.0004170141784820684, 'maintain soil fertility': 0.0004170141784820684, 'soil fertility fallow': 0.0004170141784820684, 'fertility fallow organic': 0.0004170141784820684, 'fallow organic farming': 0.0004170141784820684, 'organic farming soil': 0.0004170141784820684, 'farming soil fertilisation': 0.0004170141784820684, 'soil fertilisation require': 0.0004170141784820684, 'fertilisation require organic': 0.0004170141784820684, 'require organic substance': 0.0004170141784820684, 'organic substance animal': 0.0004170141784820684, 'substance animal vegetable': 0.0004170141784820684, 'animal vegetable origin': 0.0004170141784820684, 'vegetable origin small': 0.0004170141784820684, 'origin small quantity': 0.0004170141784820684, 'small quantity mineral': 0.0004170141784820684, 'quantity mineral west': 0.0004170141784820684, 'mineral west africa': 0.0004170141784820684, 'west africa organic': 0.0004170141784820684, 'africa organic farm': 0.0004170141784820684, 'organic farm expand': 0.0004170141784820684, 'farm expand notably': 0.0004170141784820684, 'expand notably crop': 0.0004170141784820684, 'notably crop cotton': 0.0004170141784820684, 'crop cotton banana': 0.0004170141784820684, 'cotton banana mango': 0.0004170141784820684, 'banana mango pineapple': 0.0004170141784820684, 'mango pineapple shea': 0.0004170141784820684, 'pineapple shea butter': 0.0004170141784820684, 'shea butter papaya': 0.0004170141784820684, 'butter papaya cashew': 0.0004170141784820684, 'papaya cashew nut': 0.0004170141784820684, 'cashew nut avocadoes': 0.0004170141784820684, 'nut avocadoes main': 0.0004170141784820684, 'avocadoes main requirement': 0.0004170141784820684, 'main requirement specific': 0.0004170141784820684, 'requirement specific requirement': 0.0004170141784820684, 'specific requirement organically': 0.0004170141784820684, 'requirement organically certify': 0.0004170141784820684, 'organically certify crop': 0.0004170141784820684, 'certify crop livestock': 0.0004170141784820684, 'crop livestock fish': 0.0004170141784820684, 'livestock fish farming': 0.0004170141784820684, 'fish farming bee': 0.0004170141784820684, 'farming bee forestry': 0.0004170141784820684, 'bee forestry harvest': 0.0004170141784820684, 'forestry harvest wild': 0.0004170141784820684, 'harvest wild product': 0.0004170141784820684, 'wild product organic': 0.0004170141784820684, 'product organic standard': 0.0004170141784820684, 'organic standard require': 0.0004170141784820684, 'standard require conversion': 0.0004170141784820684, 'require conversion period': 0.0004170141784820684, 'conversion period time': 0.0004170141784820684, 'period time farm': 0.0004170141784820684, 'time farm organic': 0.0004170141784820684, 'farm organic production': 0.0004170141784820684, 'organic production method': 0.0004170141784820684, 'production method certify': 0.0004170141784820684, 'method certify year': 0.0004170141784820684, 'certify year organic': 0.0004170141784820684, 'year organic farm': 0.0004170141784820684, 'organic farm criterion': 0.0004170141784820684, 'farm criterion crop': 0.0004170141784820684, 'criterion crop production': 0.0004170141784820684, 'crop production requirement': 0.0004170141784820684, 'production requirement apply': 0.0008340283569641367, 'requirement apply selection': 0.0004170141784820684, 'apply selection seed': 0.0004170141784820684, 'selection seed plant': 0.0004170141784820684, 'seed plant animal': 0.0004170141784820684, 'plant animal production': 0.0004170141784820684, 'animal production requirement': 0.0004170141784820684, 'requirement apply animal': 0.0004170141784820684, 'apply animal health': 0.0004170141784820684, 'animal health feeding': 0.0004170141784820684, 'health feeding bree': 0.0004170141784820684}\n"
          ]
        }
      ]
    },
    {
      "cell_type": "code",
      "metadata": {
        "id": "Az4XM9SqLrhz",
        "colab": {
          "base_uri": "https://localhost:8080/"
        },
        "outputId": "e17bd15e-175b-4e44-ccbf-b20b4778575b"
      },
      "source": [
        "######################################  \n",
        "#doc dictioary with tfidf but not sorted\n",
        "# get ngram term with tf> mean tf\n",
        "new_doc_list= get_important_words_by_tfidf(fully_indexed1)\n",
        "\n",
        "\n",
        "doc_sorted_tfidfs =[]  # list of doc features each with tf weight\n",
        "#sort each dict of a document\n",
        "for dn in new_doc_list:\n",
        "  newD = sorted(dn.items(), key=lambda x: x[1], reverse=True)\n",
        "  newD = dict(newD)\n",
        "  doc_sorted_tfidfs.append(newD)\n",
        "\n",
        "doc_list_condidates = get_doc_features_list(doc_sorted_tfidfs) # only features names\n",
        "\n",
        "doc_sorted_tfidfs[0]\n",
        "print(\"number of doc candidates\", len(doc_list_condidates[0]), \"\\n\", doc_list_condidates[0])"
      ],
      "execution_count": null,
      "outputs": [
        {
          "output_type": "stream",
          "name": "stdout",
          "text": [
            "number of doc candidates 606 \n",
            " ['product', 'regulation', 'country', 'certification', 'import', 'tel', 'email', 'food', 'tel email', 'state', 'exporter', 'union', 'producer', 'united', 'european', 'european union', 'requirement', 'trade', 'manual', 'united state', 'programme', 'limit', 'export', 'organization', 'japan', 'standard', 'international', 'environmental', 'safety', 'pesticide', 'require', 'agriculture', 'custom', 'point', 'agricultural', 'farm', 'establish', 'residue', 'plant', 'comply', 'health', 'production', 'phytosanitary', 'commerce', 'import country', 'residue limit', 'voluntary', 'association', 'control', 'quality', 'origin', 'food safety', 'technical', 'service', 'market', 'maximum', 'contamination', 'traceability', 'protection', 'import regulation', 'fao', 'provide', 'law', 'social', 'organic', 'consumer', 'promotion', 'maximum residue limit', 'certification scheme', 'voluntary certification', 'maximum residue', 'produce', 'commodity', 'main', 'contact', 'scheme', 'certify', 'crop', 'entry', 'usda', 'ministry', 'level', 'time', 'web', 'producer exporter', 'certification programme', 'country origin', 'centre', 'rural', 'government', 'base', 'division', 'material', 'commercial', 'order', 'practice', 'identify', 'problem', 'label', 'develop', 'type', 'quarantine', 'procedure', 'regulation import country', 'commodity trade', 'regulation import', 'limit pesticide', 'phytosanitary regulation', 'west', 'africa', 'official', 'clearance', 'animal', 'inspection', 'haccp', 'hazard', 'critical', 'ensure', 'determine', 'norm', 'marketing', 'department', 'meet', 'risk', 'industry', 'ghana', 'food agriculture organization', 'commodity trade division', 'state european union', 'residue limit pesticide', 'critical control point', 'united state united', 'state united state', 'west africa', 'food agriculture', 'agriculture organization', 'trade division', 'division fao', 'state european', 'social environmental', 'environmental certification', 'biological contamination', 'critical control', 'control point', 'exporter comply', 'state united', 'pesticide residue', 'point entry', 'traceability requirement', 'plant health', 'type certification', 'pour', 'produits', 'nation', 'specific', 'unite', 'development', 'clear', 'issue', 'work', 'include', 'analysis', 'relevant', 'access', 'biological', 'bioterrorism', 'treatment', 'depend', 'grade', 'quantity', 'fda', 'fruit', 'vegetable', 'national', 'agency', 'apply', 'process', 'general', 'certificate', 'pre-clearance', 'des', 'ministère', 'lindustrie', 'private', 'agriculture organization united', 'organization united nation', 'trade division fao', 'main voluntary certification', 'voluntary certification scheme', 'regulation united state', 'united state european', 'european union japan', 'food safety regulation', 'control point establish', 'technical norm import', 'producer exporter comply', 'european union european', 'union european union', 'food sanitation law', 'food drug administration', 'agricultural rural', 'organization united', 'united nation', 'material product', 'regulation main', 'main voluntary', 'regulation united', 'union japan', 'commercial quality', 'quality label', 'safety regulation', 'supply chain', 'point establish', 'technical norm', 'norm import', 'environmental protection', 'unite state', 'union european', 'require import', 'marketing standard', 'comply regulation', 'food sanitation', 'sanitation law', 'ministry agriculture', 'international level', 'food drug', 'drug administration', 'country country', 'phytosanitary certificate', 'clear custom', 'contact international', 'plant protection', 'market access', 'des produits', 'commerce extérieur', 'ministère commerce', 'côte divoire', 'trade industry', 'association ghana', 'industry tel', 'agricoles', 'support', 'cta', 'liu', 'area', 'prior', 'write', 'permission', 'application', 'address', 'management', 'objective', 'major', 'framework', 'content', 'reader', 'internet', 'enable', 'link', 'improve', 'condition', 'acp', 'member', 'ctas', 'promote', 'form', 'chemical', 'avoid', 'disease', 'supply', 'chain', 'rejection', 'variety', 'external', 'investment', 'case', 'consult', 'sanitation', 'forestry', 'drug', 'administration', 'arrival', 'pest', 'council', 'japanese', 'pay', 'duty', 'extérieur', 'burkina', 'côte', 'divoire', 'sénégal', 'soil', 'choose', 'cost', 'farming', 'technical centre agricultural', 'centre agricultural rural', 'agricultural rural cooperation', 'rural cooperation cta', 'write permission copyright', 'permission copyright holder', 'objective provide producer', 'import regulation certification', 'reader understand main', 'understand main voluntary', 'import regulation united', 'import regulation main', 'social environmental certification', 'cost-benefit analysis certify', 'analysis certify citrus', 'certify citrus spain', 'citrus spain costa', 'spain costa rica', 'european union member', 'technical regulation control', 'regulation control import', 'commercial quality label', 'quality label regulation', 'regulation maximum residue', 'biological contamination product', 'contamination product traceability', 'environmental safety phytosanitary', 'safety phytosanitary regulation', 'organization support export', 'support export west', 'export west africa', 'environmental certification organic', 'certification organic agriculture', 'requirement united state', 'import country product', 'state department agriculture', 'japan external trade', 'external trade organization', 'ministry agriculture forestry', 'agriculture forestry fishery', 'environmental protection agency', 'drug administration fda', 'pesticide residue limit', 'vary country country', 'european union regulation', 'traceability requirement exporter', 'pesticide initiative programme', 'plant health regulation', 'norm import regulation', 'international trade center', 'commerce extérieur tel', 'tel ministère commerce', 'association pour promotion', 'pour promotion des', 'promotion des produits', 'des produits dexportation', 'export promotion council', 'trade industry tel', 'exporter association ghana', 'ministère commerce lindustrie', 'production requirement apply', 'technical centre', 'centre agricultural', 'rural cooperation', 'cooperation cta', 'fao manual', 'pazderka liu', 'write permission', 'permission copyright', 'copyright holder', 'objective provide', 'provide producer', 'main import', 'regulation certification', 'agricultural product', 'law regulation', 'reader understand', 'understand main', 'standard import', 'provide additional', 'product service', 'cost-benefit analysis', 'analysis certify', 'certify citrus', 'citrus spain', 'spain costa', 'costa rica', 'production trade', 'union member', 'member state', 'technical regulation', 'regulation control', 'control import', 'label regulation', 'regulation food', 'regulation maximum', 'contamination product', 'product traceability', 'environmental safety', 'safety phytosanitary', 'custom clearance', 'organization support', 'support export', 'export west', 'question certification', 'certification organic', 'organic agriculture', 'safety quality', 'animal plant', 'genetically modify', 'confinement product', 'product comply', 'comply phytosanitary', 'phytosanitary requirement', 'haccp principle', 'flow diagram', 'potential hazard', 'requirement united', 'japan export', 'international market', 'consumer health', 'norm regulation', 'product rejection', 'origin product', 'country product', 'state department', 'department agriculture', 'cool programme', 'programme usda', 'fruit vegetable', 'point import', 'japan japan', 'import product', 'import procedure', 'japan external', 'external trade', 'trade organization', 'agriculture forestry', 'forestry fishery', 'protection agency', 'administration fda', 'fda point', 'maximum limit', 'vary country', 'import tolerance', 'ministry health', 'production process', 'crop production', 'require exporter', 'product arrival', 'supplier country', 'union regulation', 'requirement exporter', 'pesticide initiative', 'initiative programme', 'regulation roducers', 'comply plant', 'health regulation', 'regulation enforce', 'custom official', 'determine quantity', 'develop country', 'national organization', 'international trade', 'trade center', 'extérieur tel', 'burkina faso', 'fruit légumes', 'tel ministère', 'association pour', 'pour promotion', 'promotion des', 'produits dexportation', 'export promotion', 'promotion council', 'exporter association', 'commerce industry', 'commerce lindustrie', 'chambre commerce', 'tel fax', 'product market', 'certification objective', 'private organization', 'product produce', 'organic farm', 'production requirement', 'requirement apply', 'exportateurs', 'cooperation', 'para', 'pazderka', 'author', 'imply', 'view', 'publication', 'legal', 'reproduction', 'purpose', 'authorize', 'copyright', 'holder', 'source', 'opportunity', 'compulsory', 'create', 'understand', 'difference', 'his/her', 'comprehensive', 'characteristic', 'additional', 'escr', 'action', 'continue', 'responsible', 'study', 'small', 'banana', 'aim', 'exporters', 'cost-benefit', 'citrus', 'spain', 'costa', 'rica', 'portal', 'african', 'operate', 'capacity', 'exchange', 'strategy', 'glossary', 'question', 'iso', 'global', 'terrorism', 'genetically', 'modify', 'confinement', 'spread', 'test', 'and/or', 'principle', 'step', 'lead', 'flow', 'diagram', 'potential', 'monitor', 'increasingly', 'consume', 'focus', 'cool', 'community', 'approve', 'defra', 'website', 'fishery', 'water', 'register', 'e.g', 'http//www.fao.org/ag/agn/food/foodfruitsen.stm', 'epa', 'vary', 'tolerance', 'welfare', 'response', 'stage', 'number', 'good', 'supplier', 'explanation', 'initiative', 'coleacp', 'exist', 'roducers', 'seed', 'inspector', 'manner', 'enforce', 'station', 'tax', 'guarantee', 'aphis', 'speed', 'document', 'electronic', 'local', 'center', 'développement', 'groupements', 'faso', 'légumes', 'lartisanat', 'nationale', 'dexportation', 'organisation', 'producteurs/exportateurs', 'exportation', 'mango', 'mali', 'nigeria', 'chambre', 'dagriculture', 'leone', 'togo', 'fax', 'worker', 'ertification', 'decision']\n"
          ]
        }
      ]
    },
    {
      "cell_type": "markdown",
      "metadata": {
        "id": "i_iG3Xt7SUXO"
      },
      "source": [
        "### check if all candidates in the same chunck"
      ]
    },
    {
      "cell_type": "code",
      "metadata": {
        "id": "LNBztuabQusL",
        "colab": {
          "base_uri": "https://localhost:8080/"
        },
        "outputId": "c519f414-9534-40ab-c656-0fe277e4e2a7"
      },
      "source": [
        "# اولا اختيار المرشحات التي ضمن نفس الجملة\n",
        "ranked_chunked_tf_candidates  = check_chunk_tf(doc_sorted_tfidfs, document_as_chunk_sent)\n",
        "\n",
        "# print the names of candidates only\n",
        "doc_list_condidates = get_doc_features_list(ranked_chunked_tf_candidates) # only features names\n",
        "print(\"number of cands before chunk check for first document\", len(doc_sorted_tfidfs[0]),\"\\n after \",len(doc_list_condidates[0]))"
      ],
      "execution_count": null,
      "outputs": [
        {
          "output_type": "stream",
          "name": "stdout",
          "text": [
            "number of cands before chunk check for first document 606 \n",
            " after  600\n"
          ]
        }
      ]
    },
    {
      "cell_type": "code",
      "metadata": {
        "id": "Ui3w5k2MXef9",
        "colab": {
          "base_uri": "https://localhost:8080/"
        },
        "outputId": "0846039b-6875-4da2-b7a1-f1552435f7b7"
      },
      "source": [
        "# #save condidates each with tf value\n",
        "# p = \"/content/drive/MyDrive/PHD/Data/candidates/\"\n",
        "# saveList(ranked_chunked_tf_candidates,p+ \"Schutz2008_mean_chuncked_cand.txt\") \n",
        "\n",
        "# #ranked_chunked_tf_candidates = loadList(p+ \"kapinv2009_mean_chuncked_cand.txt.npy\")"
      ],
      "execution_count": null,
      "outputs": [
        {
          "output_type": "stream",
          "name": "stdout",
          "text": [
            "Saved successfully!\n"
          ]
        }
      ]
    },
    {
      "cell_type": "markdown",
      "metadata": {
        "id": "067L3_lHLp7e"
      },
      "source": [
        "## **FASTEXT embeddings**"
      ]
    },
    {
      "cell_type": "code",
      "metadata": {
        "id": "bpQCCvqh57S7"
      },
      "source": [
        "################################\n",
        "#pre_trained_model = intall_pre_trained_model('/content/drive/MyDrive/PHD/Models/fasttext-wiki-news-subwords-300' ,  'fasttext-wiki-news-subwords-300')\n",
        "\n",
        "model_path=\"/content/drive/MyDrive/PHD/Models/fasttext-wiki-news-subwords-300\"\n",
        "modelfast = Load_pre_trained_model_embeddings(model_path)"
      ],
      "execution_count": null,
      "outputs": []
    },
    {
      "cell_type": "code",
      "metadata": {
        "id": "j9UGBYpo_yCX"
      },
      "source": [
        "#doc_embeddings--------- list of dictionaries\n",
        "doc_embeddings = []\n",
        "err = []\n",
        "for doc_cands in ranked_chunked_tf_candidates:\n",
        "  \n",
        "  emb_dict = {}\n",
        "  for tokens in doc_cands:\n",
        "    token_len = len(tokens.split())\n",
        "    if token_len == 1:\n",
        "      try:\n",
        "        emb = modelfast[tokens]\n",
        "        emb_dict.update({tokens: emb})\n",
        "      except:\n",
        "        err.append(tokens)\n",
        "    elif token_len >1:\n",
        "      token_emb = []\n",
        "      for w in tokens.split():\n",
        "        try:\n",
        "          temp = modelfast[w]\n",
        "          token_emb.append(temp)\n",
        "        except:\n",
        "          continue;\n",
        "      if len(token_emb) == token_len:\n",
        "        emb = sum(token_emb) / token_len\n",
        "        emb_dict.update({tokens:emb})\n",
        "      else:\n",
        "        err.append(tokens)\n",
        "    else:\n",
        "      continue;\n",
        "  doc_embeddings.append(emb_dict)"
      ],
      "execution_count": null,
      "outputs": []
    },
    {
      "cell_type": "code",
      "metadata": {
        "id": "mvc33Hkxykmd",
        "colab": {
          "base_uri": "https://localhost:8080/"
        },
        "outputId": "fd76e3cc-083c-4bdb-e6bf-ee178401d7e3"
      },
      "source": [
        "# check empty embeddings\n",
        "empty_embeddings= []\n",
        "for i, d in enumerate(doc_embeddings):\n",
        "  if len(d) == 0:\n",
        "    empty_embeddings.append(i)\n",
        "\n",
        "empty_embeddings"
      ],
      "execution_count": null,
      "outputs": [
        {
          "output_type": "execute_result",
          "data": {
            "text/plain": [
              "[]"
            ]
          },
          "metadata": {},
          "execution_count": 23
        }
      ]
    },
    {
      "cell_type": "code",
      "metadata": {
        "id": "RnXwxi_nCh5I"
      },
      "source": [
        "from sklearn.metrics.pairwise import cosine_similarity\n",
        "\n",
        "\n",
        "docs_from_fasttext = []\n",
        "for i, doc_dict in enumerate(doc_embeddings):\n",
        "  \n",
        "  #get doc canidates names and their embeddings vectors   \n",
        "  doc_condidates_token = list(doc_dict.keys())[0:300]\n",
        "  list_of_emb =  list(doc_dict.values())[0:300]\n",
        "  #print(doc_condidates_token)\n",
        "  # make document embeddings as centriod its candidates\n",
        "  centriod_doc = np.array(sum(list_of_emb[0:50])/ len(list_of_emb[0:50])) # to aaray 1*300\n",
        "  array_of_emb = np.array(list_of_emb)  # array canidates * 300\n",
        "  \n",
        "  # calc similarities btn centriod and candidates\n",
        "  similarities = cosine_similarity(centriod_doc.reshape(1,-1), array_of_emb)     # similarity d with each of its words\n",
        "  #store sim as dictionary  cand : sim_val\n",
        "  dictionary = dict(zip(doc_condidates_token, similarities.tolist()[0]))\n",
        "\n",
        "  docs_from_fasttext.append(dictionary)\n"
      ],
      "execution_count": null,
      "outputs": []
    },
    {
      "cell_type": "markdown",
      "metadata": {
        "id": "nFN3LjWDxaIi"
      },
      "source": [
        "## algorithm score_keywords"
      ]
    },
    {
      "cell_type": "code",
      "metadata": {
        "id": "fwv6T6O7yGuh",
        "colab": {
          "base_uri": "https://localhost:8080/"
        },
        "outputId": "85c4c6db-53d2-4039-d1e6-8b9d9754ae7e"
      },
      "source": [
        "###########doc_scored_kw########################################3333\n",
        "#Sbert = norm_doc_token_distances\n",
        "\n",
        "B = 1\n",
        "#all_doc_kw = score_keywords(doc_keywords,doc_sorted_tfidfs, Sbert  , B)\n",
        "\n",
        "scored_doc_kw = score_fastTF(ranked_chunked_tf_candidates, docs_from_fasttext  ,B)\n",
        "\n",
        "#rank keywords by scores\n",
        "ranked_scrored_kywords = rank_kywords(scored_doc_kw)\n",
        "\n",
        "# check for chuncks\n",
        "ranked_chunked_kywords  = check_chunk(ranked_scrored_kywords, document_as_chunk_sent)\n",
        "\n",
        "#matching with gold\n",
        "res, F1 = get_matching_kws(ranked_chunked_kywords, orginal_kw)\n",
        "res, ex_F1 = get_exact_matching_kws(ranked_chunked_kywords, orginal_kw)\n",
        "\n",
        "print(\"the F1 for exact and soft matching\",ex_F1,\"  soft =\",F1 )"
      ],
      "execution_count": null,
      "outputs": [
        {
          "output_type": "stream",
          "name": "stdout",
          "text": [
            "the F1 for exact and soft matching 0.17782426778242677   soft = 0.18200836820083682\n"
          ]
        }
      ]
    },
    {
      "cell_type": "markdown",
      "metadata": {
        "id": "E9qhUL1nPNt-"
      },
      "source": [
        "### With filtering"
      ]
    },
    {
      "cell_type": "code",
      "metadata": {
        "colab": {
          "base_uri": "https://localhost:8080/"
        },
        "id": "ZmSfllc8PPb2",
        "outputId": "2a36c3e1-1c77-455f-82c9-c1e63c6c5f73"
      },
      "source": [
        "ranked_chunked_kywords_C = ranked_chunked_kywords.copy()\n",
        "print( len(ranked_chunked_kywords_C[0]))\n",
        "\n",
        "ranked_ch_kywords = []\n",
        "for d in ranked_chunked_kywords_C:\n",
        "  dd = filter_kw(d, 15)\n",
        "  ranked_ch_kywords.append(dd)\n",
        "\n",
        "print( len(ranked_ch_kywords[0]))"
      ],
      "execution_count": null,
      "outputs": [
        {
          "output_type": "stream",
          "name": "stdout",
          "text": [
            "300\n",
            "300\n"
          ]
        }
      ]
    },
    {
      "cell_type": "code",
      "metadata": {
        "id": "0NhPAR3qQDt8",
        "colab": {
          "base_uri": "https://localhost:8080/"
        },
        "outputId": "26574a75-d364-4e47-8b0a-754d881119ac"
      },
      "source": [
        "res, F1 = get_exact_matching_kws(ranked_ch_kywords, orginal_kw)\n",
        "F1"
      ],
      "execution_count": null,
      "outputs": [
        {
          "output_type": "execute_result",
          "data": {
            "text/plain": [
              "0.17573221757322174"
            ]
          },
          "metadata": {},
          "execution_count": 27
        }
      ]
    },
    {
      "cell_type": "markdown",
      "metadata": {
        "id": "54hGMLZNYDx_"
      },
      "source": [
        "## TFIDF EVAL"
      ]
    },
    {
      "cell_type": "code",
      "metadata": {
        "id": "bXwDSo-RPqn8"
      },
      "source": [
        "def get_tokened_docs(data_DF):\n",
        "  doclist= []\n",
        "  for d in  dtf['finally_cleaned_text']:\n",
        "    doclist.append(d)\n",
        "\n",
        "  return doclist\n",
        "\n",
        "docs = get_tokened_docs(dtf)"
      ],
      "execution_count": null,
      "outputs": []
    },
    {
      "cell_type": "code",
      "metadata": {
        "id": "wnv7j4r_OnVl"
      },
      "source": [
        "###############\n",
        "#########\n",
        "from sklearn.feature_extraction.text import TfidfVectorizer\n",
        "\n",
        "vectorizer = TfidfVectorizer(use_idf=False , ngram_range=(1,3))\n",
        "vectors = vectorizer.fit_transform(docs)\n",
        "#print(vectors)\n",
        "fnames = vectorizer.get_feature_names()\n",
        "##########################\n",
        "index_value={i[1]:i[0] for i in vectorizer.vocabulary_.items()}\n",
        "\n",
        "############################\n",
        "\n",
        "fully_indexed = []  # all deoc vectors by tfidf\n",
        "for row in vectors:\n",
        "  fully_indexed.append({index_value[column]:value for (column,value) in zip(row.indices,row.data)})"
      ],
      "execution_count": null,
      "outputs": []
    },
    {
      "cell_type": "code",
      "metadata": {
        "id": "gZaR-KKKOShw"
      },
      "source": [
        "\n",
        "doc_sorted_tfidfs =[]  # list of doc features each with tf weight\n",
        "#sort each dict of a document\n",
        "for dn in fully_indexed:\n",
        "  newD = sorted(dn.items(), key=lambda x: x[1], reverse=True)\n",
        "  newD = dict(newD)\n",
        "  doc_sorted_tfidfs.append(newD)"
      ],
      "execution_count": null,
      "outputs": []
    },
    {
      "cell_type": "code",
      "metadata": {
        "id": "u-de9vQJuskb"
      },
      "source": [
        "tfidf_kw = []\n",
        "for doc_tfidf in doc_sorted_tfidfs:\n",
        "  \n",
        "  ll = list(doc_tfidf.keys())\n",
        "  tfidf_kw.append(ll)"
      ],
      "execution_count": null,
      "outputs": []
    },
    {
      "cell_type": "code",
      "metadata": {
        "id": "OINPwW33uscG",
        "colab": {
          "base_uri": "https://localhost:8080/"
        },
        "outputId": "85409874-6940-475f-f2f6-f607bf0f0806"
      },
      "source": [
        "\n",
        "tfidf_res, ex_F1 = get_exact_matching_kws(tfidf_kw, orginal_kw)\n",
        "\n",
        "tfidf_res, F1 = get_matching_kws(tfidf_kw, orginal_kw)\n",
        "\n",
        "\n",
        "print(\"the F1 for exact and soft matching\",ex_F1,\"  soft =\",F1 )"
      ],
      "execution_count": null,
      "outputs": [
        {
          "output_type": "stream",
          "name": "stdout",
          "text": [
            "the F1 for exact and soft matching 0.17573221757322174   soft = 0.17887029288702927\n"
          ]
        }
      ]
    },
    {
      "cell_type": "markdown",
      "metadata": {
        "id": "j07RkHWh_sY9"
      },
      "source": [
        "## TF "
      ]
    },
    {
      "cell_type": "code",
      "metadata": {
        "id": "ugxQiQs3-HwM"
      },
      "source": [
        "###############\n",
        "#########\n",
        "from sklearn.feature_extraction.text import CountVectorizer\n",
        "\n",
        "vectorizer = CountVectorizer(ngram_range=(1,3))\n",
        "vectors = vectorizer.fit_transform(docs)\n",
        "##########################\n",
        "index_value={i[1]:i[0] for i in vectorizer.vocabulary_.items()}\n",
        "\n",
        "############################\n",
        "\n",
        "tf_vectors = []  # all deoc vectors by tfidf\n",
        "for row in vectors:\n",
        "  tf_vectors.append({index_value[column]:value for (column,value) in zip(row.indices,row.data)})"
      ],
      "execution_count": null,
      "outputs": []
    },
    {
      "cell_type": "code",
      "metadata": {
        "id": "8NCPbr6TAQPP"
      },
      "source": [
        "# calc the fterms freq and mean and std dev\n",
        "import statistics\n",
        "from statistics import mean\n",
        "\n",
        "for doc_dic in tf_vectors:\n",
        "  ngramSum =0\n",
        "  ngramSum = sum(doc_dic.values())   # ngram sum\n",
        "  #print(\" 1 \",ngramSum)\n",
        "  for k, v in doc_dic.items():\n",
        "    doc_dic.update({k:v/ngramSum})"
      ],
      "execution_count": null,
      "outputs": []
    },
    {
      "cell_type": "code",
      "metadata": {
        "id": "zP1StWV9ATqi"
      },
      "source": [
        "doc_sorted_tfidfs =[]  # list of doc features each with tf weight\n",
        "#sort each dict of a document\n",
        "for dn in tf_vectors:\n",
        "  newD = sorted(dn.items(), key=lambda x: x[1], reverse=True)\n",
        "  newD = dict(newD)\n",
        "  doc_sorted_tfidfs.append(newD)"
      ],
      "execution_count": null,
      "outputs": []
    },
    {
      "cell_type": "code",
      "metadata": {
        "id": "RIJ4-53YAIb8"
      },
      "source": [
        "# select candidates names only\n",
        "tf_kw = []\n",
        "for doc_tfidf in doc_sorted_tfidfs:\n",
        "  \n",
        "  ll = list(doc_tfidf.keys())\n",
        "  tf_kw.append(ll)"
      ],
      "execution_count": null,
      "outputs": []
    },
    {
      "cell_type": "code",
      "metadata": {
        "colab": {
          "base_uri": "https://localhost:8080/"
        },
        "id": "aFS0odnlAKZx",
        "outputId": "00a97001-d1b0-43ff-8e0e-bec57f32b569"
      },
      "source": [
        "tfidf_res, ex_F1 = get_exact_matching_kws(tf_kw, orginal_kw)\n",
        "\n",
        "tfidf_res, F1 = get_matching_kws(tf_kw, orginal_kw)\n",
        "\n",
        "\n",
        "print(\"the F1 for exact and soft matching\",ex_F1,\"  soft =\",F1 )"
      ],
      "execution_count": null,
      "outputs": [
        {
          "output_type": "stream",
          "name": "stdout",
          "text": [
            "the F1 for exact and soft matching 0.17573221757322174   soft = 0.17887029288702927\n"
          ]
        }
      ]
    },
    {
      "cell_type": "markdown",
      "metadata": {
        "id": "_k0_cUUDYIl2"
      },
      "source": [
        "## YAKK **EVAL**"
      ]
    },
    {
      "cell_type": "code",
      "metadata": {
        "colab": {
          "base_uri": "https://localhost:8080/"
        },
        "id": "GCklXGGAFA8s",
        "outputId": "26d18a97-16bd-47a7-9c33-58bd84830743"
      },
      "source": [
        "pip install git+https://github.com/LIAAD/yake"
      ],
      "execution_count": null,
      "outputs": [
        {
          "output_type": "stream",
          "name": "stdout",
          "text": [
            "Collecting git+https://github.com/LIAAD/yake\n",
            "  Cloning https://github.com/LIAAD/yake to /tmp/pip-req-build-6pextxck\n",
            "  Running command git clone -q https://github.com/LIAAD/yake /tmp/pip-req-build-6pextxck\n",
            "Requirement already satisfied: tabulate in /usr/local/lib/python3.7/dist-packages (from yake==0.4.8) (0.8.9)\n",
            "Requirement already satisfied: click>=6.0 in /usr/local/lib/python3.7/dist-packages (from yake==0.4.8) (7.1.2)\n",
            "Requirement already satisfied: numpy in /usr/local/lib/python3.7/dist-packages (from yake==0.4.8) (1.19.5)\n",
            "Collecting segtok\n",
            "  Downloading segtok-1.5.10.tar.gz (25 kB)\n",
            "Requirement already satisfied: networkx in /usr/local/lib/python3.7/dist-packages (from yake==0.4.8) (2.6.3)\n",
            "Collecting jellyfish\n",
            "  Downloading jellyfish-0.8.9.tar.gz (137 kB)\n",
            "\u001b[K     |████████████████████████████████| 137 kB 17.3 MB/s \n",
            "\u001b[?25hRequirement already satisfied: regex in /usr/local/lib/python3.7/dist-packages (from segtok->yake==0.4.8) (2019.12.20)\n",
            "Building wheels for collected packages: yake, jellyfish, segtok\n",
            "  Building wheel for yake (setup.py) ... \u001b[?25l\u001b[?25hdone\n",
            "  Created wheel for yake: filename=yake-0.4.8-py2.py3-none-any.whl size=60190 sha256=22d8ecdd02a424b2663bdc5ca71d96346b3fc461e9a3c9810192f960a6f303d5\n",
            "  Stored in directory: /tmp/pip-ephem-wheel-cache-y6g5qwml/wheels/52/79/f4/dae9309f60266aa3767a4381405002b6f2955fbcf038d804da\n",
            "  Building wheel for jellyfish (setup.py) ... \u001b[?25l\u001b[?25hdone\n",
            "  Created wheel for jellyfish: filename=jellyfish-0.8.9-cp37-cp37m-linux_x86_64.whl size=73202 sha256=a876aa0e7313937c87b19bc64404409ce18e95e43464d9c640c9155e79994120\n",
            "  Stored in directory: /root/.cache/pip/wheels/32/a9/ef/5d8742e72deaf0d1de327a180d008c2c0299367581800ea73f\n",
            "  Building wheel for segtok (setup.py) ... \u001b[?25l\u001b[?25hdone\n",
            "  Created wheel for segtok: filename=segtok-1.5.10-py3-none-any.whl size=25030 sha256=e786c492d12d56a56f25e8e9553ea02f1fb135615dc679883a8f62a05e9190a3\n",
            "  Stored in directory: /root/.cache/pip/wheels/67/b7/d0/a121106e61339eee5ed083bc230b1c8dc422c49a5a28c2addd\n",
            "Successfully built yake jellyfish segtok\n",
            "Installing collected packages: segtok, jellyfish, yake\n",
            "Successfully installed jellyfish-0.8.9 segtok-1.5.10 yake-0.4.8\n"
          ]
        }
      ]
    },
    {
      "cell_type": "code",
      "metadata": {
        "id": "_zy8BxwaFCUO"
      },
      "source": [
        "import yake"
      ],
      "execution_count": null,
      "outputs": []
    },
    {
      "cell_type": "code",
      "metadata": {
        "id": "CPSLuW6QXH-i"
      },
      "source": [
        "orginal_kw  = clear_orginal_kw(all_keys)"
      ],
      "execution_count": null,
      "outputs": []
    },
    {
      "cell_type": "code",
      "metadata": {
        "id": "1Z80GDShYK02"
      },
      "source": [
        "ranked_yake_kywords = []\n",
        "for i, doc in enumerate(dtf['finally_cleaned_text']):\n",
        "  kw_extractor = yake.KeywordExtractor(top=len(orginal_kw[i]))\n",
        "  keywords = kw_extractor.extract_keywords(doc)\n",
        "\n",
        "  temp = []\n",
        "  for kw, v in keywords:\n",
        "    temp.append(kw)\n",
        "  ranked_yake_kywords.append(temp)"
      ],
      "execution_count": null,
      "outputs": []
    },
    {
      "cell_type": "code",
      "metadata": {
        "id": "mRpw_lLeYQyF",
        "colab": {
          "base_uri": "https://localhost:8080/"
        },
        "outputId": "ae8dee32-07c4-47ea-af09-98d956c37c17"
      },
      "source": [
        "yake_res, ex_F1= get_exact_matching_kws(ranked_yake_kywords, orginal_kw)\n",
        "\n",
        "yake_res, F1 = get_matching_kws(ranked_yake_kywords, orginal_kw)\n",
        "\n",
        "print(\"the F1  exact matching\",ex_F1,\"  soft =\",F1 )"
      ],
      "execution_count": null,
      "outputs": [
        {
          "output_type": "stream",
          "name": "stdout",
          "text": [
            "the F1  exact matching 0.006276150627615063   soft = 0.015690376569037656\n"
          ]
        }
      ]
    },
    {
      "cell_type": "markdown",
      "metadata": {
        "id": "UMKOJL4BiqDx"
      },
      "source": [
        "## RAKE"
      ]
    },
    {
      "cell_type": "code",
      "metadata": {
        "id": "Zd6DEpn9irpc",
        "colab": {
          "base_uri": "https://localhost:8080/",
          "height": 479
        },
        "outputId": "6d61204a-3294-4cf7-e4f5-e4b081e93a47"
      },
      "source": [
        "pip install rake-nltk"
      ],
      "execution_count": null,
      "outputs": [
        {
          "output_type": "stream",
          "name": "stdout",
          "text": [
            "Collecting rake-nltk\n",
            "  Downloading rake_nltk-1.0.6-py3-none-any.whl (9.1 kB)\n",
            "Collecting nltk<4.0.0,>=3.6.2\n",
            "  Downloading nltk-3.6.5-py3-none-any.whl (1.5 MB)\n",
            "\u001b[K     |████████████████████████████████| 1.5 MB 15.4 MB/s \n",
            "\u001b[?25hRequirement already satisfied: tqdm in /usr/local/lib/python3.7/dist-packages (from nltk<4.0.0,>=3.6.2->rake-nltk) (4.62.3)\n",
            "Requirement already satisfied: joblib in /usr/local/lib/python3.7/dist-packages (from nltk<4.0.0,>=3.6.2->rake-nltk) (1.0.1)\n",
            "Collecting regex>=2021.8.3\n",
            "  Downloading regex-2021.11.2-cp37-cp37m-manylinux_2_17_x86_64.manylinux2014_x86_64.whl (749 kB)\n",
            "\u001b[K     |████████████████████████████████| 749 kB 60.2 MB/s \n",
            "\u001b[?25hRequirement already satisfied: click in /usr/local/lib/python3.7/dist-packages (from nltk<4.0.0,>=3.6.2->rake-nltk) (7.1.2)\n",
            "Installing collected packages: regex, nltk, rake-nltk\n",
            "  Attempting uninstall: regex\n",
            "    Found existing installation: regex 2019.12.20\n",
            "    Uninstalling regex-2019.12.20:\n",
            "      Successfully uninstalled regex-2019.12.20\n",
            "  Attempting uninstall: nltk\n",
            "    Found existing installation: nltk 3.2.5\n",
            "    Uninstalling nltk-3.2.5:\n",
            "      Successfully uninstalled nltk-3.2.5\n",
            "Successfully installed nltk-3.6.5 rake-nltk-1.0.6 regex-2021.11.2\n"
          ]
        },
        {
          "output_type": "display_data",
          "data": {
            "application/vnd.colab-display-data+json": {
              "pip_warning": {
                "packages": [
                  "nltk",
                  "regex"
                ]
              }
            }
          },
          "metadata": {}
        }
      ]
    },
    {
      "cell_type": "code",
      "metadata": {
        "id": "W0m_Ydg6isOD",
        "colab": {
          "base_uri": "https://localhost:8080/"
        },
        "outputId": "7c9036ad-a885-4e30-bdf1-5f766cd1fd7b"
      },
      "source": [
        "from rake_nltk import Rake\n",
        "\n",
        "# Uses stopwords for english from NLTK, and all puntuation characters by\n",
        "# default\n",
        "r = Rake()\n",
        "\n",
        "# Extraction given the text.\n",
        "r.extract_keywords_from_text(\"texxxxxxxxxxt\")\n",
        "\n",
        "# Extraction given the list of strings where each string is a sentence.\n",
        "#r.extract_keywords_from_sentences(<list of sentences>)\n",
        "\n",
        "# To get keyword phrases ranked highest to lowest.\n",
        "r.get_ranked_phrases()\n",
        "\n",
        "# To get keyword phrases ranked highest to lowest with scores.\n",
        "r.get_ranked_phrases_with_scores()"
      ],
      "execution_count": null,
      "outputs": [
        {
          "output_type": "execute_result",
          "data": {
            "text/plain": [
              "[(1.0, 'texxxxxxxxxxt')]"
            ]
          },
          "metadata": {},
          "execution_count": 48
        }
      ]
    },
    {
      "cell_type": "code",
      "metadata": {
        "colab": {
          "base_uri": "https://localhost:8080/"
        },
        "id": "rkuLYyFGYczS",
        "outputId": "beca196c-7cf7-450a-f1b3-0e5bd85248d5"
      },
      "source": [
        "\n",
        "print(\"keywords: \\n\")\n",
        "sum_of_match =0\n",
        "for i, k in enumerate(yake_res):\n",
        "  print(\"doc \", i , \"keys: \",len(k),\" from \", len(orginal_kw[i]) ,\" words \", k)\n",
        "\n",
        "\n",
        "print(\"avg F score  = \", YakeF )"
      ],
      "execution_count": null,
      "outputs": [
        {
          "output_type": "stream",
          "name": "stdout",
          "text": [
            "keywords: \n",
            "\n",
            "doc  0 keys:  1  from  40  words  ['software visualization']\n",
            "doc  1 keys:  1  from  42  words  ['linear logic']\n",
            "doc  2 keys:  0  from  45  words  []\n",
            "doc  3 keys:  2  from  34  words  ['user interface design', 'user interface']\n",
            "doc  4 keys:  0  from  28  words  []\n",
            "doc  5 keys:  0  from  34  words  []\n",
            "doc  6 keys:  0  from  33  words  []\n",
            "doc  7 keys:  1  from  23  words  ['regression test']\n",
            "doc  8 keys:  0  from  35  words  []\n",
            "doc  9 keys:  0  from  35  words  []\n",
            "doc  10 keys:  0  from  32  words  []\n",
            "doc  11 keys:  1  from  24  words  ['artificial intelligence']\n",
            "doc  12 keys:  0  from  46  words  []\n",
            "doc  13 keys:  0  from  39  words  []\n",
            "doc  14 keys:  0  from  41  words  []\n",
            "doc  15 keys:  1  from  31  words  ['edit distance']\n",
            "doc  16 keys:  0  from  37  words  []\n",
            "doc  17 keys:  0  from  34  words  []\n",
            "doc  18 keys:  0  from  37  words  []\n",
            "doc  19 keys:  0  from  34  words  []\n",
            "avg F score  =  0.009943181818181818\n"
          ]
        }
      ]
    },
    {
      "cell_type": "markdown",
      "metadata": {
        "id": "lxd0Spa4Sop_"
      },
      "source": [
        "## TEXTRANK EVAL"
      ]
    },
    {
      "cell_type": "code",
      "metadata": {
        "colab": {
          "base_uri": "https://localhost:8080/"
        },
        "id": "LySvCOwTSoQq",
        "outputId": "3961014c-14af-4894-a617-9de619d2dfd2"
      },
      "source": [
        "pip install summa"
      ],
      "execution_count": null,
      "outputs": [
        {
          "output_type": "stream",
          "name": "stdout",
          "text": [
            "Collecting summa\n",
            "  Downloading summa-1.2.0.tar.gz (54 kB)\n",
            "\u001b[?25l\r\u001b[K     |██████                          | 10 kB 19.8 MB/s eta 0:00:01\r\u001b[K     |████████████                    | 20 kB 22.8 MB/s eta 0:00:01\r\u001b[K     |██████████████████              | 30 kB 27.5 MB/s eta 0:00:01\r\u001b[K     |███████████████████████▉        | 40 kB 24.4 MB/s eta 0:00:01\r\u001b[K     |█████████████████████████████▉  | 51 kB 22.4 MB/s eta 0:00:01\r\u001b[K     |████████████████████████████████| 54 kB 2.7 MB/s \n",
            "\u001b[?25hRequirement already satisfied: scipy>=0.19 in /usr/local/lib/python3.7/dist-packages (from summa) (1.4.1)\n",
            "Requirement already satisfied: numpy>=1.13.3 in /usr/local/lib/python3.7/dist-packages (from scipy>=0.19->summa) (1.19.5)\n",
            "Building wheels for collected packages: summa\n",
            "  Building wheel for summa (setup.py) ... \u001b[?25l\u001b[?25hdone\n",
            "  Created wheel for summa: filename=summa-1.2.0-py3-none-any.whl size=54410 sha256=aafd7ce664902887b6aad88a2bc4f186f4d8a52f07118d36e3aa0e3a29d2027f\n",
            "  Stored in directory: /root/.cache/pip/wheels/29/64/ac/7b443477588d365ef37ada30d456bdf5f07dc5be9f6324cb6e\n",
            "Successfully built summa\n",
            "Installing collected packages: summa\n",
            "Successfully installed summa-1.2.0\n"
          ]
        }
      ]
    },
    {
      "cell_type": "code",
      "metadata": {
        "id": "RHhBB3PLS8_E"
      },
      "source": [
        "from summa import keywords\n",
        "\n",
        "\n",
        "ranked_TEXTR_kywords = []\n",
        "for i, doc in enumerate(dtf['finally_cleaned_text']):\n",
        "  try:\n",
        "\n",
        "    TR_keywords = keywords.keywords(doc, words = len(orginal_kw[i]))\n",
        "    keywords_list = TR_keywords.split(\"\\n\")\n",
        "    ranked_TEXTR_kywords.append(keywords_list)\n",
        "  except:\n",
        "    TR_keywords = keywords.keywords(doc, words = 5)\n",
        "    keywords_list = TR_keywords.split(\"\\n\")\n",
        "    ranked_TEXTR_kywords.append(keywords_list)"
      ],
      "execution_count": null,
      "outputs": []
    },
    {
      "cell_type": "code",
      "metadata": {
        "id": "c0wUzsWkUdIq",
        "colab": {
          "base_uri": "https://localhost:8080/"
        },
        "outputId": "87aa6e21-0d1f-4c20-e801-693694129954"
      },
      "source": [
        "\n",
        "TR_res, ex_F1 = get_exact_matching_kws(ranked_TEXTR_kywords, orginal_kw)\n",
        "TR_res, F1 = get_matching_kws(ranked_TEXTR_kywords, orginal_kw)\n",
        "\n",
        "print(\"the F1 for exact  matching\",ex_F1,\"  soft =\",F1 )"
      ],
      "execution_count": null,
      "outputs": [
        {
          "output_type": "stream",
          "name": "stdout",
          "text": [
            "the F1 for exact  matching 0.09623430962343098   soft = 0.09728033472803348\n"
          ]
        }
      ]
    },
    {
      "cell_type": "markdown",
      "metadata": {
        "id": "E-ILC-aG7CUI"
      },
      "source": [
        "# PEK"
      ]
    },
    {
      "cell_type": "code",
      "metadata": {
        "colab": {
          "base_uri": "https://localhost:8080/"
        },
        "id": "60sQKydf8Wom",
        "outputId": "a2b77c58-ce2b-4fee-be0c-3941af584a49"
      },
      "source": [
        "pip install git+https://github.com/boudinfl/pke.git"
      ],
      "execution_count": null,
      "outputs": [
        {
          "output_type": "stream",
          "name": "stdout",
          "text": [
            "Collecting git+https://github.com/boudinfl/pke.git\n",
            "  Cloning https://github.com/boudinfl/pke.git to /tmp/pip-req-build-_pnr6uly\n",
            "  Running command git clone -q https://github.com/boudinfl/pke.git /tmp/pip-req-build-_pnr6uly\n",
            "Requirement already satisfied: nltk in /usr/local/lib/python3.7/dist-packages (from pke==1.8.1) (3.6.5)\n",
            "Requirement already satisfied: networkx in /usr/local/lib/python3.7/dist-packages (from pke==1.8.1) (2.6.3)\n",
            "Requirement already satisfied: numpy in /usr/local/lib/python3.7/dist-packages (from pke==1.8.1) (1.19.5)\n",
            "Requirement already satisfied: scipy in /usr/local/lib/python3.7/dist-packages (from pke==1.8.1) (1.4.1)\n",
            "Requirement already satisfied: spacy in /usr/local/lib/python3.7/dist-packages (from pke==1.8.1) (2.2.4)\n",
            "Requirement already satisfied: six in /usr/local/lib/python3.7/dist-packages (from pke==1.8.1) (1.15.0)\n",
            "Requirement already satisfied: sklearn in /usr/local/lib/python3.7/dist-packages (from pke==1.8.1) (0.0)\n",
            "Collecting unidecode\n",
            "  Downloading Unidecode-1.3.2-py3-none-any.whl (235 kB)\n",
            "\u001b[K     |████████████████████████████████| 235 kB 14.6 MB/s \n",
            "\u001b[?25hRequirement already satisfied: future in /usr/local/lib/python3.7/dist-packages (from pke==1.8.1) (0.16.0)\n",
            "Requirement already satisfied: joblib in /usr/local/lib/python3.7/dist-packages (from pke==1.8.1) (1.0.1)\n",
            "Requirement already satisfied: regex>=2021.8.3 in /usr/local/lib/python3.7/dist-packages (from nltk->pke==1.8.1) (2021.11.2)\n",
            "Requirement already satisfied: click in /usr/local/lib/python3.7/dist-packages (from nltk->pke==1.8.1) (7.1.2)\n",
            "Requirement already satisfied: tqdm in /usr/local/lib/python3.7/dist-packages (from nltk->pke==1.8.1) (4.62.3)\n",
            "Requirement already satisfied: scikit-learn in /usr/local/lib/python3.7/dist-packages (from sklearn->pke==1.8.1) (0.22.2.post1)\n",
            "Requirement already satisfied: murmurhash<1.1.0,>=0.28.0 in /usr/local/lib/python3.7/dist-packages (from spacy->pke==1.8.1) (1.0.5)\n",
            "Requirement already satisfied: wasabi<1.1.0,>=0.4.0 in /usr/local/lib/python3.7/dist-packages (from spacy->pke==1.8.1) (0.8.2)\n",
            "Requirement already satisfied: blis<0.5.0,>=0.4.0 in /usr/local/lib/python3.7/dist-packages (from spacy->pke==1.8.1) (0.4.1)\n",
            "Requirement already satisfied: setuptools in /usr/local/lib/python3.7/dist-packages (from spacy->pke==1.8.1) (57.4.0)\n",
            "Requirement already satisfied: srsly<1.1.0,>=1.0.2 in /usr/local/lib/python3.7/dist-packages (from spacy->pke==1.8.1) (1.0.5)\n",
            "Requirement already satisfied: plac<1.2.0,>=0.9.6 in /usr/local/lib/python3.7/dist-packages (from spacy->pke==1.8.1) (1.1.3)\n",
            "Requirement already satisfied: catalogue<1.1.0,>=0.0.7 in /usr/local/lib/python3.7/dist-packages (from spacy->pke==1.8.1) (1.0.0)\n",
            "Requirement already satisfied: requests<3.0.0,>=2.13.0 in /usr/local/lib/python3.7/dist-packages (from spacy->pke==1.8.1) (2.23.0)\n",
            "Requirement already satisfied: thinc==7.4.0 in /usr/local/lib/python3.7/dist-packages (from spacy->pke==1.8.1) (7.4.0)\n",
            "Requirement already satisfied: preshed<3.1.0,>=3.0.2 in /usr/local/lib/python3.7/dist-packages (from spacy->pke==1.8.1) (3.0.5)\n",
            "Requirement already satisfied: cymem<2.1.0,>=2.0.2 in /usr/local/lib/python3.7/dist-packages (from spacy->pke==1.8.1) (2.0.5)\n",
            "Requirement already satisfied: importlib-metadata>=0.20 in /usr/local/lib/python3.7/dist-packages (from catalogue<1.1.0,>=0.0.7->spacy->pke==1.8.1) (4.8.1)\n",
            "Requirement already satisfied: typing-extensions>=3.6.4 in /usr/local/lib/python3.7/dist-packages (from importlib-metadata>=0.20->catalogue<1.1.0,>=0.0.7->spacy->pke==1.8.1) (3.7.4.3)\n",
            "Requirement already satisfied: zipp>=0.5 in /usr/local/lib/python3.7/dist-packages (from importlib-metadata>=0.20->catalogue<1.1.0,>=0.0.7->spacy->pke==1.8.1) (3.6.0)\n",
            "Requirement already satisfied: chardet<4,>=3.0.2 in /usr/local/lib/python3.7/dist-packages (from requests<3.0.0,>=2.13.0->spacy->pke==1.8.1) (3.0.4)\n",
            "Requirement already satisfied: certifi>=2017.4.17 in /usr/local/lib/python3.7/dist-packages (from requests<3.0.0,>=2.13.0->spacy->pke==1.8.1) (2021.5.30)\n",
            "Requirement already satisfied: urllib3!=1.25.0,!=1.25.1,<1.26,>=1.21.1 in /usr/local/lib/python3.7/dist-packages (from requests<3.0.0,>=2.13.0->spacy->pke==1.8.1) (1.24.3)\n",
            "Requirement already satisfied: idna<3,>=2.5 in /usr/local/lib/python3.7/dist-packages (from requests<3.0.0,>=2.13.0->spacy->pke==1.8.1) (2.10)\n",
            "Building wheels for collected packages: pke\n",
            "  Building wheel for pke (setup.py) ... \u001b[?25l\u001b[?25hdone\n",
            "  Created wheel for pke: filename=pke-1.8.1-py3-none-any.whl size=8764193 sha256=69d03b11a261bd03552f31ce10e71157579dd0878252a72fffe11c3480e1e830\n",
            "  Stored in directory: /tmp/pip-ephem-wheel-cache-uanirt1q/wheels/fa/b3/09/612ee93bf3ee4164bcd5783e742942cdfc892a86039d3e0a33\n",
            "Successfully built pke\n",
            "Installing collected packages: unidecode, pke\n",
            "Successfully installed pke-1.8.1 unidecode-1.3.2\n"
          ]
        }
      ]
    },
    {
      "cell_type": "code",
      "metadata": {
        "id": "lBV0YIeq7CAn"
      },
      "source": [
        "import pke\n",
        "\n",
        "# initialize keyphrase extraction model, here TopicRank\n",
        "\n",
        "# load the content of the document, here document is expected to be in raw\n",
        "# format (i.e. a simple text file) and preprocessing is carried out using spacy\n",
        "PEK_kywords = []\n",
        "\n",
        "for i, doc in enumerate(dtf['finally_cleaned_text']):\n",
        "  extractor = pke.unsupervised.TopicRank()\n",
        "\n",
        "  extractor.load_document(doc, language='en')\n",
        "\n",
        "  # keyphrase candidate selection, in the case of TopicRank: sequences of nouns\n",
        "  # and adjectives (i.e. `(Noun|Adj)*`)\n",
        "  extractor.candidate_selection()\n",
        "\n",
        "  # candidate weighting, in the case of TopicRank: using a random walk algorithm\n",
        "  extractor.candidate_weighting()\n",
        "\n",
        "  # N-best selection, keyphrases contains the 10 highest scored candidates as\n",
        "  # (keyphrase, score) tuples\n",
        "  keyphrases = extractor.get_n_best(n=len(orginal_kw[i]))\n",
        "  k = list(dict(keyphrases).keys()) # from list of tuples to dictionay in order to get keys\n",
        "  PEK_kywords.append(k)"
      ],
      "execution_count": null,
      "outputs": []
    },
    {
      "cell_type": "code",
      "metadata": {
        "colab": {
          "base_uri": "https://localhost:8080/"
        },
        "id": "GPelnM-jjTT7",
        "outputId": "5b35fa5a-0a0c-4c6c-ef03-3719cf265a6a"
      },
      "source": [
        "P_res, ex_F1 = get_exact_matching_kws(PEK_kywords, orginal_kw)\n",
        "P_res, F1 = get_matching_kws(PEK_kywords, orginal_kw)\n",
        "\n",
        "print(\"the F1 for exact  matching\",ex_F1,\"  soft =\",F1 )"
      ],
      "execution_count": null,
      "outputs": [
        {
          "output_type": "stream",
          "name": "stdout",
          "text": [
            "the F1 for exact  matching 0.0198744769874477   soft = 0.034518828451882845\n"
          ]
        }
      ]
    },
    {
      "cell_type": "markdown",
      "metadata": {
        "id": "qoaj9rNgli8_"
      },
      "source": [
        "PKE TextRaank"
      ]
    },
    {
      "cell_type": "code",
      "metadata": {
        "id": "DxmIizspliih"
      },
      "source": [
        "import pke\n",
        "# initialize keyphrase extraction model, here TopicRank\n",
        "\n",
        "# load the content of the document, here document is expected to be in raw\n",
        "# format (i.e. a simple text file) and preprocessing is carried out using spacy\n",
        "TR_kywords = []\n",
        "# define the set of valid Part-of-Speeches\n",
        "pos = {'NOUN', 'PROPN', 'ADJ'}\n",
        "\n",
        "for i, doc in enumerate(dtf['finally_cleaned_text']):\n",
        "  # 1. create a TextRank extractor.\n",
        "  extractor = pke.unsupervised.TextRank()\n",
        "\n",
        "  extractor.load_document(doc, language='en', normalization=True)\n",
        "\n",
        "  # 3. build the graph representation of the document and rank the words.\n",
        "  #    Keyphrase candidates are composed from the 33-percent\n",
        "  #    highest-ranked words.\n",
        "  extractor.candidate_weighting(window=2,\n",
        "                                pos=pos,\n",
        "                                top_percent=0.33)\n",
        "\n",
        "  # N-best selection, keyphrases contains the 10 highest scored candidates as\n",
        "  # (keyphrase, score) tuples\n",
        "  # 4. get the 10-highest scored candidates as keyphrases\n",
        "  keyphrases = extractor.get_n_best(n=len(orginal_kw[i]))\n",
        "  k = list(dict(keyphrases).keys()) # from list of tuples to dictionay in order to get keys\n",
        "  TR_kywords.append(k)"
      ],
      "execution_count": null,
      "outputs": []
    },
    {
      "cell_type": "code",
      "metadata": {
        "colab": {
          "base_uri": "https://localhost:8080/"
        },
        "id": "ePkw9QGomPyC",
        "outputId": "9e04b81f-08b1-4aca-a360-25918d37c5e6"
      },
      "source": [
        "P_res, ex_F1 = get_exact_matching_kws(TR_kywords, orginal_kw)\n",
        "P_res, F1 = get_matching_kws(TR_kywords, orginal_kw)\n",
        "\n",
        "print(\"the F1 for exact  matching\",ex_F1,\"  soft =\",F1 )"
      ],
      "execution_count": null,
      "outputs": [
        {
          "output_type": "stream",
          "name": "stdout",
          "text": [
            "the F1 for exact  matching 0   soft = 0.02092050209205021\n"
          ]
        }
      ]
    },
    {
      "cell_type": "markdown",
      "metadata": {
        "id": "PjueGMCsOT6t"
      },
      "source": [
        "## BERT"
      ]
    },
    {
      "cell_type": "code",
      "metadata": {
        "colab": {
          "base_uri": "https://localhost:8080/"
        },
        "id": "q1PMhVx7Gs1j",
        "outputId": "b982626a-e43c-47aa-f716-e9c716b97233"
      },
      "source": [
        "pip install sentence-transformers"
      ],
      "execution_count": null,
      "outputs": [
        {
          "output_type": "stream",
          "name": "stdout",
          "text": [
            "  Building wheel for sentence-transformers (setup.py) ... \u001b[?25l\u001b[?25hdone\n",
            "  Created wheel for sentence-transformers: filename=sentence_transformers-2.1.0-py3-none-any.whl size=121000 sha256=7afc3d3543eaa7f0ae9f055f7dcdf95268d3521a07b8454050fd1aabb59352e4\n",
            "  Stored in directory: /root/.cache/pip/wheels/90/f0/bb/ed1add84da70092ea526466eadc2bfb197c4bcb8d4fa5f7bad\n",
            "Successfully built sentence-transformers\n",
            "Installing collected packages: pyyaml, tokenizers, sacremoses, huggingface-hub, transformers, sentencepiece, sentence-transformers\n",
            "  Attempting uninstall: pyyaml\n",
            "    Found existing installation: PyYAML 3.13\n",
            "    Uninstalling PyYAML-3.13:\n",
            "      Successfully uninstalled PyYAML-3.13\n",
            "Successfully installed huggingface-hub-0.0.19 pyyaml-6.0 sacremoses-0.0.46 sentence-transformers-2.1.0 sentencepiece-0.1.96 tokenizers-0.10.3 transformers-4.12.2\n"
          ]
        }
      ]
    },
    {
      "cell_type": "code",
      "metadata": {
        "colab": {
          "base_uri": "https://localhost:8080/",
          "referenced_widgets": [
            "e205ebc69c3349feb6e3110867869fb0",
            "bec8c93fabd74392b05baab4310be0ed",
            "5d843af01f13439c984a0ba0f2f55189",
            "d019b2484a304d0e89aebaf159b9992c",
            "cd69dca4400f481dbebec0c7d352b522",
            "ba00a9cc618a42ad89911cbaf9ba87d2",
            "8f48d5d98eb8412e8c51d157a0d8b11c",
            "df29409ad62a45bd8045153342f0eb43",
            "5ee6932108024781ae90049cd176dfc0",
            "90a97d1c23104e2f88f34b2f06096639",
            "73608bb76694448e994f9627fe22d2d7",
            "5dcbcdbec062455ebbc4cd403de9d4e2",
            "d9a838eeb27849b9bd6bff1aaf974ffd",
            "391adf79a05c43d1bcdea1199617de81",
            "6bd1854718a94ff59b6637b8f96b0e80",
            "6ea0fff89e8b4f25adf23e0f43aca7d5",
            "09ac7037e27741929ec8efa4bd7c84f4",
            "340191628e614a9d97a3ad5690fe4637",
            "045368e8fde04f5a99a7ac7da0bcf74b",
            "f02e74a29e7f4a6ebf3ed1f2d1b0ceef",
            "3368e7b7113943b9a86480f3abdd7100",
            "e9c17d0b56fd4c1fbd5c01a05210b50d",
            "649821a0707b467c899408cac4024e0d",
            "a0fa88a1cc094c2f9c69025a0737ed76",
            "6b910fa5411d456eb6f76ffb5db86ec3",
            "d2e38c6680a740158e59a25173254c7f",
            "4eebab6b368340dc9dc6ca0494f00e08",
            "5a033afcbf9d4f44a8e4ade19c8427e2",
            "e1bdd412888b4aabb5b075be83e2f3f9",
            "fdc0c729cfd244c09888e69ded5960d7",
            "5abd1e073f7040168c6258b12d6e6028",
            "93ab0c1eb6e440fe9132445e9c099b56",
            "f46738792fa3478eb6d0a0cac4c13e16",
            "e55d79abeab141238c4b3fcc84681083",
            "d7a9db75123644d0a33a39cf42e09b3d",
            "d102d7ba1ce14be28292f9eb2a306b7b",
            "dbc1c60bd6254cbfb6de4d64b3db4342",
            "94bd16a45ab9477798fd07e20a8da37d",
            "8c5699fac7e74a22b20ad36b5dbb96d3",
            "e3d816d67cfd44c8a14668628a40f60f",
            "a9e7ec6166e84555adab5295c85be602",
            "924c36898ba942eb923750f8881c3b11",
            "d1eac5b24f2941da97f0a87d10060e86",
            "47f50c5e812042deb7e00b18869a3e0b",
            "3513a9f278c742ad9f664844642babce",
            "400f2cd8b7f44a1581ea53ae2033c8be",
            "458384a840234af98b738d197e9de6b4",
            "9b6b7fa6de9b4dbd8a233ed945705b94",
            "2c0c9eaf861e41269f59ec180d617078",
            "40ca1f6dbd9b4ed29324169b5c6451de",
            "6a4d2cd0e89f4e24b82337f303626e7f",
            "37159cbb76ec4597ae7080fa7de7eb7c",
            "9b3c54a95f264df1a9131bd7cfffd86d",
            "567f06d4d01f4f109a5424c492528226",
            "f25c5bce630441b69e2f41ff0a639a63",
            "58acc77097d94b3fb9775e38d1a9a3ad",
            "7107b133730d411b871efad952891e40",
            "3c279a7c91ca45caa4bfd416d7dbb786",
            "22a24855042149fc8da22010fa10fc47",
            "15dea8c265c040c4bd3b432473ef9e09",
            "ae435fe391e84214874a02b0591cf1ad",
            "f8b938217384434a8d6061e695e57c71",
            "dd723e67c62d439d877da372e425cdd0",
            "330ba8fafb164f91a48587e51c48dc32",
            "7f1cb1243b1048bc87b2bd6a76342d43",
            "81b05c17309d4e2090c0aba5d8cb2a4e",
            "cb449ad9d5a542af9eb399e1b363c46e",
            "9e3ac071fd7a42b684845cdac580599f",
            "b8cdb9697c08460eb23c537a7f64f6b3",
            "a2027152aa10438a8471035ced62b366",
            "46db5bfe969a4622821e80991702e554",
            "1e19ef181a4349c2b9a71d95758ee551",
            "3cd532c6a8b54179b17953014974022f",
            "04ad41284ce2458bb2df821641f9901b",
            "df14c137494f458398072ad83c4fd147",
            "c7f74184f8b44d048601a51381f47ead",
            "704ed70ddb9a466596dcb68b74f5f325",
            "df6a80cc7b8240fc9b8c8df92e3fc0e8",
            "6226123cc05b4d85be7e57575a08861f",
            "1b7bc6994dbf4858a8bd809cbcb6be21",
            "0be1fd65c10f41ff85e03bdadff5ab47",
            "40e4eb2004f443acb66c5d6460add0c5",
            "cb7771baca4642d3a939467ecd4cacae",
            "4f8bbfe686a241b4bb063a36f163bbbb",
            "651318c5b2db45c087baad987dd1fdec",
            "33c1fb0cdc654d82ba46778143f8e755",
            "5ad21f030b5f4fa987e12afcf476b1fd",
            "108f7c3b723d4e68bc5087f08c00821b",
            "50e1674abc46432d8c4572b40e43259c",
            "be7aff0146414ba6a6cbf51f301291c1",
            "017ae500419c49a7a93ac4cc5c64c8bf",
            "5557f8b685804985b33c8e96c6b30a13",
            "b236afe414534e6b999930e2fe40c1f6",
            "3392799ba9c24a6c8c6126d795c8aded",
            "a60388662a4a42fb84a9ab321203580f",
            "78cb4bb8c14e49e29a1df263874e6cd2",
            "db7f9050bc2f41d0b625a21b82cdda94",
            "19a32dc00a7f4ca4bcbaa1e6b8287fe2",
            "f9f3f2522750499d9c302d2016cdcba1",
            "f40588ef338e435bae2bb11dae234939",
            "4abdee99ace140d4b40e040dd4c918e1",
            "eb8a68bbc4644587a6981619e3ecbd57",
            "a3e859c218664fc39f2a3c4dcf1e50c4",
            "cc47542a016f44379e5d8fa691ed636b",
            "6b1012d5599c49219a9a299f2a5e439b",
            "0d2c4ca5d2384a6aac469a7c9f1b9ad1",
            "8aac3f7c28334c759d01f83600bbdde0",
            "6600e11c7c9744a9acedeb3a8bef4a04",
            "a80d9c7541d64c03892cea849b75fbdf",
            "ecb94ba5561743789273b8ec292bbb2a",
            "fad57b53a69b4b8e9bc698eead0860da",
            "78d135dbf1e543a1b0a691c4024966f1",
            "abf381c520eb4e28869f9a3c2e38cf88",
            "efb41b25ef64434880e5c4010b41e062",
            "c40e4b1fd48e4a498bddebe3bc703375",
            "6331783f617f452a917f17bcb4158498",
            "1c0caa0b013647c89554eeff0dff8b8d",
            "a170896721b544969b9113046f156fc8",
            "a2b94f25635b4b6985885db0a7d8da6f",
            "78ee4bda44264a6891a26f49d8f516ee",
            "621083f275c64cc7803a0ac19ce91086",
            "2d0daf98d1fd468b8a347c7887f5f131"
          ]
        },
        "id": "rsfxeXS7HCnp",
        "outputId": "f9a6f6a2-4cd7-49ab-b387-1ba4143692b4"
      },
      "source": [
        "from sentence_transformers import SentenceTransformer\n",
        "\n",
        "model = SentenceTransformer('distilbert-base-nli-mean-tokens')"
      ],
      "execution_count": null,
      "outputs": [
        {
          "output_type": "display_data",
          "data": {
            "application/vnd.jupyter.widget-view+json": {
              "model_id": "e205ebc69c3349feb6e3110867869fb0",
              "version_minor": 0,
              "version_major": 2
            },
            "text/plain": [
              "Downloading:   0%|          | 0.00/690 [00:00<?, ?B/s]"
            ]
          },
          "metadata": {}
        },
        {
          "output_type": "display_data",
          "data": {
            "application/vnd.jupyter.widget-view+json": {
              "model_id": "bec8c93fabd74392b05baab4310be0ed",
              "version_minor": 0,
              "version_major": 2
            },
            "text/plain": [
              "Downloading:   0%|          | 0.00/3.99k [00:00<?, ?B/s]"
            ]
          },
          "metadata": {}
        },
        {
          "output_type": "display_data",
          "data": {
            "application/vnd.jupyter.widget-view+json": {
              "model_id": "d9a838eeb27849b9bd6bff1aaf974ffd",
              "version_minor": 0,
              "version_major": 2
            },
            "text/plain": [
              "Downloading:   0%|          | 0.00/550 [00:00<?, ?B/s]"
            ]
          },
          "metadata": {}
        },
        {
          "output_type": "display_data",
          "data": {
            "application/vnd.jupyter.widget-view+json": {
              "model_id": "a0fa88a1cc094c2f9c69025a0737ed76",
              "version_minor": 0,
              "version_major": 2
            },
            "text/plain": [
              "Downloading:   0%|          | 0.00/122 [00:00<?, ?B/s]"
            ]
          },
          "metadata": {}
        },
        {
          "output_type": "display_data",
          "data": {
            "application/vnd.jupyter.widget-view+json": {
              "model_id": "d7a9db75123644d0a33a39cf42e09b3d",
              "version_minor": 0,
              "version_major": 2
            },
            "text/plain": [
              "Downloading:   0%|          | 0.00/229 [00:00<?, ?B/s]"
            ]
          },
          "metadata": {}
        },
        {
          "output_type": "display_data",
          "data": {
            "application/vnd.jupyter.widget-view+json": {
              "model_id": "400f2cd8b7f44a1581ea53ae2033c8be",
              "version_minor": 0,
              "version_major": 2
            },
            "text/plain": [
              "Downloading:   0%|          | 0.00/265M [00:00<?, ?B/s]"
            ]
          },
          "metadata": {}
        },
        {
          "output_type": "display_data",
          "data": {
            "application/vnd.jupyter.widget-view+json": {
              "model_id": "7107b133730d411b871efad952891e40",
              "version_minor": 0,
              "version_major": 2
            },
            "text/plain": [
              "Downloading:   0%|          | 0.00/53.0 [00:00<?, ?B/s]"
            ]
          },
          "metadata": {}
        },
        {
          "output_type": "display_data",
          "data": {
            "application/vnd.jupyter.widget-view+json": {
              "model_id": "9e3ac071fd7a42b684845cdac580599f",
              "version_minor": 0,
              "version_major": 2
            },
            "text/plain": [
              "Downloading:   0%|          | 0.00/112 [00:00<?, ?B/s]"
            ]
          },
          "metadata": {}
        },
        {
          "output_type": "display_data",
          "data": {
            "application/vnd.jupyter.widget-view+json": {
              "model_id": "6226123cc05b4d85be7e57575a08861f",
              "version_minor": 0,
              "version_major": 2
            },
            "text/plain": [
              "Downloading:   0%|          | 0.00/466k [00:00<?, ?B/s]"
            ]
          },
          "metadata": {}
        },
        {
          "output_type": "display_data",
          "data": {
            "application/vnd.jupyter.widget-view+json": {
              "model_id": "be7aff0146414ba6a6cbf51f301291c1",
              "version_minor": 0,
              "version_major": 2
            },
            "text/plain": [
              "Downloading:   0%|          | 0.00/450 [00:00<?, ?B/s]"
            ]
          },
          "metadata": {}
        },
        {
          "output_type": "display_data",
          "data": {
            "application/vnd.jupyter.widget-view+json": {
              "model_id": "4abdee99ace140d4b40e040dd4c918e1",
              "version_minor": 0,
              "version_major": 2
            },
            "text/plain": [
              "Downloading:   0%|          | 0.00/232k [00:00<?, ?B/s]"
            ]
          },
          "metadata": {}
        },
        {
          "output_type": "display_data",
          "data": {
            "application/vnd.jupyter.widget-view+json": {
              "model_id": "78d135dbf1e543a1b0a691c4024966f1",
              "version_minor": 0,
              "version_major": 2
            },
            "text/plain": [
              "Downloading:   0%|          | 0.00/190 [00:00<?, ?B/s]"
            ]
          },
          "metadata": {}
        }
      ]
    },
    {
      "cell_type": "markdown",
      "metadata": {
        "id": "BmI3LrmAHhYP"
      },
      "source": [
        "## **BERT Embedding document and candidates**"
      ]
    },
    {
      "cell_type": "markdown",
      "metadata": {
        "id": "kaYvnQH0evXG"
      },
      "source": [
        "## Condidates using count vectorizer"
      ]
    },
    {
      "cell_type": "code",
      "metadata": {
        "id": "d7G1pv5PGo0T"
      },
      "source": [
        "from sklearn.feature_extraction.text import CountVectorizer\n",
        "\n",
        "n_gram_range = (1, 3)\n",
        "stop_words = \"english\"\n",
        "\n",
        "\n",
        "doc_condidates =[]\n",
        "for doc in dtf['finally_cleaned_text']:\n",
        "\n",
        "  # Extract candidate words/phrases\n",
        "  count = CountVectorizer(ngram_range=n_gram_range, stop_words=stop_words).fit([doc])\n",
        "  candidates = count.get_feature_names()\n",
        "  #doc_condidates.append(doc.split())\n",
        "  doc_condidates.append(candidates)"
      ],
      "execution_count": null,
      "outputs": []
    },
    {
      "cell_type": "code",
      "metadata": {
        "id": "XPt9jJ6rGrRR"
      },
      "source": [
        "doc_condidates[0]"
      ],
      "execution_count": null,
      "outputs": []
    },
    {
      "cell_type": "code",
      "metadata": {
        "id": "9PioBd9kLq-W"
      },
      "source": [
        "#doc_condidates.append(candidates)\n",
        "doc_embedding_list = []\n",
        "candidate_embeddings_list = []\n",
        "for i, doc in enumerate(dtf['finally_cleaned_text']):\n",
        "  print(\"doc ======================================================\")\n",
        "  doc_embedding = model.encode([doc])  # document embedding\n",
        "  candidate_embeddings = model.encode(doc_list_condidates[i][:100]) #embedding each condidate word //ranked_ch_td_kywords/doc_list_condidates\n",
        "\n",
        "  doc_embedding_list.append(doc_embedding)\n",
        "  candidate_embeddings_list.append(candidate_embeddings)"
      ],
      "execution_count": null,
      "outputs": []
    },
    {
      "cell_type": "markdown",
      "metadata": {
        "id": "rmy-c00W3ZKD"
      },
      "source": [
        "### Load or Save embedding "
      ]
    },
    {
      "cell_type": "code",
      "metadata": {
        "id": "IRDQKts7SoTg",
        "colab": {
          "base_uri": "https://localhost:8080/"
        },
        "outputId": "53205140-4c73-4821-8839-350e082591a9"
      },
      "source": [
        "\n",
        "'''\n",
        "sem2010_emb = []\n",
        "sem2010_emb.append(doc_embedding_list)\n",
        "sem2010_emb.append(candidate_embeddings_list)\n",
        "\n",
        "filename =\"/content/drive/MyDrive/PHD/Data/emb_bert/Chunk_these_50emb.txt\"\n",
        "saveList(sem2010_emb,filename)\n",
        "\n",
        "'''\n",
        "ff= loadList(\"/content/drive/MyDrive/PHD/Data/emb_bert/Chunk_wiki_emb.txt.npy\")\n",
        "doc_embedding_list = ff[0]\n",
        "candidate_embeddings_list = ff[1]\n",
        "\n",
        "print(\"length of embedded list of first doc = \", len(candidate_embeddings_list[0]))"
      ],
      "execution_count": null,
      "outputs": [
        {
          "output_type": "stream",
          "name": "stdout",
          "text": [
            "length of embedded list of first doc =  3764\n"
          ]
        }
      ]
    },
    {
      "cell_type": "markdown",
      "metadata": {
        "id": "DDUU6vRGzdiK"
      },
      "source": [
        "# FastText"
      ]
    },
    {
      "cell_type": "code",
      "metadata": {
        "id": "qoDqvM638JjW"
      },
      "source": [
        "##################################  Defining Our Methods Here    ##################################################\n",
        "# Save the pre_trained model embeddings.. \n",
        "def save_embeddings(model, file_path):\n",
        "  word_vectors = model.wv\n",
        "  word_vectors.save(file_path)\n",
        "###############################################3\n",
        "### install pre_trained_model\n",
        "import gensim.downloader\n",
        "def intall_pre_trained_model(file_path, model_name):\n",
        "  model = gensim.downloader.load(model_name)\n",
        "  save_embeddings(model , file_path)\n",
        "  return model\n",
        "  print('the models are intalled and saved in the \" ' + file_path + '\"')\n",
        "\n",
        "#######################################################33\n",
        "######################################\n",
        "### loading the embeddings\n",
        "def Load_pre_trained_model_embeddings(file_path):\n",
        "  wv = KeyedVectors.load(file_path, mmap='r')\n",
        "  return wv\n",
        "\n",
        "##############################################################################################\n",
        "from gensim.models import KeyedVectors\n",
        "from gensim.models import Word2Vec\n",
        "\n",
        "#pre_trained_model = intall_pre_trained_model('/content/drive/MyDrive/PHD/Models/fasttext-wiki-news-subwords-300' ,  'fasttext-wiki-news-subwords-300')"
      ],
      "execution_count": null,
      "outputs": []
    },
    {
      "cell_type": "code",
      "metadata": {
        "id": "zvIcAxvmuIoh"
      },
      "source": [
        "################################\n",
        "model_path=\"/content/drive/MyDrive/PHD/Models/fasttext-wiki-news-subwords-300\"\n",
        "modelfast = Load_pre_trained_model_embeddings(model_path)"
      ],
      "execution_count": null,
      "outputs": []
    },
    {
      "cell_type": "code",
      "metadata": {
        "id": "lOd8LiV45oKo"
      },
      "source": [
        "list_of_candidtaes = loadList(\"/content/drive/MyDrive/PHD/Data/candidates/wiki_mean_chuncked_cand.txt.npy\")\n",
        "list_of_candidtaes[0]"
      ],
      "execution_count": null,
      "outputs": []
    },
    {
      "cell_type": "code",
      "metadata": {
        "id": "VQDwB0Upy4jK"
      },
      "source": [
        "doc_embeddings = []\n",
        "err = []\n",
        "for doc_cands in list_of_candidtaes:\n",
        "  \n",
        "  emb_dict = {}\n",
        "  for tokens in doc_cands:\n",
        "    token_len = len(tokens.split())\n",
        "    if token_len == 1:\n",
        "      try:\n",
        "        emb = modelfast[tokens]\n",
        "        emb_dict.update({tokens: emb})\n",
        "      except:\n",
        "        err.append(tokens)\n",
        "    elif token_len >1:\n",
        "      token_emb = []\n",
        "      for w in tokens.split():\n",
        "        try:\n",
        "          temp = modelfast[w]\n",
        "          token_emb.append(temp)\n",
        "        except:\n",
        "          continue;\n",
        "      if len(token_emb) == token_len:\n",
        "        emb = sum(token_emb) / token_len\n",
        "        emb_dict.update({tokens:emb})\n",
        "      else:\n",
        "        err.append(tokens)\n",
        "    else:\n",
        "      continue;\n",
        "  doc_embeddings.append(emb_dict)"
      ],
      "execution_count": null,
      "outputs": []
    },
    {
      "cell_type": "markdown",
      "metadata": {
        "id": "MwC0-OtW8Hq_"
      },
      "source": [
        "# END"
      ]
    },
    {
      "cell_type": "markdown",
      "metadata": {
        "id": "4xo6Bl0-SHMt"
      },
      "source": [
        "### New tfidf vectorizer"
      ]
    },
    {
      "cell_type": "code",
      "metadata": {
        "id": "vdm0MnZhSLOM"
      },
      "source": [
        "from sklearn.feature_extraction.text import TfidfVectorizer\n",
        "class NewTfidfVectorizer(TfidfVectorizer):\n",
        "    def _word_ngrams(self, tokens, stop_words=None):\n",
        "\n",
        "        # First get tokens without stop words\n",
        "        tokens = super(TfidfVectorizer, self)._word_ngrams(tokens, None)\n",
        "        if stop_words is not None:\n",
        "            new_tokens=[]\n",
        "            for token in tokens:\n",
        "                split_words = token.split(' ')\n",
        "\n",
        "                # Only check the first and last word for stop words\n",
        "                if split_words[0] not in stop_words and split_words[-1] not in stop_words:\n",
        "                    new_tokens.append(token)\n",
        "            return new_tokens\n",
        "\n",
        "        return tokens"
      ],
      "execution_count": null,
      "outputs": []
    },
    {
      "cell_type": "code",
      "metadata": {
        "id": "yc0SmpvGP7ZB"
      },
      "source": [
        "# get the max length of orginal keywords\n",
        "ngram_range = get_longest_ky(orginal_kw)\n",
        "print(\"longest ngram = \",ngram_range )\n",
        "if ngram_range > 2:\n",
        "  ngram_range = 3\n",
        "\n",
        "print(\"set ngram to  \",ngram_range )"
      ],
      "execution_count": null,
      "outputs": []
    },
    {
      "cell_type": "markdown",
      "metadata": {
        "id": "EEUzEkDrM5ud"
      },
      "source": [
        "### الانحراف المعياري"
      ]
    },
    {
      "cell_type": "code",
      "metadata": {
        "id": "5Uuqg5V8M5V3"
      },
      "source": [
        "import statistics\n",
        "from statistics import mean\n",
        "\n",
        "new_fully_indexed=[]\n",
        "for doc_dic in fully_indexed:\n",
        "  list_of_terms = doc_dic.values()\n",
        "  m = mean(list_of_terms)\n",
        "  st_dev = statistics.pstdev(list_of_terms)\n",
        "  temp_list =[]\n",
        "  for k, tf in doc_dic.items():\n",
        "    doc_dic.update({k:tf/(m+st_dev)})"
      ],
      "execution_count": null,
      "outputs": []
    },
    {
      "cell_type": "code",
      "metadata": {
        "id": "JOZfTuZylbxQ"
      },
      "source": [
        "\n",
        "for doc_dic in fully_indexed1:\n",
        "  m,mv, ma, mav = keywithmaxval(doc_dic)\n",
        "  \n",
        "  for k,v in doc_dic.items():\n",
        "    vv = v/mav\n",
        "    doc_dic.update({k:vv})\n",
        "\n",
        "for doc_dic in fully_indexed2:\n",
        "  m,mv, ma, mav = keywithmaxval(doc_dic)\n",
        "  \n",
        "  for k,v in doc_dic.items():\n",
        "    vv = v/mav\n",
        "    doc_dic.update({k:vv})\n",
        "\n",
        "for doc_dic in fully_indexed3:\n",
        "  m,mv, ma, mav = keywithmaxval(doc_dic)\n",
        "  \n",
        "  for k,v in doc_dic.items():\n",
        "    vv = v/mav\n",
        "    doc_dic.update({k:vv})\n"
      ],
      "execution_count": null,
      "outputs": []
    },
    {
      "cell_type": "code",
      "metadata": {
        "id": "oGYQ_g34iUq0"
      },
      "source": [
        "from sklearn.metrics.pairwise import cosine_similarity\n",
        "\n",
        "doc_keywords =[]\n",
        "doc_token_distances =[]\n",
        "docs_from_fasttext = []\n",
        "for i, doc_dict in enumerate(doc_embeddings):\n",
        "  list_of_emb =  list(doc_dict.values())\n",
        "  top_n = len(list_of_emb)\n",
        "  centriod_doc = np.array(sum(list_of_emb)/ len(list_of_emb)) # to aaray 1*300\n",
        "  array_of_emb = np.array(list_of_emb)  # array canidates * 300\n",
        "  distances = cosine_similarity(centriod_doc.reshape(1,-1), array_of_emb)     # similarity d with each of its words\n",
        "  #print(cosine_similarity(centriod_doc.reshape(1,-1), array_of_emb))\n",
        "  print(\"sim \",distances)\n",
        "  \n",
        "  doc_condidates_token = list(doc_dict.keys())  \n",
        "  dictionary = dict(zip(doc_condidates_token, distances))\n",
        "  print(\"tokens\",doc_condidates_token)\n",
        "  keywords = []\n",
        "  distancess = []\n",
        "  for ind in distances.argsort()[0][-top_n:]:\n",
        "    keywords.append(doc_condidates_token[ind])\n",
        "    distancess.append(1-distances[0][ind])\n",
        "  \n",
        "  doc_keywords.append(keywords)\n",
        "  doc_token_distances.append(distancess)\n",
        "  dictionary = dict(zip(keywords, distancess))\n",
        "  docs_from_fasttext.append(dictionary)\n",
        "  del keywords\n",
        "  del distancess"
      ],
      "execution_count": null,
      "outputs": []
    },
    {
      "cell_type": "markdown",
      "metadata": {
        "id": "fdy6N5QSZoCg"
      },
      "source": [
        "###Select 50 1gram 50 2gram 503 grma"
      ]
    },
    {
      "cell_type": "code",
      "metadata": {
        "id": "BDJhEkXzZiQh"
      },
      "source": [
        "#Return first n items of the iterable as a list\n",
        "from itertools import islice\n",
        "\n",
        "def take(n, iterable):\n",
        "    return list(islice(iterable, n))\n",
        "\n",
        "#اختيار اول 50 كلمة من كل ن غرام ولكن ممكن عدم استخدامها\n",
        "#ranked_chunked_tf_candidates==>candidtaes\n",
        "#doc_list_condidates==> doc_list_condidates\n",
        "N=50\n",
        "candidtaes_TopN = []\n",
        "doc_list_condidates_topN = []\n",
        "for doc_candiates in ranked_chunked_tf_candidates:\n",
        "  one_gram = {}\n",
        "  two_gram = {}\n",
        "  tri_gram = {}\n",
        "  doc_cand =[]\n",
        "  doc_cand_names = []\n",
        "  for cand, tf in doc_candiates.items():\n",
        "    legnth = len(cand.split())\n",
        "    if legnth ==1:\n",
        "      one_gram.update({cand:tf})\n",
        "    elif legnth ==2:\n",
        "      two_gram.update({cand:tf})\n",
        "    elif legnth ==3:\n",
        "      tri_gram.update({cand:tf})\n",
        "    else:\n",
        "      continue;\n",
        "  doc_cand.append(take(N, one_gram.items()))\n",
        "  doc_cand_names.append(list(one_gram.keys())[0:N])\n",
        "  doc_cand.append(take(N, two_gram.items()))\n",
        "  doc_cand_names.append(list(two_gram.keys())[0:N])\n",
        "  doc_cand.append(take(N, tri_gram.items()))\n",
        "  doc_cand_names.append(list(tri_gram.keys())[0:N])\n",
        "  list_of_cands = Convert_list_of_list_to_list(doc_cand)\n",
        "  doc_cand_names = Convert_list_of_list_to_list(doc_cand_names)\n",
        "  candidtaes_TopN.append(list_of_cands)\n",
        "  doc_list_condidates_topN.append(doc_cand_names)"
      ],
      "execution_count": null,
      "outputs": []
    },
    {
      "cell_type": "code",
      "metadata": {
        "id": "q1VzFme9YJSG"
      },
      "source": [
        "from nltk import PorterStemmer\n",
        "PorterStemmer().stem(lemmatized_w)"
      ],
      "execution_count": null,
      "outputs": []
    },
    {
      "cell_type": "code",
      "metadata": {
        "colab": {
          "base_uri": "https://localhost:8080/"
        },
        "id": "SiG89XylQIgk",
        "outputId": "71071f0d-078e-4df7-9ed7-9aa0a7bb3d56"
      },
      "source": [
        "cosine_similarity([modelfast['play']],[modelfast['do']])"
      ],
      "execution_count": null,
      "outputs": [
        {
          "output_type": "execute_result",
          "data": {
            "text/plain": [
              "array([[0.51261365]], dtype=float32)"
            ]
          },
          "metadata": {},
          "execution_count": 60
        }
      ]
    },
    {
      "cell_type": "code",
      "metadata": {
        "colab": {
          "base_uri": "https://localhost:8080/"
        },
        "id": "t-0B1mWGSRQJ",
        "outputId": "9cb0ffb3-ec12-49fc-acdb-f18499009871"
      },
      "source": [
        "cosine_similarity([model.encode(\"program\")],[model.encode(\"program\")])"
      ],
      "execution_count": null,
      "outputs": [
        {
          "output_type": "execute_result",
          "data": {
            "text/plain": [
              "array([[1.]], dtype=float32)"
            ]
          },
          "metadata": {},
          "execution_count": 106
        }
      ]
    },
    {
      "cell_type": "code",
      "metadata": {
        "id": "W0z_CQnJImr5"
      },
      "source": [
        "from gensim.models import FastText\n",
        "documents_as_list = get_tokened_docs(dtf)"
      ],
      "execution_count": null,
      "outputs": []
    },
    {
      "cell_type": "code",
      "metadata": {
        "id": "6yErVeqEfgrU"
      },
      "source": [
        "documents_as_list[0].split()"
      ],
      "execution_count": null,
      "outputs": []
    },
    {
      "cell_type": "code",
      "metadata": {
        "id": "rXZdkC_iYU6a"
      },
      "source": [
        "model_fast = FastText(documents_as_list, size=300, window=5, min_count=1, workers=4,sg=1, word_ngrams=1)"
      ],
      "execution_count": null,
      "outputs": []
    },
    {
      "cell_type": "code",
      "metadata": {
        "colab": {
          "base_uri": "https://localhost:8080/"
        },
        "id": "L_SQW4pRfaXV",
        "outputId": "79b97609-7d34-41dc-aac0-7e1d6fecf1cc"
      },
      "source": [
        "model_fast.word_ngrams"
      ],
      "execution_count": null,
      "outputs": [
        {
          "output_type": "execute_result",
          "data": {
            "text/plain": [
              "3"
            ]
          },
          "metadata": {},
          "execution_count": 570
        }
      ]
    },
    {
      "cell_type": "code",
      "metadata": {
        "id": "w_w9ft7Ks-Wu"
      },
      "source": [
        "s3 = cosine_similarity([model_fast['visualization']],[model_fast['visualization']])\n",
        "s3"
      ],
      "execution_count": null,
      "outputs": []
    },
    {
      "cell_type": "code",
      "metadata": {
        "id": "A7tXAvkKvz2N"
      },
      "source": [
        "def chack_inter_similarity(term, model_fast):\n",
        "  s= 0\n",
        "  words = term.split()\n",
        "  N_tokens = len(words) # how many words in a term\n",
        "  \n",
        "  try:\n",
        "\n",
        "    if N_tokens == 2:\n",
        "      s = cosine_similarity([modelfast[words[0]]],[modelfast[words[1]]])\n",
        "    elif N_tokens == 3:\n",
        "      s1 = cosine_similarity([modelfast[words[0]]],[modelfast[words[1]]])\n",
        "      s2 = cosine_similarity([modelfast[words[1]]],[modelfast[words[2]]])\n",
        "      s3 = cosine_similarity([modelfast[words[0]]],[modelfast[words[2]]])\n",
        "      s= (s1+s2+s3) / 3\n",
        "  except:\n",
        "    s=-1\n",
        "  return s\n",
        "\n",
        "  \n",
        "def chack_inter_similarity_bert(term, model_bert):\n",
        "  s= 0\n",
        "  words = term.split()\n",
        "  N_tokens = len(words) # how many words in a term\n",
        "  \n",
        "  try:\n",
        "\n",
        "    if N_tokens == 2:\n",
        "      s = cosine_similarity([model_bert.encode(words[0])],[model_bert.encode(words[1])])\n",
        "    elif N_tokens == 3:\n",
        "      s1 = cosine_similarity([model_bert.encode(words[0])],[model_bert.encode(words[1])])\n",
        "      s2 = cosine_similarity([model_bert.encode(words[1])],[model_bert.encode(words[2])])\n",
        "      s= (s1+s2) / 2\n",
        "  except:\n",
        "    s=-1\n",
        "  return s\n",
        "#################################\n",
        "import math\n",
        "single_words_dic= {}\n",
        "multi_words_dic= {}\n",
        "double_words_dic = {}\n",
        "alll = {}\n",
        "B=2\n",
        "\n",
        "doc_id =0\n",
        "print(\"Ground truth keywords \",np.array(all_keys[doc_id]))\n",
        "\n",
        "for i, w in enumerate(doc_keywords[doc_id]):\n",
        "  #harmnic weight of tfidf and bert similarity   2B*a*c / B*a + c\n",
        "  #print(w, All_doc_condidates_sorted_by_tfidf[doc_id][w], doc_token_distances[doc_id][i])\n",
        "  mul= (2*B*All_doc_condidates_sorted_by_tfidf[doc_id][w]*doc_token_distances[doc_id][i])/(B*All_doc_condidates_sorted_by_tfidf[doc_id][w]+doc_token_distances[doc_id][i])\n",
        "  #mul =doc_token_distances[doc_id][i]\n",
        "  token_length = len(w.split())\n",
        "  alll.update({w:mul})\n",
        "  #print(token_length)\n",
        "  if token_length == 3:\n",
        "    inter_similarity = chack_inter_similarity(w, modelfast)\n",
        "    #print(w, inter_similarity)\n",
        "    if inter_similarity> 0.4:\n",
        "      multi_words_dic.update({w:mul})\n",
        "  elif token_length ==2:\n",
        "\n",
        "    inter_similarity = chack_inter_similarity(w, modelfast)\n",
        "    #print(w, inter_similarity)\n",
        "    if inter_similarity> 0.4:\n",
        "      #print(\"mul =\",mul, inter_similarity,\" m*e =\", math.exp(inter_similarity), mul*math.exp(-1/inter_similarity))\n",
        "      double_words_dic.update({w:mul})\n",
        "  elif token_length ==1:\n",
        "    single_words_dic.update({w:mul})\n",
        "\n",
        "#print(doc_dic)"
      ],
      "execution_count": null,
      "outputs": []
    },
    {
      "cell_type": "code",
      "metadata": {
        "id": "SlOofE8yyaU7"
      },
      "source": [
        "single_words_dic_sorted = sorted(single_words_dic.items(), key=lambda x: x[1], reverse=True)\n",
        "double_words_dic_sorted = sorted(double_words_dic.items(), key=lambda x: x[1], reverse=True)\n",
        "multi_words_dic_sorted = sorted(multi_words_dic.items(), key=lambda x: x[1], reverse=True)\n",
        "\n",
        "M= 5\n",
        "\n",
        "print(np.array(single_words_dic_sorted[0:M]))\n",
        "print(np.array(double_words_dic_sorted[0:M]))\n",
        "print(np.array(multi_words_dic_sorted[0:M]))"
      ],
      "execution_count": null,
      "outputs": []
    },
    {
      "cell_type": "markdown",
      "metadata": {
        "id": "2wgzO6WCsztW"
      },
      "source": [
        "## POS TAG"
      ]
    },
    {
      "cell_type": "code",
      "metadata": {
        "id": "59SRa-8rfuH-"
      },
      "source": [
        "import nltk\n",
        "sentence = \"\"\"At eight o'clock on Thursday morning\n",
        "... Arthur didn't feel very good.\"\"\"\n",
        "tokens = nltk.word_tokenize(sentence)\n",
        "tokens\n",
        "\n",
        "tagged = nltk.pos_tag(tokens)\n",
        "tagged[0:6]\n",
        "\n",
        "from nltk.data import load\n",
        "\n",
        "tagdict = load('help/tagsets/upenn_tagset.pickle')\n",
        "\n",
        "t = tagdict.keys()\n",
        "\n",
        "#print(t)\n",
        "b= \"TO\"\n",
        "\n",
        "if b in tagdict:\n",
        "  print(b)"
      ],
      "execution_count": null,
      "outputs": []
    }
  ]
}