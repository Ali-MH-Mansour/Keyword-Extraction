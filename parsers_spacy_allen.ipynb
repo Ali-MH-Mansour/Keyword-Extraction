{
  "nbformat": 4,
  "nbformat_minor": 0,
  "metadata": {
    "colab": {
      "provenance": [],
      "include_colab_link": true
    },
    "kernelspec": {
      "name": "python3",
      "display_name": "Python 3"
    },
    "language_info": {
      "name": "python"
    },
    "widgets": {
      "application/vnd.jupyter.widget-state+json": {
        "3d77e6ee3fd3406ab7d9b3e495b72738": {
          "model_module": "@jupyter-widgets/controls",
          "model_name": "HBoxModel",
          "model_module_version": "1.5.0",
          "state": {
            "_dom_classes": [],
            "_model_module": "@jupyter-widgets/controls",
            "_model_module_version": "1.5.0",
            "_model_name": "HBoxModel",
            "_view_count": null,
            "_view_module": "@jupyter-widgets/controls",
            "_view_module_version": "1.5.0",
            "_view_name": "HBoxView",
            "box_style": "",
            "children": [
              "IPY_MODEL_d224b72ab338463c97f32c63a5fa3816",
              "IPY_MODEL_4032c46755594167a8adc768c3183d30",
              "IPY_MODEL_00d000df14b94fa7b20190b483409551"
            ],
            "layout": "IPY_MODEL_c740b1215d5945c3a874f24da5924cf4"
          }
        },
        "d224b72ab338463c97f32c63a5fa3816": {
          "model_module": "@jupyter-widgets/controls",
          "model_name": "HTMLModel",
          "model_module_version": "1.5.0",
          "state": {
            "_dom_classes": [],
            "_model_module": "@jupyter-widgets/controls",
            "_model_module_version": "1.5.0",
            "_model_name": "HTMLModel",
            "_view_count": null,
            "_view_module": "@jupyter-widgets/controls",
            "_view_module_version": "1.5.0",
            "_view_name": "HTMLView",
            "description": "",
            "description_tooltip": null,
            "layout": "IPY_MODEL_939da1162cee4c72a8291c20d7bfbb14",
            "placeholder": "​",
            "style": "IPY_MODEL_65e5718093da454b991c898ead5096a3",
            "value": "Downloading https://raw.githubusercontent.com/stanfordnlp/stanza-resources/main/resources_1.5.0.json: "
          }
        },
        "4032c46755594167a8adc768c3183d30": {
          "model_module": "@jupyter-widgets/controls",
          "model_name": "FloatProgressModel",
          "model_module_version": "1.5.0",
          "state": {
            "_dom_classes": [],
            "_model_module": "@jupyter-widgets/controls",
            "_model_module_version": "1.5.0",
            "_model_name": "FloatProgressModel",
            "_view_count": null,
            "_view_module": "@jupyter-widgets/controls",
            "_view_module_version": "1.5.0",
            "_view_name": "ProgressView",
            "bar_style": "success",
            "description": "",
            "description_tooltip": null,
            "layout": "IPY_MODEL_6288dd66803d4c06a8e85ba19a2ae514",
            "max": 30101,
            "min": 0,
            "orientation": "horizontal",
            "style": "IPY_MODEL_7a17a0da8b614261b3e6176418561dec",
            "value": 30101
          }
        },
        "00d000df14b94fa7b20190b483409551": {
          "model_module": "@jupyter-widgets/controls",
          "model_name": "HTMLModel",
          "model_module_version": "1.5.0",
          "state": {
            "_dom_classes": [],
            "_model_module": "@jupyter-widgets/controls",
            "_model_module_version": "1.5.0",
            "_model_name": "HTMLModel",
            "_view_count": null,
            "_view_module": "@jupyter-widgets/controls",
            "_view_module_version": "1.5.0",
            "_view_name": "HTMLView",
            "description": "",
            "description_tooltip": null,
            "layout": "IPY_MODEL_8b6ba728c5ef4deaa8b8a4bc4a57f5de",
            "placeholder": "​",
            "style": "IPY_MODEL_933e5e2304fe4d63b8dcddf134f5cb01",
            "value": " 216k/? [00:00&lt;00:00, 2.77MB/s]"
          }
        },
        "c740b1215d5945c3a874f24da5924cf4": {
          "model_module": "@jupyter-widgets/base",
          "model_name": "LayoutModel",
          "model_module_version": "1.2.0",
          "state": {
            "_model_module": "@jupyter-widgets/base",
            "_model_module_version": "1.2.0",
            "_model_name": "LayoutModel",
            "_view_count": null,
            "_view_module": "@jupyter-widgets/base",
            "_view_module_version": "1.2.0",
            "_view_name": "LayoutView",
            "align_content": null,
            "align_items": null,
            "align_self": null,
            "border": null,
            "bottom": null,
            "display": null,
            "flex": null,
            "flex_flow": null,
            "grid_area": null,
            "grid_auto_columns": null,
            "grid_auto_flow": null,
            "grid_auto_rows": null,
            "grid_column": null,
            "grid_gap": null,
            "grid_row": null,
            "grid_template_areas": null,
            "grid_template_columns": null,
            "grid_template_rows": null,
            "height": null,
            "justify_content": null,
            "justify_items": null,
            "left": null,
            "margin": null,
            "max_height": null,
            "max_width": null,
            "min_height": null,
            "min_width": null,
            "object_fit": null,
            "object_position": null,
            "order": null,
            "overflow": null,
            "overflow_x": null,
            "overflow_y": null,
            "padding": null,
            "right": null,
            "top": null,
            "visibility": null,
            "width": null
          }
        },
        "939da1162cee4c72a8291c20d7bfbb14": {
          "model_module": "@jupyter-widgets/base",
          "model_name": "LayoutModel",
          "model_module_version": "1.2.0",
          "state": {
            "_model_module": "@jupyter-widgets/base",
            "_model_module_version": "1.2.0",
            "_model_name": "LayoutModel",
            "_view_count": null,
            "_view_module": "@jupyter-widgets/base",
            "_view_module_version": "1.2.0",
            "_view_name": "LayoutView",
            "align_content": null,
            "align_items": null,
            "align_self": null,
            "border": null,
            "bottom": null,
            "display": null,
            "flex": null,
            "flex_flow": null,
            "grid_area": null,
            "grid_auto_columns": null,
            "grid_auto_flow": null,
            "grid_auto_rows": null,
            "grid_column": null,
            "grid_gap": null,
            "grid_row": null,
            "grid_template_areas": null,
            "grid_template_columns": null,
            "grid_template_rows": null,
            "height": null,
            "justify_content": null,
            "justify_items": null,
            "left": null,
            "margin": null,
            "max_height": null,
            "max_width": null,
            "min_height": null,
            "min_width": null,
            "object_fit": null,
            "object_position": null,
            "order": null,
            "overflow": null,
            "overflow_x": null,
            "overflow_y": null,
            "padding": null,
            "right": null,
            "top": null,
            "visibility": null,
            "width": null
          }
        },
        "65e5718093da454b991c898ead5096a3": {
          "model_module": "@jupyter-widgets/controls",
          "model_name": "DescriptionStyleModel",
          "model_module_version": "1.5.0",
          "state": {
            "_model_module": "@jupyter-widgets/controls",
            "_model_module_version": "1.5.0",
            "_model_name": "DescriptionStyleModel",
            "_view_count": null,
            "_view_module": "@jupyter-widgets/base",
            "_view_module_version": "1.2.0",
            "_view_name": "StyleView",
            "description_width": ""
          }
        },
        "6288dd66803d4c06a8e85ba19a2ae514": {
          "model_module": "@jupyter-widgets/base",
          "model_name": "LayoutModel",
          "model_module_version": "1.2.0",
          "state": {
            "_model_module": "@jupyter-widgets/base",
            "_model_module_version": "1.2.0",
            "_model_name": "LayoutModel",
            "_view_count": null,
            "_view_module": "@jupyter-widgets/base",
            "_view_module_version": "1.2.0",
            "_view_name": "LayoutView",
            "align_content": null,
            "align_items": null,
            "align_self": null,
            "border": null,
            "bottom": null,
            "display": null,
            "flex": null,
            "flex_flow": null,
            "grid_area": null,
            "grid_auto_columns": null,
            "grid_auto_flow": null,
            "grid_auto_rows": null,
            "grid_column": null,
            "grid_gap": null,
            "grid_row": null,
            "grid_template_areas": null,
            "grid_template_columns": null,
            "grid_template_rows": null,
            "height": null,
            "justify_content": null,
            "justify_items": null,
            "left": null,
            "margin": null,
            "max_height": null,
            "max_width": null,
            "min_height": null,
            "min_width": null,
            "object_fit": null,
            "object_position": null,
            "order": null,
            "overflow": null,
            "overflow_x": null,
            "overflow_y": null,
            "padding": null,
            "right": null,
            "top": null,
            "visibility": null,
            "width": null
          }
        },
        "7a17a0da8b614261b3e6176418561dec": {
          "model_module": "@jupyter-widgets/controls",
          "model_name": "ProgressStyleModel",
          "model_module_version": "1.5.0",
          "state": {
            "_model_module": "@jupyter-widgets/controls",
            "_model_module_version": "1.5.0",
            "_model_name": "ProgressStyleModel",
            "_view_count": null,
            "_view_module": "@jupyter-widgets/base",
            "_view_module_version": "1.2.0",
            "_view_name": "StyleView",
            "bar_color": null,
            "description_width": ""
          }
        },
        "8b6ba728c5ef4deaa8b8a4bc4a57f5de": {
          "model_module": "@jupyter-widgets/base",
          "model_name": "LayoutModel",
          "model_module_version": "1.2.0",
          "state": {
            "_model_module": "@jupyter-widgets/base",
            "_model_module_version": "1.2.0",
            "_model_name": "LayoutModel",
            "_view_count": null,
            "_view_module": "@jupyter-widgets/base",
            "_view_module_version": "1.2.0",
            "_view_name": "LayoutView",
            "align_content": null,
            "align_items": null,
            "align_self": null,
            "border": null,
            "bottom": null,
            "display": null,
            "flex": null,
            "flex_flow": null,
            "grid_area": null,
            "grid_auto_columns": null,
            "grid_auto_flow": null,
            "grid_auto_rows": null,
            "grid_column": null,
            "grid_gap": null,
            "grid_row": null,
            "grid_template_areas": null,
            "grid_template_columns": null,
            "grid_template_rows": null,
            "height": null,
            "justify_content": null,
            "justify_items": null,
            "left": null,
            "margin": null,
            "max_height": null,
            "max_width": null,
            "min_height": null,
            "min_width": null,
            "object_fit": null,
            "object_position": null,
            "order": null,
            "overflow": null,
            "overflow_x": null,
            "overflow_y": null,
            "padding": null,
            "right": null,
            "top": null,
            "visibility": null,
            "width": null
          }
        },
        "933e5e2304fe4d63b8dcddf134f5cb01": {
          "model_module": "@jupyter-widgets/controls",
          "model_name": "DescriptionStyleModel",
          "model_module_version": "1.5.0",
          "state": {
            "_model_module": "@jupyter-widgets/controls",
            "_model_module_version": "1.5.0",
            "_model_name": "DescriptionStyleModel",
            "_view_count": null,
            "_view_module": "@jupyter-widgets/base",
            "_view_module_version": "1.2.0",
            "_view_name": "StyleView",
            "description_width": ""
          }
        },
        "ecb80f09721b43c6964e27a8792a944b": {
          "model_module": "@jupyter-widgets/controls",
          "model_name": "HBoxModel",
          "model_module_version": "1.5.0",
          "state": {
            "_dom_classes": [],
            "_model_module": "@jupyter-widgets/controls",
            "_model_module_version": "1.5.0",
            "_model_name": "HBoxModel",
            "_view_count": null,
            "_view_module": "@jupyter-widgets/controls",
            "_view_module_version": "1.5.0",
            "_view_name": "HBoxView",
            "box_style": "",
            "children": [
              "IPY_MODEL_71116b660ad84c40854cd9eefa076b0c",
              "IPY_MODEL_6a253e9584224008a8a3e0abc9f35faf",
              "IPY_MODEL_3f734fef603d4791b7251b3c0d059239"
            ],
            "layout": "IPY_MODEL_111491b52bbd4a71a96f9361d5cc0f3e"
          }
        },
        "71116b660ad84c40854cd9eefa076b0c": {
          "model_module": "@jupyter-widgets/controls",
          "model_name": "HTMLModel",
          "model_module_version": "1.5.0",
          "state": {
            "_dom_classes": [],
            "_model_module": "@jupyter-widgets/controls",
            "_model_module_version": "1.5.0",
            "_model_name": "HTMLModel",
            "_view_count": null,
            "_view_module": "@jupyter-widgets/controls",
            "_view_module_version": "1.5.0",
            "_view_name": "HTMLView",
            "description": "",
            "description_tooltip": null,
            "layout": "IPY_MODEL_868a35c0732846d9b36a598ce26d1134",
            "placeholder": "​",
            "style": "IPY_MODEL_fc60335f4ea5430cbf6ff459b144122c",
            "value": "Downloading https://huggingface.co/stanfordnlp/stanza-en/resolve/v1.5.0/models/default.zip: 100%"
          }
        },
        "6a253e9584224008a8a3e0abc9f35faf": {
          "model_module": "@jupyter-widgets/controls",
          "model_name": "FloatProgressModel",
          "model_module_version": "1.5.0",
          "state": {
            "_dom_classes": [],
            "_model_module": "@jupyter-widgets/controls",
            "_model_module_version": "1.5.0",
            "_model_name": "FloatProgressModel",
            "_view_count": null,
            "_view_module": "@jupyter-widgets/controls",
            "_view_module_version": "1.5.0",
            "_view_name": "ProgressView",
            "bar_style": "success",
            "description": "",
            "description_tooltip": null,
            "layout": "IPY_MODEL_6dec670d34d946bd930a0f16b4f95f60",
            "max": 594107770,
            "min": 0,
            "orientation": "horizontal",
            "style": "IPY_MODEL_d232041a8a054876ba78c4260939aaee",
            "value": 594107770
          }
        },
        "3f734fef603d4791b7251b3c0d059239": {
          "model_module": "@jupyter-widgets/controls",
          "model_name": "HTMLModel",
          "model_module_version": "1.5.0",
          "state": {
            "_dom_classes": [],
            "_model_module": "@jupyter-widgets/controls",
            "_model_module_version": "1.5.0",
            "_model_name": "HTMLModel",
            "_view_count": null,
            "_view_module": "@jupyter-widgets/controls",
            "_view_module_version": "1.5.0",
            "_view_name": "HTMLView",
            "description": "",
            "description_tooltip": null,
            "layout": "IPY_MODEL_b1d22b357bf840cf9e353532aa5260ed",
            "placeholder": "​",
            "style": "IPY_MODEL_be15921171744eeb87af4bdec2f4abb4",
            "value": " 594M/594M [00:11&lt;00:00, 67.5MB/s]"
          }
        },
        "111491b52bbd4a71a96f9361d5cc0f3e": {
          "model_module": "@jupyter-widgets/base",
          "model_name": "LayoutModel",
          "model_module_version": "1.2.0",
          "state": {
            "_model_module": "@jupyter-widgets/base",
            "_model_module_version": "1.2.0",
            "_model_name": "LayoutModel",
            "_view_count": null,
            "_view_module": "@jupyter-widgets/base",
            "_view_module_version": "1.2.0",
            "_view_name": "LayoutView",
            "align_content": null,
            "align_items": null,
            "align_self": null,
            "border": null,
            "bottom": null,
            "display": null,
            "flex": null,
            "flex_flow": null,
            "grid_area": null,
            "grid_auto_columns": null,
            "grid_auto_flow": null,
            "grid_auto_rows": null,
            "grid_column": null,
            "grid_gap": null,
            "grid_row": null,
            "grid_template_areas": null,
            "grid_template_columns": null,
            "grid_template_rows": null,
            "height": null,
            "justify_content": null,
            "justify_items": null,
            "left": null,
            "margin": null,
            "max_height": null,
            "max_width": null,
            "min_height": null,
            "min_width": null,
            "object_fit": null,
            "object_position": null,
            "order": null,
            "overflow": null,
            "overflow_x": null,
            "overflow_y": null,
            "padding": null,
            "right": null,
            "top": null,
            "visibility": null,
            "width": null
          }
        },
        "868a35c0732846d9b36a598ce26d1134": {
          "model_module": "@jupyter-widgets/base",
          "model_name": "LayoutModel",
          "model_module_version": "1.2.0",
          "state": {
            "_model_module": "@jupyter-widgets/base",
            "_model_module_version": "1.2.0",
            "_model_name": "LayoutModel",
            "_view_count": null,
            "_view_module": "@jupyter-widgets/base",
            "_view_module_version": "1.2.0",
            "_view_name": "LayoutView",
            "align_content": null,
            "align_items": null,
            "align_self": null,
            "border": null,
            "bottom": null,
            "display": null,
            "flex": null,
            "flex_flow": null,
            "grid_area": null,
            "grid_auto_columns": null,
            "grid_auto_flow": null,
            "grid_auto_rows": null,
            "grid_column": null,
            "grid_gap": null,
            "grid_row": null,
            "grid_template_areas": null,
            "grid_template_columns": null,
            "grid_template_rows": null,
            "height": null,
            "justify_content": null,
            "justify_items": null,
            "left": null,
            "margin": null,
            "max_height": null,
            "max_width": null,
            "min_height": null,
            "min_width": null,
            "object_fit": null,
            "object_position": null,
            "order": null,
            "overflow": null,
            "overflow_x": null,
            "overflow_y": null,
            "padding": null,
            "right": null,
            "top": null,
            "visibility": null,
            "width": null
          }
        },
        "fc60335f4ea5430cbf6ff459b144122c": {
          "model_module": "@jupyter-widgets/controls",
          "model_name": "DescriptionStyleModel",
          "model_module_version": "1.5.0",
          "state": {
            "_model_module": "@jupyter-widgets/controls",
            "_model_module_version": "1.5.0",
            "_model_name": "DescriptionStyleModel",
            "_view_count": null,
            "_view_module": "@jupyter-widgets/base",
            "_view_module_version": "1.2.0",
            "_view_name": "StyleView",
            "description_width": ""
          }
        },
        "6dec670d34d946bd930a0f16b4f95f60": {
          "model_module": "@jupyter-widgets/base",
          "model_name": "LayoutModel",
          "model_module_version": "1.2.0",
          "state": {
            "_model_module": "@jupyter-widgets/base",
            "_model_module_version": "1.2.0",
            "_model_name": "LayoutModel",
            "_view_count": null,
            "_view_module": "@jupyter-widgets/base",
            "_view_module_version": "1.2.0",
            "_view_name": "LayoutView",
            "align_content": null,
            "align_items": null,
            "align_self": null,
            "border": null,
            "bottom": null,
            "display": null,
            "flex": null,
            "flex_flow": null,
            "grid_area": null,
            "grid_auto_columns": null,
            "grid_auto_flow": null,
            "grid_auto_rows": null,
            "grid_column": null,
            "grid_gap": null,
            "grid_row": null,
            "grid_template_areas": null,
            "grid_template_columns": null,
            "grid_template_rows": null,
            "height": null,
            "justify_content": null,
            "justify_items": null,
            "left": null,
            "margin": null,
            "max_height": null,
            "max_width": null,
            "min_height": null,
            "min_width": null,
            "object_fit": null,
            "object_position": null,
            "order": null,
            "overflow": null,
            "overflow_x": null,
            "overflow_y": null,
            "padding": null,
            "right": null,
            "top": null,
            "visibility": null,
            "width": null
          }
        },
        "d232041a8a054876ba78c4260939aaee": {
          "model_module": "@jupyter-widgets/controls",
          "model_name": "ProgressStyleModel",
          "model_module_version": "1.5.0",
          "state": {
            "_model_module": "@jupyter-widgets/controls",
            "_model_module_version": "1.5.0",
            "_model_name": "ProgressStyleModel",
            "_view_count": null,
            "_view_module": "@jupyter-widgets/base",
            "_view_module_version": "1.2.0",
            "_view_name": "StyleView",
            "bar_color": null,
            "description_width": ""
          }
        },
        "b1d22b357bf840cf9e353532aa5260ed": {
          "model_module": "@jupyter-widgets/base",
          "model_name": "LayoutModel",
          "model_module_version": "1.2.0",
          "state": {
            "_model_module": "@jupyter-widgets/base",
            "_model_module_version": "1.2.0",
            "_model_name": "LayoutModel",
            "_view_count": null,
            "_view_module": "@jupyter-widgets/base",
            "_view_module_version": "1.2.0",
            "_view_name": "LayoutView",
            "align_content": null,
            "align_items": null,
            "align_self": null,
            "border": null,
            "bottom": null,
            "display": null,
            "flex": null,
            "flex_flow": null,
            "grid_area": null,
            "grid_auto_columns": null,
            "grid_auto_flow": null,
            "grid_auto_rows": null,
            "grid_column": null,
            "grid_gap": null,
            "grid_row": null,
            "grid_template_areas": null,
            "grid_template_columns": null,
            "grid_template_rows": null,
            "height": null,
            "justify_content": null,
            "justify_items": null,
            "left": null,
            "margin": null,
            "max_height": null,
            "max_width": null,
            "min_height": null,
            "min_width": null,
            "object_fit": null,
            "object_position": null,
            "order": null,
            "overflow": null,
            "overflow_x": null,
            "overflow_y": null,
            "padding": null,
            "right": null,
            "top": null,
            "visibility": null,
            "width": null
          }
        },
        "be15921171744eeb87af4bdec2f4abb4": {
          "model_module": "@jupyter-widgets/controls",
          "model_name": "DescriptionStyleModel",
          "model_module_version": "1.5.0",
          "state": {
            "_model_module": "@jupyter-widgets/controls",
            "_model_module_version": "1.5.0",
            "_model_name": "DescriptionStyleModel",
            "_view_count": null,
            "_view_module": "@jupyter-widgets/base",
            "_view_module_version": "1.2.0",
            "_view_name": "StyleView",
            "description_width": ""
          }
        },
        "eb7855d8500a4da489e1b9f7209620d2": {
          "model_module": "@jupyter-widgets/controls",
          "model_name": "HBoxModel",
          "model_module_version": "1.5.0",
          "state": {
            "_dom_classes": [],
            "_model_module": "@jupyter-widgets/controls",
            "_model_module_version": "1.5.0",
            "_model_name": "HBoxModel",
            "_view_count": null,
            "_view_module": "@jupyter-widgets/controls",
            "_view_module_version": "1.5.0",
            "_view_name": "HBoxView",
            "box_style": "",
            "children": [
              "IPY_MODEL_62df82c3940a45dd925f81f5175d1e45",
              "IPY_MODEL_1102f27d47534887a3ef9d2b286bb082",
              "IPY_MODEL_9499c3c290374364bed430c9878aa133"
            ],
            "layout": "IPY_MODEL_1459440aee6c4a078c9b4384521d3aac"
          }
        },
        "62df82c3940a45dd925f81f5175d1e45": {
          "model_module": "@jupyter-widgets/controls",
          "model_name": "HTMLModel",
          "model_module_version": "1.5.0",
          "state": {
            "_dom_classes": [],
            "_model_module": "@jupyter-widgets/controls",
            "_model_module_version": "1.5.0",
            "_model_name": "HTMLModel",
            "_view_count": null,
            "_view_module": "@jupyter-widgets/controls",
            "_view_module_version": "1.5.0",
            "_view_name": "HTMLView",
            "description": "",
            "description_tooltip": null,
            "layout": "IPY_MODEL_d4076da9b7694df692ef5307d9f485bd",
            "placeholder": "​",
            "style": "IPY_MODEL_aca0264d3493473b87c82844dd3fbe16",
            "value": "Downloading https://raw.githubusercontent.com/stanfordnlp/stanza-resources/main/resources_1.5.0.json: "
          }
        },
        "1102f27d47534887a3ef9d2b286bb082": {
          "model_module": "@jupyter-widgets/controls",
          "model_name": "FloatProgressModel",
          "model_module_version": "1.5.0",
          "state": {
            "_dom_classes": [],
            "_model_module": "@jupyter-widgets/controls",
            "_model_module_version": "1.5.0",
            "_model_name": "FloatProgressModel",
            "_view_count": null,
            "_view_module": "@jupyter-widgets/controls",
            "_view_module_version": "1.5.0",
            "_view_name": "ProgressView",
            "bar_style": "success",
            "description": "",
            "description_tooltip": null,
            "layout": "IPY_MODEL_4a72e82f5af44d9e881a6aefb4e5d1fb",
            "max": 30101,
            "min": 0,
            "orientation": "horizontal",
            "style": "IPY_MODEL_918229949d8d4a5497c47cedd8c89c7c",
            "value": 30101
          }
        },
        "9499c3c290374364bed430c9878aa133": {
          "model_module": "@jupyter-widgets/controls",
          "model_name": "HTMLModel",
          "model_module_version": "1.5.0",
          "state": {
            "_dom_classes": [],
            "_model_module": "@jupyter-widgets/controls",
            "_model_module_version": "1.5.0",
            "_model_name": "HTMLModel",
            "_view_count": null,
            "_view_module": "@jupyter-widgets/controls",
            "_view_module_version": "1.5.0",
            "_view_name": "HTMLView",
            "description": "",
            "description_tooltip": null,
            "layout": "IPY_MODEL_24463128f009470ea74af7d672b93798",
            "placeholder": "​",
            "style": "IPY_MODEL_7cbae47675ed47da9581e366320b5580",
            "value": " 216k/? [00:00&lt;00:00, 10.5MB/s]"
          }
        },
        "1459440aee6c4a078c9b4384521d3aac": {
          "model_module": "@jupyter-widgets/base",
          "model_name": "LayoutModel",
          "model_module_version": "1.2.0",
          "state": {
            "_model_module": "@jupyter-widgets/base",
            "_model_module_version": "1.2.0",
            "_model_name": "LayoutModel",
            "_view_count": null,
            "_view_module": "@jupyter-widgets/base",
            "_view_module_version": "1.2.0",
            "_view_name": "LayoutView",
            "align_content": null,
            "align_items": null,
            "align_self": null,
            "border": null,
            "bottom": null,
            "display": null,
            "flex": null,
            "flex_flow": null,
            "grid_area": null,
            "grid_auto_columns": null,
            "grid_auto_flow": null,
            "grid_auto_rows": null,
            "grid_column": null,
            "grid_gap": null,
            "grid_row": null,
            "grid_template_areas": null,
            "grid_template_columns": null,
            "grid_template_rows": null,
            "height": null,
            "justify_content": null,
            "justify_items": null,
            "left": null,
            "margin": null,
            "max_height": null,
            "max_width": null,
            "min_height": null,
            "min_width": null,
            "object_fit": null,
            "object_position": null,
            "order": null,
            "overflow": null,
            "overflow_x": null,
            "overflow_y": null,
            "padding": null,
            "right": null,
            "top": null,
            "visibility": null,
            "width": null
          }
        },
        "d4076da9b7694df692ef5307d9f485bd": {
          "model_module": "@jupyter-widgets/base",
          "model_name": "LayoutModel",
          "model_module_version": "1.2.0",
          "state": {
            "_model_module": "@jupyter-widgets/base",
            "_model_module_version": "1.2.0",
            "_model_name": "LayoutModel",
            "_view_count": null,
            "_view_module": "@jupyter-widgets/base",
            "_view_module_version": "1.2.0",
            "_view_name": "LayoutView",
            "align_content": null,
            "align_items": null,
            "align_self": null,
            "border": null,
            "bottom": null,
            "display": null,
            "flex": null,
            "flex_flow": null,
            "grid_area": null,
            "grid_auto_columns": null,
            "grid_auto_flow": null,
            "grid_auto_rows": null,
            "grid_column": null,
            "grid_gap": null,
            "grid_row": null,
            "grid_template_areas": null,
            "grid_template_columns": null,
            "grid_template_rows": null,
            "height": null,
            "justify_content": null,
            "justify_items": null,
            "left": null,
            "margin": null,
            "max_height": null,
            "max_width": null,
            "min_height": null,
            "min_width": null,
            "object_fit": null,
            "object_position": null,
            "order": null,
            "overflow": null,
            "overflow_x": null,
            "overflow_y": null,
            "padding": null,
            "right": null,
            "top": null,
            "visibility": null,
            "width": null
          }
        },
        "aca0264d3493473b87c82844dd3fbe16": {
          "model_module": "@jupyter-widgets/controls",
          "model_name": "DescriptionStyleModel",
          "model_module_version": "1.5.0",
          "state": {
            "_model_module": "@jupyter-widgets/controls",
            "_model_module_version": "1.5.0",
            "_model_name": "DescriptionStyleModel",
            "_view_count": null,
            "_view_module": "@jupyter-widgets/base",
            "_view_module_version": "1.2.0",
            "_view_name": "StyleView",
            "description_width": ""
          }
        },
        "4a72e82f5af44d9e881a6aefb4e5d1fb": {
          "model_module": "@jupyter-widgets/base",
          "model_name": "LayoutModel",
          "model_module_version": "1.2.0",
          "state": {
            "_model_module": "@jupyter-widgets/base",
            "_model_module_version": "1.2.0",
            "_model_name": "LayoutModel",
            "_view_count": null,
            "_view_module": "@jupyter-widgets/base",
            "_view_module_version": "1.2.0",
            "_view_name": "LayoutView",
            "align_content": null,
            "align_items": null,
            "align_self": null,
            "border": null,
            "bottom": null,
            "display": null,
            "flex": null,
            "flex_flow": null,
            "grid_area": null,
            "grid_auto_columns": null,
            "grid_auto_flow": null,
            "grid_auto_rows": null,
            "grid_column": null,
            "grid_gap": null,
            "grid_row": null,
            "grid_template_areas": null,
            "grid_template_columns": null,
            "grid_template_rows": null,
            "height": null,
            "justify_content": null,
            "justify_items": null,
            "left": null,
            "margin": null,
            "max_height": null,
            "max_width": null,
            "min_height": null,
            "min_width": null,
            "object_fit": null,
            "object_position": null,
            "order": null,
            "overflow": null,
            "overflow_x": null,
            "overflow_y": null,
            "padding": null,
            "right": null,
            "top": null,
            "visibility": null,
            "width": null
          }
        },
        "918229949d8d4a5497c47cedd8c89c7c": {
          "model_module": "@jupyter-widgets/controls",
          "model_name": "ProgressStyleModel",
          "model_module_version": "1.5.0",
          "state": {
            "_model_module": "@jupyter-widgets/controls",
            "_model_module_version": "1.5.0",
            "_model_name": "ProgressStyleModel",
            "_view_count": null,
            "_view_module": "@jupyter-widgets/base",
            "_view_module_version": "1.2.0",
            "_view_name": "StyleView",
            "bar_color": null,
            "description_width": ""
          }
        },
        "24463128f009470ea74af7d672b93798": {
          "model_module": "@jupyter-widgets/base",
          "model_name": "LayoutModel",
          "model_module_version": "1.2.0",
          "state": {
            "_model_module": "@jupyter-widgets/base",
            "_model_module_version": "1.2.0",
            "_model_name": "LayoutModel",
            "_view_count": null,
            "_view_module": "@jupyter-widgets/base",
            "_view_module_version": "1.2.0",
            "_view_name": "LayoutView",
            "align_content": null,
            "align_items": null,
            "align_self": null,
            "border": null,
            "bottom": null,
            "display": null,
            "flex": null,
            "flex_flow": null,
            "grid_area": null,
            "grid_auto_columns": null,
            "grid_auto_flow": null,
            "grid_auto_rows": null,
            "grid_column": null,
            "grid_gap": null,
            "grid_row": null,
            "grid_template_areas": null,
            "grid_template_columns": null,
            "grid_template_rows": null,
            "height": null,
            "justify_content": null,
            "justify_items": null,
            "left": null,
            "margin": null,
            "max_height": null,
            "max_width": null,
            "min_height": null,
            "min_width": null,
            "object_fit": null,
            "object_position": null,
            "order": null,
            "overflow": null,
            "overflow_x": null,
            "overflow_y": null,
            "padding": null,
            "right": null,
            "top": null,
            "visibility": null,
            "width": null
          }
        },
        "7cbae47675ed47da9581e366320b5580": {
          "model_module": "@jupyter-widgets/controls",
          "model_name": "DescriptionStyleModel",
          "model_module_version": "1.5.0",
          "state": {
            "_model_module": "@jupyter-widgets/controls",
            "_model_module_version": "1.5.0",
            "_model_name": "DescriptionStyleModel",
            "_view_count": null,
            "_view_module": "@jupyter-widgets/base",
            "_view_module_version": "1.2.0",
            "_view_name": "StyleView",
            "description_width": ""
          }
        },
        "cf0e84f1df5d480eb8421f140c83afb9": {
          "model_module": "@jupyter-widgets/output",
          "model_name": "OutputModel",
          "model_module_version": "1.0.0",
          "state": {
            "_dom_classes": [],
            "_model_module": "@jupyter-widgets/output",
            "_model_module_version": "1.0.0",
            "_model_name": "OutputModel",
            "_view_count": null,
            "_view_module": "@jupyter-widgets/output",
            "_view_module_version": "1.0.0",
            "_view_name": "OutputView",
            "layout": "IPY_MODEL_b3ca136a583b448e96462cc06a5bfd2b",
            "msg_id": "",
            "outputs": [
              {
                "output_type": "display_data",
                "data": {
                  "text/plain": "Downloading \u001b[3;36mhttps://storage.googleapis.com/allennlp-public-mo…\u001b[0m \u001b[38;2;249;38;114m━━━━━━━━━━━━━━━━━━━━━━━\u001b[0m\u001b[38;2;249;38;114m╸\u001b[0m \u001b[35m 99%\u001b[0m \u001b[33m0:00:26\u001b[0m \u001b[32m706.8/710.8 MB\u001b[0m\n",
                  "text/html": "<pre style=\"white-space:pre;overflow-x:auto;line-height:normal;font-family:Menlo,'DejaVu Sans Mono',consolas,'Courier New',monospace\">Downloading <span style=\"color: #008080; text-decoration-color: #008080; font-style: italic\">https://storage.googleapis.com/allennlp-public-mo…</span> <span style=\"color: #f92672; text-decoration-color: #f92672\">━━━━━━━━━━━━━━━━━━━━━━━╸</span> <span style=\"color: #800080; text-decoration-color: #800080\"> 99%</span> <span style=\"color: #808000; text-decoration-color: #808000\">0:00:26</span> <span style=\"color: #008000; text-decoration-color: #008000\">706.8/710.8 MB</span>\n</pre>\n"
                },
                "metadata": {}
              }
            ]
          }
        },
        "b3ca136a583b448e96462cc06a5bfd2b": {
          "model_module": "@jupyter-widgets/base",
          "model_name": "LayoutModel",
          "model_module_version": "1.2.0",
          "state": {
            "_model_module": "@jupyter-widgets/base",
            "_model_module_version": "1.2.0",
            "_model_name": "LayoutModel",
            "_view_count": null,
            "_view_module": "@jupyter-widgets/base",
            "_view_module_version": "1.2.0",
            "_view_name": "LayoutView",
            "align_content": null,
            "align_items": null,
            "align_self": null,
            "border": null,
            "bottom": null,
            "display": null,
            "flex": null,
            "flex_flow": null,
            "grid_area": null,
            "grid_auto_columns": null,
            "grid_auto_flow": null,
            "grid_auto_rows": null,
            "grid_column": null,
            "grid_gap": null,
            "grid_row": null,
            "grid_template_areas": null,
            "grid_template_columns": null,
            "grid_template_rows": null,
            "height": null,
            "justify_content": null,
            "justify_items": null,
            "left": null,
            "margin": null,
            "max_height": null,
            "max_width": null,
            "min_height": null,
            "min_width": null,
            "object_fit": null,
            "object_position": null,
            "order": null,
            "overflow": null,
            "overflow_x": null,
            "overflow_y": null,
            "padding": null,
            "right": null,
            "top": null,
            "visibility": null,
            "width": null
          }
        },
        "150a9979ee194a77b3ce931215329231": {
          "model_module": "@jupyter-widgets/output",
          "model_name": "OutputModel",
          "model_module_version": "1.0.0",
          "state": {
            "_dom_classes": [],
            "_model_module": "@jupyter-widgets/output",
            "_model_module_version": "1.0.0",
            "_model_name": "OutputModel",
            "_view_count": null,
            "_view_module": "@jupyter-widgets/output",
            "_view_module_version": "1.0.0",
            "_view_name": "OutputView",
            "layout": "IPY_MODEL_77c66dab2d1241109049c1190daae1ec",
            "msg_id": "",
            "outputs": [
              {
                "output_type": "display_data",
                "data": {
                  "text/plain": "Downloading \u001b[3;36mhttps://allennlp.s3.amazonaws.com/models/elmo/2x4…\u001b[0m \u001b[38;5;237m━━━━━━━━━━━━━━━━━━━━━━━━━━━\u001b[0m \u001b[35m  0%\u001b[0m \u001b[33m0:00:00\u001b[0m \u001b[32m0/336 bytes\u001b[0m\n",
                  "text/html": "<pre style=\"white-space:pre;overflow-x:auto;line-height:normal;font-family:Menlo,'DejaVu Sans Mono',consolas,'Courier New',monospace\">Downloading <span style=\"color: #008080; text-decoration-color: #008080; font-style: italic\">https://allennlp.s3.amazonaws.com/models/elmo/2x4…</span> <span style=\"color: #3a3a3a; text-decoration-color: #3a3a3a\">━━━━━━━━━━━━━━━━━━━━━━━━━━━</span> <span style=\"color: #800080; text-decoration-color: #800080\">  0%</span> <span style=\"color: #808000; text-decoration-color: #808000\">0:00:00</span> <span style=\"color: #008000; text-decoration-color: #008000\">0/336 bytes</span>\n</pre>\n"
                },
                "metadata": {}
              }
            ]
          }
        },
        "77c66dab2d1241109049c1190daae1ec": {
          "model_module": "@jupyter-widgets/base",
          "model_name": "LayoutModel",
          "model_module_version": "1.2.0",
          "state": {
            "_model_module": "@jupyter-widgets/base",
            "_model_module_version": "1.2.0",
            "_model_name": "LayoutModel",
            "_view_count": null,
            "_view_module": "@jupyter-widgets/base",
            "_view_module_version": "1.2.0",
            "_view_name": "LayoutView",
            "align_content": null,
            "align_items": null,
            "align_self": null,
            "border": null,
            "bottom": null,
            "display": null,
            "flex": null,
            "flex_flow": null,
            "grid_area": null,
            "grid_auto_columns": null,
            "grid_auto_flow": null,
            "grid_auto_rows": null,
            "grid_column": null,
            "grid_gap": null,
            "grid_row": null,
            "grid_template_areas": null,
            "grid_template_columns": null,
            "grid_template_rows": null,
            "height": null,
            "justify_content": null,
            "justify_items": null,
            "left": null,
            "margin": null,
            "max_height": null,
            "max_width": null,
            "min_height": null,
            "min_width": null,
            "object_fit": null,
            "object_position": null,
            "order": null,
            "overflow": null,
            "overflow_x": null,
            "overflow_y": null,
            "padding": null,
            "right": null,
            "top": null,
            "visibility": null,
            "width": null
          }
        },
        "428fce9ea08d4f2884de61158c1124ad": {
          "model_module": "@jupyter-widgets/output",
          "model_name": "OutputModel",
          "model_module_version": "1.0.0",
          "state": {
            "_dom_classes": [],
            "_model_module": "@jupyter-widgets/output",
            "_model_module_version": "1.0.0",
            "_model_name": "OutputModel",
            "_view_count": null,
            "_view_module": "@jupyter-widgets/output",
            "_view_module_version": "1.0.0",
            "_view_name": "OutputView",
            "layout": "IPY_MODEL_7e79a2784eae4cbb8b72a040a3c239d4",
            "msg_id": "",
            "outputs": [
              {
                "output_type": "display_data",
                "data": {
                  "text/plain": "Downloading \u001b[3;36mhttps://allennlp.s3.amazonaws.com/models/elmo/2x4…\u001b[0m \u001b[38;2;249;38;114m━━━━━━━━━━━━━━━━━━━━━━━\u001b[0m\u001b[38;2;249;38;114m╸\u001b[0m \u001b[35m 99%\u001b[0m \u001b[33m0:00:06\u001b[0m \u001b[32m371.4/374.4 MB\u001b[0m\n",
                  "text/html": "<pre style=\"white-space:pre;overflow-x:auto;line-height:normal;font-family:Menlo,'DejaVu Sans Mono',consolas,'Courier New',monospace\">Downloading <span style=\"color: #008080; text-decoration-color: #008080; font-style: italic\">https://allennlp.s3.amazonaws.com/models/elmo/2x4…</span> <span style=\"color: #f92672; text-decoration-color: #f92672\">━━━━━━━━━━━━━━━━━━━━━━━╸</span> <span style=\"color: #800080; text-decoration-color: #800080\"> 99%</span> <span style=\"color: #808000; text-decoration-color: #808000\">0:00:06</span> <span style=\"color: #008000; text-decoration-color: #008000\">371.4/374.4 MB</span>\n</pre>\n"
                },
                "metadata": {}
              }
            ]
          }
        },
        "7e79a2784eae4cbb8b72a040a3c239d4": {
          "model_module": "@jupyter-widgets/base",
          "model_name": "LayoutModel",
          "model_module_version": "1.2.0",
          "state": {
            "_model_module": "@jupyter-widgets/base",
            "_model_module_version": "1.2.0",
            "_model_name": "LayoutModel",
            "_view_count": null,
            "_view_module": "@jupyter-widgets/base",
            "_view_module_version": "1.2.0",
            "_view_name": "LayoutView",
            "align_content": null,
            "align_items": null,
            "align_self": null,
            "border": null,
            "bottom": null,
            "display": null,
            "flex": null,
            "flex_flow": null,
            "grid_area": null,
            "grid_auto_columns": null,
            "grid_auto_flow": null,
            "grid_auto_rows": null,
            "grid_column": null,
            "grid_gap": null,
            "grid_row": null,
            "grid_template_areas": null,
            "grid_template_columns": null,
            "grid_template_rows": null,
            "height": null,
            "justify_content": null,
            "justify_items": null,
            "left": null,
            "margin": null,
            "max_height": null,
            "max_width": null,
            "min_height": null,
            "min_width": null,
            "object_fit": null,
            "object_position": null,
            "order": null,
            "overflow": null,
            "overflow_x": null,
            "overflow_y": null,
            "padding": null,
            "right": null,
            "top": null,
            "visibility": null,
            "width": null
          }
        }
      }
    }
  },
  "cells": [
    {
      "cell_type": "markdown",
      "metadata": {
        "id": "view-in-github",
        "colab_type": "text"
      },
      "source": [
        "<a href=\"https://colab.research.google.com/github/Ali-MH-Mansour/Keyword-Extraction/blob/main/parsers_spacy_allen.ipynb\" target=\"_parent\"><img src=\"https://colab.research.google.com/assets/colab-badge.svg\" alt=\"Open In Colab\"/></a>"
      ]
    },
    {
      "cell_type": "code",
      "source": [
        "from google.colab import drive\n",
        "drive.mount('/content/drive/')"
      ],
      "metadata": {
        "colab": {
          "base_uri": "https://localhost:8080/"
        },
        "id": "ROQyk8mvd6n5",
        "outputId": "7238327f-b0a9-4cbe-d7b9-8ec0e7420ba8"
      },
      "execution_count": null,
      "outputs": [
        {
          "output_type": "stream",
          "name": "stdout",
          "text": [
            "Drive already mounted at /content/drive/; to attempt to forcibly remount, call drive.mount(\"/content/drive/\", force_remount=True).\n"
          ]
        }
      ]
    },
    {
      "cell_type": "code",
      "source": [
        "# # SemEval2010 wiki20\n",
        "# import os\n",
        "# path = \"/content/drive/MyDrive/PHD/Data/Inspec/\"\n",
        "\n",
        "# all_files = os.listdir(path+\"docsutf8\")   # imagine you're one directory above test dir\n",
        "# all_keys = os.listdir(path+ \"keys\")   # imagine you're one directory above test dir\n",
        "# print(len(all_files),\" files \\n\",all_files, \"\\n\", all_keys)  # won't necessarily be sorted"
      ],
      "metadata": {
        "colab": {
          "base_uri": "https://localhost:8080/"
        },
        "id": "bpFZhexieGxS",
        "outputId": "89316bbf-b97a-4f2f-f0d2-a14f9ab3c449"
      },
      "execution_count": null,
      "outputs": [
        {
          "output_type": "stream",
          "name": "stdout",
          "text": [
            "2000  files \n",
            " ['642.txt', '1264.txt', '2007.txt', '1261.txt', '1673.txt', '1015.txt', '1198.txt', '967.txt', '39.txt', '1338.txt', '1898.txt', '1854.txt', '637.txt', '621.txt', '64.txt', '1984.txt', '1295.txt', '615.txt', '1641.txt', '2179.txt', '566.txt', '561.txt', '34.txt', '1385.txt', '287.txt', '1618.txt', '1185.txt', '1993.txt', '617.txt', '831.txt', '1914.txt', '631.txt', '981.txt', '220.txt', '1367.txt', '1719.txt', '927.txt', '36.txt', '854.txt', '707.txt', '2119.txt', '1356.txt', '108.txt', '111.txt', '1557.txt', '284.txt', '1266.txt', '989.txt', '783.txt', '1524.txt', '560.txt', '386.txt', '114.txt', '1967.txt', '1001.txt', '200.txt', '1526.txt', '1686.txt', '1604.txt', '2184.txt', '848.txt', '2093.txt', '922.txt', '1793.txt', '2160.txt', '1862.txt', '1761.txt', '2192.txt', '2096.txt', '1899.txt', '974.txt', '673.txt', '97.txt', '923.txt', '1634.txt', '1964.txt', '2120.txt', '838.txt', '241.txt', '1005.txt', '1991.txt', '1522.txt', '359.txt', '2198.txt', '1319.txt', '2048.txt', '2.txt', '655.txt', '1842.txt', '1625.txt', '363.txt', '1051.txt', '914.txt', '1200.txt', '552.txt', '79.txt', '308.txt', '2161.txt', '1572.txt', '2055.txt', '1998.txt', '834.txt', '178.txt', '1649.txt', '1361.txt', '181.txt', '25.txt', '197.txt', '1030.txt', '1849.txt', '1160.txt', '1439.txt', '213.txt', '1884.txt', '1364.txt', '1029.txt', '794.txt', '1469.txt', '1672.txt', '681.txt', '2136.txt', '1244.txt', '311.txt', '1713.txt', '544.txt', '1190.txt', '38.txt', '1315.txt', '1089.txt', '1099.txt', '1567.txt', '645.txt', '775.txt', '1996.txt', '1792.txt', '1795.txt', '910.txt', '632.txt', '1558.txt', '2023.txt', '407.txt', '2069.txt', '126.txt', '339.txt', '207.txt', '972.txt', '1212.txt', '1480.txt', '1735.txt', '233.txt', '376.txt', '1447.txt', '67.txt', '2150.txt', '170.txt', '2122.txt', '938.txt', '565.txt', '978.txt', '155.txt', '270.txt', '244.txt', '1202.txt', '841.txt', '867.txt', '1102.txt', '2004.txt', '1548.txt', '260.txt', '1782.txt', '1602.txt', '1929.txt', '1519.txt', '396.txt', '2085.txt', '164.txt', '1111.txt', '1845.txt', '1329.txt', '1858.txt', '833.txt', '1879.txt', '1258.txt', '1968.txt', '1352.txt', '291.txt', '802.txt', '1077.txt', '607.txt', '695.txt', '404.txt', '1415.txt', '214.txt', '902.txt', '1983.txt', '1553.txt', '843.txt', '26.txt', '1564.txt', '1010.txt', '1028.txt', '1928.txt', '232.txt', '203.txt', '2013.txt', '243.txt', '1617.txt', '2025.txt', '194.txt', '957.txt', '119.txt', '1373.txt', '1767.txt', '1247.txt', '734.txt', '1880.txt', '30.txt', '1115.txt', '851.txt', '1961.txt', '773.txt', '1339.txt', '2062.txt', '770.txt', '571.txt', '2089.txt', '1945.txt', '1308.txt', '1254.txt', '941.txt', '1075.txt', '1583.txt', '1076.txt', '1122.txt', '1394.txt', '13.txt', '543.txt', '1197.txt', '1332.txt', '824.txt', '1405.txt', '1033.txt', '892.txt', '840.txt', '1989.txt', '2190.txt', '1311.txt', '1584.txt', '608.txt', '1092.txt', '1036.txt', '302.txt', '1843.txt', '1406.txt', '365.txt', '1888.txt', '1932.txt', '1318.txt', '1874.txt', '846.txt', '1878.txt', '2169.txt', '1306.txt', '1501.txt', '1397.txt', '961.txt', '1988.txt', '1591.txt', '1507.txt', '1336.txt', '229.txt', '65.txt', '354.txt', '1389.txt', '1962.txt', '176.txt', '799.txt', '879.txt', '2165.txt', '1940.txt', '2060.txt', '1235.txt', '11.txt', '1184.txt', '1506.txt', '1226.txt', '781.txt', '540.txt', '1291.txt', '1861.txt', '1707.txt', '1821.txt', '1155.txt', '1966.txt', '547.txt', '1740.txt', '1498.txt', '1798.txt', '1164.txt', '703.txt', '71.txt', '1120.txt', '1233.txt', '1758.txt', '1382.txt', '1426.txt', '238.txt', '823.txt', '1545.txt', '763.txt', '908.txt', '2138.txt', '1675.txt', '1225.txt', '612.txt', '880.txt', '1153.txt', '684.txt', '245.txt', '1491.txt', '1653.txt', '9.txt', '273.txt', '296.txt', '839.txt', '142.txt', '836.txt', '2197.txt', '1243.txt', '748.txt', '165.txt', '35.txt', '1759.txt', '1499.txt', '12.txt', '2129.txt', '849.txt', '2028.txt', '1379.txt', '1543.txt', '1097.txt', '1906.txt', '1068.txt', '1537.txt', '327.txt', '340.txt', '1240.txt', '863.txt', '2102.txt', '266.txt', '210.txt', '1391.txt', '360.txt', '1057.txt', '1954.txt', '361.txt', '883.txt', '406.txt', '1908.txt', '715.txt', '542.txt', '1239.txt', '1497.txt', '144.txt', '1026.txt', '1975.txt', '1472.txt', '1154.txt', '117.txt', '399.txt', '692.txt', '1644.txt', '746.txt', '619.txt', '1802.txt', '70.txt', '91.txt', '132.txt', '995.txt', '844.txt', '940.txt', '1095.txt', '1151.txt', '629.txt', '1593.txt', '2051.txt', '1838.txt', '1463.txt', '1375.txt', '899.txt', '402.txt', '58.txt', '1747.txt', '166.txt', '1422.txt', '859.txt', '1205.txt', '1787.txt', '605.txt', '1739.txt', '713.txt', '733.txt', '682.txt', '1008.txt', '699.txt', '2162.txt', '2041.txt', '1813.txt', '549.txt', '568.txt', '378.txt', '2014.txt', '817.txt', '606.txt', '894.txt', '900.txt', '7.txt', '935.txt', '1238.txt', '2003.txt', '1831.txt', '1374.txt', '1679.txt', '1249.txt', '328.txt', '768.txt', '138.txt', '345.txt', '1825.txt', '1060.txt', '1058.txt', '2111.txt', '830.txt', '1508.txt', '1762.txt', '1468.txt', '1014.txt', '1353.txt', '167.txt', '367.txt', '1709.txt', '1877.txt', '98.txt', '1896.txt', '1448.txt', '886.txt', '1234.txt', '1886.txt', '251.txt', '1805.txt', '1456.txt', '1791.txt', '1386.txt', '1086.txt', '2061.txt', '118.txt', '247.txt', '538.txt', '1891.txt', '2137.txt', '283.txt', '394.txt', '1980.txt', '250.txt', '89.txt', '1107.txt', '1556.txt', '1035.txt', '2142.txt', '1881.txt', '1666.txt', '1285.txt', '1358.txt', '1819.txt', '1514.txt', '1974.txt', '1143.txt', '1488.txt', '1078.txt', '171.txt', '1680.txt', '382.txt', '1174.txt', '1018.txt', '1597.txt', '32.txt', '56.txt', '387.txt', '385.txt', '1723.txt', '932.txt', '1161.txt', '1777.txt', '719.txt', '1855.txt', '1985.txt', '1688.txt', '1132.txt', '1054.txt', '80.txt', '2159.txt', '1732.txt', '1145.txt', '1902.txt', '1214.txt', '1147.txt', '1402.txt', '1396.txt', '1216.txt', '1050.txt', '1515.txt', '2148.txt', '2164.txt', '915.txt', '545.txt', '1900.txt', '575.txt', '84.txt', '1885.txt', '1017.txt', '1538.txt', '2047.txt', '718.txt', '2010.txt', '2022.txt', '2200.txt', '1360.txt', '937.txt', '1438.txt', '1134.txt', '1779.txt', '2177.txt', '261.txt', '1959.txt', '661.txt', '630.txt', '2058.txt', '1131.txt', '1949.txt', '2064.txt', '1067.txt', '1894.txt', '156.txt', '641.txt', '1627.txt', '1372.txt', '688.txt', '253.txt', '891.txt', '267.txt', '557.txt', '2006.txt', '189.txt', '15.txt', '1901.txt', '1621.txt', '749.txt', '1636.txt', '106.txt', '2092.txt', '2063.txt', '791.txt', '1852.txt', '1236.txt', '664.txt', '2032.txt', '573.txt', '1977.txt', '1659.txt', '1246.txt', '334.txt', '1253.txt', '2151.txt', '814.txt', '1693.txt', '1165.txt', '869.txt', '309.txt', '1159.txt', '2000.txt', '1022.txt', '1260.txt', '1797.txt', '1685.txt', '1209.txt', '1529.txt', '1146.txt', '1633.txt', '751.txt', '2126.txt', '1916.txt', '874.txt', '1061.txt', '772.txt', '706.txt', '1283.txt', '1168.txt', '1629.txt', '1221.txt', '133.txt', '929.txt', '87.txt', '116.txt', '1816.txt', '906.txt', '2090.txt', '2128.txt', '918.txt', '1766.txt', '852.txt', '410.txt', '646.txt', '286.txt', '694.txt', '656.txt', '576.txt', '1103.txt', '1458.txt', '1701.txt', '2103.txt', '649.txt', '2191.txt', '1502.txt', '1229.txt', '1534.txt', '809.txt', '752.txt', '338.txt', '1982.txt', '1895.txt', '1725.txt', '1013.txt', '916.txt', '1946.txt', '127.txt', '1274.txt', '1804.txt', '2054.txt', '2171.txt', '942.txt', '1533.txt', '1769.txt', '1490.txt', '277.txt', '599.txt', '1840.txt', '1933.txt', '1930.txt', '1425.txt', '1223.txt', '390.txt', '1650.txt', '297.txt', '614.txt', '389.txt', '1213.txt', '687.txt', '1822.txt', '858.txt', '1169.txt', '827.txt', '842.txt', '333.txt', '714.txt', '307.txt', '971.txt', '2130.txt', '305.txt', '588.txt', '956.txt', '1681.txt', '723.txt', '228.txt', '100.txt', '1970.txt', '1751.txt', '913.txt', '1754.txt', '1428.txt', '1237.txt', '1915.txt', '352.txt', '324.txt', '226.txt', '1513.txt', '747.txt', '1044.txt', '640.txt', '936.txt', '293.txt', '633.txt', '366.txt', '54.txt', '1053.txt', '2056.txt', '1624.txt', '1137.txt', '134.txt', '2097.txt', '66.txt', '1470.txt', '2146.txt', '1450.txt', '888.txt', '745.txt', '793.txt', '2109.txt', '2068.txt', '2040.txt', '1638.txt', '1684.txt', '2059.txt', '990.txt', '1093.txt', '643.txt', '1614.txt', '959.txt', '1431.txt', '1756.txt', '1411.txt', '272.txt', '1377.txt', '928.txt', '41.txt', '1741.txt', '1969.txt', '982.txt', '1904.txt', '2174.txt', '1599.txt', '1554.txt', '1317.txt', '740.txt', '610.txt', '1104.txt', '1665.txt', '1116.txt', '1785.txt', '1788.txt', '1350.txt', '120.txt', '326.txt', '1045.txt', '190.txt', '1224.txt', '1818.txt', '1310.txt', '1119.txt', '601.txt', '2132.txt', '1810.txt', '29.txt', '1180.txt', '1096.txt', '1206.txt', '1398.txt', '76.txt', '55.txt', '638.txt', '1628.txt', '1799.txt', '731.txt', '146.txt', '2044.txt', '570.txt', '577.txt', '1645.txt', '1525.txt', '901.txt', '1348.txt', '268.txt', '2108.txt', '1471.txt', '1971.txt', '290.txt', '616.txt', '2008.txt', '60.txt', '377.txt', '242.txt', '1462.txt', '62.txt', '563.txt', '2084.txt', '593.txt', '1724.txt', '1357.txt', '720.txt', '1734.txt', '1395.txt', '1342.txt', '1328.txt', '1589.txt', '574.txt', '1844.txt', '1893.txt', '271.txt', '609.txt', '373.txt', '2121.txt', '356.txt', '1837.txt', '821.txt', '1341.txt', '1112.txt', '1421.txt', '567.txt', '1832.txt', '2194.txt', '1683.txt', '90.txt', '1420.txt', '1324.txt', '1868.txt', '124.txt', '1523.txt', '876.txt', '583.txt', '40.txt', '1510.txt', '1595.txt', '1859.txt', '320.txt', '1423.txt', '907.txt', '1563.txt', '217.txt', '1192.txt', '1727.txt', '1605.txt', '125.txt', '193.txt', '1527.txt', '659.txt', '102.txt', '1706.txt', '964.txt', '1992.txt', '1994.txt', '149.txt', '1384.txt', '2098.txt', '384.txt', '1098.txt', '113.txt', '77.txt', '1040.txt', '303.txt', '1836.txt', '581.txt', '74.txt', '1750.txt', '1947.txt', '2181.txt', '1944.txt', '1208.txt', '1937.txt', '1483.txt', '72.txt', '1833.txt', '348.txt', '1926.txt', '1598.txt', '2039.txt', '1287.txt', '1412.txt', '1664.txt', '86.txt', '2114.txt', '709.txt', '1555.txt', '951.txt', '1094.txt', '2133.txt', '254.txt', '1803.txt', '1354.txt', '2134.txt', '807.txt', '2152.txt', '1135.txt', '943.txt', '1921.txt', '1910.txt', '1814.txt', '280.txt', '2002.txt', '316.txt', '1451.txt', '1512.txt', '180.txt', '112.txt', '1590.txt', '1062.txt', '6.txt', '921.txt', '759.txt', '683.txt', '1047.txt', '613.txt', '1256.txt', '158.txt', '727.txt', '2180.txt', '912.txt', '1640.txt', '139.txt', '1269.txt', '602.txt', '1370.txt', '159.txt', '73.txt', '1801.txt', '140.txt', '153.txt', '1763.txt', '4.txt', '1004.txt', '1333.txt', '279.txt', '1789.txt', '1856.txt', '778.txt', '182.txt', '1298.txt', '1477.txt', '1892.txt', '870.txt', '276.txt', '1459.txt', '597.txt', '626.txt', '1158.txt', '920.txt', '1000.txt', '1105.txt', '816.txt', '1828.txt', '1408.txt', '2166.txt', '1304.txt', '381.txt', '1620.txt', '1781.txt', '1643.txt', '1853.txt', '1668.txt', '1429.txt', '1733.txt', '776.txt', '592.txt', '1082.txt', '1867.txt', '1637.txt', '1148.txt', '2045.txt', '1136.txt', '1381.txt', '837.txt', '1847.txt', '1518.txt', '353.txt', '1166.txt', '1872.txt', '21.txt', '1794.txt', '1517.txt', '2065.txt', '317.txt', '594.txt', '1705.txt', '1196.txt', '1407.txt', '105.txt', '788.txt', '1444.txt', '1511.txt', '973.txt', '1869.txt', '1417.txt', '1003.txt', '1521.txt', '815.txt', '771.txt', '1038.txt', '1839.txt', '1876.txt', '998.txt', '2009.txt', '28.txt', '712.txt', '1717.txt', '622.txt', '1220.txt', '1780.txt', '1516.txt', '893.txt', '88.txt', '660.txt', '1494.txt', '1728.txt', '756.txt', '2135.txt', '1656.txt', '1162.txt', '639.txt', '950.txt', '739.txt', '1883.txt', '391.txt', '362.txt', '1177.txt', '2088.txt', '2026.txt', '779.txt', '1760.txt', '1346.txt', '1606.txt', '2042.txt', '1432.txt', '1784.txt', '1242.txt', '1530.txt', '1699.txt', '1188.txt', '2127.txt', '209.txt', '1032.txt', '1002.txt', '1011.txt', '1771.txt', '1316.txt', '1746.txt', '1157.txt', '954.txt', '1228.txt', '246.txt', '1632.txt', '1106.txt', '1149.txt', '627.txt', '1314.txt', '2178.txt', '2139.txt', '1866.txt', '248.txt', '1806.txt', '1834.txt', '1118.txt', '2029.txt', '1410.txt', '236.txt', '1596.txt', '966.txt', '1972.txt', '1088.txt', '1753.txt', '653.txt', '774.txt', '61.txt', '1056.txt', '341.txt', '1824.txt', '1979.txt', '263.txt', '208.txt', '1465.txt', '1786.txt', '628.txt', '2082.txt', '368.txt', '1708.txt', '1181.txt', '2149.txt', '696.txt', '1626.txt', '1851.txt', '1850.txt', '623.txt', '1376.txt', '2123.txt', '795.txt', '313.txt', '195.txt', '2057.txt', '716.txt', '896.txt', '2037.txt', '1807.txt', '1241.txt', '94.txt', '2170.txt', '281.txt', '1698.txt', '2106.txt', '2011.txt', '1280.txt', '1392.txt', '1935.txt', '884.txt', '282.txt', '1232.txt', '1335.txt', '1918.txt', '255.txt', '579.txt', '595.txt', '728.txt', '346.txt', '1207.txt', '1271.txt', '1658.txt', '1173.txt', '177.txt', '546.txt', '1528.txt', '1072.txt', '801.txt', '825.txt', '1363.txt', '204.txt', '1938.txt', '2005.txt', '1965.txt', '1963.txt', '2052.txt', '931.txt', '1603.txt', '2030.txt', '1655.txt', '2187.txt', '2094.txt', '1433.txt', '312.txt', '1034.txt', '762.txt', '1663.txt', '1390.txt', '1927.txt', '705.txt', '115.txt', '732.txt', '1768.txt', '1551.txt', '304.txt', '401.txt', '1245.txt', '1024.txt', '315.txt', '371.txt', '1313.txt', '1012.txt', '342.txt', '960.txt', '1069.txt', '1995.txt', '69.txt', '96.txt', '1485.txt', '411.txt', '1542.txt', '2043.txt', '1194.txt', '550.txt', '2140.txt', '1230.txt', '2086.txt', '1300.txt', '1085.txt', '620.txt', '1272.txt', '1138.txt', '2016.txt', '1461.txt', '22.txt', '14.txt', '2035.txt', '553.txt', '1912.txt', '1368.txt', '554.txt', '2110.txt', '1694.txt', '257.txt', '3.txt', '1716.txt', '1560.txt', '1414.txt', '1323.txt', '1903.txt', '143.txt', '2070.txt', '1890.txt', '679.txt', '294.txt', '784.txt', '350.txt', '1700.txt', '790.txt', '329.txt', '1460.txt', '1541.txt', '1059.txt', '19.txt', '332.txt', '878.txt', '760.txt', '1773.txt', '1404.txt', '1442.txt', '1956.txt', '1848.txt', '1380.txt', '1393.txt', '1294.txt', '1140.txt', '1943.txt', '1101.txt', '2101.txt', '702.txt', '897.txt', '820.txt', '691.txt', '2036.txt', '2046.txt', '598.txt', '1128.txt', '970.txt', '996.txt', '1765.txt', '184.txt', '675.txt', '761.txt', '1039.txt', '1267.txt', '976.txt', '1897.txt', '2176.txt', '873.txt', '1259.txt', '259.txt', '654.txt', '148.txt', '1948.txt', '1711.txt', '1907.txt', '78.txt', '697.txt', '2105.txt', '603.txt', '1489.txt', '1704.txt', '1150.txt', '946.txt', '1215.txt', '121.txt', '988.txt', '953.txt', '1812.txt', '1183.txt', '1020.txt', '984.txt', '163.txt', '708.txt', '252.txt', '1110.txt', '835.txt', '911.txt', '145.txt', '1726.txt', '2067.txt', '944.txt', '20.txt', '175.txt', '1924.txt', '1737.txt', '1141.txt', '107.txt', '877.txt', '1009.txt', '1770.txt', '949.txt', '555.txt', '85.txt', '192.txt', '1922.txt', '1289.txt', '755.txt', '1193.txt', '173.txt', '1631.txt', '2196.txt', '885.txt', '188.txt', '769.txt', '2083.txt', '1211.txt', '730.txt', '724.txt', '1305.txt', '1682.txt', '162.txt', '1520.txt', '364.txt', '2145.txt', '374.txt', '1635.txt', '1860.txt', '2081.txt', '1702.txt', '1990.txt', '2195.txt', '1464.txt', '1953.txt', '1504.txt', '1486.txt', '1532.txt', '1427.txt', '1549.txt', '1500.txt', '1250.txt', '370.txt', '1565.txt', '1288.txt', '1960.txt', '2173.txt', '2147.txt', '1182.txt', '1790.txt', '1070.txt', '1467.txt', '2153.txt', '1125.txt', '321.txt', '1748.txt', '1133.txt', '860.txt', '2157.txt', '33.txt', '235.txt', '262.txt', '1129.txt', '137.txt', '1299.txt', '1809.txt', '865.txt', '1661.txt', '224.txt', '223.txt', '753.txt', '1403.txt', '141.txt', '558.txt', '826.txt', '1474.txt', '657.txt', '1703.txt', '787.txt', '1378.txt', '1997.txt', '1776.txt', '1139.txt', '1282.txt', '1117.txt', '741.txt', '215.txt', '393.txt', '150.txt', '1270.txt', '1651.txt', '1302.txt', '578.txt', '1738.txt', '397.txt', '1547.txt', '767.txt', '850.txt', '1540.txt', '919.txt', '1187.txt', '1827.txt', '1452.txt', '584.txt', '1201.txt', '358.txt', '2099.txt', '2021.txt', '868.txt', '704.txt', '1870.txt', '225.txt', '1443.txt', '822.txt', '611.txt', '1931.txt', '1978.txt', '1281.txt', '1473.txt', '1531.txt', '211.txt', '1286.txt', '832.txt', '1320.txt', '678.txt', '958.txt', '1453.txt', '265.txt', '1492.txt', '27.txt', '351.txt', '1934.txt', '1687.txt', '1569.txt', '1476.txt', '1710.txt', '1278.txt', '1293.txt', '1023.txt', '83.txt', '1783.txt', '75.txt', '379.txt', '1355.txt', '2124.txt', '1065.txt', '395.txt', '1920.txt', '1203.txt', '412.txt', '994.txt', '2031.txt', '2012.txt', '585.txt', '1049.txt', '604.txt', '2189.txt', '647.txt', '1418.txt', '562.txt', '2116.txt', '924.txt', '1913.txt', '586.txt', '2053.txt', '1172.txt', '388.txt', '295.txt', '169.txt', '1550.txt', '1623.txt', '1019.txt', '196.txt', '1671.txt', '2158.txt', '2050.txt', '962.txt', '680.txt', '808.txt', '636.txt', '17.txt', '864.txt', '700.txt', '1778.txt', '1800.txt', '322.txt', '292.txt', '1712.txt', '1455.txt', '539.txt', '216.txt', '1976.txt', '1592.txt', '1755.txt', '2182.txt', '805.txt', '1695.txt', '1745.txt', '736.txt', '1817.txt', '398.txt', '264.txt', '1674.txt', '1829.txt', '2019.txt', '1081.txt', '1478.txt', '1359.txt', '1714.txt', '1114.txt', '875.txt', '183.txt', '2115.txt', '1248.txt', '1652.txt', '1171.txt', '2018.txt', '797.txt', '806.txt', '556.txt', '1873.txt', '898.txt', '1757.txt', '343.txt', '1413.txt', '1371.txt', '1087.txt', '750.txt', '701.txt', '983.txt', '618.txt', '722.txt', '1562.txt', '1345.txt', '726.txt', '1337.txt', '685.txt', '1736.txt', '1007.txt', '1482.txt', '136.txt', '1613.txt', '1730.txt', '1622.txt', '2095.txt', '319.txt', '237.txt', '331.txt', '2199.txt', '1344.txt', '2163.txt', '1063.txt', '1715.txt', '1130.txt', '1775.txt', '934.txt', '1647.txt', '1066.txt', '792.txt', '862.txt', '1669.txt', '677.txt', '1275.txt', '299.txt', '187.txt', '1923.txt', '1744.txt', '1610.txt', '1574.txt', '1326.txt', '1987.txt', '1268.txt', '1031.txt', '1080.txt', '738.txt', '186.txt', '2015.txt', '1958.txt', '1343.txt', '1889.txt', '1660.txt', '325.txt', '1441.txt', '31.txt', '347.txt', '1568.txt', '24.txt', '258.txt', '1409.txt', '1025.txt', '82.txt', '323.txt', '725.txt', '1257.txt', '1808.txt', '890.txt', '1251.txt', '2017.txt', '1123.txt', '1083.txt', '1263.txt', '1307.txt', '1608.txt', '380.txt', '1296.txt', '717.txt', '205.txt', '110.txt', '1204.txt', '185.txt', '1570.txt', '980.txt', '1273.txt', '1670.txt', '993.txt', '1882.txt', '1255.txt', '198.txt', '154.txt', '1479.txt', '1925.txt', '2104.txt', '1811.txt', '1887.txt', '2193.txt', '1349.txt', '663.txt', '218.txt', '1186.txt', '314.txt', '2188.txt', '274.txt', '979.txt', '1505.txt', '289.txt', '1752.txt', '1865.txt', '130.txt', '2087.txt', '1074.txt', '855.txt', '239.txt', '926.txt', '650.txt', '1600.txt', '587.txt', '151.txt', '690.txt', '969.txt', '408.txt', '2117.txt', '18.txt', '129.txt', '1178.txt', '269.txt', '2020.txt', '1561.txt', '109.txt', '813.txt', '569.txt', '917.txt', '652.txt', '1475.txt', '288.txt', '230.txt', '1535.txt', '191.txt', '227.txt', '369.txt', '624.txt', '135.txt', '59.txt', '1917.txt', '1820.txt', '765.txt', '1936.txt', '357.txt', '1642.txt', '1445.txt', '1440.txt', '963.txt', '1284.txt', '1340.txt', '99.txt', '131.txt', '1276.txt', '1909.txt', '1615.txt', '285.txt', '853.txt', '811.txt', '2186.txt', '1863.txt', '1764.txt', '1064.txt', '985.txt', '1539.txt', '743.txt', '1218.txt', '1648.txt', '405.txt', '819.txt', '275.txt', '1919.txt', '1113.txt', '95.txt', '1079.txt', '689.txt', '1369.txt', '1697.txt', '1108.txt', '1496.txt', '872.txt', '997.txt', '231.txt', '1252.txt', '828.txt', '147.txt', '909.txt', '1199.txt', '1630.txt', '800.txt', '1303.txt', '301.txt', '1692.txt', '400.txt', '403.txt', '564.txt', '1952.txt', '1729.txt', '1325.txt', '1796.txt', '721.txt', '596.txt', '1073.txt', '1144.txt', '57.txt', '1210.txt', '1167.txt', '939.txt', '1509.txt', '1487.txt', '625.txt', '413.txt', '1091.txt', '947.txt', '818.txt', '1262.txt', '1955.txt', '572.txt', '1046.txt', '1301.txt', '1536.txt', '93.txt', '1437.txt', '157.txt', '1951.txt', '1835.txt', '1484.txt', '2183.txt', '2175.txt', '582.txt', '92.txt', '1043.txt', '375.txt', '1041.txt', '152.txt', '1481.txt', '1639.txt', '782.txt', '2113.txt', '206.txt', '172.txt', '161.txt', '965.txt', '123.txt', '1544.txt', '1121.txt', '335.txt', '1124.txt', '201.txt', '318.txt', '810.txt', '2156.txt', '1941.txt', '1021.txt', '1546.txt', '212.txt', '693.txt', '945.txt', '1654.txt', '1219.txt', '710.txt', '128.txt', '635.txt', '344.txt', '1772.txt', '882.txt', '1749.txt', '591.txt', '889.txt', '1495.txt', '8.txt', '1950.txt', '122.txt', '777.txt', '1217.txt', '306.txt', '1571.txt', '1277.txt', '737.txt', '1742.txt', '179.txt', '698.txt', '1416.txt', '742.txt', '658.txt', '1609.txt', '847.txt', '1126.txt', '1823.txt', '1774.txt', '2141.txt', '1016.txt', '1279.txt', '1037.txt', '812.txt', '764.txt', '548.txt', '1939.txt', '845.txt', '81.txt', '1175.txt', '735.txt', '2049.txt', '987.txt', '1601.txt', '310.txt', '1942.txt', '2024.txt', '1957.txt', '600.txt', '256.txt', '2107.txt', '2027.txt', '1334.txt', '1435.txt', '202.txt', '798.txt', '2125.txt', '2100.txt', '1430.txt', '589.txt', '559.txt', '2033.txt', '904.txt', '1290.txt', '1312.txt', '1163.txt', '711.txt', '1986.txt', '1434.txt', '1127.txt', '392.txt', '63.txt', '871.txt', '2091.txt', '1424.txt', '1552.txt', '1330.txt', '1667.txt', '1905.txt', '1347.txt', '754.txt', '968.txt', '1466.txt', '803.txt', '861.txt', '671.txt', '1265.txt', '383.txt', '1446.txt', '991.txt', '1042.txt', '2001.txt', '1006.txt', '881.txt', '355.txt', '986.txt', '1973.txt', '580.txt', '240.txt', '1100.txt', '234.txt', '648.txt', '1594.txt', '298.txt', '1696.txt', '1189.txt', '1841.txt', '999.txt', '1588.txt', '887.txt', '903.txt', '1366.txt', '1678.txt', '804.txt', '1222.txt', '780.txt', '1071.txt', '160.txt', '857.txt', '1309.txt', '1156.txt', '1436.txt', '2172.txt', '644.txt', '1493.txt', '1578.txt', '674.txt', '1055.txt', '925.txt', '1503.txt', '219.txt', '1084.txt', '948.txt', '757.txt', '977.txt', '249.txt', '1911.txt', '1292.txt', '766.txt', '2144.txt', '23.txt', '1365.txt', '300.txt', '856.txt', '975.txt', '1676.txt', '2185.txt', '895.txt', '992.txt', '414.txt', '1721.txt', '1090.txt', '676.txt', '1191.txt', '1743.txt', '330.txt', '651.txt', '1875.txt', '1419.txt', '1677.txt', '686.txt', '1052.txt', '174.txt', '829.txt', '1999.txt', '68.txt', '1109.txt', '2038.txt', '1383.txt', '866.txt', '1457.txt', '2143.txt', '1731.txt', '1195.txt', '905.txt', '541.txt', '1449.txt', '1566.txt', '2154.txt', '1826.txt', '1179.txt', '1646.txt', '1607.txt', '796.txt', '278.txt', '744.txt', '1616.txt', '1981.txt', '1297.txt', '1871.txt', '1559.txt', '2167.txt', '1176.txt', '16.txt', '1611.txt', '1619.txt', '199.txt', '933.txt', '551.txt', '37.txt', '1027.txt', '955.txt', '1362.txt', '785.txt', '2112.txt', '1846.txt', '2131.txt', '634.txt', '1815.txt', '1048.txt', '930.txt', '1864.txt', '1152.txt', '1227.txt', '590.txt', '168.txt', '2118.txt', '1830.txt', '349.txt', '2066.txt', '2168.txt', '1351.txt', '758.txt', '1170.txt', '1231.txt', '1331.txt', '1142.txt', '1657.txt'] \n",
            " ['2156.key', '2067.key', '1699.key', '610.key', '1686.key', '1725.key', '737.key', '1853.key', '2186.key', '1241.key', '93.key', '190.key', '1608.key', '699.key', '970.key', '13.key', '1968.key', '1636.key', '1514.key', '1887.key', '256.key', '1033.key', '1643.key', '139.key', '364.key', '16.key', '1496.key', '851.key', '1073.key', '224.key', '724.key', '2017.key', '1201.key', '1406.key', '947.key', '134.key', '1018.key', '164.key', '1919.key', '1475.key', '1567.key', '1183.key', '1840.key', '370.key', '1302.key', '1856.key', '1067.key', '168.key', '1042.key', '68.key', '718.key', '750.key', '629.key', '1415.key', '1296.key', '885.key', '1595.key', '12.key', '1215.key', '1986.key', '2167.key', '9.key', '118.key', '1893.key', '312.key', '57.key', '891.key', '1265.key', '1914.key', '1529.key', '798.key', '2152.key', '554.key', '2128.key', '1391.key', '2110.key', '2177.key', '1090.key', '1569.key', '2021.key', '965.key', '888.key', '196.key', '1726.key', '1795.key', '1463.key', '1051.key', '1729.key', '1132.key', '1456.key', '125.key', '871.key', '1555.key', '1140.key', '680.key', '1599.key', '1343.key', '1563.key', '279.key', '1188.key', '2125.key', '1664.key', '2081.key', '1948.key', '775.key', '1558.key', '588.key', '355.key', '1450.key', '1486.key', '2189.key', '749.key', '301.key', '1262.key', '175.key', '854.key', '1560.key', '2144.key', '1405.key', '327.key', '1195.key', '1126.key', '248.key', '824.key', '967.key', '1032.key', '268.key', '2138.key', '811.key', '1981.key', '1656.key', '790.key', '688.key', '1349.key', '1422.key', '1710.key', '325.key', '1890.key', '1957.key', '1439.key', '1282.key', '997.key', '759.key', '1696.key', '1009.key', '1950.key', '1693.key', '1154.key', '1267.key', '1702.key', '1295.key', '1933.key', '1899.key', '2026.key', '2148.key', '1892.key', '264.key', '1507.key', '1428.key', '317.key', '551.key', '643.key', '70.key', '700.key', '1368.key', '1438.key', '1092.key', '329.key', '342.key', '319.key', '830.key', '1965.key', '31.key', '1543.key', '1970.key', '1041.key', '1991.key', '1468.key', '1954.key', '1171.key', '1516.key', '1533.key', '1737.key', '1430.key', '1673.key', '2106.key', '1907.key', '1175.key', '1123.key', '1639.key', '181.key', '2001.key', '860.key', '2179.key', '1597.key', '1665.key', '1878.key', '1047.key', '1035.key', '1259.key', '1144.key', '1884.key', '1521.key', '944.key', '396.key', '1378.key', '374.key', '358.key', '145.key', '1626.key', '880.key', '1868.key', '1550.key', '1561.key', '2137.key', '615.key', '322.key', '1366.key', '1613.key', '568.key', '390.key', '1376.key', '676.key', '328.key', '628.key', '2049.key', '1155.key', '973.key', '828.key', '803.key', '136.key', '117.key', '1615.key', '2183.key', '1129.key', '757.key', '761.key', '1834.key', '1657.key', '555.key', '1021.key', '201.key', '182.key', '1589.key', '1461.key', '205.key', '728.key', '939.key', '1744.key', '258.key', '231.key', '2099.key', '1542.key', '1826.key', '626.key', '607.key', '2042.key', '715.key', '1855.key', '1949.key', '1477.key', '2185.key', '1498.key', '762.key', '929.key', '1714.key', '1559.key', '285.key', '1644.key', '383.key', '33.key', '386.key', '989.key', '2119.key', '649.key', '239.key', '384.key', '111.key', '234.key', '682.key', '1510.key', '1653.key', '1172.key', '1719.key', '1683.key', '55.key', '1308.key', '1532.key', '257.key', '2112.key', '1863.key', '1365.key', '2143.key', '376.key', '873.key', '1703.key', '698.key', '1277.key', '1869.key', '1448.key', '1212.key', '92.key', '691.key', '2115.key', '972.key', '1721.key', '1969.key', '2104.key', '1101.key', '1024.key', '1706.key', '2094.key', '1783.key', '709.key', '304.key', '1745.key', '1342.key', '1464.key', '841.key', '1983.key', '1045.key', '1102.key', '975.key', '1352.key', '171.key', '844.key', '1413.key', '1057.key', '88.key', '260.key', '235.key', '1708.key', '292.key', '911.key', '197.key', '593.key', '1317.key', '135.key', '122.key', '804.key', '849.key', '1937.key', '1426.key', '1751.key', '1724.key', '727.key', '2063.key', '603.key', '567.key', '1167.key', '1611.key', '2032.key', '2068.key', '613.key', '1994.key', '397.key', '1108.key', '1109.key', '2176.key', '925.key', '1966.key', '1803.key', '1291.key', '932.key', '410.key', '675.key', '1936.key', '898.key', '896.key', '1383.key', '8.key', '24.key', '1435.key', '2054.key', '1921.key', '21.key', '648.key', '847.key', '2016.key', '1642.key', '1014.key', '637.key', '2009.key', '17.key', '919.key', '1106.key', '1817.key', '1617.key', '1255.key', '2196.key', '1668.key', '1836.key', '982.key', '1425.key', '1982.key', '39.key', '1593.key', '954.key', '1723.key', '876.key', '249.key', '1377.key', '1483.key', '213.key', '1996.key', '928.key', '1253.key', '401.key', '66.key', '411.key', '540.key', '1246.key', '1086.key', '874.key', '1104.key', '1995.key', '1740.key', '1301.key', '1871.key', '2124.key', '2157.key', '382.key', '246.key', '1830.key', '1008.key', '1698.key', '2.key', '2052.key', '539.key', '67.key', '1985.key', '1307.key', '1562.key', '1984.key', '635.key', '1299.key', '173.key', '2064.key', '845.key', '930.key', '1972.key', '686.key', '272.key', '663.key', '696.key', '2006.key', '1005.key', '155.key', '548.key', '1926.key', '35.key', '187.key', '1011.key', '1194.key', '1525.key', '1192.key', '1288.key', '906.key', '1458.key', '247.key', '801.key', '233.key', '1773.key', '1842.key', '95.key', '1601.key', '169.key', '280.key', '1839.key', '1741.key', '924.key', '1674.key', '1085.key', '306.key', '684.key', '1987.key', '1222.key', '30.key', '1293.key', '1898.key', '623.key', '1247.key', '1408.key', '408.key', '764.key', '284.key', '999.key', '2159.key', '81.key', '541.key', '996.key', '753.key', '1181.key', '1659.key', '1545.key', '2182.key', '1436.key', '1822.key', '977.key', '734.key', '389.key', '241.key', '1040.key', '291.key', '23.key', '2133.key', '1791.key', '2142.key', '1036.key', '832.key', '702.key', '1917.key', '163.key', '2037.key', '102.key', '993.key', '1457.key', '1356.key', '2139.key', '677.key', '747.key', '2173.key', '1786.key', '690.key', '1274.key', '781.key', '62.key', '318.key', '2092.key', '1903.key', '116.key', '1862.key', '73.key', '950.key', '806.key', '1886.key', '368.key', '1497.key', '578.key', '361.key', '148.key', '1485.key', '144.key', '921.key', '664.key', '333.key', '14.key', '78.key', '18.key', '130.key', '1303.key', '2141.key', '1315.key', '105.key', '238.key', '1962.key', '1763.key', '1060.key', '1107.key', '1885.key', '140.key', '1989.key', '542.key', '767.key', '835.key', '1631.key', '1931.key', '1512.key', '673.key', '2172.key', '77.key', '987.key', '752.key', '918.key', '36.key', '120.key', '1001.key', '1827.key', '1250.key', '949.key', '2044.key', '1627.key', '903.key', '791.key', '1300.key', '1219.key', '904.key', '852.key', '621.key', '162.key', '978.key', '1777.key', '1275.key', '189.key', '147.key', '2120.key', '2195.key', '1213.key', '1392.key', '1819.key', '1204.key', '748.key', '842.key', '1077.key', '780.key', '275.key', '1316.key', '1520.key', '1363.key', '90.key', '59.key', '1927.key', '210.key', '1091.key', '601.key', '1915.key', '1728.key', '1099.key', '1640.key', '2103.key', '259.key', '638.key', '365.key', '1959.key', '856.key', '692.key', '1675.key', '1998.key', '392.key', '766.key', '2055.key', '1153.key', '1471.key', '1916.key', '1269.key', '2175.key', '307.key', '2030.key', '1473.key', '100.key', '553.key', '1552.key', '1128.key', '156.key', '1056.key', '1393.key', '1306.key', '1540.key', '1114.key', '11.key', '1977.key', '1534.key', '349.key', '705.key', '294.key', '380.key', '1891.key', '1766.key', '1794.key', '2105.key', '1050.key', '1889.key', '838.key', '114.key', '305.key', '1055.key', '1118.key', '1924.key', '1858.key', '1205.key', '150.key', '739.key', '783.key', '1452.key', '1389.key', '1775.key', '1023.key', '1925.key', '326.key', '2107.key', '323.key', '1866.key', '1647.key', '352.key', '1046.key', '1955.key', '1234.key', '177.key', '94.key', '1256.key', '1623.key', '191.key', '1918.key', '98.key', '616.key', '573.key', '1278.key', '1404.key', '60.key', '716.key', '1843.key', '1771.key', '654.key', '1828.key', '966.key', '1799.key', '377.key', '1951.key', '1390.key', '1494.key', '960.key', '1801.key', '2111.key', '685.key', '1846.key', '1676.key', '611.key', '1756.key', '1216.key', '1318.key', '1845.key', '1203.key', '1004.key', '915.key', '723.key', '754.key', '1976.key', '1920.key', '1445.key', '1600.key', '394.key', '983.key', '1743.key', '1329.key', '132.key', '1115.key', '1066.key', '1495.key', '1832.key', '884.key', '2046.key', '591.key', '2056.key', '203.key', '330.key', '814.key', '2197.key', '110.key', '79.key', '787.key', '868.key', '41.key', '923.key', '184.key', '1312.key', '1607.key', '1908.key', '160.key', '1844.key', '1223.key', '334.key', '1528.key', '1131.key', '281.key', '1864.key', '359.key', '1583.key', '1290.key', '813.key', '2122.key', '354.key', '867.key', '853.key', '1922.key', '1364.key', '1502.key', '1233.key', '1236.key', '892.key', '1395.key', '1354.key', '963.key', '2129.key', '1121.key', '237.key', '1975.key', '756.key', '1509.key', '1874.key', '199.key', '980.key', '840.key', '631.key', '1963.key', '1909.key', '1821.key', '644.key', '356.key', '2096.key', '1176.key', '1010.key', '22.key', '1027.key', '2168.key', '1739.key', '2093.key', '602.key', '609.key', '348.key', '538.key', '774.key', '303.key', '315.key', '652.key', '1063.key', '143.key', '1347.key', '2003.key', '640.key', '1163.key', '1065.key', '881.key', '26.key', '576.key', '1634.key', '174.key', '1283.key', '262.key', '1829.key', '283.key', '776.key', '1079.key', '1625.key', '575.key', '882.key', '72.key', '1455.key', '2187.key', '366.key', '1614.key', '2041.key', '760.key', '650.key', '76.key', '1254.key', '1446.key', '1578.key', '391.key', '1266.key', '1654.key', '872.key', '1064.key', '1025.key', '1165.key', '138.key', '1111.key', '242.key', '1522.key', '1961.key', '204.key', '1006.key', '183.key', '1068.key', '1790.key', '404.key', '1798.key', '1313.key', '848.key', '254.key', '1232.key', '1059.key', '905.key', '1960.key', '340.key', '1727.key', '1138.key', '142.key', '1474.key', '288.key', '2048.key', '83.key', '2019.key', '1152.key', '1442.key', '1956.key', '1765.key', '1500.key', '1037.key', '865.key', '1324.key', '87.key', '113.key', '707.key', '1350.key', '1243.key', '407.key', '566.key', '820.key', '559.key', '1409.key', '957.key', '779.key', '809.key', '1052.key', '1127.key', '1807.key', '769.key', '1882.key', '836.key', '2174.key', '584.key', '1031.key', '1490.key', '346.key', '850.key', '1544.key', '1638.key', '1524.key', '1809.key', '2101.key', '740.key', '1287.key', '863.key', '1896.key', '598.key', '1074.key', '1646.key', '1429.key', '894.key', '1812.key', '1156.key', '1225.key', '1184.key', '772.key', '1029.key', '909.key', '701.key', '1331.key', '1537.key', '99.key', '1433.key', '1758.key', '797.key', '266.key', '165.key', '4.key', '2028.key', '1734.key', '297.key', '1753.key', '808.key', '273.key', '2135.key', '1731.key', '1935.key', '1016.key', '550.key', '1228.key', '1508.key', '810.key', '1341.key', '2011.key', '917.key', '185.key', '825.key', '1852.key', '2153.key', '1527.key', '2169.key', '991.key', '1371.key', '931.key', '782.key', '694.key', '2031.key', '2123.key', '91.key', '1860.key', '1141.key', '1143.key', '335.key', '2191.key', '1333.key', '1895.key', '1418.key', '1531.key', '1596.key', '658.key', '2150.key', '1590.key', '1767.key', '1571.key', '955.key', '179.key', '1304.key', '387.key', '1210.key', '1759.key', '40.key', '912.key', '1320.key', '2192.key', '1372.key', '192.key', '1373.key', '793.key', '1851.key', '1180.key', '1588.key', '2004.key', '796.key', '556.key', '1556.key', '962.key', '1549.key', '907.key', '2163.key', '1481.key', '154.key', '1932.key', '1810.key', '1334.key', '1488.key', '236.key', '71.key', '1943.key', '1162.key', '564.key', '2154.key', '1190.key', '1535.key', '84.key', '1973.key', '1335.key', '765.key', '936.key', '968.key', '2190.key', '893.key', '1565.key', '777.key', '768.key', '570.key', '1735.key', '1876.key', '1505.key', '2002.key', '706.key', '3.key', '819.key', '971.key', '1237.key', '2089.key', '1677.key', '270.key', '625.key', '1289.key', '1479.key', '229.key', '858.key', '1003.key', '311.key', '1159.key', '549.key', '1711.key', '1953.key', '228.key', '1185.key', '1034.key', '34.key', '1465.key', '1815.key', '585.key', '1530.key', '1504.key', '220.key', '726.key', '1742.key', '345.key', '608.key', '2127.key', '1942.key', '1069.key', '1252.key', '1187.key', '1748.key', '263.key', '1879.key', '815.key', '2033.key', '1609.key', '112.key', '218.key', '1947.key', '331.key', '2084.key', '1602.key', '902.key', '1015.key', '794.key', '1150.key', '1547.key', '265.key', '916.key', '115.key', '1548.key', '1323.key', '703.key', '1536.key', '1142.key', '2024.key', '1678.key', '544.key', '1967.key', '1044.key', '1808.key', '207.key', '75.key', '1137.key', '948.key', '1314.key', '807.key', '1309.key', '1764.key', '897.key', '590.key', '1276.key', '1564.key', '1478.key', '1116.key', '1084.key', '2066.key', '1139.key', '1421.key', '1992.key', '1407.key', '1095.key', '1380.key', '1286.key', '1697.key', '1019.key', '1147.key', '2057.key', '1813.key', '743.key', '109.key', '2193.key', '1695.key', '347.key', '208.key', '656.key', '1311.key', '2010.key', '170.key', '711.key', '1157.key', '964.key', '1859.key', '1997.key', '2171.key', '1591.key', '633.key', '589.key', '641.key', '990.key', '293.key', '362.key', '1285.key', '1501.key', '1513.key', '1173.key', '89.key', '1831.key', '1793.key', '2018.key', '1782.key', '1730.key', '1604.key', '1584.key', '713.key', '1177.key', '1787.key', '141.key', '560.key', '1704.key', '829.key', '1338.key', '1292.key', '981.key', '1397.key', '167.key', '1410.key', '1778.key', '1979.key', '353.key', '901.key', '1669.key', '1240.key', '1071.key', '577.key', '1928.key', '1359.key', '119.key', '166.key', '74.key', '1850.key', '1467.key', '1054.key', '37.key', '1823.key', '413.key', '1692.key', '1820.key', '1447.key', '1028.key', '2022.key', '1774.key', '149.key', '1805.key', '1105.key', '1780.key', '1712.key', '1367.key', '594.key', '1459.key', '618.key', '717.key', '1990.key', '1606.key', '351.key', '378.key', '1419.key', '998.key', '193.key', '2013.key', '1148.key', '226.key', '1134.key', '405.key', '799.key', '1198.key', '2126.key', '1605.key', '1672.key', '934.key', '1416.key', '562.key', '2102.key', '878.key', '252.key', '1974.key', '557.key', '344.key', '889.key', '821.key', '632.key', '822.key', '1978.key', '373.key', '974.key', '1248.key', '1043.key', '1133.key', '719.key', '1980.key', '367.key', '1080.key', '1940.key', '1049.key', '2181.key', '1362.key', '261.key', '1227.key', '1694.key', '1769.key', '85.key', '1199.key', '1117.key', '286.key', '653.key', '883.key', '58.key', '107.key', '1166.key', '2199.key', '741.key', '958.key', '2023.key', '1902.key', '2180.key', '1379.key', '1229.key', '152.key', '1449.key', '587.key', '1355.key', '1618.key', '744.key', '1124.key', '1326.key', '1328.key', '671.key', '240.key', '2039.key', '38.key', '1620.key', '755.key', '785.key', '827.key', '1451.key', '1353.key', '592.key', '1663.key', '1431.key', '1881.key', '933.key', '2131.key', '2051.key', '1332.key', '988.key', '2000.key', '1877.key', '1093.key', '1628.key', '875.key', '695.key', '1469.key', '1682.key', '1231.key', '2164.key', '634.key', '1053.key', '655.key', '212.key', '32.key', '1901.key', '1517.key', '714.key', '1191.key', '296.key', '1732.key', '2170.key', '176.key', '1523.key', '1261.key', '627.key', '276.key', '1785.key', '770.key', '1492.key', '745.key', '1370.key', '1910.key', '543.key', '1491.key', '211.key', '1649.key', '27.key', '926.key', '146.key', '1113.key', '1337.key', '942.key', '1760.key', '1061.key', '945.key', '398.key', '2090.key', '1360.key', '82.key', '1700.key', '818.key', '400.key', '1833.key', '1592.key', '1351.key', '332.key', '2007.key', '1268.key', '1081.key', '2062.key', '2069.key', '1738.key', '1294.key', '1929.key', '712.key', '158.key', '1170.key', '1894.key', '1082.key', '1273.key', '639.key', '642.key', '1635.key', '1207.key', '1218.key', '837.key', '64.key', '1424.key', '733.key', '278.key', '1420.key', '1136.key', '25.key', '1251.key', '338.key', '157.key', '198.key', '563.key', '1072.key', '214.key', '1325.key', '1097.key', '1310.key', '704.key', '552.key', '1814.key', '194.key', '2083.key', '1493.key', '1648.key', '253.key', '661.key', '1412.key', '1518.key', '2095.key', '1441.key', '1594.key', '1417.key', '1934.key', '742.key', '381.key', '2040.key', '614.key', '600.key', '1905.key', '1472.key', '2045.key', '393.key', '1149.key', '1411.key', '1002.key', '1847.key', '300.key', '1993.key', '1515.key', '1645.key', '1235.key', '1789.key', '339.key', '1186.key', '2149.key', '927.key', '1911.key', '1688.key', '2025.key', '1482.key', '302.key', '558.key', '2005.key', '1245.key', '243.key', '1792.key', '2162.key', '298.key', '1750.key', '1875.key', '86.key', '388.key', '29.key', '1838.key', '1369.key', '866.key', '1788.key', '133.key', '1146.key', '1897.key', '1414.key', '1603.key', '1541.key', '178.key', '1427.key', '877.key', '2200.key', '2008.key', '730.key', '869.key', '1519.key', '341.key', '200.key', '2166.key', '277.key', '895.key', '1208.key', '7.key', '1755.key', '697.key', '1386.key', '1062.key', '1281.key', '271.key', '846.key', '1849.key', '1687.key', '1841.key', '2109.key', '2132.key', '287.key', '961.key', '1779.key', '1622.key', '596.key', '855.key', '1804.key', '96.key', '1964.key', '1667.key', '1087.key', '994.key', '1621.key', '561.key', '1749.key', '805.key', '758.key', '282.key', '321.key', '1346.key', '1624.key', '1671.key', '1197.key', '2060.key', '861.key', '1598.key', '1806.key', '1221.key', '597.key', '2086.key', '1164.key', '788.key', '1305.key', '720.key', '1076.key', '1716.key', '574.key', '1570.key', '309.key', '1130.key', '1768.key', '1382.key', '129.key', '571.key', '1098.key', '1489.key', '1242.key', '1196.key', '274.key', '1906.key', '1112.key', '161.key', '2029.key', '1554.key', '19.key', '1476.key', '678.key', '630.key', '2165.key', '1632.key', '219.key', '1802.key', '935.key', '1271.key', '547.key', '232.key', '269.key', '732.key', '823.key', '599.key', '1125.key', '870.key', '1193.key', '2027.key', '80.key', '1685.key', '379.key', '1174.key', '1122.key', '320.key', '1553.key', '1707.key', '1818.key', '1660.key', '2116.key', '1135.key', '1715.key', '659.key', '1796.key', '879.key', '1169.key', '546.key', '2147.key', '606.key', '1022.key', '660.key', '802.key', '414.key', '2108.key', '375.key', '1761.key', '20.key', '106.key', '657.key', '1873.key', '1619.key', '1039.key', '1443.key', '1462.key', '735.key', '2014.key', '1279.key', '255.key', '1854.key', '886.key', '1971.key', '1629.key', '403.key', '1538.key', '778.key', '56.key', '579.key', '2117.key', '899.key', '2038.key', '172.key', '1865.key', '1466.key', '1930.key', '251.key', '979.key', '683.key', '2035.key', '1680.key', '2184.key', '862.key', '1546.key', '1058.key', '956.key', '857.key', '605.key', '920.key', '1340.key', '738.key', '1017.key', '725.key', '2158.key', '2118.key', '1837.key', '1284.key', '1888.key', '1264.key', '2188.key', '1440.key', '812.key', '1824.key', '1453.key', '216.key', '2061.key', '995.key', '1110.key', '681.key', '914.key', '54.key', '209.key', '1374.key', '1088.key', '569.key', '108.key', '2097.key', '151.key', '1825.key', '223.key', '153.key', '2161.key', '951.key', '710.key', '751.key', '941.key', '1158.key', '1244.key', '583.key', '1999.key', '1348.key', '646.key', '1094.key', '2082.key', '369.key', '2070.key', '946.key', '1487.key', '313.key', '1526.key', '2043.key', '937.key', '1000.key', '1297.key', '1883.key', '2194.key', '1913.key', '1952.key', '1078.key', '188.key', '1904.key', '1357.key', '1178.key', '839.key', '1402.key', '1781.key', '1381.key', '622.key', '159.key', '922.key', '1572.key', '2047.key', '385.key', '890.key', '1396.key', '1958.key', '1923.key', '1211.key', '887.key', '2140.key', '1658.key', '6.key', '2053.key', '969.key', '316.key', '28.key', '1330.key', '412.key', '986.key', '1200.key', '1339.key', '1020.key', '314.key', '689.key', '1713.key', '289.key', '1280.key', '1100.key', '1272.key', '826.key', '959.key', '1206.key', '1941.key', '1717.key', '940.key', '2100.key', '63.key', '343.key', '2134.key', '1900.key', '2113.key', '1637.key', '913.key', '1432.key', '1861.key', '2198.key', '1013.key', '645.key', '938.key', '1797.key', '612.key', '1214.key', '1867.key', '69.key', '784.key', '651.key', '2130.key', '1733.key', '953.key', '1070.key', '1551.key', '2114.key', '1772.key', '1182.key', '245.key', '1816.key', '1030.key', '2136.key', '1670.key', '121.key', '816.key', '1460.key', '230.key', '731.key', '1202.key', '674.key', '859.key', '1096.key', '1770.key', '1384.key', '124.key', '2098.key', '565.key', '1336.key', '2059.key', '1270.key', '1007.key', '1988.key', '943.key', '771.key', '1119.key', '227.key', '1655.key', '250.key', '1319.key', '679.key', '1511.key', '985.key', '580.key', '773.key', '206.key', '636.key', '1652.key', '800.key', '1752.key', '908.key', '1437.key', '1260.key', '1398.key', '572.key', '406.key', '2020.key', '1681.key', '1784.key', '1385.key', '1568.key', '1574.key', '217.key', '65.key', '1872.key', '97.key', '324.key', '202.key', '357.key', '402.key', '976.key', '1616.key', '1705.key', '15.key', '225.key', '1189.key', '1470.key', '693.key', '1746.key', '1754.key', '2015.key', '180.key', '1557.key', '1539.key', '1736.key', '1762.key', '1800.key', '2151.key', '581.key', '687.key', '1484.key', '992.key', '1089.key', '708.key', '267.key', '1434.key', '215.key', '586.key', '1238.key', '1345.key', '1835.key', '1168.key', '1641.key', '1257.key', '1610.key', '127.key', '831.key', '2050.key', '1226.key', '1666.key', '1217.key', '128.key', '1361.key', '864.key', '545.key', '1220.key', '2012.key', '1650.key', '360.key', '595.key', '736.key', '395.key', '1848.key', '1811.key', '299.key', '1083.key', '2121.key', '1776.key', '647.key', '746.key', '1120.key', '310.key', '363.key', '1161.key', '1633.key', '1249.key', '1145.key', '2065.key', '795.key', '2145.key', '244.key', '1375.key', '1938.key', '619.key', '1258.key', '1944.key', '2036.key', '1946.key', '1503.key', '1038.key', '1179.key', '2160.key', '2088.key', '984.key', '1684.key', '843.key', '763.key', '1945.key', '1344.key', '186.key', '1679.key', '1160.key', '399.key', '1403.key', '1880.key', '721.key', '295.key', '1224.key', '1394.key', '195.key', '910.key', '1209.key', '1757.key', '617.key', '1444.key', '1870.key', '722.key', '1506.key', '1701.key', '350.key', '1630.key', '61.key', '290.key', '1709.key', '123.key', '2087.key', '834.key', '1103.key', '817.key', '604.key', '2178.key', '1239.key', '1151.key', '620.key', '582.key', '1298.key', '1747.key', '1358.key', '1012.key', '2058.key', '126.key', '1912.key', '1048.key', '308.key', '1566.key', '1423.key', '2085.key', '1939.key', '137.key', '1230.key', '1026.key', '900.key', '1263.key', '2146.key', '131.key', '792.key', '624.key', '2091.key', '1499.key', '371.key', '1075.key', '833.key', '1651.key', '1480.key', '1661.key']\n"
          ]
        }
      ]
    },
    {
      "cell_type": "code",
      "source": [
        "import pandas as pd"
      ],
      "metadata": {
        "id": "pPJslsgSeUdI"
      },
      "execution_count": null,
      "outputs": []
    },
    {
      "cell_type": "code",
      "source": [
        "import numpy as np\n",
        "import ast\n",
        "############ Average p@k and mean avg P@k metric\n",
        "\n",
        "\n",
        "def preproc_keys(key_list):\n",
        "  kws = []\n",
        "  key_list = ast.literal_eval(key_list)\n",
        "  for kw in key_list:\n",
        "    kws.append(processing(kw))\n",
        "  return kws\n",
        "def processing(t):\n",
        "  return t.replace('\\n','').replace('\\t','').replace(\"'\\\\'\",'').strip()\n",
        "\n",
        "def apk(actual, predicted, k=10):\n",
        "    if len(predicted)>k:\n",
        "        predicted = predicted[:k]\n",
        "\n",
        "    score = 0.0\n",
        "    num_hits = 0.0\n",
        "\n",
        "    for i,p in enumerate(predicted):\n",
        "        # print(p)\n",
        "        if p in actual and p not in predicted[:i]:\n",
        "            # print(p , 'in ', actual)\n",
        "            num_hits += 1.0\n",
        "            score += num_hits / (i+1.0)\n",
        "    if not actual:\n",
        "        return 0.0\n",
        "    # print(score)\n",
        "    return score / min(len(actual), k)\n",
        "\n",
        "def mapk(actual, predicted, k=10):\n",
        "    return np.mean([apk(a,p,k) for a,p in zip(actual, predicted)])"
      ],
      "metadata": {
        "id": "-avZkz9nqGjs"
      },
      "execution_count": null,
      "outputs": []
    },
    {
      "cell_type": "code",
      "source": [
        "incpec_data = pd.read_csv(\"/content/drive/MyDrive/PHD/article2023YA/data/incpec_data\", sep =\"\\t\")\n",
        "incpec_data.head()"
      ],
      "metadata": {
        "colab": {
          "base_uri": "https://localhost:8080/",
          "height": 206
        },
        "id": "fGe7PfZwiZWm",
        "outputId": "72072a8b-cea6-4161-891c-8f16c2b8d40d"
      },
      "execution_count": null,
      "outputs": [
        {
          "output_type": "execute_result",
          "data": {
            "text/plain": [
              "   Unnamed: 0                                           goldkeys  \\\n",
              "0           0  ['sampling density compensation', ' MRI image ...   \n",
              "1           1  ['vanishing point estimation', ' automatic dri...   \n",
              "2           2  ['high-fidelity finite element model', ' kidne...   \n",
              "3           3  ['level set methods', ' topology-adaptive mode...   \n",
              "4           4  ['mission planning', ' regional surveillance',...   \n",
              "\n",
              "                                                text  \n",
              "0  Reconstruction of MR images from data acquired...  \n",
              "1  Estimation of the vanishing point for automati...  \n",
              "2  The creation of a high-fidelity finite element...  \n",
              "3  Topology-adaptive modeling of objects using su...  \n",
              "4  Mission planning for regional surveillance\\n T...  "
            ],
            "text/html": [
              "\n",
              "  <div id=\"df-dc147166-2d4d-4a3f-afd4-bde19010a5f4\">\n",
              "    <div class=\"colab-df-container\">\n",
              "      <div>\n",
              "<style scoped>\n",
              "    .dataframe tbody tr th:only-of-type {\n",
              "        vertical-align: middle;\n",
              "    }\n",
              "\n",
              "    .dataframe tbody tr th {\n",
              "        vertical-align: top;\n",
              "    }\n",
              "\n",
              "    .dataframe thead th {\n",
              "        text-align: right;\n",
              "    }\n",
              "</style>\n",
              "<table border=\"1\" class=\"dataframe\">\n",
              "  <thead>\n",
              "    <tr style=\"text-align: right;\">\n",
              "      <th></th>\n",
              "      <th>Unnamed: 0</th>\n",
              "      <th>goldkeys</th>\n",
              "      <th>text</th>\n",
              "    </tr>\n",
              "  </thead>\n",
              "  <tbody>\n",
              "    <tr>\n",
              "      <th>0</th>\n",
              "      <td>0</td>\n",
              "      <td>['sampling density compensation', ' MRI image ...</td>\n",
              "      <td>Reconstruction of MR images from data acquired...</td>\n",
              "    </tr>\n",
              "    <tr>\n",
              "      <th>1</th>\n",
              "      <td>1</td>\n",
              "      <td>['vanishing point estimation', ' automatic dri...</td>\n",
              "      <td>Estimation of the vanishing point for automati...</td>\n",
              "    </tr>\n",
              "    <tr>\n",
              "      <th>2</th>\n",
              "      <td>2</td>\n",
              "      <td>['high-fidelity finite element model', ' kidne...</td>\n",
              "      <td>The creation of a high-fidelity finite element...</td>\n",
              "    </tr>\n",
              "    <tr>\n",
              "      <th>3</th>\n",
              "      <td>3</td>\n",
              "      <td>['level set methods', ' topology-adaptive mode...</td>\n",
              "      <td>Topology-adaptive modeling of objects using su...</td>\n",
              "    </tr>\n",
              "    <tr>\n",
              "      <th>4</th>\n",
              "      <td>4</td>\n",
              "      <td>['mission planning', ' regional surveillance',...</td>\n",
              "      <td>Mission planning for regional surveillance\\n T...</td>\n",
              "    </tr>\n",
              "  </tbody>\n",
              "</table>\n",
              "</div>\n",
              "      <button class=\"colab-df-convert\" onclick=\"convertToInteractive('df-dc147166-2d4d-4a3f-afd4-bde19010a5f4')\"\n",
              "              title=\"Convert this dataframe to an interactive table.\"\n",
              "              style=\"display:none;\">\n",
              "        \n",
              "  <svg xmlns=\"http://www.w3.org/2000/svg\" height=\"24px\"viewBox=\"0 0 24 24\"\n",
              "       width=\"24px\">\n",
              "    <path d=\"M0 0h24v24H0V0z\" fill=\"none\"/>\n",
              "    <path d=\"M18.56 5.44l.94 2.06.94-2.06 2.06-.94-2.06-.94-.94-2.06-.94 2.06-2.06.94zm-11 1L8.5 8.5l.94-2.06 2.06-.94-2.06-.94L8.5 2.5l-.94 2.06-2.06.94zm10 10l.94 2.06.94-2.06 2.06-.94-2.06-.94-.94-2.06-.94 2.06-2.06.94z\"/><path d=\"M17.41 7.96l-1.37-1.37c-.4-.4-.92-.59-1.43-.59-.52 0-1.04.2-1.43.59L10.3 9.45l-7.72 7.72c-.78.78-.78 2.05 0 2.83L4 21.41c.39.39.9.59 1.41.59.51 0 1.02-.2 1.41-.59l7.78-7.78 2.81-2.81c.8-.78.8-2.07 0-2.86zM5.41 20L4 18.59l7.72-7.72 1.47 1.35L5.41 20z\"/>\n",
              "  </svg>\n",
              "      </button>\n",
              "      \n",
              "  <style>\n",
              "    .colab-df-container {\n",
              "      display:flex;\n",
              "      flex-wrap:wrap;\n",
              "      gap: 12px;\n",
              "    }\n",
              "\n",
              "    .colab-df-convert {\n",
              "      background-color: #E8F0FE;\n",
              "      border: none;\n",
              "      border-radius: 50%;\n",
              "      cursor: pointer;\n",
              "      display: none;\n",
              "      fill: #1967D2;\n",
              "      height: 32px;\n",
              "      padding: 0 0 0 0;\n",
              "      width: 32px;\n",
              "    }\n",
              "\n",
              "    .colab-df-convert:hover {\n",
              "      background-color: #E2EBFA;\n",
              "      box-shadow: 0px 1px 2px rgba(60, 64, 67, 0.3), 0px 1px 3px 1px rgba(60, 64, 67, 0.15);\n",
              "      fill: #174EA6;\n",
              "    }\n",
              "\n",
              "    [theme=dark] .colab-df-convert {\n",
              "      background-color: #3B4455;\n",
              "      fill: #D2E3FC;\n",
              "    }\n",
              "\n",
              "    [theme=dark] .colab-df-convert:hover {\n",
              "      background-color: #434B5C;\n",
              "      box-shadow: 0px 1px 3px 1px rgba(0, 0, 0, 0.15);\n",
              "      filter: drop-shadow(0px 1px 2px rgba(0, 0, 0, 0.3));\n",
              "      fill: #FFFFFF;\n",
              "    }\n",
              "  </style>\n",
              "\n",
              "      <script>\n",
              "        const buttonEl =\n",
              "          document.querySelector('#df-dc147166-2d4d-4a3f-afd4-bde19010a5f4 button.colab-df-convert');\n",
              "        buttonEl.style.display =\n",
              "          google.colab.kernel.accessAllowed ? 'block' : 'none';\n",
              "\n",
              "        async function convertToInteractive(key) {\n",
              "          const element = document.querySelector('#df-dc147166-2d4d-4a3f-afd4-bde19010a5f4');\n",
              "          const dataTable =\n",
              "            await google.colab.kernel.invokeFunction('convertToInteractive',\n",
              "                                                     [key], {});\n",
              "          if (!dataTable) return;\n",
              "\n",
              "          const docLinkHtml = 'Like what you see? Visit the ' +\n",
              "            '<a target=\"_blank\" href=https://colab.research.google.com/notebooks/data_table.ipynb>data table notebook</a>'\n",
              "            + ' to learn more about interactive tables.';\n",
              "          element.innerHTML = '';\n",
              "          dataTable['output_type'] = 'display_data';\n",
              "          await google.colab.output.renderOutput(dataTable, element);\n",
              "          const docLink = document.createElement('div');\n",
              "          docLink.innerHTML = docLinkHtml;\n",
              "          element.appendChild(docLink);\n",
              "        }\n",
              "      </script>\n",
              "    </div>\n",
              "  </div>\n",
              "  "
            ]
          },
          "metadata": {},
          "execution_count": 22
        }
      ]
    },
    {
      "cell_type": "code",
      "source": [
        "incpec_data['cleaned_text'] = incpec_data.text.apply(lambda x: processing(x))\n",
        "incpec_data['goldkeys_cleaned'] = incpec_data.goldkeys.apply(lambda x: preproc_keys(x))"
      ],
      "metadata": {
        "id": "hJBWQGh7eM2k"
      },
      "execution_count": null,
      "outputs": []
    },
    {
      "cell_type": "code",
      "source": [
        "df = incpec_data.loc[0:100]"
      ],
      "metadata": {
        "id": "55i62In-eMv-"
      },
      "execution_count": null,
      "outputs": []
    },
    {
      "cell_type": "code",
      "source": [],
      "metadata": {
        "id": "ycDB7g1hlnvQ"
      },
      "execution_count": null,
      "outputs": []
    },
    {
      "cell_type": "markdown",
      "source": [
        "# TF"
      ],
      "metadata": {
        "id": "emtg-HYWlo5I"
      }
    },
    {
      "cell_type": "code",
      "source": [
        "gold_kws = incpec_data.goldkeys_cleaned.tolist()[0:100]\n",
        "docs = incpec_data.cleaned_text.tolist()[0:100]"
      ],
      "metadata": {
        "id": "RY1U3Pi7l0le"
      },
      "execution_count": null,
      "outputs": []
    },
    {
      "cell_type": "code",
      "source": [
        "from sklearn.feature_extraction.text import CountVectorizer\n",
        "\n",
        "vectorizer = CountVectorizer(ngram_range=(1,1), stop_words = \"english\" )\n",
        "vectors = vectorizer.fit_transform(docs)\n",
        "##########################\n",
        "index_value={i[1]:i[0] for i in vectorizer.vocabulary_.items()}\n",
        "\n",
        "############################\n",
        "\n",
        "tf_vectors = []  # all deoc vectors by tfidf\n",
        "for row in vectors:\n",
        "  tf_vectors.append({index_value[column]:value for (column,value) in zip(row.indices,row.data)})"
      ],
      "metadata": {
        "id": "67CvYecylqbN"
      },
      "execution_count": null,
      "outputs": []
    },
    {
      "cell_type": "code",
      "source": [
        "tf_vectors[0]"
      ],
      "metadata": {
        "colab": {
          "base_uri": "https://localhost:8080/"
        },
        "id": "T5u5l_AKl8j3",
        "outputId": "db0d6b61-4c48-488b-c530-ebc90c01b3d1"
      },
      "execution_count": null,
      "outputs": [
        {
          "output_type": "execute_result",
          "data": {
            "text/plain": [
              "{'reconstruction': 1,\n",
              " 'mr': 2,\n",
              " 'images': 4,\n",
              " 'data': 4,\n",
              " 'acquired': 3,\n",
              " 'arbitrary': 2,\n",
              " 'space': 2,\n",
              " 'trajectory': 3,\n",
              " 'using': 1,\n",
              " 'image': 2,\n",
              " 'weight': 8,\n",
              " 'sampling': 1,\n",
              " 'density': 1,\n",
              " 'compensation': 1,\n",
              " 'function': 1,\n",
              " 'denoted': 1,\n",
              " 'si': 5,\n",
              " 'proposed': 1,\n",
              " 'reconstruct': 2,\n",
              " 'equation': 1,\n",
              " 'established': 1,\n",
              " 'criterion': 1,\n",
              " 'iterative': 1,\n",
              " 'scheme': 1,\n",
              " 'developed': 1,\n",
              " 'used': 2,\n",
              " 'calculated': 1,\n",
              " 'random': 1,\n",
              " 'numerical': 1,\n",
              " 'phantom': 1,\n",
              " 'case': 1,\n",
              " 'interleaved': 1,\n",
              " 'spirals': 1,\n",
              " 'vivo': 1,\n",
              " 'experiment': 1,\n",
              " 'respectively': 1,\n",
              " 'addition': 1,\n",
              " 'pipe': 2,\n",
              " 'menon': 1,\n",
              " 'mrm': 1,\n",
              " '1999': 1,\n",
              " '41': 1,\n",
              " '179': 1,\n",
              " '186': 1,\n",
              " 'reconstructions': 1,\n",
              " 'make': 1,\n",
              " 'comparison': 1,\n",
              " 'obtained': 2,\n",
              " 'slightly': 1,\n",
              " 'accurate': 1}"
            ]
          },
          "metadata": {},
          "execution_count": 11
        }
      ]
    },
    {
      "cell_type": "code",
      "source": [
        "doc_sorted_tfidfs =[]  # list of doc features each with tf weight\n",
        "#sort each dict of a document\n",
        "for dn in tf_vectors:\n",
        "  newD = sorted(dn.items(), key=lambda x: x[1], reverse=True)\n",
        "  newD = dict(newD)\n",
        "  doc_sorted_tfidfs.append(newD)"
      ],
      "metadata": {
        "id": "Zayns-Z-mUKH"
      },
      "execution_count": null,
      "outputs": []
    },
    {
      "cell_type": "code",
      "source": [
        "doc_sorted_tfidfs[0]"
      ],
      "metadata": {
        "id": "l82Ke3xImbKF"
      },
      "execution_count": null,
      "outputs": []
    },
    {
      "cell_type": "code",
      "source": [
        "gold_kws[0]"
      ],
      "metadata": {
        "colab": {
          "base_uri": "https://localhost:8080/"
        },
        "id": "duopPr6J0pQV",
        "outputId": "f1f80407-5423-47aa-a3fe-cc5b686b2d0c"
      },
      "execution_count": null,
      "outputs": [
        {
          "output_type": "execute_result",
          "data": {
            "text/plain": [
              "['sampling density compensation',\n",
              " 'MRI image reconstruction',\n",
              " 'arbitrary k-space trajectory',\n",
              " 'spiral trajectory',\n",
              " 'same-image weight',\n",
              " 'random trajectory',\n",
              " 'convolution function',\n",
              " 'numerical phantom',\n",
              " 'Nyquist sampling conditions',\n",
              " 'iterative algorithm',\n",
              " 'weighting function',\n",
              " 'biomedical MRI',\n",
              " 'convolution',\n",
              " 'image reconstruction',\n",
              " 'image sampling',\n",
              " 'iterative methods',\n",
              " 'medical image processing',\n",
              " '']"
            ]
          },
          "metadata": {},
          "execution_count": 15
        }
      ]
    },
    {
      "cell_type": "code",
      "source": [
        "# remove duplication from kws\n",
        "# if kw has unigram with high freq set it in top N\n",
        "all_kw = []\n",
        "for i, doc_kw in enumeration(all_kw):\n",
        "  topN = [] # ranked kw\n",
        "  kw_dict ={}\n",
        "  for kw in doc_kw:\n",
        "    if set(kw.split()) & set(topN):\n",
        "      if kw in kw_dict.keys():\n",
        "        kw_dict[kw] = kw_dict[kw] + len(set(kw.split()) & set(topN))\n",
        "      else:\n",
        "        kw_dict[kw] = len(&)"
      ],
      "metadata": {
        "id": "V-jIfjxRmfgw"
      },
      "execution_count": null,
      "outputs": []
    },
    {
      "cell_type": "markdown",
      "source": [
        "# SpaCy"
      ],
      "metadata": {
        "id": "PFK9SwCjiyqw"
      }
    },
    {
      "cell_type": "code",
      "source": [
        "!python -m spacy download en_core_web_lg"
      ],
      "metadata": {
        "id": "620QOuT1nav9",
        "colab": {
          "base_uri": "https://localhost:8080/"
        },
        "outputId": "5deccf63-4e10-49ce-b9ec-19d91415c91a"
      },
      "execution_count": null,
      "outputs": [
        {
          "output_type": "stream",
          "name": "stdout",
          "text": [
            "2023-07-14 12:53:01.081216: I tensorflow/core/platform/cpu_feature_guard.cc:182] This TensorFlow binary is optimized to use available CPU instructions in performance-critical operations.\n",
            "To enable the following instructions: AVX2 FMA, in other operations, rebuild TensorFlow with the appropriate compiler flags.\n",
            "2023-07-14 12:53:02.679473: W tensorflow/compiler/tf2tensorrt/utils/py_utils.cc:38] TF-TRT Warning: Could not find TensorRT\n",
            "Collecting en-core-web-lg==3.5.0\n",
            "  Downloading https://github.com/explosion/spacy-models/releases/download/en_core_web_lg-3.5.0/en_core_web_lg-3.5.0-py3-none-any.whl (587.7 MB)\n",
            "\u001b[2K     \u001b[90m━━━━━━━━━━━━━━━━━━━━━━━━━━━━━━━━━━━━━\u001b[0m \u001b[32m587.7/587.7 MB\u001b[0m \u001b[31m947.1 kB/s\u001b[0m eta \u001b[36m0:00:00\u001b[0m\n",
            "\u001b[?25hRequirement already satisfied: spacy<3.6.0,>=3.5.0 in /usr/local/lib/python3.10/dist-packages (from en-core-web-lg==3.5.0) (3.5.4)\n",
            "Requirement already satisfied: spacy-legacy<3.1.0,>=3.0.11 in /usr/local/lib/python3.10/dist-packages (from spacy<3.6.0,>=3.5.0->en-core-web-lg==3.5.0) (3.0.12)\n",
            "Requirement already satisfied: spacy-loggers<2.0.0,>=1.0.0 in /usr/local/lib/python3.10/dist-packages (from spacy<3.6.0,>=3.5.0->en-core-web-lg==3.5.0) (1.0.4)\n",
            "Requirement already satisfied: murmurhash<1.1.0,>=0.28.0 in /usr/local/lib/python3.10/dist-packages (from spacy<3.6.0,>=3.5.0->en-core-web-lg==3.5.0) (1.0.9)\n",
            "Requirement already satisfied: cymem<2.1.0,>=2.0.2 in /usr/local/lib/python3.10/dist-packages (from spacy<3.6.0,>=3.5.0->en-core-web-lg==3.5.0) (2.0.7)\n",
            "Requirement already satisfied: preshed<3.1.0,>=3.0.2 in /usr/local/lib/python3.10/dist-packages (from spacy<3.6.0,>=3.5.0->en-core-web-lg==3.5.0) (3.0.8)\n",
            "Requirement already satisfied: thinc<8.2.0,>=8.1.8 in /usr/local/lib/python3.10/dist-packages (from spacy<3.6.0,>=3.5.0->en-core-web-lg==3.5.0) (8.1.10)\n",
            "Requirement already satisfied: wasabi<1.2.0,>=0.9.1 in /usr/local/lib/python3.10/dist-packages (from spacy<3.6.0,>=3.5.0->en-core-web-lg==3.5.0) (1.1.2)\n",
            "Requirement already satisfied: srsly<3.0.0,>=2.4.3 in /usr/local/lib/python3.10/dist-packages (from spacy<3.6.0,>=3.5.0->en-core-web-lg==3.5.0) (2.4.6)\n",
            "Requirement already satisfied: catalogue<2.1.0,>=2.0.6 in /usr/local/lib/python3.10/dist-packages (from spacy<3.6.0,>=3.5.0->en-core-web-lg==3.5.0) (2.0.8)\n",
            "Requirement already satisfied: typer<0.10.0,>=0.3.0 in /usr/local/lib/python3.10/dist-packages (from spacy<3.6.0,>=3.5.0->en-core-web-lg==3.5.0) (0.9.0)\n",
            "Requirement already satisfied: pathy>=0.10.0 in /usr/local/lib/python3.10/dist-packages (from spacy<3.6.0,>=3.5.0->en-core-web-lg==3.5.0) (0.10.2)\n",
            "Requirement already satisfied: smart-open<7.0.0,>=5.2.1 in /usr/local/lib/python3.10/dist-packages (from spacy<3.6.0,>=3.5.0->en-core-web-lg==3.5.0) (6.3.0)\n",
            "Requirement already satisfied: tqdm<5.0.0,>=4.38.0 in /usr/local/lib/python3.10/dist-packages (from spacy<3.6.0,>=3.5.0->en-core-web-lg==3.5.0) (4.65.0)\n",
            "Requirement already satisfied: numpy>=1.15.0 in /usr/local/lib/python3.10/dist-packages (from spacy<3.6.0,>=3.5.0->en-core-web-lg==3.5.0) (1.22.4)\n",
            "Requirement already satisfied: requests<3.0.0,>=2.13.0 in /usr/local/lib/python3.10/dist-packages (from spacy<3.6.0,>=3.5.0->en-core-web-lg==3.5.0) (2.27.1)\n",
            "Requirement already satisfied: pydantic!=1.8,!=1.8.1,<1.11.0,>=1.7.4 in /usr/local/lib/python3.10/dist-packages (from spacy<3.6.0,>=3.5.0->en-core-web-lg==3.5.0) (1.10.11)\n",
            "Requirement already satisfied: jinja2 in /usr/local/lib/python3.10/dist-packages (from spacy<3.6.0,>=3.5.0->en-core-web-lg==3.5.0) (3.1.2)\n",
            "Requirement already satisfied: setuptools in /usr/local/lib/python3.10/dist-packages (from spacy<3.6.0,>=3.5.0->en-core-web-lg==3.5.0) (67.7.2)\n",
            "Requirement already satisfied: packaging>=20.0 in /usr/local/lib/python3.10/dist-packages (from spacy<3.6.0,>=3.5.0->en-core-web-lg==3.5.0) (23.1)\n",
            "Requirement already satisfied: langcodes<4.0.0,>=3.2.0 in /usr/local/lib/python3.10/dist-packages (from spacy<3.6.0,>=3.5.0->en-core-web-lg==3.5.0) (3.3.0)\n",
            "Requirement already satisfied: typing-extensions>=4.2.0 in /usr/local/lib/python3.10/dist-packages (from pydantic!=1.8,!=1.8.1,<1.11.0,>=1.7.4->spacy<3.6.0,>=3.5.0->en-core-web-lg==3.5.0) (4.7.1)\n",
            "Requirement already satisfied: urllib3<1.27,>=1.21.1 in /usr/local/lib/python3.10/dist-packages (from requests<3.0.0,>=2.13.0->spacy<3.6.0,>=3.5.0->en-core-web-lg==3.5.0) (1.26.16)\n",
            "Requirement already satisfied: certifi>=2017.4.17 in /usr/local/lib/python3.10/dist-packages (from requests<3.0.0,>=2.13.0->spacy<3.6.0,>=3.5.0->en-core-web-lg==3.5.0) (2023.5.7)\n",
            "Requirement already satisfied: charset-normalizer~=2.0.0 in /usr/local/lib/python3.10/dist-packages (from requests<3.0.0,>=2.13.0->spacy<3.6.0,>=3.5.0->en-core-web-lg==3.5.0) (2.0.12)\n",
            "Requirement already satisfied: idna<4,>=2.5 in /usr/local/lib/python3.10/dist-packages (from requests<3.0.0,>=2.13.0->spacy<3.6.0,>=3.5.0->en-core-web-lg==3.5.0) (3.4)\n",
            "Requirement already satisfied: blis<0.8.0,>=0.7.8 in /usr/local/lib/python3.10/dist-packages (from thinc<8.2.0,>=8.1.8->spacy<3.6.0,>=3.5.0->en-core-web-lg==3.5.0) (0.7.9)\n",
            "Requirement already satisfied: confection<1.0.0,>=0.0.1 in /usr/local/lib/python3.10/dist-packages (from thinc<8.2.0,>=8.1.8->spacy<3.6.0,>=3.5.0->en-core-web-lg==3.5.0) (0.1.0)\n",
            "Requirement already satisfied: click<9.0.0,>=7.1.1 in /usr/local/lib/python3.10/dist-packages (from typer<0.10.0,>=0.3.0->spacy<3.6.0,>=3.5.0->en-core-web-lg==3.5.0) (8.1.4)\n",
            "Requirement already satisfied: MarkupSafe>=2.0 in /usr/local/lib/python3.10/dist-packages (from jinja2->spacy<3.6.0,>=3.5.0->en-core-web-lg==3.5.0) (2.1.3)\n",
            "Installing collected packages: en-core-web-lg\n",
            "Successfully installed en-core-web-lg-3.5.0\n",
            "\u001b[38;5;2m✔ Download and installation successful\u001b[0m\n",
            "You can now load the package via spacy.load('en_core_web_lg')\n"
          ]
        }
      ]
    },
    {
      "cell_type": "code",
      "source": [
        "import spacy\n",
        "# Load the English language model\n",
        "nlp = spacy.load(\"en_core_web_lg\")"
      ],
      "metadata": {
        "id": "jwBIHzqwi1L8"
      },
      "execution_count": null,
      "outputs": []
    },
    {
      "cell_type": "code",
      "source": [
        "# Add the sentencizer component to the pipeline\n",
        "nlp.add_pipe(\"sentencizer\")"
      ],
      "metadata": {
        "colab": {
          "base_uri": "https://localhost:8080/"
        },
        "id": "CztiDmK1nWnW",
        "outputId": "30839c74-59a1-41a4-bd25-b08d437f8ed1"
      },
      "execution_count": null,
      "outputs": [
        {
          "output_type": "execute_result",
          "data": {
            "text/plain": [
              "<spacy.pipeline.sentencizer.Sentencizer at 0x7be5571a9e00>"
            ]
          },
          "metadata": {},
          "execution_count": 9
        }
      ]
    },
    {
      "cell_type": "code",
      "source": [
        "def spacy_sentences(text):\n",
        "  sents = []\n",
        "  # Process the text\n",
        "  doc = nlp(text)\n",
        "\n",
        "  # Iterate over the sentences and print them\n",
        "  for sent in doc.sents:\n",
        "    sents.append(sent)\n",
        "  return sents\n",
        "\n",
        "def spacy_np(sents):\n",
        "  nps =[]\n",
        "  for sent_doc in sents:\n",
        "    for np in sent_doc.noun_chunks:\n",
        "      nps.append(np)\n",
        "  return nps\n",
        "\n",
        "def spacy_np_from_text(sents):\n",
        "  nps =[]\n",
        "  for sent_doc in sents:\n",
        "    doc = nlp(sent_doc.text)\n",
        "    for np in doc.noun_chunks:\n",
        "      nps.append(np)\n",
        "  return nps\n",
        "\n",
        "\n",
        "def count_sents(df_sents):\n",
        "\n",
        "  i= 0\n",
        "  for se in df_sents:\n",
        "    i = i + len(se)\n",
        "  return i"
      ],
      "metadata": {
        "id": "QNkKGdLpi2Ji"
      },
      "execution_count": null,
      "outputs": []
    },
    {
      "cell_type": "code",
      "source": [
        "# df = incpec_data.loc[0:100]"
      ],
      "metadata": {
        "id": "coTGxsCUOpAn"
      },
      "execution_count": null,
      "outputs": []
    },
    {
      "cell_type": "code",
      "source": [
        "%%time\n",
        "stanza_df['spacy_sents'] = stanza_df.cleaned_text.apply(lambda x: spacy_sentences(x))"
      ],
      "metadata": {
        "colab": {
          "base_uri": "https://localhost:8080/"
        },
        "id": "fpdTodAqi1us",
        "outputId": "fb0652ba-e24d-4dcb-92aa-878da6adab6d"
      },
      "execution_count": null,
      "outputs": [
        {
          "output_type": "stream",
          "name": "stdout",
          "text": [
            "CPU times: user 3.29 s, sys: 3.58 ms, total: 3.29 s\n",
            "Wall time: 3.31 s\n"
          ]
        }
      ]
    },
    {
      "cell_type": "code",
      "source": [
        "%%time\n",
        "stanza_df['spacy_nps'] = stanza_df.spacy_sents.apply(lambda x: spacy_np_from_text(x))"
      ],
      "metadata": {
        "colab": {
          "base_uri": "https://localhost:8080/"
        },
        "id": "XDcSJ8j1rXBT",
        "outputId": "cb05524a-8bc0-4b23-f8ed-2814ef36931e"
      },
      "execution_count": null,
      "outputs": [
        {
          "output_type": "stream",
          "name": "stdout",
          "text": [
            "CPU times: user 6.41 s, sys: 12.2 ms, total: 6.42 s\n",
            "Wall time: 6.49 s\n"
          ]
        }
      ]
    },
    {
      "cell_type": "code",
      "source": [
        "# stanza_df['spacy_kws'] = stanza_df.spacy_nps.apply(lambda x: ast.literal_eval(x))"
      ],
      "metadata": {
        "id": "e2OFeTcNFcjh"
      },
      "execution_count": null,
      "outputs": []
    },
    {
      "cell_type": "code",
      "source": [
        "predicted = stanza_df.spacy_nps.tolist()"
      ],
      "metadata": {
        "id": "ydKm9sJcMXYB"
      },
      "execution_count": null,
      "outputs": []
    },
    {
      "cell_type": "code",
      "source": [
        "predicted[0]"
      ],
      "metadata": {
        "colab": {
          "base_uri": "https://localhost:8080/"
        },
        "id": "WJVC-pXDFCmR",
        "outputId": "2d45d0a1-351e-444a-ba2e-f6c0e396b7ea"
      },
      "execution_count": null,
      "outputs": [
        {
          "output_type": "execute_result",
          "data": {
            "text/plain": [
              "[Reconstruction,\n",
              " MR images,\n",
              " data,\n",
              " an arbitrary k-space trajectory,\n",
              " the same-image weight A sampling density compensation function,\n",
              " \"same-image (SI) weight,\n",
              " MR images,\n",
              " the data,\n",
              " an arbitrary k-space trajectory,\n",
              " An equation,\n",
              " the SI weight,\n",
              " the SI criterion,\n",
              " an iterative scheme,\n",
              " the weight,\n",
              " The SI weight,\n",
              " images,\n",
              " the data,\n",
              " a random trajectory,\n",
              " a numerical phantom case,\n",
              " the data,\n",
              " interleaved spirals,\n",
              " an in vivo experiment,\n",
              " addition,\n",
              " Pipe and Menon's weight,\n",
              " MRM,\n",
              " the reconstructions,\n",
              " a comparison,\n",
              " The images,\n",
              " the SI weight,\n",
              " those,\n",
              " Pipe's weight]"
            ]
          },
          "metadata": {},
          "execution_count": 54
        }
      ]
    },
    {
      "cell_type": "markdown",
      "source": [
        "### kwa"
      ],
      "metadata": {
        "id": "7kyC6b7b3Kr8"
      }
    },
    {
      "cell_type": "code",
      "source": [
        "def extract_spacy_kws(noun_phrases: List[str]) -> List[str]:\n",
        "\n",
        "  keyphrases = {}\n",
        "  for np in noun_phrases:\n",
        "      if len(np) == 1:\n",
        "          if np[0].pos_ in {'NOUN', 'PROPN', 'ADJ'}:\n",
        "              temp.append(np.text.strip())\n",
        "      elif 1 <len(np)< 6:\n",
        "          if np[0].pos_ in {'DET'}:\n",
        "              temp.append(np[1:].text)\n",
        "          else:\n",
        "              temp.append(np.text.strip())\n",
        "\n",
        "  return keyphrases"
      ],
      "metadata": {
        "id": "dsMKCeqiK36-"
      },
      "execution_count": null,
      "outputs": []
    },
    {
      "cell_type": "code",
      "source": [
        "def clear_spacy_kws(list_kws):\n",
        "\n",
        "  st_noun_phrases = []\n",
        "  for nps in list_kws:\n",
        "    temp = []\n",
        "    for np in nps:\n",
        "      if len(np) == 1:\n",
        "        if np[0].pos_ in {'NOUN', 'PROPN', 'ADJ'}:\n",
        "          temp.append(np.text.strip())\n",
        "      elif 1 <len(np)< 6:\n",
        "        if np[0].pos_ in {'DET'}:\n",
        "          temp.append(np[1:].text)\n",
        "        else:\n",
        "          temp.append(np.text.strip())\n",
        "\n",
        "    st_noun_phrases.append(temp)\n",
        "  return st_noun_phrases"
      ],
      "metadata": {
        "id": "1s7LirkNlekE"
      },
      "execution_count": null,
      "outputs": []
    },
    {
      "cell_type": "code",
      "source": [
        "sp_noun_phrases = clear_spacy_kws(predicted)"
      ],
      "metadata": {
        "id": "RnonUXT2mwP0"
      },
      "execution_count": null,
      "outputs": []
    },
    {
      "cell_type": "code",
      "source": [
        "sp_noun_phrases[61]"
      ],
      "metadata": {
        "colab": {
          "base_uri": "https://localhost:8080/"
        },
        "id": "VrlU0ammEkAP",
        "outputId": "ea27e3cf-76cc-44ba-94e6-fdb975f8d21a"
      },
      "execution_count": null,
      "outputs": [
        {
          "output_type": "execute_result",
          "data": {
            "text/plain": [
              "['Fresh tracks',\n",
              " 'food processing',\n",
              " 'code labels',\n",
              " 'wireless terminals',\n",
              " 'centralized database',\n",
              " 'meat products',\n",
              " 'customers',\n",
              " 'Farmland Foods']"
            ]
          },
          "metadata": {},
          "execution_count": 97
        }
      ]
    },
    {
      "cell_type": "code",
      "source": [
        "mapk(gold_kws, sp_noun_phrases, 20)"
      ],
      "metadata": {
        "colab": {
          "base_uri": "https://localhost:8080/"
        },
        "id": "TBkcL1L2pwqy",
        "outputId": "eba5858d-6035-4470-92b5-e9f9bf00ca25"
      },
      "execution_count": null,
      "outputs": [
        {
          "output_type": "execute_result",
          "data": {
            "text/plain": [
              "0.12473543046466666"
            ]
          },
          "metadata": {},
          "execution_count": 60
        }
      ]
    },
    {
      "cell_type": "code",
      "source": [
        "gold_kws[61]"
      ],
      "metadata": {
        "id": "Al32MWFcCNBP",
        "colab": {
          "base_uri": "https://localhost:8080/"
        },
        "outputId": "1d35f389-3c05-4d4c-9be5-b213a397ef29"
      },
      "execution_count": null,
      "outputs": [
        {
          "output_type": "execute_result",
          "data": {
            "text/plain": [
              "['food processing',\n",
              " 'bar code labels',\n",
              " 'wireless terminals',\n",
              " 'Farmland Foods',\n",
              " 'automatic data capture',\n",
              " 'Intermec Technologies',\n",
              " 'bar codes',\n",
              " 'data acquisition',\n",
              " 'food processing industry',\n",
              " 'mobile computing',\n",
              " 'production control',\n",
              " '']"
            ]
          },
          "metadata": {},
          "execution_count": 98
        }
      ]
    },
    {
      "cell_type": "markdown",
      "source": [
        "## new DS"
      ],
      "metadata": {
        "id": "qyifFWV3lxEH"
      }
    },
    {
      "cell_type": "code",
      "source": [
        "stanza_df = pd.read_csv(\"/content/drive/MyDrive/PHD/article2023YA/data/spacy_stanza_100\", sep =\"\\t\")"
      ],
      "metadata": {
        "id": "OiwIXhzjlzLx"
      },
      "execution_count": null,
      "outputs": []
    },
    {
      "cell_type": "code",
      "source": [
        "stanza_df.stanza_kws.tolist()[0]"
      ],
      "metadata": {
        "colab": {
          "base_uri": "https://localhost:8080/",
          "height": 174
        },
        "id": "F0lpxXDtmN97",
        "outputId": "aa9118d2-2f06-4a7f-8f87-48a660939fec"
      },
      "execution_count": null,
      "outputs": [
        {
          "output_type": "execute_result",
          "data": {
            "text/plain": [
              "'{\\'MRM 1999\\', \\'the same - image weight\\', \\'data acquired on an arbitrary k- space trajectory using the same - image weight A sampling density compensation function denoted \" same - image -LRB- SI -RRB- weight \"\\', \"those obtained with Pipe \\'s weight\", \\'A sampling density compensation function\\', \\'Reconstruction\\', \\'The images obtained with the SI weight\\', \\'images from the data calculated on a random trajectory in a numerical phantom case and from the data acquired on interleaved spirals in an in vivo experiment , respectively\\', \\'MR images from the data acquired on an arbitrary k- space trajectory\\', \\'the data acquired on an arbitrary k- space trajectory\\', \\'Reconstruction of MR images from data acquired on an arbitrary k- space trajectory using the same - image weight A sampling density compensation function denoted \" same - image -LRB- SI -RRB- weight \"\\', \\'a random trajectory in a numerical phantom case\\', \\'data\\', \"Pipe and Menon \\'s weight -LRB- MRM 1999 ; 41:179-186 -RRB-\", \\'the reconstructions\\', \\'an arbitrary k- space trajectory using the same - image weight A sampling density compensation function denoted \" same - image -LRB- SI -RRB- weight \"\\', \\'An equation\\', \"Pipe and Menon \\'s weight\", \\'The images\\', \"Pipe \\'s weight\", \\'the SI criterion\\', \\'those\\', \\'41:179-186\\', \\'interleaved spirals\\', \\'the data calculated on a random trajectory in a numerical phantom case and from the data acquired on interleaved spirals in an in vivo experiment , respectively\\', \"Pipe and Menon \\'s\", \\'the weight\\', \\'The SI weight\\', \\'the SI weight\\', \\'an iterative scheme\\', \\'the data\\', \\'images\\', \\'a comparison\\', \\'\" same - image -LRB- SI -RRB- weight \"\\', \\'An equation for the SI weight\\', \\'the same - image weight A sampling density compensation function denoted \" same - image -LRB- SI -RRB- weight \"\\', \\'an arbitrary k- space trajectory\\', \\'addition\\', \"Pipe \\'s\", \\'MR images\\', \\'the data acquired on interleaved spirals in an in vivo experiment , respectively\\', \\'an in vivo experiment\\', \\'a numerical phantom case\\', \\'vivo experiment\\', \\'a random trajectory\\', \\'MR images from data acquired on an arbitrary k- space trajectory using the same - image weight A sampling density compensation function denoted \" same - image -LRB- SI -RRB- weight \"\\', \\'A sampling density compensation function denoted \" same - image -LRB- SI -RRB- weight \"\\'}'"
            ],
            "application/vnd.google.colaboratory.intrinsic+json": {
              "type": "string"
            }
          },
          "metadata": {},
          "execution_count": 33
        }
      ]
    },
    {
      "cell_type": "markdown",
      "source": [
        "# get tree"
      ],
      "metadata": {
        "id": "kchVWypZj3dQ"
      }
    },
    {
      "cell_type": "code",
      "source": [
        "from nltk.tree import Tree\n",
        "def extract_phrase(tree_str, label):\n",
        "    phrases = []\n",
        "    trees = Tree.fromstring(tree_str)\n",
        "    for tree in trees:\n",
        "        for subtree in tree.subtrees():\n",
        "            if subtree.label() == label:\n",
        "                t = subtree\n",
        "                t = ' '.join(t.leaves())\n",
        "                phrases.append(t)\n",
        "\n",
        "    return phrases"
      ],
      "metadata": {
        "id": "QYudz9Ddj2VY"
      },
      "execution_count": null,
      "outputs": []
    },
    {
      "cell_type": "markdown",
      "source": [
        "# Stanza"
      ],
      "metadata": {
        "id": "mL2lbaHki2nN"
      }
    },
    {
      "cell_type": "code",
      "source": [
        "pip install stanza"
      ],
      "metadata": {
        "colab": {
          "base_uri": "https://localhost:8080/"
        },
        "id": "FjwWsshqPn1X",
        "outputId": "119b5849-332b-48eb-cdd1-664bb783a944"
      },
      "execution_count": null,
      "outputs": [
        {
          "output_type": "stream",
          "name": "stdout",
          "text": [
            "Collecting stanza\n",
            "  Downloading stanza-1.5.0-py3-none-any.whl (802 kB)\n",
            "\u001b[2K     \u001b[90m━━━━━━━━━━━━━━━━━━━━━━━━━━━━━━━━━━━━━━\u001b[0m \u001b[32m802.5/802.5 kB\u001b[0m \u001b[31m15.8 MB/s\u001b[0m eta \u001b[36m0:00:00\u001b[0m\n",
            "\u001b[?25hCollecting emoji (from stanza)\n",
            "  Downloading emoji-2.6.0.tar.gz (356 kB)\n",
            "\u001b[2K     \u001b[90m━━━━━━━━━━━━━━━━━━━━━━━━━━━━━━━━━━━━━━\u001b[0m \u001b[32m356.6/356.6 kB\u001b[0m \u001b[31m33.0 MB/s\u001b[0m eta \u001b[36m0:00:00\u001b[0m\n",
            "\u001b[?25h  Preparing metadata (setup.py) ... \u001b[?25l\u001b[?25hdone\n",
            "Requirement already satisfied: numpy in /usr/local/lib/python3.10/dist-packages (from stanza) (1.22.4)\n",
            "Requirement already satisfied: protobuf in /usr/local/lib/python3.10/dist-packages (from stanza) (3.20.3)\n",
            "Requirement already satisfied: requests in /usr/local/lib/python3.10/dist-packages (from stanza) (2.31.0)\n",
            "Requirement already satisfied: six in /usr/local/lib/python3.10/dist-packages (from stanza) (1.16.0)\n",
            "Requirement already satisfied: torch>=1.3.0 in /usr/local/lib/python3.10/dist-packages (from stanza) (1.12.1)\n",
            "Requirement already satisfied: tqdm in /usr/local/lib/python3.10/dist-packages (from stanza) (4.65.0)\n",
            "Requirement already satisfied: typing-extensions in /usr/local/lib/python3.10/dist-packages (from torch>=1.3.0->stanza) (4.5.0)\n",
            "Requirement already satisfied: charset-normalizer<4,>=2 in /usr/local/lib/python3.10/dist-packages (from requests->stanza) (2.0.12)\n",
            "Requirement already satisfied: idna<4,>=2.5 in /usr/local/lib/python3.10/dist-packages (from requests->stanza) (3.4)\n",
            "Requirement already satisfied: urllib3<3,>=1.21.1 in /usr/local/lib/python3.10/dist-packages (from requests->stanza) (1.26.16)\n",
            "Requirement already satisfied: certifi>=2017.4.17 in /usr/local/lib/python3.10/dist-packages (from requests->stanza) (2023.5.7)\n",
            "Building wheels for collected packages: emoji\n",
            "  Building wheel for emoji (setup.py) ... \u001b[?25l\u001b[?25hdone\n",
            "  Created wheel for emoji: filename=emoji-2.6.0-py2.py3-none-any.whl size=351311 sha256=932873db9be07b672fbdca9e5afedae68a87ea0005354374be290571f681a03f\n",
            "  Stored in directory: /root/.cache/pip/wheels/ea/0b/64/114bc939d0083621aa41521e21be246c888260b8aa21e6c1ad\n",
            "Successfully built emoji\n",
            "Installing collected packages: emoji, stanza\n",
            "Successfully installed emoji-2.6.0 stanza-1.5.0\n"
          ]
        }
      ]
    },
    {
      "cell_type": "code",
      "source": [
        "# pip install spacy_stanza"
      ],
      "metadata": {
        "colab": {
          "base_uri": "https://localhost:8080/"
        },
        "id": "iVBKWqlcPzF0",
        "outputId": "14d6cd9b-4468-40bd-b976-453c6b586b4f"
      },
      "execution_count": null,
      "outputs": [
        {
          "output_type": "stream",
          "name": "stdout",
          "text": [
            "Collecting spacy_stanza\n",
            "  Downloading spacy_stanza-1.0.3-py3-none-any.whl (9.7 kB)\n",
            "Requirement already satisfied: spacy<4.0.0,>=3.0.0 in /usr/local/lib/python3.10/dist-packages (from spacy_stanza) (3.5.3)\n",
            "Requirement already satisfied: stanza<1.6.0,>=1.2.0 in /usr/local/lib/python3.10/dist-packages (from spacy_stanza) (1.5.0)\n",
            "Requirement already satisfied: spacy-legacy<3.1.0,>=3.0.11 in /usr/local/lib/python3.10/dist-packages (from spacy<4.0.0,>=3.0.0->spacy_stanza) (3.0.12)\n",
            "Requirement already satisfied: spacy-loggers<2.0.0,>=1.0.0 in /usr/local/lib/python3.10/dist-packages (from spacy<4.0.0,>=3.0.0->spacy_stanza) (1.0.4)\n",
            "Requirement already satisfied: murmurhash<1.1.0,>=0.28.0 in /usr/local/lib/python3.10/dist-packages (from spacy<4.0.0,>=3.0.0->spacy_stanza) (1.0.9)\n",
            "Requirement already satisfied: cymem<2.1.0,>=2.0.2 in /usr/local/lib/python3.10/dist-packages (from spacy<4.0.0,>=3.0.0->spacy_stanza) (2.0.7)\n",
            "Requirement already satisfied: preshed<3.1.0,>=3.0.2 in /usr/local/lib/python3.10/dist-packages (from spacy<4.0.0,>=3.0.0->spacy_stanza) (3.0.8)\n",
            "Requirement already satisfied: thinc<8.2.0,>=8.1.8 in /usr/local/lib/python3.10/dist-packages (from spacy<4.0.0,>=3.0.0->spacy_stanza) (8.1.10)\n",
            "Requirement already satisfied: wasabi<1.2.0,>=0.9.1 in /usr/local/lib/python3.10/dist-packages (from spacy<4.0.0,>=3.0.0->spacy_stanza) (1.1.2)\n",
            "Requirement already satisfied: srsly<3.0.0,>=2.4.3 in /usr/local/lib/python3.10/dist-packages (from spacy<4.0.0,>=3.0.0->spacy_stanza) (2.4.6)\n",
            "Requirement already satisfied: catalogue<2.1.0,>=2.0.6 in /usr/local/lib/python3.10/dist-packages (from spacy<4.0.0,>=3.0.0->spacy_stanza) (2.0.8)\n",
            "Requirement already satisfied: typer<0.8.0,>=0.3.0 in /usr/local/lib/python3.10/dist-packages (from spacy<4.0.0,>=3.0.0->spacy_stanza) (0.7.0)\n",
            "Requirement already satisfied: pathy>=0.10.0 in /usr/local/lib/python3.10/dist-packages (from spacy<4.0.0,>=3.0.0->spacy_stanza) (0.10.2)\n",
            "Requirement already satisfied: smart-open<7.0.0,>=5.2.1 in /usr/local/lib/python3.10/dist-packages (from spacy<4.0.0,>=3.0.0->spacy_stanza) (6.3.0)\n",
            "Requirement already satisfied: tqdm<5.0.0,>=4.38.0 in /usr/local/lib/python3.10/dist-packages (from spacy<4.0.0,>=3.0.0->spacy_stanza) (4.65.0)\n",
            "Requirement already satisfied: numpy>=1.15.0 in /usr/local/lib/python3.10/dist-packages (from spacy<4.0.0,>=3.0.0->spacy_stanza) (1.22.4)\n",
            "Requirement already satisfied: requests<3.0.0,>=2.13.0 in /usr/local/lib/python3.10/dist-packages (from spacy<4.0.0,>=3.0.0->spacy_stanza) (2.27.1)\n",
            "Requirement already satisfied: pydantic!=1.8,!=1.8.1,<1.11.0,>=1.7.4 in /usr/local/lib/python3.10/dist-packages (from spacy<4.0.0,>=3.0.0->spacy_stanza) (1.10.9)\n",
            "Requirement already satisfied: jinja2 in /usr/local/lib/python3.10/dist-packages (from spacy<4.0.0,>=3.0.0->spacy_stanza) (3.1.2)\n",
            "Requirement already satisfied: setuptools in /usr/local/lib/python3.10/dist-packages (from spacy<4.0.0,>=3.0.0->spacy_stanza) (67.7.2)\n",
            "Requirement already satisfied: packaging>=20.0 in /usr/local/lib/python3.10/dist-packages (from spacy<4.0.0,>=3.0.0->spacy_stanza) (23.1)\n",
            "Requirement already satisfied: langcodes<4.0.0,>=3.2.0 in /usr/local/lib/python3.10/dist-packages (from spacy<4.0.0,>=3.0.0->spacy_stanza) (3.3.0)\n",
            "Requirement already satisfied: emoji in /usr/local/lib/python3.10/dist-packages (from stanza<1.6.0,>=1.2.0->spacy_stanza) (2.6.0)\n",
            "Requirement already satisfied: protobuf in /usr/local/lib/python3.10/dist-packages (from stanza<1.6.0,>=1.2.0->spacy_stanza) (3.20.3)\n",
            "Requirement already satisfied: six in /usr/local/lib/python3.10/dist-packages (from stanza<1.6.0,>=1.2.0->spacy_stanza) (1.16.0)\n",
            "Requirement already satisfied: torch>=1.3.0 in /usr/local/lib/python3.10/dist-packages (from stanza<1.6.0,>=1.2.0->spacy_stanza) (2.0.1+cu118)\n",
            "Requirement already satisfied: typing-extensions>=4.2.0 in /usr/local/lib/python3.10/dist-packages (from pydantic!=1.8,!=1.8.1,<1.11.0,>=1.7.4->spacy<4.0.0,>=3.0.0->spacy_stanza) (4.6.3)\n",
            "Requirement already satisfied: urllib3<1.27,>=1.21.1 in /usr/local/lib/python3.10/dist-packages (from requests<3.0.0,>=2.13.0->spacy<4.0.0,>=3.0.0->spacy_stanza) (1.26.16)\n",
            "Requirement already satisfied: certifi>=2017.4.17 in /usr/local/lib/python3.10/dist-packages (from requests<3.0.0,>=2.13.0->spacy<4.0.0,>=3.0.0->spacy_stanza) (2023.5.7)\n",
            "Requirement already satisfied: charset-normalizer~=2.0.0 in /usr/local/lib/python3.10/dist-packages (from requests<3.0.0,>=2.13.0->spacy<4.0.0,>=3.0.0->spacy_stanza) (2.0.12)\n",
            "Requirement already satisfied: idna<4,>=2.5 in /usr/local/lib/python3.10/dist-packages (from requests<3.0.0,>=2.13.0->spacy<4.0.0,>=3.0.0->spacy_stanza) (3.4)\n",
            "Requirement already satisfied: blis<0.8.0,>=0.7.8 in /usr/local/lib/python3.10/dist-packages (from thinc<8.2.0,>=8.1.8->spacy<4.0.0,>=3.0.0->spacy_stanza) (0.7.9)\n",
            "Requirement already satisfied: confection<1.0.0,>=0.0.1 in /usr/local/lib/python3.10/dist-packages (from thinc<8.2.0,>=8.1.8->spacy<4.0.0,>=3.0.0->spacy_stanza) (0.0.4)\n",
            "Requirement already satisfied: filelock in /usr/local/lib/python3.10/dist-packages (from torch>=1.3.0->stanza<1.6.0,>=1.2.0->spacy_stanza) (3.12.2)\n",
            "Requirement already satisfied: sympy in /usr/local/lib/python3.10/dist-packages (from torch>=1.3.0->stanza<1.6.0,>=1.2.0->spacy_stanza) (1.11.1)\n",
            "Requirement already satisfied: networkx in /usr/local/lib/python3.10/dist-packages (from torch>=1.3.0->stanza<1.6.0,>=1.2.0->spacy_stanza) (3.1)\n",
            "Requirement already satisfied: triton==2.0.0 in /usr/local/lib/python3.10/dist-packages (from torch>=1.3.0->stanza<1.6.0,>=1.2.0->spacy_stanza) (2.0.0)\n",
            "Requirement already satisfied: cmake in /usr/local/lib/python3.10/dist-packages (from triton==2.0.0->torch>=1.3.0->stanza<1.6.0,>=1.2.0->spacy_stanza) (3.25.2)\n",
            "Requirement already satisfied: lit in /usr/local/lib/python3.10/dist-packages (from triton==2.0.0->torch>=1.3.0->stanza<1.6.0,>=1.2.0->spacy_stanza) (16.0.6)\n",
            "Requirement already satisfied: click<9.0.0,>=7.1.1 in /usr/local/lib/python3.10/dist-packages (from typer<0.8.0,>=0.3.0->spacy<4.0.0,>=3.0.0->spacy_stanza) (8.1.3)\n",
            "Requirement already satisfied: MarkupSafe>=2.0 in /usr/local/lib/python3.10/dist-packages (from jinja2->spacy<4.0.0,>=3.0.0->spacy_stanza) (2.1.3)\n",
            "Requirement already satisfied: mpmath>=0.19 in /usr/local/lib/python3.10/dist-packages (from sympy->torch>=1.3.0->stanza<1.6.0,>=1.2.0->spacy_stanza) (1.3.0)\n",
            "Installing collected packages: spacy_stanza\n",
            "Successfully installed spacy_stanza-1.0.3\n"
          ]
        }
      ]
    },
    {
      "cell_type": "code",
      "source": [
        "import stanza\n",
        "# import spacy_stanza\n",
        "\n",
        "stanza.download(\"en\")"
      ],
      "metadata": {
        "colab": {
          "base_uri": "https://localhost:8080/",
          "height": 172,
          "referenced_widgets": [
            "3d77e6ee3fd3406ab7d9b3e495b72738",
            "d224b72ab338463c97f32c63a5fa3816",
            "4032c46755594167a8adc768c3183d30",
            "00d000df14b94fa7b20190b483409551",
            "c740b1215d5945c3a874f24da5924cf4",
            "939da1162cee4c72a8291c20d7bfbb14",
            "65e5718093da454b991c898ead5096a3",
            "6288dd66803d4c06a8e85ba19a2ae514",
            "7a17a0da8b614261b3e6176418561dec",
            "8b6ba728c5ef4deaa8b8a4bc4a57f5de",
            "933e5e2304fe4d63b8dcddf134f5cb01",
            "ecb80f09721b43c6964e27a8792a944b",
            "71116b660ad84c40854cd9eefa076b0c",
            "6a253e9584224008a8a3e0abc9f35faf",
            "3f734fef603d4791b7251b3c0d059239",
            "111491b52bbd4a71a96f9361d5cc0f3e",
            "868a35c0732846d9b36a598ce26d1134",
            "fc60335f4ea5430cbf6ff459b144122c",
            "6dec670d34d946bd930a0f16b4f95f60",
            "d232041a8a054876ba78c4260939aaee",
            "b1d22b357bf840cf9e353532aa5260ed",
            "be15921171744eeb87af4bdec2f4abb4"
          ]
        },
        "id": "sroFKPguPmfa",
        "outputId": "5e8bf669-8705-4216-8980-7cfe3a713bd7"
      },
      "execution_count": null,
      "outputs": [
        {
          "output_type": "display_data",
          "data": {
            "text/plain": [
              "Downloading https://raw.githubusercontent.com/stanfordnlp/stanza-resources/main/resources_1.5.0.json:   0%|   …"
            ],
            "application/vnd.jupyter.widget-view+json": {
              "version_major": 2,
              "version_minor": 0,
              "model_id": "3d77e6ee3fd3406ab7d9b3e495b72738"
            }
          },
          "metadata": {}
        },
        {
          "output_type": "stream",
          "name": "stderr",
          "text": [
            "INFO:stanza:Downloading default packages for language: en (English) ...\n"
          ]
        },
        {
          "output_type": "display_data",
          "data": {
            "text/plain": [
              "Downloading https://huggingface.co/stanfordnlp/stanza-en/resolve/v1.5.0/models/default.zip:   0%|          | 0…"
            ],
            "application/vnd.jupyter.widget-view+json": {
              "version_major": 2,
              "version_minor": 0,
              "model_id": "ecb80f09721b43c6964e27a8792a944b"
            }
          },
          "metadata": {}
        },
        {
          "output_type": "stream",
          "name": "stderr",
          "text": [
            "INFO:stanza:Finished downloading models and saved to /root/stanza_resources.\n"
          ]
        }
      ]
    },
    {
      "cell_type": "code",
      "source": [
        "nlp_stanza = stanza.Pipeline()"
      ],
      "metadata": {
        "colab": {
          "base_uri": "https://localhost:8080/",
          "height": 496,
          "referenced_widgets": [
            "eb7855d8500a4da489e1b9f7209620d2",
            "62df82c3940a45dd925f81f5175d1e45",
            "1102f27d47534887a3ef9d2b286bb082",
            "9499c3c290374364bed430c9878aa133",
            "1459440aee6c4a078c9b4384521d3aac",
            "d4076da9b7694df692ef5307d9f485bd",
            "aca0264d3493473b87c82844dd3fbe16",
            "4a72e82f5af44d9e881a6aefb4e5d1fb",
            "918229949d8d4a5497c47cedd8c89c7c",
            "24463128f009470ea74af7d672b93798",
            "7cbae47675ed47da9581e366320b5580"
          ]
        },
        "id": "giCyNloOjPoy",
        "outputId": "239a2086-71f6-4121-aac6-5f8a485b3e19"
      },
      "execution_count": null,
      "outputs": [
        {
          "output_type": "stream",
          "name": "stderr",
          "text": [
            "INFO:stanza:Checking for updates to resources.json in case models have been updated.  Note: this behavior can be turned off with download_method=None or download_method=DownloadMethod.REUSE_RESOURCES\n"
          ]
        },
        {
          "output_type": "display_data",
          "data": {
            "text/plain": [
              "Downloading https://raw.githubusercontent.com/stanfordnlp/stanza-resources/main/resources_1.5.0.json:   0%|   …"
            ],
            "application/vnd.jupyter.widget-view+json": {
              "version_major": 2,
              "version_minor": 0,
              "model_id": "eb7855d8500a4da489e1b9f7209620d2"
            }
          },
          "metadata": {}
        },
        {
          "output_type": "stream",
          "name": "stderr",
          "text": [
            "INFO:stanza:Loading these models for language: en (English):\n",
            "============================\n",
            "| Processor    | Package   |\n",
            "----------------------------\n",
            "| tokenize     | combined  |\n",
            "| pos          | combined  |\n",
            "| lemma        | combined  |\n",
            "| constituency | wsj       |\n",
            "| depparse     | combined  |\n",
            "| sentiment    | sstplus   |\n",
            "| ner          | ontonotes |\n",
            "============================\n",
            "\n",
            "INFO:stanza:Using device: cpu\n",
            "INFO:stanza:Loading: tokenize\n",
            "INFO:stanza:Loading: pos\n",
            "INFO:stanza:Loading: lemma\n",
            "INFO:stanza:Loading: constituency\n",
            "INFO:stanza:Loading: depparse\n",
            "INFO:stanza:Loading: sentiment\n",
            "INFO:stanza:Loading: ner\n",
            "INFO:stanza:Done loading processors!\n"
          ]
        }
      ]
    },
    {
      "cell_type": "code",
      "source": [
        "sent = \"We use the uniqueness of each social media platform and the tools available to create a persona of your brand which then becomes part of your consumer's life\"\n",
        "sent = \"Most of all, I enjoy working with travel partners to improve your team's Social Media savvy, content creation and digital marketing skills - and proving how actively participating in these areas can help grow your travel business!\"\n",
        "# %%time\n",
        "sent = \"I bought an apple. Apple is green and that costs 5 dollars\"\n",
        "stanza_nps(stanza_sents(sent))"
      ],
      "metadata": {
        "id": "br8uNw7v9Jt9",
        "colab": {
          "base_uri": "https://localhost:8080/"
        },
        "outputId": "eb801cd9-a97d-42bc-a83c-57a216280a81"
      },
      "execution_count": null,
      "outputs": [
        {
          "output_type": "execute_result",
          "data": {
            "text/plain": [
              "{'5 dollars', 'Apple', 'I', 'an apple', 'that'}"
            ]
          },
          "metadata": {},
          "execution_count": 108
        }
      ]
    },
    {
      "cell_type": "code",
      "source": [
        "def stanza_sents(text):\n",
        "  sents = []\n",
        "  doc = nlp_stanza(text)\n",
        "\n",
        "  for sent in doc.sentences:\n",
        "    sents.append(sent.text)\n",
        "  return sents\n",
        "\n",
        "def stanza_nps(sentences):\n",
        "  nps = set()\n",
        "  for sent in sentences:\n",
        "    doc = nlp_stanza(sent)\n",
        "    sentence = doc.sentences[0]\n",
        "    constituency_parse = sentence.constituency\n",
        "    c = str(constituency_parse)\n",
        "    np_list = extract_phrase(c, 'NP')\n",
        "    nps.update(np_list)\n",
        "  return nps\n"
      ],
      "metadata": {
        "id": "dJlTHGR_spZN"
      },
      "execution_count": null,
      "outputs": []
    },
    {
      "cell_type": "code",
      "source": [
        "df = incpec_data.loc[0:100]"
      ],
      "metadata": {
        "id": "rNoYgH4TVGRE"
      },
      "execution_count": null,
      "outputs": []
    },
    {
      "cell_type": "code",
      "source": [
        "%%time\n",
        "df['stanza_sents'] = df.cleaned_text.apply(lambda x: stanza_sents(x))"
      ],
      "metadata": {
        "colab": {
          "base_uri": "https://localhost:8080/"
        },
        "id": "qdNXox3strZi",
        "outputId": "eee375e8-1a36-4924-ab3a-ca6473ae226e"
      },
      "execution_count": null,
      "outputs": [
        {
          "output_type": "stream",
          "name": "stdout",
          "text": [
            "CPU times: user 16min 4s, sys: 2.94 s, total: 16min 7s\n",
            "Wall time: 16min 20s\n"
          ]
        },
        {
          "output_type": "stream",
          "name": "stderr",
          "text": [
            "<timed exec>:1: SettingWithCopyWarning: \n",
            "A value is trying to be set on a copy of a slice from a DataFrame.\n",
            "Try using .loc[row_indexer,col_indexer] = value instead\n",
            "\n",
            "See the caveats in the documentation: https://pandas.pydata.org/pandas-docs/stable/user_guide/indexing.html#returning-a-view-versus-a-copy\n"
          ]
        }
      ]
    },
    {
      "cell_type": "code",
      "source": [
        "%%time\n",
        "df['stanza_nps'] = df.stanza_sents.apply(lambda x: stanza_nps(x))"
      ],
      "metadata": {
        "colab": {
          "base_uri": "https://localhost:8080/"
        },
        "id": "JVuLDQxAttSz",
        "outputId": "52c63ce1-def7-4684-e5f3-495bcaffd4db"
      },
      "execution_count": null,
      "outputs": [
        {
          "output_type": "stream",
          "name": "stdout",
          "text": [
            "CPU times: user 25min 5s, sys: 2.78 s, total: 25min 8s\n",
            "Wall time: 25min 20s\n"
          ]
        },
        {
          "output_type": "stream",
          "name": "stderr",
          "text": [
            "<timed exec>:1: SettingWithCopyWarning: \n",
            "A value is trying to be set on a copy of a slice from a DataFrame.\n",
            "Try using .loc[row_indexer,col_indexer] = value instead\n",
            "\n",
            "See the caveats in the documentation: https://pandas.pydata.org/pandas-docs/stable/user_guide/indexing.html#returning-a-view-versus-a-copy\n"
          ]
        }
      ]
    },
    {
      "cell_type": "code",
      "source": [
        "stanza_df.to_csv(\"/content/drive/MyDrive/PHD/article2023YA/data/spacy_stanza_100\", sep='\\t')"
      ],
      "metadata": {
        "id": "VMOPz0DUat0-"
      },
      "execution_count": null,
      "outputs": []
    },
    {
      "cell_type": "code",
      "source": [
        "st_nps = df['stanza_nps'].tolist()"
      ],
      "metadata": {
        "id": "dqtJwjkhpVNB"
      },
      "execution_count": null,
      "outputs": []
    },
    {
      "cell_type": "code",
      "source": [
        "import spacy\n",
        "# Load the English language model\n",
        "nlp = spacy.load(\"en_core_web_sm\")"
      ],
      "metadata": {
        "id": "N2XyLjiL21rK"
      },
      "execution_count": null,
      "outputs": []
    },
    {
      "cell_type": "code",
      "source": [
        "def clear_stanza_kws(list_kws):\n",
        "\n",
        "  st_noun_phrases = []\n",
        "  for nps in list_kws:\n",
        "    temp = []\n",
        "    for np in nps:\n",
        "      tokens = np.split()\n",
        "      if len(tokens) == 1:\n",
        "        if nlp(tokens[0])[0].pos_ in {'NOUN', 'PROPN', 'ADJ'}:\n",
        "          temp.append(np.strip())\n",
        "      elif 1 <len(tokens)< 6:\n",
        "        if tokens[0].lower() in {'a', 'an', 'the'}:\n",
        "          temp.append(' '.join(tokens[1:]).strip())\n",
        "        else:\n",
        "          temp.append(np.strip())\n",
        "\n",
        "    st_noun_phrases.append(temp)\n",
        "  return st_noun_phrases"
      ],
      "metadata": {
        "id": "6mw6uw8QvsdY"
      },
      "execution_count": null,
      "outputs": []
    },
    {
      "cell_type": "code",
      "source": [
        "stanza_df['stanza_kws'] = stanza_df.stanza_nps.apply(lambda x: ast.literal_eval(x))"
      ],
      "metadata": {
        "id": "hJjQkS76ivA9"
      },
      "execution_count": null,
      "outputs": []
    },
    {
      "cell_type": "code",
      "source": [
        "golds = stanza_df.goldkeys_cleaned.tolist()"
      ],
      "metadata": {
        "id": "yyC7LO4vkoaw"
      },
      "execution_count": null,
      "outputs": []
    },
    {
      "cell_type": "code",
      "source": [
        "st_phrases = stanza_df.stanza_kws.tolist()"
      ],
      "metadata": {
        "id": "8aKDB5DAewQ_"
      },
      "execution_count": null,
      "outputs": []
    },
    {
      "cell_type": "code",
      "source": [
        "st_phrases[0]"
      ],
      "metadata": {
        "id": "3xBm_3G2h8Ti"
      },
      "execution_count": null,
      "outputs": []
    },
    {
      "cell_type": "code",
      "source": [
        "st_noun_phrases = clear_stanza_kws(st_phrases)"
      ],
      "metadata": {
        "id": "t74F8lg3gYmS"
      },
      "execution_count": null,
      "outputs": []
    },
    {
      "cell_type": "code",
      "source": [
        "mapk(gold_kws, st_noun_phrases, 20)"
      ],
      "metadata": {
        "colab": {
          "base_uri": "https://localhost:8080/"
        },
        "id": "jdOVBsgMpbsl",
        "outputId": "9f21aaf4-3fc6-4f09-9f2f-fa3eead5dcd1"
      },
      "execution_count": null,
      "outputs": [
        {
          "output_type": "execute_result",
          "data": {
            "text/plain": [
              "0.08187798110428098"
            ]
          },
          "metadata": {},
          "execution_count": 61
        }
      ]
    },
    {
      "cell_type": "code",
      "source": [
        "st_noun_phrases[61]"
      ],
      "metadata": {
        "colab": {
          "base_uri": "https://localhost:8080/"
        },
        "id": "ov_5rdMG3JXS",
        "outputId": "f63024a5-2e1c-492b-d84a-1d56dfe6b343"
      },
      "execution_count": null,
      "outputs": [
        {
          "output_type": "execute_result",
          "data": {
            "text/plain": [
              "['wireless terminals',\n",
              " 'customers',\n",
              " 'Farmland Foods',\n",
              " 'food processing',\n",
              " 'customers for Farmland Foods',\n",
              " 'Fresh tracks',\n",
              " 'meat products',\n",
              " 'centralized database',\n",
              " 'Bar code labels']"
            ]
          },
          "metadata": {},
          "execution_count": 101
        }
      ]
    },
    {
      "cell_type": "markdown",
      "source": [
        "# spacy stanza"
      ],
      "metadata": {
        "id": "Cxg0jrRHVXk2"
      }
    },
    {
      "cell_type": "code",
      "source": [
        "pip install spacy_stanza"
      ],
      "metadata": {
        "id": "Www0fwXnVbww"
      },
      "execution_count": null,
      "outputs": []
    },
    {
      "cell_type": "code",
      "source": [
        "import stanza\n",
        "import spacy_stanza\n",
        "\n",
        "stanza.download(\"en\")\n",
        "nlp = spacy_stanza.load_pipeline(\"en\")"
      ],
      "metadata": {
        "id": "7s-KcQpCVaEJ"
      },
      "execution_count": null,
      "outputs": []
    },
    {
      "cell_type": "code",
      "source": [
        "doc = nlp(\"the president Barack Obama was born in Hawaii. He was elected president in 2008.\")\n",
        "for token in doc:\n",
        "    print(token.text, token.lemma_, token.pos_, token.dep_, token.ent_type_)\n"
      ],
      "metadata": {
        "colab": {
          "base_uri": "https://localhost:8080/"
        },
        "id": "RRTh9n8zVoR6",
        "outputId": "bcdc2885-1710-4284-f66d-b003149e6129"
      },
      "execution_count": null,
      "outputs": [
        {
          "output_type": "stream",
          "name": "stdout",
          "text": [
            "the the DET det \n",
            "president president NOUN nsubj:pass \n",
            "Barack Barack PROPN appos PERSON\n",
            "Obama Obama PROPN flat PERSON\n",
            "was be AUX aux:pass \n",
            "born bear VERB root \n",
            "in in ADP case \n",
            "Hawaii Hawaii PROPN obl GPE\n",
            ". . PUNCT punct \n",
            "He he PRON nsubj:pass \n",
            "was be AUX aux:pass \n",
            "elected elect VERB root \n",
            "president president NOUN xcomp \n",
            "in in ADP case \n",
            "2008 2008 NUM obl DATE\n",
            ". . PUNCT punct \n"
          ]
        }
      ]
    },
    {
      "cell_type": "code",
      "source": [],
      "metadata": {
        "id": "dCzD8NoNWISp"
      },
      "execution_count": null,
      "outputs": []
    },
    {
      "cell_type": "code",
      "source": [
        "print([c for c in doc.noun_chunks])"
      ],
      "metadata": {
        "colab": {
          "base_uri": "https://localhost:8080/"
        },
        "id": "ub_hLGPIV4xe",
        "outputId": "263a9081-e22d-4432-bdcf-3642d17080b1"
      },
      "execution_count": null,
      "outputs": [
        {
          "output_type": "stream",
          "name": "stdout",
          "text": [
            "[Barack]\n"
          ]
        }
      ]
    },
    {
      "cell_type": "markdown",
      "source": [
        "# stanford nlp"
      ],
      "metadata": {
        "id": "WEeuKhtSSeMT"
      }
    },
    {
      "cell_type": "code",
      "source": [
        "pip install stanfordnlp"
      ],
      "metadata": {
        "colab": {
          "base_uri": "https://localhost:8080/"
        },
        "id": "E93RIj3nLWbM",
        "outputId": "3f9858e6-6207-4b06-879b-7815d51343bb"
      },
      "execution_count": null,
      "outputs": [
        {
          "output_type": "stream",
          "name": "stdout",
          "text": [
            "Collecting stanfordnlp\n",
            "  Downloading stanfordnlp-0.2.0-py3-none-any.whl (158 kB)\n",
            "\u001b[?25l     \u001b[90m━━━━━━━━━━━━━━━━━━━━━━━━━━━━━━━━━━━━━━━━\u001b[0m \u001b[32m0.0/158.8 kB\u001b[0m \u001b[31m?\u001b[0m eta \u001b[36m-:--:--\u001b[0m\r\u001b[2K     \u001b[91m━━━━━━━━━━━━━━━━━━━━━━━━━━━━━━━━━━━━━\u001b[0m\u001b[91m╸\u001b[0m\u001b[90m━\u001b[0m \u001b[32m153.6/158.8 kB\u001b[0m \u001b[31m5.4 MB/s\u001b[0m eta \u001b[36m0:00:01\u001b[0m\r\u001b[2K     \u001b[90m━━━━━━━━━━━━━━━━━━━━━━━━━━━━━━━━━━━━━━━\u001b[0m \u001b[32m158.8/158.8 kB\u001b[0m \u001b[31m3.8 MB/s\u001b[0m eta \u001b[36m0:00:00\u001b[0m\n",
            "\u001b[?25hRequirement already satisfied: numpy in /usr/local/lib/python3.10/dist-packages (from stanfordnlp) (1.22.4)\n",
            "Requirement already satisfied: protobuf in /usr/local/lib/python3.10/dist-packages (from stanfordnlp) (3.20.3)\n",
            "Requirement already satisfied: requests in /usr/local/lib/python3.10/dist-packages (from stanfordnlp) (2.27.1)\n",
            "Requirement already satisfied: torch>=1.0.0 in /usr/local/lib/python3.10/dist-packages (from stanfordnlp) (2.0.1+cu118)\n",
            "Requirement already satisfied: tqdm in /usr/local/lib/python3.10/dist-packages (from stanfordnlp) (4.65.0)\n",
            "Requirement already satisfied: filelock in /usr/local/lib/python3.10/dist-packages (from torch>=1.0.0->stanfordnlp) (3.12.2)\n",
            "Requirement already satisfied: typing-extensions in /usr/local/lib/python3.10/dist-packages (from torch>=1.0.0->stanfordnlp) (4.6.3)\n",
            "Requirement already satisfied: sympy in /usr/local/lib/python3.10/dist-packages (from torch>=1.0.0->stanfordnlp) (1.11.1)\n",
            "Requirement already satisfied: networkx in /usr/local/lib/python3.10/dist-packages (from torch>=1.0.0->stanfordnlp) (3.1)\n",
            "Requirement already satisfied: jinja2 in /usr/local/lib/python3.10/dist-packages (from torch>=1.0.0->stanfordnlp) (3.1.2)\n",
            "Requirement already satisfied: triton==2.0.0 in /usr/local/lib/python3.10/dist-packages (from torch>=1.0.0->stanfordnlp) (2.0.0)\n",
            "Requirement already satisfied: cmake in /usr/local/lib/python3.10/dist-packages (from triton==2.0.0->torch>=1.0.0->stanfordnlp) (3.25.2)\n",
            "Requirement already satisfied: lit in /usr/local/lib/python3.10/dist-packages (from triton==2.0.0->torch>=1.0.0->stanfordnlp) (16.0.6)\n",
            "Requirement already satisfied: urllib3<1.27,>=1.21.1 in /usr/local/lib/python3.10/dist-packages (from requests->stanfordnlp) (1.26.16)\n",
            "Requirement already satisfied: certifi>=2017.4.17 in /usr/local/lib/python3.10/dist-packages (from requests->stanfordnlp) (2023.5.7)\n",
            "Requirement already satisfied: charset-normalizer~=2.0.0 in /usr/local/lib/python3.10/dist-packages (from requests->stanfordnlp) (2.0.12)\n",
            "Requirement already satisfied: idna<4,>=2.5 in /usr/local/lib/python3.10/dist-packages (from requests->stanfordnlp) (3.4)\n",
            "Requirement already satisfied: MarkupSafe>=2.0 in /usr/local/lib/python3.10/dist-packages (from jinja2->torch>=1.0.0->stanfordnlp) (2.1.3)\n",
            "Requirement already satisfied: mpmath>=0.19 in /usr/local/lib/python3.10/dist-packages (from sympy->torch>=1.0.0->stanfordnlp) (1.3.0)\n",
            "Installing collected packages: stanfordnlp\n",
            "Successfully installed stanfordnlp-0.2.0\n"
          ]
        }
      ]
    },
    {
      "cell_type": "code",
      "source": [
        "import stanfordnlp\n",
        "\n",
        "MODELS_DIR = '.'\n",
        "stanfordnlp.download('en', MODELS_DIR) # Download the English models\n",
        "nlp_stanford = stanfordnlp.Pipeline(processors='tokenize,pos', models_dir=MODELS_DIR, treebank='en_ewt', use_gpu=True, pos_batch_size=3000) # Build the pipeline, specify part-of-speech processor's batch size"
      ],
      "metadata": {
        "colab": {
          "base_uri": "https://localhost:8080/"
        },
        "id": "icpOw8CSLW6L",
        "outputId": "fff3e2ea-0631-4df5-d9ea-2481e201a559"
      },
      "execution_count": null,
      "outputs": [
        {
          "output_type": "stream",
          "name": "stdout",
          "text": [
            "Using the default treebank \"en_ewt\" for language \"en\".\n",
            "Would you like to download the models for: en_ewt now? (Y/n)\n",
            "Y\n",
            "\n",
            "Downloading models for: en_ewt\n",
            "Download location: ./en_ewt_models.zip\n"
          ]
        },
        {
          "output_type": "stream",
          "name": "stderr",
          "text": [
            "100%|██████████| 235M/235M [00:42<00:00, 5.59MB/s]\n"
          ]
        },
        {
          "output_type": "stream",
          "name": "stdout",
          "text": [
            "\n",
            "Download complete.  Models saved to: ./en_ewt_models.zip\n",
            "Extracting models file for: en_ewt\n",
            "Cleaning up...Done.\n",
            "Use device: cpu\n",
            "---\n",
            "Loading: tokenize\n",
            "With settings: \n",
            "{'model_path': './en_ewt_models/en_ewt_tokenizer.pt', 'lang': 'en', 'shorthand': 'en_ewt', 'mode': 'predict'}\n",
            "---\n",
            "Loading: pos\n",
            "With settings: \n",
            "{'model_path': './en_ewt_models/en_ewt_tagger.pt', 'pretrain_path': './en_ewt_models/en_ewt.pretrain.pt', 'batch_size': 3000, 'lang': 'en', 'shorthand': 'en_ewt', 'mode': 'predict'}\n",
            "Done loading processors!\n",
            "---\n"
          ]
        }
      ]
    },
    {
      "cell_type": "code",
      "source": [
        "sent = \"I bought an apple that is green and that costs 5 dollars\"\n",
        "\n",
        "doc = nlp_stanford(sent) # Run the pipeline on input text\n",
        "doc.sentences[0].print_tokens() # Look at the result\n",
        "# print(*[f'text: {word.text+\" \"}\\tlemma: {word.lemma}\\tupos: {word.upos}\\txpos: {word.xpos}' for sent in doc.sentences for word in sent.words], sep='\\n')"
      ],
      "metadata": {
        "id": "s682QvU-Lfbe"
      },
      "execution_count": null,
      "outputs": []
    },
    {
      "cell_type": "code",
      "source": [
        "sentence = doc.sentences\n",
        "s = sentence[0]\n",
        "s.print_dependencies\n",
        "s.print_words"
      ],
      "metadata": {
        "colab": {
          "base_uri": "https://localhost:8080/"
        },
        "id": "8WBlGXOIL36X",
        "outputId": "24e33dc0-2f97-437c-8ca5-53783f34c7e1"
      },
      "execution_count": null,
      "outputs": [
        {
          "output_type": "execute_result",
          "data": {
            "text/plain": [
              "<bound method Sentence.print_words of <stanfordnlp.pipeline.doc.Sentence object at 0x7f5f2393d660>>"
            ]
          },
          "metadata": {},
          "execution_count": 39
        }
      ]
    },
    {
      "cell_type": "code",
      "source": [],
      "metadata": {
        "id": "fmz9dAinL8sD"
      },
      "execution_count": null,
      "outputs": []
    },
    {
      "cell_type": "markdown",
      "source": [
        "# Allen nlp"
      ],
      "metadata": {
        "id": "i2AN0IcWPzvI"
      }
    },
    {
      "cell_type": "code",
      "source": [
        "pip install allennlp"
      ],
      "metadata": {
        "colab": {
          "base_uri": "https://localhost:8080/",
          "height": 1000
        },
        "id": "6pVpOQ_iP0vG",
        "outputId": "ab1d7684-f7d2-4178-9baa-bc832a042bf8"
      },
      "execution_count": null,
      "outputs": [
        {
          "output_type": "stream",
          "name": "stdout",
          "text": [
            "Collecting allennlp\n",
            "  Downloading allennlp-2.10.1-py3-none-any.whl (730 kB)\n",
            "\u001b[2K     \u001b[90m━━━━━━━━━━━━━━━━━━━━━━━━━━━━━━━━━━━━━━\u001b[0m \u001b[32m730.2/730.2 kB\u001b[0m \u001b[31m14.0 MB/s\u001b[0m eta \u001b[36m0:00:00\u001b[0m\n",
            "\u001b[?25hCollecting torch<1.13.0,>=1.10.0 (from allennlp)\n",
            "  Downloading torch-1.12.1-cp310-cp310-manylinux1_x86_64.whl (776.3 MB)\n",
            "\u001b[2K     \u001b[90m━━━━━━━━━━━━━━━━━━━━━━━━━━━━━━━━━━━━━\u001b[0m \u001b[32m776.3/776.3 MB\u001b[0m \u001b[31m458.9 kB/s\u001b[0m eta \u001b[36m0:00:00\u001b[0m\n",
            "\u001b[?25hCollecting torchvision<0.14.0,>=0.8.1 (from allennlp)\n",
            "  Downloading torchvision-0.13.1-cp310-cp310-manylinux1_x86_64.whl (19.1 MB)\n",
            "\u001b[2K     \u001b[90m━━━━━━━━━━━━━━━━━━━━━━━━━━━━━━━━━━━━━━━━\u001b[0m \u001b[32m19.1/19.1 MB\u001b[0m \u001b[31m13.4 MB/s\u001b[0m eta \u001b[36m0:00:00\u001b[0m\n",
            "\u001b[?25hCollecting cached-path<1.2.0,>=1.1.3 (from allennlp)\n",
            "  Downloading cached_path-1.1.6-py3-none-any.whl (26 kB)\n",
            "Collecting fairscale==0.4.6 (from allennlp)\n",
            "  Downloading fairscale-0.4.6.tar.gz (248 kB)\n",
            "\u001b[2K     \u001b[90m━━━━━━━━━━━━━━━━━━━━━━━━━━━━━━━━━━━━━━\u001b[0m \u001b[32m248.2/248.2 kB\u001b[0m \u001b[31m26.8 MB/s\u001b[0m eta \u001b[36m0:00:00\u001b[0m\n",
            "\u001b[?25h  Installing build dependencies ... \u001b[?25l\u001b[?25hdone\n",
            "  Getting requirements to build wheel ... \u001b[?25l\u001b[?25hdone\n",
            "  Installing backend dependencies ... \u001b[?25l\u001b[?25hdone\n",
            "  Preparing metadata (pyproject.toml) ... \u001b[?25l\u001b[?25hdone\n",
            "Requirement already satisfied: nltk>=3.6.5 in /usr/local/lib/python3.10/dist-packages (from allennlp) (3.8.1)\n",
            "Collecting spacy<3.4,>=2.1.0 (from allennlp)\n",
            "  Downloading spacy-3.3.3-cp310-cp310-manylinux_2_17_x86_64.manylinux2014_x86_64.whl (6.3 MB)\n",
            "\u001b[2K     \u001b[90m━━━━━━━━━━━━━━━━━━━━━━━━━━━━━━━━━━━━━━━━\u001b[0m \u001b[32m6.3/6.3 MB\u001b[0m \u001b[31m12.9 MB/s\u001b[0m eta \u001b[36m0:00:00\u001b[0m\n",
            "\u001b[?25hRequirement already satisfied: numpy>=1.21.4 in /usr/local/lib/python3.10/dist-packages (from allennlp) (1.22.4)\n",
            "Collecting tensorboardX>=1.2 (from allennlp)\n",
            "  Downloading tensorboardX-2.6.1-py2.py3-none-any.whl (101 kB)\n",
            "\u001b[2K     \u001b[90m━━━━━━━━━━━━━━━━━━━━━━━━━━━━━━━━━━━━━━\u001b[0m \u001b[32m101.6/101.6 kB\u001b[0m \u001b[31m10.7 MB/s\u001b[0m eta \u001b[36m0:00:00\u001b[0m\n",
            "\u001b[?25hCollecting requests>=2.28 (from allennlp)\n",
            "  Downloading requests-2.31.0-py3-none-any.whl (62 kB)\n",
            "\u001b[2K     \u001b[90m━━━━━━━━━━━━━━━━━━━━━━━━━━━━━━━━━━━━━━━━\u001b[0m \u001b[32m62.6/62.6 kB\u001b[0m \u001b[31m8.3 MB/s\u001b[0m eta \u001b[36m0:00:00\u001b[0m\n",
            "\u001b[?25hRequirement already satisfied: tqdm>=4.62 in /usr/local/lib/python3.10/dist-packages (from allennlp) (4.65.0)\n",
            "Requirement already satisfied: h5py>=3.6.0 in /usr/local/lib/python3.10/dist-packages (from allennlp) (3.8.0)\n",
            "Requirement already satisfied: scikit-learn>=1.0.1 in /usr/local/lib/python3.10/dist-packages (from allennlp) (1.2.2)\n",
            "Requirement already satisfied: scipy>=1.7.3 in /usr/local/lib/python3.10/dist-packages (from allennlp) (1.10.1)\n",
            "Requirement already satisfied: pytest>=6.2.5 in /usr/local/lib/python3.10/dist-packages (from allennlp) (7.2.2)\n",
            "Collecting transformers<4.21,>=4.1 (from allennlp)\n",
            "  Downloading transformers-4.20.1-py3-none-any.whl (4.4 MB)\n",
            "\u001b[2K     \u001b[90m━━━━━━━━━━━━━━━━━━━━━━━━━━━━━━━━━━━━━━━━\u001b[0m \u001b[32m4.4/4.4 MB\u001b[0m \u001b[31m96.3 MB/s\u001b[0m eta \u001b[36m0:00:00\u001b[0m\n",
            "\u001b[?25hCollecting sentencepiece>=0.1.96 (from allennlp)\n",
            "  Downloading sentencepiece-0.1.99-cp310-cp310-manylinux_2_17_x86_64.manylinux2014_x86_64.whl (1.3 MB)\n",
            "\u001b[2K     \u001b[90m━━━━━━━━━━━━━━━━━━━━━━━━━━━━━━━━━━━━━━━━\u001b[0m \u001b[32m1.3/1.3 MB\u001b[0m \u001b[31m69.0 MB/s\u001b[0m eta \u001b[36m0:00:00\u001b[0m\n",
            "\u001b[?25hCollecting filelock<3.8,>=3.3 (from allennlp)\n",
            "  Downloading filelock-3.7.1-py3-none-any.whl (10 kB)\n",
            "Collecting lmdb>=1.2.1 (from allennlp)\n",
            "  Downloading lmdb-1.4.1-cp310-cp310-manylinux_2_17_x86_64.manylinux2014_x86_64.whl (299 kB)\n",
            "\u001b[2K     \u001b[90m━━━━━━━━━━━━━━━━━━━━━━━━━━━━━━━━━━━━━━\u001b[0m \u001b[32m299.2/299.2 kB\u001b[0m \u001b[31m29.5 MB/s\u001b[0m eta \u001b[36m0:00:00\u001b[0m\n",
            "\u001b[?25hRequirement already satisfied: more-itertools>=8.12.0 in /usr/local/lib/python3.10/dist-packages (from allennlp) (9.1.0)\n",
            "Collecting termcolor==1.1.0 (from allennlp)\n",
            "  Downloading termcolor-1.1.0.tar.gz (3.9 kB)\n",
            "  Preparing metadata (setup.py) ... \u001b[?25l\u001b[?25hdone\n",
            "Collecting wandb<0.13.0,>=0.10.0 (from allennlp)\n",
            "  Downloading wandb-0.12.21-py2.py3-none-any.whl (1.8 MB)\n",
            "\u001b[2K     \u001b[90m━━━━━━━━━━━━━━━━━━━━━━━━━━━━━━━━━━━━━━━━\u001b[0m \u001b[32m1.8/1.8 MB\u001b[0m \u001b[31m67.5 MB/s\u001b[0m eta \u001b[36m0:00:00\u001b[0m\n",
            "\u001b[?25hCollecting huggingface-hub>=0.0.16 (from allennlp)\n",
            "  Downloading huggingface_hub-0.16.4-py3-none-any.whl (268 kB)\n",
            "\u001b[2K     \u001b[90m━━━━━━━━━━━━━━━━━━━━━━━━━━━━━━━━━━━━━━\u001b[0m \u001b[32m268.8/268.8 kB\u001b[0m \u001b[31m25.6 MB/s\u001b[0m eta \u001b[36m0:00:00\u001b[0m\n",
            "\u001b[?25hCollecting dill>=0.3.4 (from allennlp)\n",
            "  Downloading dill-0.3.6-py3-none-any.whl (110 kB)\n",
            "\u001b[2K     \u001b[90m━━━━━━━━━━━━━━━━━━━━━━━━━━━━━━━━━━━━━━\u001b[0m \u001b[32m110.5/110.5 kB\u001b[0m \u001b[31m12.5 MB/s\u001b[0m eta \u001b[36m0:00:00\u001b[0m\n",
            "\u001b[?25hCollecting base58>=2.1.1 (from allennlp)\n",
            "  Downloading base58-2.1.1-py3-none-any.whl (5.6 kB)\n",
            "Collecting sacremoses (from allennlp)\n",
            "  Downloading sacremoses-0.0.53.tar.gz (880 kB)\n",
            "\u001b[2K     \u001b[90m━━━━━━━━━━━━━━━━━━━━━━━━━━━━━━━━━━━━━━\u001b[0m \u001b[32m880.6/880.6 kB\u001b[0m \u001b[31m37.2 MB/s\u001b[0m eta \u001b[36m0:00:00\u001b[0m\n",
            "\u001b[?25h  Preparing metadata (setup.py) ... \u001b[?25l\u001b[?25hdone\n",
            "Requirement already satisfied: typer>=0.4.1 in /usr/local/lib/python3.10/dist-packages (from allennlp) (0.9.0)\n",
            "Requirement already satisfied: protobuf<4.0.0,>=3.12.0 in /usr/local/lib/python3.10/dist-packages (from allennlp) (3.20.3)\n",
            "Requirement already satisfied: traitlets>5.1.1 in /usr/local/lib/python3.10/dist-packages (from allennlp) (5.7.1)\n",
            "Collecting jsonnet>=0.10.0 (from allennlp)\n",
            "  Downloading jsonnet-0.20.0.tar.gz (594 kB)\n",
            "\u001b[2K     \u001b[90m━━━━━━━━━━━━━━━━━━━━━━━━━━━━━━━━━━━━━━\u001b[0m \u001b[32m594.2/594.2 kB\u001b[0m \u001b[31m49.2 MB/s\u001b[0m eta \u001b[36m0:00:00\u001b[0m\n",
            "\u001b[?25h  Preparing metadata (setup.py) ... \u001b[?25l\u001b[?25hdone\n",
            "Collecting rich<13.0,>=12.1 (from cached-path<1.2.0,>=1.1.3->allennlp)\n",
            "  Downloading rich-12.6.0-py3-none-any.whl (237 kB)\n",
            "\u001b[2K     \u001b[90m━━━━━━━━━━━━━━━━━━━━━━━━━━━━━━━━━━━━━━\u001b[0m \u001b[32m237.5/237.5 kB\u001b[0m \u001b[31m25.4 MB/s\u001b[0m eta \u001b[36m0:00:00\u001b[0m\n",
            "\u001b[?25hCollecting boto3<2.0,>=1.0 (from cached-path<1.2.0,>=1.1.3->allennlp)\n",
            "  Downloading boto3-1.28.3-py3-none-any.whl (135 kB)\n",
            "\u001b[2K     \u001b[90m━━━━━━━━━━━━━━━━━━━━━━━━━━━━━━━━━━━━━━\u001b[0m \u001b[32m135.7/135.7 kB\u001b[0m \u001b[31m13.4 MB/s\u001b[0m eta \u001b[36m0:00:00\u001b[0m\n",
            "\u001b[?25hRequirement already satisfied: google-cloud-storage<3.0,>=1.32.0 in /usr/local/lib/python3.10/dist-packages (from cached-path<1.2.0,>=1.1.3->allennlp) (2.8.0)\n",
            "Collecting huggingface-hub>=0.0.16 (from allennlp)\n",
            "  Downloading huggingface_hub-0.10.1-py3-none-any.whl (163 kB)\n",
            "\u001b[2K     \u001b[90m━━━━━━━━━━━━━━━━━━━━━━━━━━━━━━━━━━━━━━\u001b[0m \u001b[32m163.5/163.5 kB\u001b[0m \u001b[31m16.4 MB/s\u001b[0m eta \u001b[36m0:00:00\u001b[0m\n",
            "\u001b[?25hRequirement already satisfied: pyyaml>=5.1 in /usr/local/lib/python3.10/dist-packages (from huggingface-hub>=0.0.16->allennlp) (6.0)\n",
            "Requirement already satisfied: typing-extensions>=3.7.4.3 in /usr/local/lib/python3.10/dist-packages (from huggingface-hub>=0.0.16->allennlp) (4.7.1)\n",
            "Requirement already satisfied: packaging>=20.9 in /usr/local/lib/python3.10/dist-packages (from huggingface-hub>=0.0.16->allennlp) (23.1)\n",
            "Requirement already satisfied: click in /usr/local/lib/python3.10/dist-packages (from nltk>=3.6.5->allennlp) (8.1.4)\n",
            "Requirement already satisfied: joblib in /usr/local/lib/python3.10/dist-packages (from nltk>=3.6.5->allennlp) (1.3.1)\n",
            "Requirement already satisfied: regex>=2021.8.3 in /usr/local/lib/python3.10/dist-packages (from nltk>=3.6.5->allennlp) (2022.10.31)\n",
            "Requirement already satisfied: attrs>=19.2.0 in /usr/local/lib/python3.10/dist-packages (from pytest>=6.2.5->allennlp) (23.1.0)\n",
            "Requirement already satisfied: iniconfig in /usr/local/lib/python3.10/dist-packages (from pytest>=6.2.5->allennlp) (2.0.0)\n",
            "Requirement already satisfied: pluggy<2.0,>=0.12 in /usr/local/lib/python3.10/dist-packages (from pytest>=6.2.5->allennlp) (1.2.0)\n",
            "Requirement already satisfied: exceptiongroup>=1.0.0rc8 in /usr/local/lib/python3.10/dist-packages (from pytest>=6.2.5->allennlp) (1.1.2)\n",
            "Requirement already satisfied: tomli>=1.0.0 in /usr/local/lib/python3.10/dist-packages (from pytest>=6.2.5->allennlp) (2.0.1)\n",
            "Requirement already satisfied: charset-normalizer<4,>=2 in /usr/local/lib/python3.10/dist-packages (from requests>=2.28->allennlp) (2.0.12)\n",
            "Requirement already satisfied: idna<4,>=2.5 in /usr/local/lib/python3.10/dist-packages (from requests>=2.28->allennlp) (3.4)\n",
            "Requirement already satisfied: urllib3<3,>=1.21.1 in /usr/local/lib/python3.10/dist-packages (from requests>=2.28->allennlp) (1.26.16)\n",
            "Requirement already satisfied: certifi>=2017.4.17 in /usr/local/lib/python3.10/dist-packages (from requests>=2.28->allennlp) (2023.5.7)\n",
            "Requirement already satisfied: threadpoolctl>=2.0.0 in /usr/local/lib/python3.10/dist-packages (from scikit-learn>=1.0.1->allennlp) (3.1.0)\n",
            "Requirement already satisfied: spacy-legacy<3.1.0,>=3.0.9 in /usr/local/lib/python3.10/dist-packages (from spacy<3.4,>=2.1.0->allennlp) (3.0.12)\n",
            "Requirement already satisfied: spacy-loggers<2.0.0,>=1.0.0 in /usr/local/lib/python3.10/dist-packages (from spacy<3.4,>=2.1.0->allennlp) (1.0.4)\n",
            "Requirement already satisfied: murmurhash<1.1.0,>=0.28.0 in /usr/local/lib/python3.10/dist-packages (from spacy<3.4,>=2.1.0->allennlp) (1.0.9)\n",
            "Requirement already satisfied: cymem<2.1.0,>=2.0.2 in /usr/local/lib/python3.10/dist-packages (from spacy<3.4,>=2.1.0->allennlp) (2.0.7)\n",
            "Requirement already satisfied: preshed<3.1.0,>=3.0.2 in /usr/local/lib/python3.10/dist-packages (from spacy<3.4,>=2.1.0->allennlp) (3.0.8)\n",
            "Collecting thinc<8.1.0,>=8.0.14 (from spacy<3.4,>=2.1.0->allennlp)\n",
            "  Downloading thinc-8.0.17-cp310-cp310-manylinux_2_17_x86_64.manylinux2014_x86_64.whl (659 kB)\n",
            "\u001b[2K     \u001b[90m━━━━━━━━━━━━━━━━━━━━━━━━━━━━━━━━━━━━━━\u001b[0m \u001b[32m659.5/659.5 kB\u001b[0m \u001b[31m42.5 MB/s\u001b[0m eta \u001b[36m0:00:00\u001b[0m\n",
            "\u001b[?25hRequirement already satisfied: blis<0.8.0,>=0.4.0 in /usr/local/lib/python3.10/dist-packages (from spacy<3.4,>=2.1.0->allennlp) (0.7.9)\n",
            "Collecting wasabi<1.1.0,>=0.9.1 (from spacy<3.4,>=2.1.0->allennlp)\n",
            "  Downloading wasabi-0.10.1-py3-none-any.whl (26 kB)\n",
            "Requirement already satisfied: srsly<3.0.0,>=2.4.3 in /usr/local/lib/python3.10/dist-packages (from spacy<3.4,>=2.1.0->allennlp) (2.4.6)\n",
            "Requirement already satisfied: catalogue<2.1.0,>=2.0.6 in /usr/local/lib/python3.10/dist-packages (from spacy<3.4,>=2.1.0->allennlp) (2.0.8)\n",
            "Collecting typer>=0.4.1 (from allennlp)\n",
            "  Downloading typer-0.4.2-py3-none-any.whl (27 kB)\n",
            "Requirement already satisfied: pathy>=0.3.5 in /usr/local/lib/python3.10/dist-packages (from spacy<3.4,>=2.1.0->allennlp) (0.10.2)\n",
            "Requirement already satisfied: smart-open<7.0.0,>=5.2.1 in /usr/local/lib/python3.10/dist-packages (from spacy<3.4,>=2.1.0->allennlp) (6.3.0)\n",
            "Collecting pydantic!=1.8,!=1.8.1,<1.9.0,>=1.7.4 (from spacy<3.4,>=2.1.0->allennlp)\n",
            "  Downloading pydantic-1.8.2-py3-none-any.whl (126 kB)\n",
            "\u001b[2K     \u001b[90m━━━━━━━━━━━━━━━━━━━━━━━━━━━━━━━━━━━━━━\u001b[0m \u001b[32m126.0/126.0 kB\u001b[0m \u001b[31m12.7 MB/s\u001b[0m eta \u001b[36m0:00:00\u001b[0m\n",
            "\u001b[?25hRequirement already satisfied: jinja2 in /usr/local/lib/python3.10/dist-packages (from spacy<3.4,>=2.1.0->allennlp) (3.1.2)\n",
            "Requirement already satisfied: setuptools in /usr/local/lib/python3.10/dist-packages (from spacy<3.4,>=2.1.0->allennlp) (67.7.2)\n",
            "Collecting typing-extensions>=3.7.4.3 (from huggingface-hub>=0.0.16->allennlp)\n",
            "  Downloading typing_extensions-4.5.0-py3-none-any.whl (27 kB)\n",
            "Requirement already satisfied: langcodes<4.0.0,>=3.2.0 in /usr/local/lib/python3.10/dist-packages (from spacy<3.4,>=2.1.0->allennlp) (3.3.0)\n",
            "INFO: pip is looking at multiple versions of tensorboardx to determine which version is compatible with other requirements. This could take a while.\n",
            "Collecting tensorboardX>=1.2 (from allennlp)\n",
            "  Downloading tensorboardX-2.6-py2.py3-none-any.whl (114 kB)\n",
            "\u001b[2K     \u001b[90m━━━━━━━━━━━━━━━━━━━━━━━━━━━━━━━━━━━━━━\u001b[0m \u001b[32m114.5/114.5 kB\u001b[0m \u001b[31m11.9 MB/s\u001b[0m eta \u001b[36m0:00:00\u001b[0m\n",
            "\u001b[?25hRequirement already satisfied: pillow!=8.3.*,>=5.3.0 in /usr/local/lib/python3.10/dist-packages (from torchvision<0.14.0,>=0.8.1->allennlp) (8.4.0)\n",
            "Collecting tokenizers!=0.11.3,<0.13,>=0.11.1 (from transformers<4.21,>=4.1->allennlp)\n",
            "  Downloading tokenizers-0.12.1-cp310-cp310-manylinux_2_12_x86_64.manylinux2010_x86_64.whl (6.6 MB)\n",
            "\u001b[2K     \u001b[90m━━━━━━━━━━━━━━━━━━━━━━━━━━━━━━━━━━━━━━━━\u001b[0m \u001b[32m6.6/6.6 MB\u001b[0m \u001b[31m70.3 MB/s\u001b[0m eta \u001b[36m0:00:00\u001b[0m\n",
            "\u001b[?25hCollecting GitPython>=1.0.0 (from wandb<0.13.0,>=0.10.0->allennlp)\n",
            "  Downloading GitPython-3.1.32-py3-none-any.whl (188 kB)\n",
            "\u001b[2K     \u001b[90m━━━━━━━━━━━━━━━━━━━━━━━━━━━━━━━━━━━━━━\u001b[0m \u001b[32m188.5/188.5 kB\u001b[0m \u001b[31m18.9 MB/s\u001b[0m eta \u001b[36m0:00:00\u001b[0m\n",
            "\u001b[?25hRequirement already satisfied: promise<3,>=2.0 in /usr/local/lib/python3.10/dist-packages (from wandb<0.13.0,>=0.10.0->allennlp) (2.3)\n",
            "Collecting shortuuid>=0.5.0 (from wandb<0.13.0,>=0.10.0->allennlp)\n",
            "  Downloading shortuuid-1.0.11-py3-none-any.whl (10 kB)\n",
            "Requirement already satisfied: psutil>=5.0.0 in /usr/local/lib/python3.10/dist-packages (from wandb<0.13.0,>=0.10.0->allennlp) (5.9.5)\n",
            "Collecting sentry-sdk>=1.0.0 (from wandb<0.13.0,>=0.10.0->allennlp)\n",
            "  Downloading sentry_sdk-1.28.1-py2.py3-none-any.whl (214 kB)\n",
            "\u001b[2K     \u001b[90m━━━━━━━━━━━━━━━━━━━━━━━━━━━━━━━━━━━━━━\u001b[0m \u001b[32m214.7/214.7 kB\u001b[0m \u001b[31m22.8 MB/s\u001b[0m eta \u001b[36m0:00:00\u001b[0m\n",
            "\u001b[?25hRequirement already satisfied: six>=1.13.0 in /usr/local/lib/python3.10/dist-packages (from wandb<0.13.0,>=0.10.0->allennlp) (1.16.0)\n",
            "Collecting docker-pycreds>=0.4.0 (from wandb<0.13.0,>=0.10.0->allennlp)\n",
            "  Downloading docker_pycreds-0.4.0-py2.py3-none-any.whl (9.0 kB)\n",
            "Collecting pathtools (from wandb<0.13.0,>=0.10.0->allennlp)\n",
            "  Downloading pathtools-0.1.2.tar.gz (11 kB)\n",
            "  Preparing metadata (setup.py) ... \u001b[?25l\u001b[?25hdone\n",
            "Collecting setproctitle (from wandb<0.13.0,>=0.10.0->allennlp)\n",
            "  Downloading setproctitle-1.3.2-cp310-cp310-manylinux_2_5_x86_64.manylinux1_x86_64.manylinux_2_17_x86_64.manylinux2014_x86_64.whl (30 kB)\n",
            "Collecting botocore<1.32.0,>=1.31.3 (from boto3<2.0,>=1.0->cached-path<1.2.0,>=1.1.3->allennlp)\n",
            "  Downloading botocore-1.31.3-py3-none-any.whl (11.0 MB)\n",
            "\u001b[2K     \u001b[90m━━━━━━━━━━━━━━━━━━━━━━━━━━━━━━━━━━━━━━━\u001b[0m \u001b[32m11.0/11.0 MB\u001b[0m \u001b[31m102.1 MB/s\u001b[0m eta \u001b[36m0:00:00\u001b[0m\n",
            "\u001b[?25hCollecting jmespath<2.0.0,>=0.7.1 (from boto3<2.0,>=1.0->cached-path<1.2.0,>=1.1.3->allennlp)\n",
            "  Downloading jmespath-1.0.1-py3-none-any.whl (20 kB)\n",
            "Collecting s3transfer<0.7.0,>=0.6.0 (from boto3<2.0,>=1.0->cached-path<1.2.0,>=1.1.3->allennlp)\n",
            "  Downloading s3transfer-0.6.1-py3-none-any.whl (79 kB)\n",
            "\u001b[2K     \u001b[90m━━━━━━━━━━━━━━━━━━━━━━━━━━━━━━━━━━━━━━━━\u001b[0m \u001b[32m79.8/79.8 kB\u001b[0m \u001b[31m9.8 MB/s\u001b[0m eta \u001b[36m0:00:00\u001b[0m\n",
            "\u001b[?25hCollecting gitdb<5,>=4.0.1 (from GitPython>=1.0.0->wandb<0.13.0,>=0.10.0->allennlp)\n",
            "  Downloading gitdb-4.0.10-py3-none-any.whl (62 kB)\n",
            "\u001b[2K     \u001b[90m━━━━━━━━━━━━━━━━━━━━━━━━━━━━━━━━━━━━━━━━\u001b[0m \u001b[32m62.7/62.7 kB\u001b[0m \u001b[31m7.1 MB/s\u001b[0m eta \u001b[36m0:00:00\u001b[0m\n",
            "\u001b[?25hRequirement already satisfied: google-auth<3.0dev,>=1.25.0 in /usr/local/lib/python3.10/dist-packages (from google-cloud-storage<3.0,>=1.32.0->cached-path<1.2.0,>=1.1.3->allennlp) (2.17.3)\n",
            "Requirement already satisfied: google-api-core!=2.0.*,!=2.1.*,!=2.2.*,!=2.3.0,<3.0.0dev,>=1.31.5 in /usr/local/lib/python3.10/dist-packages (from google-cloud-storage<3.0,>=1.32.0->cached-path<1.2.0,>=1.1.3->allennlp) (2.11.1)\n",
            "Requirement already satisfied: google-cloud-core<3.0dev,>=2.3.0 in /usr/local/lib/python3.10/dist-packages (from google-cloud-storage<3.0,>=1.32.0->cached-path<1.2.0,>=1.1.3->allennlp) (2.3.3)\n",
            "Requirement already satisfied: google-resumable-media>=2.3.2 in /usr/local/lib/python3.10/dist-packages (from google-cloud-storage<3.0,>=1.32.0->cached-path<1.2.0,>=1.1.3->allennlp) (2.5.0)\n",
            "Collecting commonmark<0.10.0,>=0.9.0 (from rich<13.0,>=12.1->cached-path<1.2.0,>=1.1.3->allennlp)\n",
            "  Downloading commonmark-0.9.1-py2.py3-none-any.whl (51 kB)\n",
            "\u001b[2K     \u001b[90m━━━━━━━━━━━━━━━━━━━━━━━━━━━━━━━━━━━━━━━━\u001b[0m \u001b[32m51.1/51.1 kB\u001b[0m \u001b[31m5.4 MB/s\u001b[0m eta \u001b[36m0:00:00\u001b[0m\n",
            "\u001b[?25hRequirement already satisfied: pygments<3.0.0,>=2.6.0 in /usr/local/lib/python3.10/dist-packages (from rich<13.0,>=12.1->cached-path<1.2.0,>=1.1.3->allennlp) (2.14.0)\n",
            "Requirement already satisfied: MarkupSafe>=2.0 in /usr/local/lib/python3.10/dist-packages (from jinja2->spacy<3.4,>=2.1.0->allennlp) (2.1.3)\n",
            "Requirement already satisfied: python-dateutil<3.0.0,>=2.1 in /usr/local/lib/python3.10/dist-packages (from botocore<1.32.0,>=1.31.3->boto3<2.0,>=1.0->cached-path<1.2.0,>=1.1.3->allennlp) (2.8.2)\n",
            "Collecting smmap<6,>=3.0.1 (from gitdb<5,>=4.0.1->GitPython>=1.0.0->wandb<0.13.0,>=0.10.0->allennlp)\n",
            "  Downloading smmap-5.0.0-py3-none-any.whl (24 kB)\n",
            "Requirement already satisfied: googleapis-common-protos<2.0.dev0,>=1.56.2 in /usr/local/lib/python3.10/dist-packages (from google-api-core!=2.0.*,!=2.1.*,!=2.2.*,!=2.3.0,<3.0.0dev,>=1.31.5->google-cloud-storage<3.0,>=1.32.0->cached-path<1.2.0,>=1.1.3->allennlp) (1.59.1)\n",
            "Requirement already satisfied: cachetools<6.0,>=2.0.0 in /usr/local/lib/python3.10/dist-packages (from google-auth<3.0dev,>=1.25.0->google-cloud-storage<3.0,>=1.32.0->cached-path<1.2.0,>=1.1.3->allennlp) (5.3.1)\n",
            "Requirement already satisfied: pyasn1-modules>=0.2.1 in /usr/local/lib/python3.10/dist-packages (from google-auth<3.0dev,>=1.25.0->google-cloud-storage<3.0,>=1.32.0->cached-path<1.2.0,>=1.1.3->allennlp) (0.3.0)\n",
            "Requirement already satisfied: rsa<5,>=3.1.4 in /usr/local/lib/python3.10/dist-packages (from google-auth<3.0dev,>=1.25.0->google-cloud-storage<3.0,>=1.32.0->cached-path<1.2.0,>=1.1.3->allennlp) (4.9)\n",
            "Requirement already satisfied: google-crc32c<2.0dev,>=1.0 in /usr/local/lib/python3.10/dist-packages (from google-resumable-media>=2.3.2->google-cloud-storage<3.0,>=1.32.0->cached-path<1.2.0,>=1.1.3->allennlp) (1.5.0)\n",
            "Requirement already satisfied: pyasn1<0.6.0,>=0.4.6 in /usr/local/lib/python3.10/dist-packages (from pyasn1-modules>=0.2.1->google-auth<3.0dev,>=1.25.0->google-cloud-storage<3.0,>=1.32.0->cached-path<1.2.0,>=1.1.3->allennlp) (0.5.0)\n",
            "Building wheels for collected packages: fairscale, termcolor, jsonnet, sacremoses, pathtools\n",
            "  Building wheel for fairscale (pyproject.toml) ... \u001b[?25l\u001b[?25hdone\n",
            "  Created wheel for fairscale: filename=fairscale-0.4.6-py3-none-any.whl size=307224 sha256=4f6ef0a7b903175ef2b3dfdbd6dacb616a232fb911d09dd860b7c2619cce8fdc\n",
            "  Stored in directory: /root/.cache/pip/wheels/a1/58/3d/e114952ab4a8f31eb9dae230658450afff986b211a5b1f2256\n",
            "  Building wheel for termcolor (setup.py) ... \u001b[?25l\u001b[?25hdone\n",
            "  Created wheel for termcolor: filename=termcolor-1.1.0-py3-none-any.whl size=4832 sha256=3c74fd1467073e36cbbf215dcee013916e50cbb4c72911db7fd5f817c44e961c\n",
            "  Stored in directory: /root/.cache/pip/wheels/a1/49/46/1b13a65d8da11238af9616b00fdde6d45b0f95d9291bac8452\n",
            "  Building wheel for jsonnet (setup.py) ... \u001b[?25l\u001b[?25hdone\n",
            "  Created wheel for jsonnet: filename=jsonnet-0.20.0-cp310-cp310-linux_x86_64.whl size=6620075 sha256=5490987fa5a70ab801d99f1eacdfe17e04f044cb3026aa898013645a3114e932\n",
            "  Stored in directory: /root/.cache/pip/wheels/63/0d/6b/5467dd1db9332ba4bd5cf4153e2870c5f89bb4db473d989cc2\n",
            "  Building wheel for sacremoses (setup.py) ... \u001b[?25l\u001b[?25hdone\n",
            "  Created wheel for sacremoses: filename=sacremoses-0.0.53-py3-none-any.whl size=895241 sha256=3f446d081dacf33ea989653c8832d358d8b71055e28575a0acc5bfe850de46fb\n",
            "  Stored in directory: /root/.cache/pip/wheels/00/24/97/a2ea5324f36bc626e1ea0267f33db6aa80d157ee977e9e42fb\n",
            "  Building wheel for pathtools (setup.py) ... \u001b[?25l\u001b[?25hdone\n",
            "  Created wheel for pathtools: filename=pathtools-0.1.2-py3-none-any.whl size=8791 sha256=787b2eba25646be451225cc78fa9329896f00e1ba8fb9e24d351ab2c407500ff\n",
            "  Stored in directory: /root/.cache/pip/wheels/e7/f3/22/152153d6eb222ee7a56ff8617d80ee5207207a8c00a7aab794\n",
            "Successfully built fairscale termcolor jsonnet sacremoses pathtools\n",
            "Installing collected packages: wasabi, tokenizers, termcolor, sentencepiece, pathtools, lmdb, jsonnet, commonmark, typing-extensions, typer, tensorboardX, smmap, shortuuid, setproctitle, sentry-sdk, sacremoses, rich, requests, jmespath, filelock, docker-pycreds, dill, base58, torch, pydantic, huggingface-hub, gitdb, botocore, transformers, torchvision, thinc, s3transfer, GitPython, fairscale, wandb, spacy, boto3, cached-path, allennlp\n",
            "  Attempting uninstall: wasabi\n",
            "    Found existing installation: wasabi 1.1.2\n",
            "    Uninstalling wasabi-1.1.2:\n",
            "      Successfully uninstalled wasabi-1.1.2\n",
            "  Attempting uninstall: termcolor\n",
            "    Found existing installation: termcolor 2.3.0\n",
            "    Uninstalling termcolor-2.3.0:\n",
            "      Successfully uninstalled termcolor-2.3.0\n",
            "  Attempting uninstall: typing-extensions\n",
            "    Found existing installation: typing_extensions 4.7.1\n",
            "    Uninstalling typing_extensions-4.7.1:\n",
            "      Successfully uninstalled typing_extensions-4.7.1\n",
            "  Attempting uninstall: typer\n",
            "    Found existing installation: typer 0.9.0\n",
            "    Uninstalling typer-0.9.0:\n",
            "      Successfully uninstalled typer-0.9.0\n",
            "  Attempting uninstall: rich\n",
            "    Found existing installation: rich 13.4.2\n",
            "    Uninstalling rich-13.4.2:\n",
            "      Successfully uninstalled rich-13.4.2\n",
            "  Attempting uninstall: requests\n",
            "    Found existing installation: requests 2.27.1\n",
            "    Uninstalling requests-2.27.1:\n",
            "      Successfully uninstalled requests-2.27.1\n",
            "  Attempting uninstall: filelock\n",
            "    Found existing installation: filelock 3.12.2\n",
            "    Uninstalling filelock-3.12.2:\n",
            "      Successfully uninstalled filelock-3.12.2\n",
            "  Attempting uninstall: torch\n",
            "    Found existing installation: torch 2.0.1+cu118\n",
            "    Uninstalling torch-2.0.1+cu118:\n",
            "      Successfully uninstalled torch-2.0.1+cu118\n",
            "  Attempting uninstall: pydantic\n",
            "    Found existing installation: pydantic 1.10.11\n",
            "    Uninstalling pydantic-1.10.11:\n",
            "      Successfully uninstalled pydantic-1.10.11\n",
            "  Attempting uninstall: torchvision\n",
            "    Found existing installation: torchvision 0.15.2+cu118\n",
            "    Uninstalling torchvision-0.15.2+cu118:\n",
            "      Successfully uninstalled torchvision-0.15.2+cu118\n",
            "  Attempting uninstall: thinc\n",
            "    Found existing installation: thinc 8.1.10\n",
            "    Uninstalling thinc-8.1.10:\n",
            "      Successfully uninstalled thinc-8.1.10\n",
            "  Attempting uninstall: spacy\n",
            "    Found existing installation: spacy 3.5.4\n",
            "    Uninstalling spacy-3.5.4:\n",
            "      Successfully uninstalled spacy-3.5.4\n",
            "\u001b[31mERROR: pip's dependency resolver does not currently take into account all the packages that are installed. This behaviour is the source of the following dependency conflicts.\n",
            "en-core-web-lg 3.5.0 requires spacy<3.6.0,>=3.5.0, but you have spacy 3.3.3 which is incompatible.\n",
            "en-core-web-sm 3.5.0 requires spacy<3.6.0,>=3.5.0, but you have spacy 3.3.3 which is incompatible.\n",
            "google-colab 1.0.0 requires requests==2.27.1, but you have requests 2.31.0 which is incompatible.\n",
            "inflect 6.0.5 requires pydantic<2,>=1.9.1, but you have pydantic 1.8.2 which is incompatible.\n",
            "torchaudio 2.0.2+cu118 requires torch==2.0.1, but you have torch 1.12.1 which is incompatible.\n",
            "torchdata 0.6.1 requires torch==2.0.1, but you have torch 1.12.1 which is incompatible.\n",
            "torchtext 0.15.2 requires torch==2.0.1, but you have torch 1.12.1 which is incompatible.\u001b[0m\u001b[31m\n",
            "\u001b[0mSuccessfully installed GitPython-3.1.32 allennlp-2.10.1 base58-2.1.1 boto3-1.28.3 botocore-1.31.3 cached-path-1.1.6 commonmark-0.9.1 dill-0.3.6 docker-pycreds-0.4.0 fairscale-0.4.6 filelock-3.7.1 gitdb-4.0.10 huggingface-hub-0.10.1 jmespath-1.0.1 jsonnet-0.20.0 lmdb-1.4.1 pathtools-0.1.2 pydantic-1.8.2 requests-2.31.0 rich-12.6.0 s3transfer-0.6.1 sacremoses-0.0.53 sentencepiece-0.1.99 sentry-sdk-1.28.1 setproctitle-1.3.2 shortuuid-1.0.11 smmap-5.0.0 spacy-3.3.3 tensorboardX-2.6 termcolor-1.1.0 thinc-8.0.17 tokenizers-0.12.1 torch-1.12.1 torchvision-0.13.1 transformers-4.20.1 typer-0.4.2 typing-extensions-4.5.0 wandb-0.12.21 wasabi-0.10.1\n"
          ]
        },
        {
          "output_type": "display_data",
          "data": {
            "application/vnd.colab-display-data+json": {
              "pip_warning": {
                "packages": [
                  "pydantic",
                  "requests",
                  "spacy",
                  "termcolor",
                  "thinc",
                  "torch",
                  "wasabi"
                ]
              }
            }
          },
          "metadata": {}
        }
      ]
    },
    {
      "cell_type": "code",
      "source": [
        "from allennlp.predictors.predictor import Predictor"
      ],
      "metadata": {
        "id": "CZPKQ5PXP1DM",
        "colab": {
          "base_uri": "https://localhost:8080/"
        },
        "outputId": "97b30c68-5c7e-48eb-e6bd-597808b6a569"
      },
      "execution_count": null,
      "outputs": [
        {
          "output_type": "stream",
          "name": "stderr",
          "text": [
            "/usr/local/lib/python3.10/dist-packages/torchvision/io/image.py:13: UserWarning: Failed to load image Python extension: /usr/local/lib/python3.10/dist-packages/torchvision/image.so: undefined symbol: _ZN3c104cuda20CUDACachingAllocator12recordStreamERKNS_7DataPtrENS0_10CUDAStreamE\n",
            "  warn(f\"Failed to load image Python extension: {e}\")\n"
          ]
        }
      ]
    },
    {
      "cell_type": "code",
      "source": [
        "# import allennlp_models"
      ],
      "metadata": {
        "id": "zjs2eXkxRzt-"
      },
      "execution_count": null,
      "outputs": []
    },
    {
      "cell_type": "code",
      "source": [
        "# pip uninstall -y dataclasses"
      ],
      "metadata": {
        "id": "DXyeUtjUSS2P"
      },
      "execution_count": null,
      "outputs": []
    },
    {
      "cell_type": "code",
      "source": [
        "pip install allennlp-models"
      ],
      "metadata": {
        "colab": {
          "base_uri": "https://localhost:8080/"
        },
        "id": "VeXk_Oy1TFZI",
        "outputId": "8bbb3b6d-8103-4d20-f59f-12716fbc1caf"
      },
      "execution_count": null,
      "outputs": [
        {
          "output_type": "stream",
          "name": "stdout",
          "text": [
            "  Building wheel for word2number (setup.py) ... \u001b[?25l\u001b[?25hdone\n",
            "  Created wheel for word2number: filename=word2number-1.1-py3-none-any.whl size=5569 sha256=50b64f02dcf4c5a6cd9e9dfb800abc4aa1c0839761abbfc9ef1af4679913b898\n",
            "  Stored in directory: /root/.cache/pip/wheels/84/ff/26/d3cfbd971e96c5aa3737ecfced81628830d7359b55fbb8ca3b\n",
            "Successfully built word2number\n",
            "Installing collected packages: word2number, py-rouge, xxhash, multiprocess, ftfy, conllu, responses, datasets, allennlp-models\n",
            "Successfully installed allennlp-models-2.10.1 conllu-4.4.2 datasets-2.10.1 ftfy-6.1.1 multiprocess-0.70.14 py-rouge-1.1 responses-0.18.0 word2number-1.1 xxhash-3.2.0\n"
          ]
        }
      ]
    },
    {
      "cell_type": "code",
      "source": [
        "import allennlp_models"
      ],
      "metadata": {
        "id": "ykbP4gkfTI6V"
      },
      "execution_count": null,
      "outputs": []
    },
    {
      "cell_type": "code",
      "source": [
        "predictor = Predictor.from_path(\"https://storage.googleapis.com/allennlp-public-models/elmo-constituency-parser-2020.02.10.tar.gz\")"
      ],
      "metadata": {
        "colab": {
          "base_uri": "https://localhost:8080/",
          "height": 120,
          "referenced_widgets": [
            "cf0e84f1df5d480eb8421f140c83afb9",
            "b3ca136a583b448e96462cc06a5bfd2b",
            "150a9979ee194a77b3ce931215329231",
            "77c66dab2d1241109049c1190daae1ec",
            "428fce9ea08d4f2884de61158c1124ad",
            "7e79a2784eae4cbb8b72a040a3c239d4"
          ]
        },
        "id": "iDjhLZPLQM4E",
        "outputId": "259af9fb-85c0-4942-b712-d92d10a782a6"
      },
      "execution_count": null,
      "outputs": [
        {
          "output_type": "stream",
          "name": "stderr",
          "text": [
            "[nltk_data] Downloading package punkt to /root/nltk_data...\n",
            "[nltk_data]   Unzipping tokenizers/punkt.zip.\n",
            "[nltk_data] Downloading package wordnet to /root/nltk_data...\n"
          ]
        },
        {
          "output_type": "display_data",
          "data": {
            "text/plain": [
              "Output()"
            ],
            "application/vnd.jupyter.widget-view+json": {
              "version_major": 2,
              "version_minor": 0,
              "model_id": "cf0e84f1df5d480eb8421f140c83afb9"
            }
          },
          "metadata": {}
        },
        {
          "output_type": "display_data",
          "data": {
            "text/plain": [],
            "text/html": [
              "<pre style=\"white-space:pre;overflow-x:auto;line-height:normal;font-family:Menlo,'DejaVu Sans Mono',consolas,'Courier New',monospace\"></pre>\n"
            ]
          },
          "metadata": {}
        },
        {
          "output_type": "display_data",
          "data": {
            "text/plain": [
              "\n"
            ],
            "text/html": [
              "<pre style=\"white-space:pre;overflow-x:auto;line-height:normal;font-family:Menlo,'DejaVu Sans Mono',consolas,'Courier New',monospace\">\n",
              "</pre>\n"
            ]
          },
          "metadata": {}
        },
        {
          "output_type": "display_data",
          "data": {
            "text/plain": [
              "Output()"
            ],
            "application/vnd.jupyter.widget-view+json": {
              "version_major": 2,
              "version_minor": 0,
              "model_id": "150a9979ee194a77b3ce931215329231"
            }
          },
          "metadata": {}
        },
        {
          "output_type": "display_data",
          "data": {
            "text/plain": [],
            "text/html": [
              "<pre style=\"white-space:pre;overflow-x:auto;line-height:normal;font-family:Menlo,'DejaVu Sans Mono',consolas,'Courier New',monospace\"></pre>\n"
            ]
          },
          "metadata": {}
        },
        {
          "output_type": "display_data",
          "data": {
            "text/plain": [
              "\n"
            ],
            "text/html": [
              "<pre style=\"white-space:pre;overflow-x:auto;line-height:normal;font-family:Menlo,'DejaVu Sans Mono',consolas,'Courier New',monospace\">\n",
              "</pre>\n"
            ]
          },
          "metadata": {}
        },
        {
          "output_type": "display_data",
          "data": {
            "text/plain": [
              "Output()"
            ],
            "application/vnd.jupyter.widget-view+json": {
              "version_major": 2,
              "version_minor": 0,
              "model_id": "428fce9ea08d4f2884de61158c1124ad"
            }
          },
          "metadata": {}
        },
        {
          "output_type": "display_data",
          "data": {
            "text/plain": [],
            "text/html": [
              "<pre style=\"white-space:pre;overflow-x:auto;line-height:normal;font-family:Menlo,'DejaVu Sans Mono',consolas,'Courier New',monospace\"></pre>\n"
            ]
          },
          "metadata": {}
        },
        {
          "output_type": "display_data",
          "data": {
            "text/plain": [
              "\n"
            ],
            "text/html": [
              "<pre style=\"white-space:pre;overflow-x:auto;line-height:normal;font-family:Menlo,'DejaVu Sans Mono',consolas,'Courier New',monospace\">\n",
              "</pre>\n"
            ]
          },
          "metadata": {}
        }
      ]
    },
    {
      "cell_type": "code",
      "source": [
        "def allen_sentences(text):\n",
        "  sents = []\n",
        "  # Process the text\n",
        "  doc = nlp(text)\n",
        "\n",
        "  # Iterate over the sentences and print them\n",
        "  for sent in doc.sents:\n",
        "    sents.append(sent.text)\n",
        "  return sents\n",
        "\n",
        "def allen_nps(sents):\n",
        "  nps = set()\n",
        "  for sent in sents:\n",
        "    res = predictor.predict(sentence=sent)\n",
        "    nps.update(extract_phrase(res['trees'], 'NP') )\n",
        "  return nps"
      ],
      "metadata": {
        "id": "8IB1JzNSwx4V"
      },
      "execution_count": null,
      "outputs": []
    },
    {
      "cell_type": "code",
      "source": [
        "df = incpec_data.loc[0:100]"
      ],
      "metadata": {
        "id": "WlphSwC506ns"
      },
      "execution_count": null,
      "outputs": []
    },
    {
      "cell_type": "code",
      "source": [],
      "metadata": {
        "id": "YfnAk61bkxSG"
      },
      "execution_count": null,
      "outputs": []
    },
    {
      "cell_type": "code",
      "source": [
        "%%time\n",
        "df['allen_sents'] = df.cleaned_text.apply(lambda x: allen_sentences(x))"
      ],
      "metadata": {
        "colab": {
          "base_uri": "https://localhost:8080/"
        },
        "id": "iB6Oh_a2nO3N",
        "outputId": "f384437a-f3ae-4b6b-b569-85ce583b763d"
      },
      "execution_count": null,
      "outputs": [
        {
          "output_type": "stream",
          "name": "stdout",
          "text": [
            "CPU times: user 3.38 s, sys: 9.24 ms, total: 3.39 s\n",
            "Wall time: 3.44 s\n"
          ]
        },
        {
          "output_type": "stream",
          "name": "stderr",
          "text": [
            "<timed exec>:1: SettingWithCopyWarning: \n",
            "A value is trying to be set on a copy of a slice from a DataFrame.\n",
            "Try using .loc[row_indexer,col_indexer] = value instead\n",
            "\n",
            "See the caveats in the documentation: https://pandas.pydata.org/pandas-docs/stable/user_guide/indexing.html#returning-a-view-versus-a-copy\n"
          ]
        }
      ]
    },
    {
      "cell_type": "code",
      "source": [
        "%%time\n",
        "df['allen_nps'] = df.allen_sents.apply(lambda x: allen_nps(x))"
      ],
      "metadata": {
        "colab": {
          "base_uri": "https://localhost:8080/"
        },
        "id": "GYtWyn90z1n5",
        "outputId": "a8994116-4630-4496-ff8b-ad905f8fdade"
      },
      "execution_count": null,
      "outputs": [
        {
          "output_type": "stream",
          "name": "stdout",
          "text": [
            "CPU times: user 10min 29s, sys: 1.1 s, total: 10min 30s\n",
            "Wall time: 10min 36s\n"
          ]
        },
        {
          "output_type": "stream",
          "name": "stderr",
          "text": [
            "<timed exec>:1: SettingWithCopyWarning: \n",
            "A value is trying to be set on a copy of a slice from a DataFrame.\n",
            "Try using .loc[row_indexer,col_indexer] = value instead\n",
            "\n",
            "See the caveats in the documentation: https://pandas.pydata.org/pandas-docs/stable/user_guide/indexing.html#returning-a-view-versus-a-copy\n"
          ]
        }
      ]
    },
    {
      "cell_type": "code",
      "source": [
        "# alen results\n",
        "# df.to_csv(\"/content/drive/MyDrive/PHD/article2023YA/data/result_incpec_100\", sep='\\t')"
      ],
      "metadata": {
        "id": "RJprkZbq0cHp"
      },
      "execution_count": null,
      "outputs": []
    },
    {
      "cell_type": "code",
      "source": [
        "allen_df = pd.read_csv(\"/content/drive/MyDrive/PHD/article2023YA/data/result_incpec_100\", sep='\\t')"
      ],
      "metadata": {
        "id": "79ngaZoo0wtt"
      },
      "execution_count": null,
      "outputs": []
    },
    {
      "cell_type": "code",
      "source": [
        "allen_df['allen_kws'] = allen_df.allen_nps.apply(lambda x: ast.literal_eval(x))"
      ],
      "metadata": {
        "id": "HSXfo4njtIah"
      },
      "execution_count": null,
      "outputs": []
    },
    {
      "cell_type": "code",
      "source": [
        "allen_df.allen_sents.tolist()[61]"
      ],
      "metadata": {
        "colab": {
          "base_uri": "https://localhost:8080/",
          "height": 53
        },
        "id": "DGkPnOdSALJ4",
        "outputId": "a3ba5708-8c48-49ce-cf5c-5852a2bf7e32"
      },
      "execution_count": null,
      "outputs": [
        {
          "output_type": "execute_result",
          "data": {
            "text/plain": [
              "\"['Fresh tracks [food processing] Bar code labels and wireless terminals linked to a centralized database accurately track meat products from receiving to customers for Farmland Foods']\""
            ],
            "application/vnd.google.colaboratory.intrinsic+json": {
              "type": "string"
            }
          },
          "metadata": {},
          "execution_count": 112
        }
      ]
    },
    {
      "cell_type": "code",
      "source": [
        "allen_kws= allen_df.allen_kws.tolist()\n"
      ],
      "metadata": {
        "id": "5h8wDvplVzUg"
      },
      "execution_count": null,
      "outputs": []
    },
    {
      "cell_type": "code",
      "source": [],
      "metadata": {
        "id": "39z10qESKQTB"
      },
      "execution_count": null,
      "outputs": []
    },
    {
      "cell_type": "code",
      "source": [
        "def clear_allen_kws(list_kws):\n",
        "\n",
        "  st_noun_phrases = []\n",
        "  for nps in list_kws:\n",
        "    temp = []\n",
        "    for np in nps:\n",
        "      tokens = np.split()\n",
        "      if len(tokens) == 1:\n",
        "        if nlp(tokens[0])[0].pos_ in {'NOUN', 'PROPN', 'ADJ'}:\n",
        "          temp.append(np.strip())\n",
        "      elif 1 <len(tokens)< 6:\n",
        "        if tokens[0].lower() in {'a', 'an', 'the'}:\n",
        "          temp.append(' '.join(tokens[1:]).strip())\n",
        "        else:\n",
        "          temp.append(np.strip())\n",
        "\n",
        "    st_noun_phrases.append(temp)\n",
        "  return st_noun_phrases"
      ],
      "metadata": {
        "id": "oQdruFGoVx9m"
      },
      "execution_count": null,
      "outputs": []
    },
    {
      "cell_type": "code",
      "source": [
        "allen_noun_phrases = clear_allen_kws(allen_kws)"
      ],
      "metadata": {
        "id": "GsrhEfyPrWbC"
      },
      "execution_count": null,
      "outputs": []
    },
    {
      "cell_type": "code",
      "source": [
        "allen_kws[61]"
      ],
      "metadata": {
        "colab": {
          "base_uri": "https://localhost:8080/"
        },
        "id": "E9NpYmkjsU-Z",
        "outputId": "68b70cee-b1cb-438e-aaf8-962aceebc5ec"
      },
      "execution_count": null,
      "outputs": [
        {
          "output_type": "execute_result",
          "data": {
            "text/plain": [
              "{'Farmland Foods',\n",
              " 'Fresh tracks',\n",
              " 'Fresh tracks [ food processing ] Bar code labels and wireless terminals linked to a centralized database',\n",
              " 'a centralized database',\n",
              " 'customers',\n",
              " 'meat products',\n",
              " 'wireless terminals'}"
            ]
          },
          "metadata": {},
          "execution_count": 100
        }
      ]
    },
    {
      "cell_type": "code",
      "source": [
        "mapk(gold_kws, allen_noun_phrases, k=20)"
      ],
      "metadata": {
        "id": "QUndqBULTNTm",
        "colab": {
          "base_uri": "https://localhost:8080/"
        },
        "outputId": "963df10c-ce41-4f96-816a-7a90cd4163b5"
      },
      "execution_count": null,
      "outputs": [
        {
          "output_type": "execute_result",
          "data": {
            "text/plain": [
              "0.07354793577655187"
            ]
          },
          "metadata": {},
          "execution_count": 72
        }
      ]
    },
    {
      "cell_type": "code",
      "source": [],
      "metadata": {
        "id": "h2R7wQq_XloB"
      },
      "execution_count": null,
      "outputs": []
    },
    {
      "cell_type": "markdown",
      "source": [
        "# Yake"
      ],
      "metadata": {
        "id": "_REpvEzGw8-4"
      }
    },
    {
      "cell_type": "code",
      "source": [
        "pip install git+https://github.com/LIAAD/yake"
      ],
      "metadata": {
        "colab": {
          "base_uri": "https://localhost:8080/"
        },
        "id": "HOaaeXNVw-W_",
        "outputId": "1716dc74-9816-4b76-f6e4-4ac165f5b27e"
      },
      "execution_count": null,
      "outputs": [
        {
          "output_type": "stream",
          "name": "stdout",
          "text": [
            "Collecting git+https://github.com/LIAAD/yake\n",
            "  Cloning https://github.com/LIAAD/yake to /tmp/pip-req-build-f93u85cj\n",
            "  Running command git clone --filter=blob:none --quiet https://github.com/LIAAD/yake /tmp/pip-req-build-f93u85cj\n",
            "  Resolved https://github.com/LIAAD/yake to commit 374fc1c1c19eb080d5b6115cbb8d4a4324392e54\n",
            "  Preparing metadata (setup.py) ... \u001b[?25l\u001b[?25hdone\n",
            "Requirement already satisfied: tabulate in /usr/local/lib/python3.10/dist-packages (from yake==0.4.8) (0.8.10)\n",
            "Requirement already satisfied: click>=6.0 in /usr/local/lib/python3.10/dist-packages (from yake==0.4.8) (8.1.4)\n",
            "Requirement already satisfied: numpy in /usr/local/lib/python3.10/dist-packages (from yake==0.4.8) (1.22.4)\n",
            "Collecting segtok (from yake==0.4.8)\n",
            "  Downloading segtok-1.5.11-py3-none-any.whl (24 kB)\n",
            "Requirement already satisfied: networkx in /usr/local/lib/python3.10/dist-packages (from yake==0.4.8) (3.1)\n",
            "Collecting jellyfish (from yake==0.4.8)\n",
            "  Downloading jellyfish-1.0.0-cp310-cp310-manylinux_2_17_x86_64.manylinux2014_x86_64.whl (1.2 MB)\n",
            "\u001b[2K     \u001b[90m━━━━━━━━━━━━━━━━━━━━━━━━━━━━━━━━━━━━━━━━\u001b[0m \u001b[32m1.2/1.2 MB\u001b[0m \u001b[31m21.0 MB/s\u001b[0m eta \u001b[36m0:00:00\u001b[0m\n",
            "\u001b[?25hRequirement already satisfied: regex in /usr/local/lib/python3.10/dist-packages (from segtok->yake==0.4.8) (2022.10.31)\n",
            "Building wheels for collected packages: yake\n",
            "  Building wheel for yake (setup.py) ... \u001b[?25l\u001b[?25hdone\n",
            "  Created wheel for yake: filename=yake-0.4.8-py2.py3-none-any.whl size=62575 sha256=b5b367ba66a1952213eed01e21cde4645cef5a7759ed290ad87d6973a5e5781f\n",
            "  Stored in directory: /tmp/pip-ephem-wheel-cache-lf89m6ta/wheels/10/9d/33/6a3358fd876c3d7c6c5c139d1496eb4b1618c7d0e15c375584\n",
            "Successfully built yake\n",
            "Installing collected packages: segtok, jellyfish, yake\n",
            "Successfully installed jellyfish-1.0.0 segtok-1.5.11 yake-0.4.8\n"
          ]
        }
      ]
    },
    {
      "cell_type": "code",
      "source": [
        "import yake"
      ],
      "metadata": {
        "id": "g1xfootNw-pK"
      },
      "execution_count": null,
      "outputs": []
    },
    {
      "cell_type": "code",
      "source": [
        "incpec_data.columns"
      ],
      "metadata": {
        "colab": {
          "base_uri": "https://localhost:8080/"
        },
        "id": "1G3HNO8q0jPg",
        "outputId": "7303875e-9e6f-409c-a451-f746aaf1ce0c"
      },
      "execution_count": null,
      "outputs": [
        {
          "output_type": "execute_result",
          "data": {
            "text/plain": [
              "Index(['Unnamed: 0', 'goldkeys', 'text', 'cleaned_text', 'goldkeys_cleaned'], dtype='object')"
            ]
          },
          "metadata": {},
          "execution_count": 104
        }
      ]
    },
    {
      "cell_type": "code",
      "source": [
        "gold_kws = incpec_data.goldkeys_cleaned.tolist()[0:100]\n",
        "docs = incpec_data.cleaned_text.tolist()[0:100]\n",
        "ranked_yake_kywords = []\n",
        "for i, doc in enumerate(docs):\n",
        "  # top = len(gold_kws[i])\n",
        "  #print(top)\n",
        "  kw_extractor = yake.KeywordExtractor(top=20, n=3)\n",
        "  keywords = kw_extractor.extract_keywords(doc)\n",
        "\n",
        "  #print(\"resulted \", len(keywords))\n",
        "  temp = []\n",
        "  for kw, v in keywords:\n",
        "    temp.append(kw)\n",
        "    #print(kw, \":\", v)\n",
        "  ranked_yake_kywords.append(temp)"
      ],
      "metadata": {
        "id": "QN7LbdNDxHSb"
      },
      "execution_count": null,
      "outputs": []
    },
    {
      "cell_type": "code",
      "source": [
        "ranked_yake_kywords[61]"
      ],
      "metadata": {
        "colab": {
          "base_uri": "https://localhost:8080/"
        },
        "id": "61Kxlpv_16zU",
        "outputId": "bcda2008-dc5c-4c51-f2ee-ba7e8b386821"
      },
      "execution_count": null,
      "outputs": [
        {
          "output_type": "execute_result",
          "data": {
            "text/plain": [
              "['Bar code labels',\n",
              " 'wireless terminals linked',\n",
              " 'centralized database accurately',\n",
              " 'database accurately track',\n",
              " 'accurately track meat',\n",
              " 'track meat products',\n",
              " 'Bar code',\n",
              " 'Farmland Foods',\n",
              " 'customers for Farmland',\n",
              " 'food processing',\n",
              " 'Fresh tracks',\n",
              " 'code labels',\n",
              " 'labels and wireless',\n",
              " 'wireless terminals',\n",
              " 'terminals linked',\n",
              " 'centralized database',\n",
              " 'database accurately',\n",
              " 'meat products',\n",
              " 'products from receiving',\n",
              " 'receiving to customers']"
            ]
          },
          "metadata": {},
          "execution_count": 120
        }
      ]
    },
    {
      "cell_type": "code",
      "source": [
        "mapk(gold_kws, ranked_yake_kywords, k=20)"
      ],
      "metadata": {
        "colab": {
          "base_uri": "https://localhost:8080/"
        },
        "id": "-N3Yga5W1X3z",
        "outputId": "277b8e4c-eb84-493c-d1cc-81ba07981d2e"
      },
      "execution_count": null,
      "outputs": [
        {
          "output_type": "execute_result",
          "data": {
            "text/plain": [
              "0.07573594695854174"
            ]
          },
          "metadata": {},
          "execution_count": 119
        }
      ]
    },
    {
      "cell_type": "code",
      "source": [
        "docs[61]"
      ],
      "metadata": {
        "colab": {
          "base_uri": "https://localhost:8080/",
          "height": 53
        },
        "id": "_yMHLUIW10KC",
        "outputId": "fe0ee879-9191-407a-9c7b-bb701fa38d07"
      },
      "execution_count": null,
      "outputs": [
        {
          "output_type": "execute_result",
          "data": {
            "text/plain": [
              "'Fresh tracks [food processing] Bar code labels and wireless terminals linked to a centralized database accurately track meat products from receiving to customers for Farmland Foods'"
            ],
            "application/vnd.google.colaboratory.intrinsic+json": {
              "type": "string"
            }
          },
          "metadata": {},
          "execution_count": 110
        }
      ]
    },
    {
      "cell_type": "markdown",
      "source": [
        "# Rake"
      ],
      "metadata": {
        "id": "9qnE4riz3Pit"
      }
    },
    {
      "cell_type": "code",
      "source": [
        "import nltk\n",
        "nltk.download('stopwords')\n",
        "nltk.download('punkt')"
      ],
      "metadata": {
        "colab": {
          "base_uri": "https://localhost:8080/"
        },
        "id": "tOixZOks7Jm2",
        "outputId": "ecca5a84-12cf-465e-9982-e57033945549"
      },
      "execution_count": null,
      "outputs": [
        {
          "output_type": "stream",
          "name": "stderr",
          "text": [
            "[nltk_data] Downloading package stopwords to /root/nltk_data...\n",
            "[nltk_data]   Package stopwords is already up-to-date!\n",
            "[nltk_data] Downloading package punkt to /root/nltk_data...\n",
            "[nltk_data]   Package punkt is already up-to-date!\n"
          ]
        },
        {
          "output_type": "execute_result",
          "data": {
            "text/plain": [
              "True"
            ]
          },
          "metadata": {},
          "execution_count": 80
        }
      ]
    },
    {
      "cell_type": "code",
      "source": [
        "pip install rake-nltk"
      ],
      "metadata": {
        "colab": {
          "base_uri": "https://localhost:8080/"
        },
        "id": "sSiE1idd3QHf",
        "outputId": "95787309-6cda-4d31-97cf-b82573a98481"
      },
      "execution_count": null,
      "outputs": [
        {
          "output_type": "stream",
          "name": "stdout",
          "text": [
            "Requirement already satisfied: rake-nltk in /usr/local/lib/python3.10/dist-packages (1.0.6)\n",
            "Requirement already satisfied: nltk<4.0.0,>=3.6.2 in /usr/local/lib/python3.10/dist-packages (from rake-nltk) (3.8.1)\n",
            "Requirement already satisfied: click in /usr/local/lib/python3.10/dist-packages (from nltk<4.0.0,>=3.6.2->rake-nltk) (8.1.4)\n",
            "Requirement already satisfied: joblib in /usr/local/lib/python3.10/dist-packages (from nltk<4.0.0,>=3.6.2->rake-nltk) (1.3.1)\n",
            "Requirement already satisfied: regex>=2021.8.3 in /usr/local/lib/python3.10/dist-packages (from nltk<4.0.0,>=3.6.2->rake-nltk) (2022.10.31)\n",
            "Requirement already satisfied: tqdm in /usr/local/lib/python3.10/dist-packages (from nltk<4.0.0,>=3.6.2->rake-nltk) (4.65.0)\n"
          ]
        }
      ]
    },
    {
      "cell_type": "code",
      "source": [
        "gold_kws = incpec_data.goldkeys_cleaned.tolist()[0:100]\n",
        "docs = incpec_data.cleaned_text.tolist()[0:100]"
      ],
      "metadata": {
        "id": "aX571eM_2JAN"
      },
      "execution_count": null,
      "outputs": []
    },
    {
      "cell_type": "code",
      "source": [
        "for i,d in enumerate(docs):\n",
        "  if len(d.split()) == 26:\n",
        "    print(i,d)"
      ],
      "metadata": {
        "colab": {
          "base_uri": "https://localhost:8080/"
        },
        "id": "IYQvUjwn7PN7",
        "outputId": "1dd9dd48-a382-4fd6-c843-a5a3a4ecd3bf"
      },
      "execution_count": null,
      "outputs": [
        {
          "output_type": "stream",
          "name": "stdout",
          "text": [
            "61 Fresh tracks [food processing] Bar code labels and wireless terminals linked to a centralized database accurately track meat products from receiving to customers for Farmland Foods\n"
          ]
        }
      ]
    },
    {
      "cell_type": "code",
      "source": [
        "gold_kws[61]"
      ],
      "metadata": {
        "colab": {
          "base_uri": "https://localhost:8080/"
        },
        "id": "cX56fDkf8-et",
        "outputId": "441ad991-008b-4334-d3c1-7f1ac2569902"
      },
      "execution_count": null,
      "outputs": [
        {
          "output_type": "execute_result",
          "data": {
            "text/plain": [
              "['food processing',\n",
              " 'bar code labels',\n",
              " 'wireless terminals',\n",
              " 'Farmland Foods',\n",
              " 'automatic data capture',\n",
              " 'Intermec Technologies',\n",
              " 'bar codes',\n",
              " 'data acquisition',\n",
              " 'food processing industry',\n",
              " 'mobile computing',\n",
              " 'production control',\n",
              " '']"
            ]
          },
          "metadata": {},
          "execution_count": 96
        }
      ]
    },
    {
      "cell_type": "code",
      "source": [],
      "metadata": {
        "id": "Ri1Mkn_J9A0G"
      },
      "execution_count": null,
      "outputs": []
    },
    {
      "cell_type": "code",
      "source": [
        "%%time\n",
        "from rake_nltk import Rake\n",
        "\n",
        "ranked_Rake_kywords = []\n",
        "for i, doc in enumerate(docs):\n",
        "  top = len(gold_kws[i])\n",
        "  # Uses stopwords for english from NLTK, and all puntuation characters by\n",
        "  # default\n",
        "  r = Rake(max_length=3, min_length=1)\n",
        "\n",
        "  # Extraction given the text.\n",
        "  r.extract_keywords_from_text(doc)\n",
        "\n",
        "  # To get keyword phrases ranked highest to lowest.\n",
        "  rr = r.get_ranked_phrases()\n",
        "\n",
        "  # To get keyword phrases ranked highest to lowest with scores.\n",
        "  #rrr= r.get_ranked_phrases_with_scores()\n",
        "  #print(rrr)\n",
        "\n",
        "  ranked_Rake_kywords.append(rr)"
      ],
      "metadata": {
        "colab": {
          "base_uri": "https://localhost:8080/"
        },
        "id": "mojtzb-j3Qcq",
        "outputId": "8bde5afd-9e3f-4e61-ccfd-c2fadda0b0b1"
      },
      "execution_count": null,
      "outputs": [
        {
          "output_type": "stream",
          "name": "stdout",
          "text": [
            "CPU times: user 75.7 ms, sys: 0 ns, total: 75.7 ms\n",
            "Wall time: 79.2 ms\n"
          ]
        }
      ]
    },
    {
      "cell_type": "code",
      "source": [
        "mapk(gold_kws, ranked_Rake_kywords, k=20)"
      ],
      "metadata": {
        "colab": {
          "base_uri": "https://localhost:8080/"
        },
        "id": "DWOQLI4W7Gcx",
        "outputId": "4bef2fa3-0b83-4f58-d504-c075df9aaaa2"
      },
      "execution_count": null,
      "outputs": [
        {
          "output_type": "execute_result",
          "data": {
            "text/plain": [
              "0.07944403249126637"
            ]
          },
          "metadata": {},
          "execution_count": 125
        }
      ]
    },
    {
      "cell_type": "code",
      "source": [
        "ranked_Rake_kywords[61]"
      ],
      "metadata": {
        "colab": {
          "base_uri": "https://localhost:8080/"
        },
        "id": "GbqxFnKK-hjW",
        "outputId": "16ff53b0-33e8-4eb7-c8e5-073a7d35f21a"
      },
      "execution_count": null,
      "outputs": [
        {
          "output_type": "execute_result",
          "data": {
            "text/plain": [
              "['wireless terminals linked',\n",
              " 'bar code labels',\n",
              " 'fresh tracks',\n",
              " 'food processing',\n",
              " 'farmland foods',\n",
              " 'receiving',\n",
              " 'customers']"
            ]
          },
          "metadata": {},
          "execution_count": 126
        }
      ]
    },
    {
      "cell_type": "code",
      "source": [],
      "metadata": {
        "id": "2Nomm7WB1zZP"
      },
      "execution_count": null,
      "outputs": []
    }
  ]
}